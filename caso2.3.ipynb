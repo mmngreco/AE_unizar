{
 "cells": [
  {
   "cell_type": "code",
   "execution_count": 1,
   "metadata": {
    "collapsed": false,
    "slideshow": {
     "slide_type": "skip"
    }
   },
   "outputs": [
    {
     "data": {
      "text/html": [
       "<script>\n",
       "code_show=true; \n",
       "function code_toggle() {\n",
       " if (code_show){\n",
       " $('div.input').hide();\n",
       " } else {\n",
       " $('div.input').show();\n",
       " }\n",
       " code_show = !code_show\n",
       "} \n",
       "$( document ).ready(code_toggle);\n",
       "</script>\n",
       "<form action=\"javascript:code_toggle()\"><input type=\"submit\" value=\"Click here to toggle on/off the raw code.\"></form>"
      ],
      "text/plain": [
       "<IPython.core.display.HTML object>"
      ]
     },
     "execution_count": 1,
     "metadata": {},
     "output_type": "execute_result"
    }
   ],
   "source": [
    "from IPython.display import HTML\n",
    "\n",
    "HTML('''<script>\n",
    "code_show=true; \n",
    "function code_toggle() {\n",
    " if (code_show){\n",
    " $('div.input').hide();\n",
    " } else {\n",
    " $('div.input').show();\n",
    " }\n",
    " code_show = !code_show\n",
    "} \n",
    "$( document ).ready(code_toggle);\n",
    "</script>\n",
    "<form action=\"javascript:code_toggle()\"><input type=\"submit\" value=\"Click here to toggle on/off the raw code.\"></form>''')"
   ]
  },
  {
   "cell_type": "code",
   "execution_count": 24,
   "metadata": {
    "collapsed": true,
    "slideshow": {
     "slide_type": "skip"
    }
   },
   "outputs": [],
   "source": [
    "from IPython.display import Markdown"
   ]
  },
  {
   "cell_type": "code",
   "execution_count": 2,
   "metadata": {
    "collapsed": true,
    "slideshow": {
     "slide_type": "skip"
    }
   },
   "outputs": [],
   "source": [
    "import warnings\n",
    "warnings.filterwarnings('ignore')"
   ]
  },
  {
   "cell_type": "code",
   "execution_count": 3,
   "metadata": {
    "collapsed": true,
    "slideshow": {
     "slide_type": "skip"
    }
   },
   "outputs": [],
   "source": [
    "%matplotlib inline"
   ]
  },
  {
   "cell_type": "code",
   "execution_count": 4,
   "metadata": {
    "collapsed": false,
    "slideshow": {
     "slide_type": "skip"
    }
   },
   "outputs": [
    {
     "data": {
      "text/plain": [
       "'%.3f'"
      ]
     },
     "execution_count": 4,
     "metadata": {},
     "output_type": "execute_result"
    }
   ],
   "source": [
    "%precision 3"
   ]
  },
  {
   "cell_type": "code",
   "execution_count": 5,
   "metadata": {
    "collapsed": false,
    "slideshow": {
     "slide_type": "skip"
    }
   },
   "outputs": [],
   "source": [
    "%load_ext rpy2.ipython"
   ]
  },
  {
   "cell_type": "code",
   "execution_count": 6,
   "metadata": {
    "collapsed": true,
    "slideshow": {
     "slide_type": "skip"
    }
   },
   "outputs": [],
   "source": [
    "from scipy.stats import chi2, norm"
   ]
  },
  {
   "cell_type": "code",
   "execution_count": 7,
   "metadata": {
    "collapsed": false,
    "slideshow": {
     "slide_type": "skip"
    }
   },
   "outputs": [],
   "source": [
    "import statsmodels.stats.diagnostic as smsdia\n",
    "import statsmodels.stats.outliers_influence as oi\n",
    "from statsmodels.formula.api import ols\n",
    "from statsmodels.graphics.tsaplots import plot_acf, plot_pacf\n",
    "import statsmodels.api as sm\n",
    "import statsmodels.stats as sms\n",
    "from statsmodels.tsa.api import VARMAX, VAR\n",
    "from statsmodels.tsa.stattools import adfuller"
   ]
  },
  {
   "cell_type": "code",
   "execution_count": 8,
   "metadata": {
    "collapsed": false,
    "slideshow": {
     "slide_type": "skip"
    }
   },
   "outputs": [],
   "source": [
    "import pandas as pd\n",
    "import numpy as np\n",
    "import seaborn as sns\n",
    "import matplotlib.pyplot as plt"
   ]
  },
  {
   "cell_type": "code",
   "execution_count": 9,
   "metadata": {
    "collapsed": false,
    "slideshow": {
     "slide_type": "skip"
    }
   },
   "outputs": [],
   "source": [
    "sns.set(style='ticks', palette='Set2')"
   ]
  },
  {
   "cell_type": "markdown",
   "metadata": {
    "slideshow": {
     "slide_type": "slide"
    }
   },
   "source": [
    "![Imgur](http://i.imgur.com/7FF9A5Bl.jpg)"
   ]
  },
  {
   "cell_type": "markdown",
   "metadata": {
    "slideshow": {
     "slide_type": "slide"
    }
   },
   "source": [
    "# Caso 2.3\n",
    "\n",
    "_Estudio de las __relaciones__ entre los __PIB__ de varios países entre sí. Identificación de países dominantes y países seguidores._\n",
    "\n",
    "_En este ejercicio se trata de estimar un __modelo multiecuacional__ en el que se analizan las relaciones entre el __crecimiento del PIB__ de tres países cualquiera extraídos de alguna base de datos (Ministerio de Economía, Banco de España, INE, etc.). _\n",
    "\n",
    "_Una vez tengamos los datos __(preferiblemente trimestrales)__ del PIB a __precios constantes__, tendremos que calcular la __tasa de crecimiento anual__ para cada país y luego estimaremos un __modelo VAR sin restricciones__, Se trata de ver si algún país de los seleccionados actúa como líder y si el resto de países actúan como seguidores._"
   ]
  },
  {
   "cell_type": "markdown",
   "metadata": {
    "slideshow": {
     "slide_type": "skip"
    }
   },
   "source": [
    "[⬆Caso2.3](#Caso-2.3-PRESENTAR)\t[⬆a](#a)\t\t[⬆b](#b)\t\t[⬆c](#c)\t\t"
   ]
  },
  {
   "cell_type": "markdown",
   "metadata": {
    "slideshow": {
     "slide_type": "subslide"
    }
   },
   "source": [
    "## DATOS\n",
    "- Nombre: Chain GDP (millons euros)\n",
    "- Fuente: EUROSTAT\n",
    "- Enlace: http://ec.europa.eu/eurostat/web/national-accounts/data/database"
   ]
  },
  {
   "cell_type": "code",
   "execution_count": 10,
   "metadata": {
    "collapsed": true,
    "slideshow": {
     "slide_type": "skip"
    }
   },
   "outputs": [],
   "source": [
    "data = pd.read_csv('eu_gdp_q.csv', index_col=0, parse_dates=True)"
   ]
  },
  {
   "cell_type": "code",
   "execution_count": 11,
   "metadata": {
    "collapsed": false,
    "slideshow": {
     "slide_type": "skip"
    }
   },
   "outputs": [
    {
     "name": "stdout",
     "output_type": "stream",
     "text": [
      "0 European Union (28 countries)\n",
      "1 European Union (15 countries)\n",
      "2 Euro area (EA11-2000, EA12-2006, EA13-2007, EA15-2008, EA16-2010, EA17-2013, EA18-2014, EA19)\n",
      "3 Euro area (19 countries)\n",
      "4 Euro area (18 countries)\n",
      "5 Euro area (12 countries)\n",
      "6 Belgium\n",
      "7 Bulgaria\n",
      "8 Czech Republic\n",
      "9 Denmark\n",
      "10 Germany (until 1990 former territory of the FRG)\n",
      "11 Estonia\n",
      "12 Ireland\n",
      "13 Greece\n",
      "14 Spain\n",
      "15 France\n",
      "16 Croatia\n",
      "17 Italy\n",
      "18 Cyprus\n",
      "19 Latvia\n",
      "20 Lithuania\n",
      "21 Luxembourg\n",
      "22 Hungary\n",
      "23 Malta\n",
      "24 Netherlands\n",
      "25 Austria\n",
      "26 Poland\n",
      "27 Portugal\n",
      "28 Romania\n",
      "29 Slovenia\n",
      "30 Slovakia\n",
      "31 Finland\n",
      "32 Sweden\n",
      "33 United Kingdom\n",
      "34 Iceland\n",
      "35 Norway\n",
      "36 Switzerland\n",
      "37 Former Yugoslav Republic of Macedonia, the\n",
      "38 Albania\n",
      "39 Serbia\n"
     ]
    }
   ],
   "source": [
    "for i,e in enumerate(data.GEO.unique()):\n",
    "    print(i,e)"
   ]
  },
  {
   "cell_type": "code",
   "execution_count": 12,
   "metadata": {
    "collapsed": true,
    "slideshow": {
     "slide_type": "skip"
    }
   },
   "outputs": [],
   "source": [
    "index_paises = [10, 14, 33]"
   ]
  },
  {
   "cell_type": "code",
   "execution_count": 13,
   "metadata": {
    "collapsed": false,
    "slideshow": {
     "slide_type": "skip"
    }
   },
   "outputs": [],
   "source": [
    "paises = data.GEO.unique()[index_paises]"
   ]
  },
  {
   "cell_type": "code",
   "execution_count": 14,
   "metadata": {
    "collapsed": false,
    "slideshow": {
     "slide_type": "skip"
    }
   },
   "outputs": [],
   "source": [
    "d = dict()\n",
    "for p in paises:\n",
    "    d[p] = data[data.GEO == p].Value"
   ]
  },
  {
   "cell_type": "code",
   "execution_count": 15,
   "metadata": {
    "collapsed": false,
    "slideshow": {
     "slide_type": "skip"
    }
   },
   "outputs": [],
   "source": [
    "pib = pd.DataFrame.from_dict(d)"
   ]
  },
  {
   "cell_type": "code",
   "execution_count": 16,
   "metadata": {
    "collapsed": false,
    "slideshow": {
     "slide_type": "skip"
    }
   },
   "outputs": [],
   "source": [
    "pib.columns = ['germany', 'spain', 'uk']"
   ]
  },
  {
   "cell_type": "markdown",
   "metadata": {
    "slideshow": {
     "slide_type": "skip"
    }
   },
   "source": [
    "# VALORES PERDIDOS"
   ]
  },
  {
   "cell_type": "code",
   "execution_count": 17,
   "metadata": {
    "collapsed": true,
    "slideshow": {
     "slide_type": "skip"
    }
   },
   "outputs": [],
   "source": [
    "pib.replace(to_replace=':', value=np.nan, inplace=True)"
   ]
  },
  {
   "cell_type": "code",
   "execution_count": 18,
   "metadata": {
    "collapsed": false,
    "slideshow": {
     "slide_type": "skip"
    }
   },
   "outputs": [
    {
     "data": {
      "text/html": [
       "<div>\n",
       "<table border=\"1\" class=\"dataframe\">\n",
       "  <thead>\n",
       "    <tr style=\"text-align: right;\">\n",
       "      <th></th>\n",
       "      <th>germany</th>\n",
       "      <th>spain</th>\n",
       "      <th>uk</th>\n",
       "    </tr>\n",
       "    <tr>\n",
       "      <th>TIME</th>\n",
       "      <th></th>\n",
       "      <th></th>\n",
       "      <th></th>\n",
       "    </tr>\n",
       "  </thead>\n",
       "  <tbody>\n",
       "    <tr>\n",
       "      <th>1975-01-01</th>\n",
       "      <td>NaN</td>\n",
       "      <td>NaN</td>\n",
       "      <td>206 522.0</td>\n",
       "    </tr>\n",
       "    <tr>\n",
       "      <th>1975-04-01</th>\n",
       "      <td>NaN</td>\n",
       "      <td>NaN</td>\n",
       "      <td>202 980.6</td>\n",
       "    </tr>\n",
       "    <tr>\n",
       "      <th>1975-07-01</th>\n",
       "      <td>NaN</td>\n",
       "      <td>NaN</td>\n",
       "      <td>202 336.9</td>\n",
       "    </tr>\n",
       "    <tr>\n",
       "      <th>1975-10-01</th>\n",
       "      <td>NaN</td>\n",
       "      <td>NaN</td>\n",
       "      <td>204 823.2</td>\n",
       "    </tr>\n",
       "    <tr>\n",
       "      <th>1976-01-01</th>\n",
       "      <td>NaN</td>\n",
       "      <td>NaN</td>\n",
       "      <td>208 175.8</td>\n",
       "    </tr>\n",
       "  </tbody>\n",
       "</table>\n",
       "</div>"
      ],
      "text/plain": [
       "           germany spain         uk\n",
       "TIME                               \n",
       "1975-01-01     NaN   NaN  206 522.0\n",
       "1975-04-01     NaN   NaN  202 980.6\n",
       "1975-07-01     NaN   NaN  202 336.9\n",
       "1975-10-01     NaN   NaN  204 823.2\n",
       "1976-01-01     NaN   NaN  208 175.8"
      ]
     },
     "execution_count": 18,
     "metadata": {},
     "output_type": "execute_result"
    }
   ],
   "source": [
    "pib.head()"
   ]
  },
  {
   "cell_type": "code",
   "execution_count": 19,
   "metadata": {
    "collapsed": false,
    "slideshow": {
     "slide_type": "subslide"
    }
   },
   "outputs": [
    {
     "data": {
      "text/html": [
       "<div>\n",
       "<table border=\"1\" class=\"dataframe\">\n",
       "  <thead>\n",
       "    <tr style=\"text-align: right;\">\n",
       "      <th></th>\n",
       "      <th>germany</th>\n",
       "      <th>spain</th>\n",
       "      <th>uk</th>\n",
       "    </tr>\n",
       "    <tr>\n",
       "      <th>TIME</th>\n",
       "      <th></th>\n",
       "      <th></th>\n",
       "      <th></th>\n",
       "    </tr>\n",
       "  </thead>\n",
       "  <tbody>\n",
       "    <tr>\n",
       "      <th>1995-01-01</th>\n",
       "      <td>532282.4</td>\n",
       "      <td>175965</td>\n",
       "      <td>327356.5</td>\n",
       "    </tr>\n",
       "    <tr>\n",
       "      <th>1995-04-01</th>\n",
       "      <td>536668.6</td>\n",
       "      <td>177181</td>\n",
       "      <td>328610.3</td>\n",
       "    </tr>\n",
       "    <tr>\n",
       "      <th>1995-07-01</th>\n",
       "      <td>538410.2</td>\n",
       "      <td>178027</td>\n",
       "      <td>332094.4</td>\n",
       "    </tr>\n",
       "    <tr>\n",
       "      <th>1995-10-01</th>\n",
       "      <td>538152.2</td>\n",
       "      <td>179278</td>\n",
       "      <td>333514.5</td>\n",
       "    </tr>\n",
       "    <tr>\n",
       "      <th>1996-01-01</th>\n",
       "      <td>533089.0</td>\n",
       "      <td>180436</td>\n",
       "      <td>337196.3</td>\n",
       "    </tr>\n",
       "  </tbody>\n",
       "</table>\n",
       "</div>"
      ],
      "text/plain": [
       "             germany   spain        uk\n",
       "TIME                                  \n",
       "1995-01-01  532282.4  175965  327356.5\n",
       "1995-04-01  536668.6  177181  328610.3\n",
       "1995-07-01  538410.2  178027  332094.4\n",
       "1995-10-01  538152.2  179278  333514.5\n",
       "1996-01-01  533089.0  180436  337196.3"
      ]
     },
     "execution_count": 19,
     "metadata": {},
     "output_type": "execute_result"
    }
   ],
   "source": [
    "pib = pib.dropna()\n",
    "pib = pib.applymap(lambda x: x.replace(' ', ''))\n",
    "pib = pib.astype('float')\n",
    "pib.head()"
   ]
  },
  {
   "cell_type": "code",
   "execution_count": 20,
   "metadata": {
    "collapsed": false,
    "slideshow": {
     "slide_type": "subslide"
    }
   },
   "outputs": [
    {
     "data": {
      "text/html": [
       "<div>\n",
       "<table border=\"1\" class=\"dataframe\">\n",
       "  <thead>\n",
       "    <tr style=\"text-align: right;\">\n",
       "      <th></th>\n",
       "      <th>germany</th>\n",
       "      <th>spain</th>\n",
       "      <th>uk</th>\n",
       "    </tr>\n",
       "    <tr>\n",
       "      <th>TIME</th>\n",
       "      <th></th>\n",
       "      <th></th>\n",
       "      <th></th>\n",
       "    </tr>\n",
       "  </thead>\n",
       "  <tbody>\n",
       "    <tr>\n",
       "      <th>2014-07-01</th>\n",
       "      <td>684570.6</td>\n",
       "      <td>260281</td>\n",
       "      <td>493645.2</td>\n",
       "    </tr>\n",
       "    <tr>\n",
       "      <th>2014-10-01</th>\n",
       "      <td>688763.3</td>\n",
       "      <td>262050</td>\n",
       "      <td>497349.5</td>\n",
       "    </tr>\n",
       "    <tr>\n",
       "      <th>2015-01-01</th>\n",
       "      <td>691149.9</td>\n",
       "      <td>264331</td>\n",
       "      <td>499176.3</td>\n",
       "    </tr>\n",
       "    <tr>\n",
       "      <th>2015-04-01</th>\n",
       "      <td>694181.5</td>\n",
       "      <td>266942</td>\n",
       "      <td>502436.8</td>\n",
       "    </tr>\n",
       "    <tr>\n",
       "      <th>2015-07-01</th>\n",
       "      <td>696374.6</td>\n",
       "      <td>269039</td>\n",
       "      <td>504777.1</td>\n",
       "    </tr>\n",
       "  </tbody>\n",
       "</table>\n",
       "</div>"
      ],
      "text/plain": [
       "             germany   spain        uk\n",
       "TIME                                  \n",
       "2014-07-01  684570.6  260281  493645.2\n",
       "2014-10-01  688763.3  262050  497349.5\n",
       "2015-01-01  691149.9  264331  499176.3\n",
       "2015-04-01  694181.5  266942  502436.8\n",
       "2015-07-01  696374.6  269039  504777.1"
      ]
     },
     "execution_count": 20,
     "metadata": {},
     "output_type": "execute_result"
    }
   ],
   "source": [
    "pib.tail()"
   ]
  },
  {
   "cell_type": "code",
   "execution_count": 26,
   "metadata": {
    "collapsed": false,
    "slideshow": {
     "slide_type": "skip"
    }
   },
   "outputs": [
    {
     "data": {
      "text/plain": [
       "'__Número de Observaciones 83__'"
      ]
     },
     "execution_count": 26,
     "metadata": {},
     "output_type": "execute_result"
    }
   ],
   "source": [
    "'__Número de Observaciones %s__' % len(pib)"
   ]
  },
  {
   "cell_type": "code",
   "execution_count": 27,
   "metadata": {
    "collapsed": false,
    "slideshow": {
     "slide_type": "fragment"
    }
   },
   "outputs": [
    {
     "data": {
      "text/markdown": [
       "__Número de Observaciones 83__"
      ],
      "text/plain": [
       "<IPython.core.display.Markdown object>"
      ]
     },
     "execution_count": 27,
     "metadata": {},
     "output_type": "execute_result"
    }
   ],
   "source": [
    "Markdown(_)"
   ]
  },
  {
   "cell_type": "code",
   "execution_count": 28,
   "metadata": {
    "collapsed": true,
    "slideshow": {
     "slide_type": "skip"
    }
   },
   "outputs": [],
   "source": [
    "lpib = np.log(pib).copy()"
   ]
  },
  {
   "cell_type": "markdown",
   "metadata": {
    "slideshow": {
     "slide_type": "slide"
    }
   },
   "source": [
    "# ANÁLISIS UNIVARIANTE"
   ]
  },
  {
   "cell_type": "code",
   "execution_count": 29,
   "metadata": {
    "collapsed": false,
    "slideshow": {
     "slide_type": "subslide"
    }
   },
   "outputs": [
    {
     "data": {
      "image/png": "[encoded data removed]"
     },
     "metadata": {},
     "output_type": "display_data"
    }
   ],
   "source": [
    "%%R -i lpib\n",
    "library(forecast)\n",
    "plot(ts(lpib))"
   ]
  },
  {
   "cell_type": "markdown",
   "metadata": {
    "slideshow": {
     "slide_type": "subslide"
    }
   },
   "source": [
    "## Número de diferenciaciones para I(0)\n",
    "\n",
    "- KPSS\n",
    "- ADF\n",
    "- PP (Phillips-Perron)"
   ]
  },
  {
   "cell_type": "markdown",
   "metadata": {
    "slideshow": {
     "slide_type": "subslide"
    }
   },
   "source": [
    "### Alemania"
   ]
  },
  {
   "cell_type": "code",
   "execution_count": 30,
   "metadata": {
    "collapsed": false,
    "slideshow": {
     "slide_type": "subslide"
    }
   },
   "outputs": [
    {
     "data": {
      "text/plain": [
       "[1] 1\n",
       "[1] 0\n",
       "[1] 1\n"
      ]
     },
     "metadata": {},
     "output_type": "display_data"
    }
   ],
   "source": [
    "%%R\n",
    "\n",
    "print(ndiffs(lpib$germany, test = 'kpss', m=4))\n",
    "print(ndiffs(lpib$germany, test = 'adf', m=4))\n",
    "print(ndiffs(lpib$germany, test = 'pp', m=4))"
   ]
  },
  {
   "cell_type": "markdown",
   "metadata": {
    "slideshow": {
     "slide_type": "subslide"
    }
   },
   "source": [
    "### España"
   ]
  },
  {
   "cell_type": "code",
   "execution_count": 31,
   "metadata": {
    "collapsed": false,
    "slideshow": {
     "slide_type": "subslide"
    }
   },
   "outputs": [
    {
     "data": {
      "text/plain": [
       "[1] 2\n",
       "[1] 2\n",
       "[1] 2\n"
      ]
     },
     "metadata": {},
     "output_type": "display_data"
    }
   ],
   "source": [
    "%%R\n",
    "\n",
    "print(ndiffs(lpib$spain, test = 'kpss', m=4))\n",
    "print(ndiffs(lpib$spain, test = 'adf', m=4))\n",
    "print(ndiffs(lpib$spain, test = 'pp', m=4))"
   ]
  },
  {
   "cell_type": "markdown",
   "metadata": {
    "slideshow": {
     "slide_type": "subslide"
    }
   },
   "source": [
    "### Inglaterra"
   ]
  },
  {
   "cell_type": "code",
   "execution_count": 32,
   "metadata": {
    "collapsed": false,
    "slideshow": {
     "slide_type": "subslide"
    }
   },
   "outputs": [
    {
     "data": {
      "text/plain": [
       "[1] 1\n",
       "[1] 2\n",
       "[1] 1\n"
      ]
     },
     "metadata": {},
     "output_type": "display_data"
    }
   ],
   "source": [
    "%%R\n",
    "\n",
    "print(ndiffs(lpib$uk, test = 'kpss', m=4))\n",
    "print(ndiffs(lpib$uk, test = 'adf', m=4))\n",
    "print(ndiffs(lpib$uk, test = 'pp', m=4))"
   ]
  },
  {
   "cell_type": "markdown",
   "metadata": {
    "slideshow": {
     "slide_type": "slide"
    }
   },
   "source": [
    "## TENDENCIA"
   ]
  },
  {
   "cell_type": "code",
   "execution_count": 33,
   "metadata": {
    "collapsed": false,
    "slideshow": {
     "slide_type": "subslide"
    }
   },
   "outputs": [
    {
     "data": {
      "image/png": "[encoded data removed]",
      "text/plain": [
       "<matplotlib.figure.Figure at 0x1124f57b8>"
      ]
     },
     "metadata": {},
     "output_type": "display_data"
    }
   ],
   "source": [
    "kws_sp = {'subplots':False, 'layout':(3,1), 'figsize':(10,5), 'cmap':'Set2'}\n",
    "titles = [c.upper() for c in pib.columns]\n",
    "fig, axs = plt.subplots(1,2)\n",
    "\n",
    "g = lpib.plot(**kws_sp, ax=axs[0])\n",
    "axs[0].legend(loc=0, fontsize=15)\n",
    "plt.ylim(0,max(lpib.max())*1.1)\n",
    "\n",
    "g = lpib.plot(**kws_sp, ax=axs[1])\n",
    "axs[1].legend(loc=0, fontsize=15)\n",
    "\n",
    "sns.despine()\n",
    "plt.suptitle('SERIES: Log-PIB', fontsize=15, y=1.1)\n",
    "plt.tight_layout()"
   ]
  },
  {
   "cell_type": "markdown",
   "metadata": {
    "slideshow": {
     "slide_type": "subslide"
    }
   },
   "source": [
    "- No estacionarias.\n",
    "- Tendencia determinista.\n",
    "- Posible presencia de tendencia estocástica.\n",
    "- Posible presencia de ruptura estructural."
   ]
  },
  {
   "cell_type": "markdown",
   "metadata": {
    "slideshow": {
     "slide_type": "subslide"
    }
   },
   "source": [
    "Del gráfico podemos ver que las series __no son estacionarias__, puesto que tienen tendencia __determinista__ y probablemente __ruptura estructural__ en 2008 (comprobar con el test de chow).\n",
    "\n",
    "La series sabemos que tienen tedencia dado que lo unico que hemos hecho es una transformación monótona creciente al aplicar logaritmos. Si tiene tendencia determinista una transformación de este tipo también la tendrá.\n",
    "\n",
    "Sin embargo faltaría comprobar si las series tienen tendencia estocástica, mediante el correlograma y el contraste de Dickey-Fuller."
   ]
  },
  {
   "cell_type": "code",
   "execution_count": 34,
   "metadata": {
    "collapsed": false,
    "slideshow": {
     "slide_type": "subslide"
    }
   },
   "outputs": [
    {
     "data": {
      "image/png": "[encoded data removed]",
      "text/plain": [
       "<matplotlib.figure.Figure at 0x1124f5358>"
      ]
     },
     "metadata": {},
     "output_type": "display_data"
    }
   ],
   "source": [
    "fig, axs = plt.subplots(2,3)\n",
    "for i, pais in enumerate(lpib.columns):\n",
    "    plot_acf(lpib[pais], axs[0][i])\n",
    "    plot_pacf(lpib[pais], axs[1][i])\n",
    "    axs[0][i].text(x=0,y=1.5,s=pais.upper(), fontsize=12)\n",
    "\n",
    "fig.set_figheight(5)\n",
    "fig.set_figwidth(15)\n",
    "sns.despine(bottom=True)\n",
    "plt.tight_layout()"
   ]
  },
  {
   "cell_type": "markdown",
   "metadata": {
    "slideshow": {
     "slide_type": "subslide"
    }
   },
   "source": [
    "El correlograma de la serie nos da pistas sobre la tendencia estocástica, vemos que hay un aplanamiento de la función de autocorrelación propio de las series con tendencia estocástica pero lo comprabamos con la prueba de reíz unitaria."
   ]
  },
  {
   "cell_type": "code",
   "execution_count": 35,
   "metadata": {
    "collapsed": true,
    "slideshow": {
     "slide_type": "skip"
    }
   },
   "outputs": [],
   "source": [
    "txt = '## CONTRASTE DICKEY FULLER\\n'\n",
    "txt += '### SERIE: Log-PIB CON CONSTANTE Y TENDENCIA\\n'\n",
    "txt += '$H_0$: $y_{it} \\sim I(1)$\\n\\n'\n",
    "txt += '$H_a$: $y_{it} \\sim I(0)$\\n\\n'\n",
    "txt += '|Pais|ADF|pvalue|\\n'\n",
    "txt += '|:---:|:---:|:---:|\\n'\n",
    "for pais in pib.columns:\n",
    "    d = lpib\n",
    "    txt += '|%s|%.3f |%.3f\\n' % (pais.upper(), *adfuller(d[pais], autolag='bic', regression='ct')[:2])"
   ]
  },
  {
   "cell_type": "code",
   "execution_count": 38,
   "metadata": {
    "collapsed": false,
    "slideshow": {
     "slide_type": "skip"
    }
   },
   "outputs": [
    {
     "name": "stdout",
     "output_type": "stream",
     "text": [
      "## CONTRASTE DICKEY FULLER\n",
      "### SERIE: Log-PIB CON CONSTANTE Y TENDENCIA\n",
      "$H_0$: $y_{it} \\sim I(1)$\n",
      "\n",
      "$H_a$: $y_{it} \\sim I(0)$\n",
      "\n",
      "|Pais|ADF|pvalue|\n",
      "|:---:|:---:|:---:|\n",
      "|GERMANY|-3.177 |0.089\n",
      "|SPAIN|-2.232 |0.472\n",
      "|UK|-1.968 |0.619\n",
      "\n"
     ]
    }
   ],
   "source": [
    "print(txt)"
   ]
  },
  {
   "cell_type": "code",
   "execution_count": 39,
   "metadata": {
    "collapsed": false,
    "slideshow": {
     "slide_type": "subslide"
    }
   },
   "outputs": [
    {
     "data": {
      "text/markdown": [
       "## CONTRASTE DICKEY FULLER\n",
       "### SERIE: Log-PIB CON CONSTANTE Y TENDENCIA\n",
       "$H_0$: $y_{it} \\sim I(1)$\n",
       "\n",
       "$H_a$: $y_{it} \\sim I(0)$\n",
       "\n",
       "|Pais|ADF|pvalue|\n",
       "|:---:|:---:|:---:|\n",
       "|GERMANY|-3.177 |0.089\n",
       "|SPAIN|-2.232 |0.472\n",
       "|UK|-1.968 |0.619\n"
      ],
      "text/plain": [
       "<IPython.core.display.Markdown object>"
      ]
     },
     "execution_count": 39,
     "metadata": {},
     "output_type": "execute_result"
    }
   ],
   "source": [
    "Markdown(txt)"
   ]
  },
  {
   "cell_type": "markdown",
   "metadata": {
    "slideshow": {
     "slide_type": "subslide"
    }
   },
   "source": [
    "El contraste de Dickey Fuller no rechaza que las series sean integradas de orden 1 para un nivel de significación del 5%, por tanto las series son al menos I(1). El siguiente paso es diferencia las variables una vez y volver a aplicar el contraste."
   ]
  },
  {
   "cell_type": "markdown",
   "metadata": {
    "slideshow": {
     "slide_type": "skip"
    }
   },
   "source": [
    "### PRIMERA DIFERENCIA DEL Log-PIB (Interanual, 1 periodo)"
   ]
  },
  {
   "cell_type": "code",
   "execution_count": 40,
   "metadata": {
    "collapsed": false,
    "slideshow": {
     "slide_type": "subslide"
    }
   },
   "outputs": [
    {
     "data": {
      "image/png": "[encoded data removed]",
      "text/plain": [
       "<matplotlib.figure.Figure at 0x11384d160>"
      ]
     },
     "metadata": {},
     "output_type": "display_data"
    }
   ],
   "source": [
    "kws = {'figsize':(8,5), 'cmap':'Set2'}\n",
    "\n",
    "dlpib = lpib.diff(periods=4).dropna()\n",
    "\n",
    "g = dlpib.plot(**kws)\n",
    "sns.despine()\n",
    "plt.axhline(y=0, linewidth=2, linestyle='--', color='black', alpha=0.6)\n",
    "plt.suptitle('PRIMERA DIFERENCIA', fontsize=15)\n",
    "plt.legend(loc=0, fontsize=15)\n",
    "plt.tight_layout()"
   ]
  },
  {
   "cell_type": "code",
   "execution_count": 41,
   "metadata": {
    "collapsed": false,
    "slideshow": {
     "slide_type": "subslide"
    }
   },
   "outputs": [
    {
     "data": {
      "image/png": "[encoded data removed]",
      "text/plain": [
       "<matplotlib.figure.Figure at 0x113add208>"
      ]
     },
     "metadata": {},
     "output_type": "display_data"
    }
   ],
   "source": [
    "fig, axs = plt.subplots(2,3)\n",
    "\n",
    "for i, pais in enumerate(pib.columns):\n",
    "    plot_acf(dlpib[pais], axs[0][i])\n",
    "    plot_pacf(dlpib[pais], axs[1][i])\n",
    "    axs[0][i].text(x=0,y=1.5,s=pais.upper(), fontsize=12)\n",
    "\n",
    "fig.set_figheight(5)\n",
    "fig.set_figwidth(15)\n",
    "sns.despine(bottom=True)\n",
    "plt.tight_layout()"
   ]
  },
  {
   "cell_type": "markdown",
   "metadata": {
    "slideshow": {
     "slide_type": "subslide"
    }
   },
   "source": [
    "En este caso, las funciones de autocorrelación de las primeras diferencias muestran que para el caso de Alemania y Reino Unido, un correlograma parecido a una caminata aleatoria. Sin embargo para el caso de España, aun persiste ese lento aplanamiento de la FAC, que comentabamos antes, por lo que parece que para este último caso aún no es I(0)."
   ]
  },
  {
   "cell_type": "code",
   "execution_count": 42,
   "metadata": {
    "collapsed": true,
    "slideshow": {
     "slide_type": "skip"
    }
   },
   "outputs": [],
   "source": [
    "txt = '## CONTRASTE DICKEY FULLER\\n'\n",
    "txt += '### SERIE: dLog-PIB CON CONSTANTE\\n'\n",
    "txt += '$H_0$: $\\Delta y_{it} \\sim I(1)$\\n\\n'\n",
    "txt += '$H_a$: $\\Delta y_{it} \\sim I(0)$\\n\\n'\n",
    "txt += '|Pais|ADF|pvalue|\\n'\n",
    "txt += '|:---:|:---:|:---:|\\n'\n",
    "\n",
    "for pais in pib.columns:\n",
    "    d = dlpib\n",
    "    txt += '|%s|%.3f |%.3f\\n' % (pais.upper(), *adfuller(d[pais], autolag='bic', regression='c')[:2])"
   ]
  },
  {
   "cell_type": "code",
   "execution_count": 43,
   "metadata": {
    "collapsed": false,
    "slideshow": {
     "slide_type": "skip"
    }
   },
   "outputs": [
    {
     "name": "stdout",
     "output_type": "stream",
     "text": [
      "## CONTRASTE DICKEY FULLER\n",
      "### SERIE: dLog-PIB CON CONSTANTE\n",
      "$H_0$: $\\Delta y_{it} \\sim I(1)$\n",
      "\n",
      "$H_a$: $\\Delta y_{it} \\sim I(0)$\n",
      "\n",
      "|Pais|ADF|pvalue|\n",
      "|:---:|:---:|:---:|\n",
      "|GERMANY|-4.117 |0.001\n",
      "|SPAIN|-1.362 |0.600\n",
      "|UK|-4.423 |0.000\n",
      "\n"
     ]
    }
   ],
   "source": [
    "print(txt)"
   ]
  },
  {
   "cell_type": "code",
   "execution_count": 44,
   "metadata": {
    "collapsed": false,
    "slideshow": {
     "slide_type": "subslide"
    }
   },
   "outputs": [
    {
     "data": {
      "text/markdown": [
       "## CONTRASTE DICKEY FULLER\n",
       "### SERIE: dLog-PIB CON CONSTANTE\n",
       "$H_0$: $\\Delta y_{it} \\sim I(1)$\n",
       "\n",
       "$H_a$: $\\Delta y_{it} \\sim I(0)$\n",
       "\n",
       "|Pais|ADF|pvalue|\n",
       "|:---:|:---:|:---:|\n",
       "|GERMANY|-4.117 |0.001\n",
       "|SPAIN|-1.362 |0.600\n",
       "|UK|-4.423 |0.000\n"
      ],
      "text/plain": [
       "<IPython.core.display.Markdown object>"
      ]
     },
     "execution_count": 44,
     "metadata": {},
     "output_type": "execute_result"
    }
   ],
   "source": [
    "Markdown(txt)"
   ]
  },
  {
   "cell_type": "markdown",
   "metadata": {
    "slideshow": {
     "slide_type": "subslide"
    }
   },
   "source": [
    "El contraste de raíz unitaria nos da evidencia en contra de la hipótesis nula para Alemania y Reino Unido, encambio no se rechaza para España, por tanto las series en primeras diferencias son I(0) excepto para España que es al menos I(2).\n",
    "\n",
    "Por tanto a modo de resúmen, las series originales no son estacionarias, tienen tendencia determinista y estocástica. Existe sospecha de ruptura estructural que habrá que comprobar para un correcto análisis. Dado que las series para el caso de Alemania y Reino Unido tienen el mismo orden de integración cabe la posibilidad de que estén cointegradas y esto requiere un tratamiento distinto del propuesto en este ejercicio, por tanto dado que el caso de España no se puede dar cointegración continuamos sin hacer el análisis apropiado.\n",
    "\n",
    "Dado que para estimar el modelo VAR es necesario que las series sean integradas, necesitamos hallar el orden de integración de la serie para España."
   ]
  },
  {
   "cell_type": "code",
   "execution_count": 45,
   "metadata": {
    "collapsed": true,
    "slideshow": {
     "slide_type": "skip"
    }
   },
   "outputs": [],
   "source": [
    "dlpib_spa = dlpib.spain\n",
    "ddlpib_spa = dlpib_spa.diff(periods=4).dropna()"
   ]
  },
  {
   "cell_type": "code",
   "execution_count": 46,
   "metadata": {
    "collapsed": false,
    "slideshow": {
     "slide_type": "subslide"
    }
   },
   "outputs": [
    {
     "data": {
      "text/plain": [
       "<matplotlib.text.Text at 0x113dbec18>"
      ]
     },
     "execution_count": 46,
     "metadata": {},
     "output_type": "execute_result"
    },
    {
     "data": {
      "image/png": "[encoded data removed]",
      "text/plain": [
       "<matplotlib.figure.Figure at 0x113dbe780>"
      ]
     },
     "metadata": {},
     "output_type": "display_data"
    }
   ],
   "source": [
    "ddlpib_spa.plot()\n",
    "sns.despine()\n",
    "plt.axhline(y=0, linestyle='--', linewidth=2, alpha=0.7, color='black')\n",
    "\n",
    "plt.suptitle('SEGUNDA DIFERENCIA: Log-PIB ESPAÑA', fontsize=15)"
   ]
  },
  {
   "cell_type": "code",
   "execution_count": 47,
   "metadata": {
    "collapsed": false,
    "slideshow": {
     "slide_type": "subslide"
    }
   },
   "outputs": [
    {
     "data": {
      "image/png": "[encoded data removed]",
      "text/plain": [
       "<matplotlib.figure.Figure at 0x11380d860>"
      ]
     },
     "metadata": {},
     "output_type": "display_data"
    }
   ],
   "source": [
    "fig, axs = plt.subplots(2,1)\n",
    "ax1, ax2 = axs\n",
    "_ = plot_acf(ddlpib_spa, ax=ax1)\n",
    "_ = plot_pacf(ddlpib_spa, ax=ax2)\n",
    "sns.despine(bottom=True)\n",
    "fig.set_figheight(4)\n",
    "fig.set_figwidth(5)\n",
    "plt.tight_layout()"
   ]
  },
  {
   "cell_type": "markdown",
   "metadata": {
    "slideshow": {
     "slide_type": "subslide"
    }
   },
   "source": [
    "El correlograma de las segundas diferencias no muestra nada claro, pare que puede haber una disminución lenta de la función de autocorrelación que indica presencia de raíz unitaria. Lo comprobamos con el contraste de Dickey-Fuller."
   ]
  },
  {
   "cell_type": "code",
   "execution_count": 48,
   "metadata": {
    "collapsed": true,
    "slideshow": {
     "slide_type": "skip"
    }
   },
   "outputs": [],
   "source": [
    "txt = '## CONTRASTE DICKEY FULLER\\n'\n",
    "txt += '### SERIE: PIB\\n'\n",
    "txt += '$H_0$: $\\Delta^2y_{it} \\sim I(1)$\\n\\n'\n",
    "txt += '$H_a$: $\\Delta^2y_{it} \\sim I(0)$\\n\\n'\n",
    "txt += '|Pais|ADF|pvalue|\\n'\n",
    "txt += '|:---:|:---:|:---:|\\n'\n",
    "pais = dlpib.columns[1]\n",
    "d = ddlpib_spa\n",
    "txt += '|%s|%.3f |%.3f\\n' % (pais.upper(), *adfuller(d, autolag='bic', regression='nc')[:2])"
   ]
  },
  {
   "cell_type": "code",
   "execution_count": 49,
   "metadata": {
    "collapsed": false,
    "slideshow": {
     "slide_type": "skip"
    }
   },
   "outputs": [
    {
     "name": "stdout",
     "output_type": "stream",
     "text": [
      "## CONTRASTE DICKEY FULLER\n",
      "### SERIE: PIB\n",
      "$H_0$: $\\Delta^2y_{it} \\sim I(1)$\n",
      "\n",
      "$H_a$: $\\Delta^2y_{it} \\sim I(0)$\n",
      "\n",
      "|Pais|ADF|pvalue|\n",
      "|:---:|:---:|:---:|\n",
      "|SPAIN|-2.215 |0.026\n",
      "\n"
     ]
    }
   ],
   "source": [
    "print(txt)"
   ]
  },
  {
   "cell_type": "code",
   "execution_count": 50,
   "metadata": {
    "collapsed": false,
    "slideshow": {
     "slide_type": "subslide"
    }
   },
   "outputs": [
    {
     "data": {
      "text/markdown": [
       "## CONTRASTE DICKEY FULLER\n",
       "### SERIE: PIB\n",
       "$H_0$: $\\Delta^2y_{it} \\sim I(1)$\n",
       "\n",
       "$H_a$: $\\Delta^2y_{it} \\sim I(0)$\n",
       "\n",
       "|Pais|ADF|pvalue|\n",
       "|:---:|:---:|:---:|\n",
       "|SPAIN|-2.215 |0.026\n"
      ],
      "text/plain": [
       "<IPython.core.display.Markdown object>"
      ]
     },
     "execution_count": 50,
     "metadata": {},
     "output_type": "execute_result"
    }
   ],
   "source": [
    "Markdown(txt)"
   ]
  },
  {
   "cell_type": "markdown",
   "metadata": {
    "slideshow": {
     "slide_type": "subslide"
    }
   },
   "source": [
    "Para segundas diferencias del PIB de España, la serie es I(0), lo que implica que la serie original para España es I(2)."
   ]
  },
  {
   "cell_type": "code",
   "execution_count": 57,
   "metadata": {
    "collapsed": true,
    "slideshow": {
     "slide_type": "skip"
    }
   },
   "outputs": [],
   "source": [
    "names = [p.upper() for p in pib.columns]\n",
    "d = ['$y_{1t} \\sim I(1)$', '$y_{2t} \\sim I(2)$', '$y_{3t} \\sim I(1)$']\n",
    "line = '\\n'\n",
    "txt = '# RESÚMEN' + line\n",
    "txt += '$Log(PIB_{it}) = y_{it}$' +line+line\n",
    "txt += '|Pais (i)|Orden de Integración|T. Determinista|'+line\n",
    "txt += '|:--:|:---:|:---:|'+line\n",
    "txt += '|{names[0]}|{d[0]}|SI|'+line\n",
    "txt += '|{names[1]}|{d[1]}|SI|'+line\n",
    "txt += '|{names[2]}|{d[2]}|SI|'+line"
   ]
  },
  {
   "cell_type": "code",
   "execution_count": 58,
   "metadata": {
    "collapsed": true,
    "slideshow": {
     "slide_type": "skip"
    }
   },
   "outputs": [],
   "source": [
    "txt = txt.format(names=names, d=d, it='{it}')"
   ]
  },
  {
   "cell_type": "code",
   "execution_count": 59,
   "metadata": {
    "collapsed": false,
    "slideshow": {
     "slide_type": "skip"
    }
   },
   "outputs": [
    {
     "name": "stdout",
     "output_type": "stream",
     "text": [
      "# RESÚMEN\n",
      "$Log(PIB_{it}) = y_{it}$\n",
      "\n",
      "|Pais (i)|Orden de Integración|T. Determinista|\n",
      "|:--:|:---:|:---:|\n",
      "|GERMANY|$y_{1t} \\sim I(1)$|SI|\n",
      "|SPAIN|$y_{2t} \\sim I(2)$|SI|\n",
      "|UK|$y_{3t} \\sim I(1)$|SI|\n",
      "\n"
     ]
    }
   ],
   "source": [
    "print(txt)"
   ]
  },
  {
   "cell_type": "code",
   "execution_count": 60,
   "metadata": {
    "collapsed": false,
    "slideshow": {
     "slide_type": "subslide"
    }
   },
   "outputs": [
    {
     "data": {
      "text/markdown": [
       "# RESÚMEN\n",
       "$Log(PIB_{it}) = y_{it}$\n",
       "\n",
       "|Pais (i)|Orden de Integración|T. Determinista|\n",
       "|:--:|:---:|:---:|\n",
       "|GERMANY|$y_{1t} \\sim I(1)$|SI|\n",
       "|SPAIN|$y_{2t} \\sim I(2)$|SI|\n",
       "|UK|$y_{3t} \\sim I(1)$|SI|\n"
      ],
      "text/plain": [
       "<IPython.core.display.Markdown object>"
      ]
     },
     "execution_count": 60,
     "metadata": {},
     "output_type": "execute_result"
    }
   ],
   "source": [
    "Markdown(txt)"
   ]
  },
  {
   "cell_type": "markdown",
   "metadata": {
    "slideshow": {
     "slide_type": "slide"
    }
   },
   "source": [
    "<div style=\"font-family:serif;\">\n",
    "<div style=\"font-size:300%;\">\n",
    "<h1 style=\"text-align:center;\">APARTADO A\n",
    "</h1></div></div>"
   ]
  },
  {
   "cell_type": "markdown",
   "metadata": {
    "slideshow": {
     "slide_type": "skip"
    }
   },
   "source": [
    "# a\n",
    "_Antes de estimar un VAR, tenemos que __seleccionar el número óptimo de retardos del VAR__, para ello hay que ir a la opción __Modelo-Series temporales-Selección del orden del VAR__, donde le indicamos nuestro conjunto de variables endógenas, exógenas (si las hubiera) y el máximo número de retardos del VAR. Acortaremos el periodo de manera que __dejaremos las 4 últimas observaciones para predecir__. _"
   ]
  },
  {
   "cell_type": "markdown",
   "metadata": {
    "slideshow": {
     "slide_type": "skip"
    }
   },
   "source": [
    "[⬆Caso2.3](#Caso-2.3-PRESENTAR)\t[⬆a](#a)\t\t[⬆b](#b)\t\t[⬆c](#c)\t\t"
   ]
  },
  {
   "cell_type": "code",
   "execution_count": 61,
   "metadata": {
    "collapsed": true,
    "slideshow": {
     "slide_type": "skip"
    }
   },
   "outputs": [],
   "source": [
    "data = dlpib.copy()\n",
    "data['spain'] = ddlpib_spa"
   ]
  },
  {
   "cell_type": "code",
   "execution_count": 62,
   "metadata": {
    "collapsed": false,
    "slideshow": {
     "slide_type": "skip"
    }
   },
   "outputs": [],
   "source": [
    "data.dropna().to_csv('data23_y-y.csv')"
   ]
  },
  {
   "cell_type": "code",
   "execution_count": 63,
   "metadata": {
    "collapsed": false,
    "slideshow": {
     "slide_type": "skip"
    }
   },
   "outputs": [],
   "source": [
    "data_bkp = data.copy()\n",
    "data = data_bkp.iloc[:-4].dropna()"
   ]
  },
  {
   "cell_type": "code",
   "execution_count": 64,
   "metadata": {
    "collapsed": false,
    "slideshow": {
     "slide_type": "skip"
    }
   },
   "outputs": [
    {
     "data": {
      "text/html": [
       "<div>\n",
       "<table border=\"1\" class=\"dataframe\">\n",
       "  <thead>\n",
       "    <tr style=\"text-align: right;\">\n",
       "      <th></th>\n",
       "      <th>germany</th>\n",
       "      <th>spain</th>\n",
       "      <th>uk</th>\n",
       "    </tr>\n",
       "    <tr>\n",
       "      <th>TIME</th>\n",
       "      <th></th>\n",
       "      <th></th>\n",
       "      <th></th>\n",
       "    </tr>\n",
       "  </thead>\n",
       "  <tbody>\n",
       "    <tr>\n",
       "      <th>1997-01-01</th>\n",
       "      <td>0.019560</td>\n",
       "      <td>0.005951</td>\n",
       "      <td>0.021179</td>\n",
       "    </tr>\n",
       "    <tr>\n",
       "      <th>1997-04-01</th>\n",
       "      <td>0.019769</td>\n",
       "      <td>0.009848</td>\n",
       "      <td>0.029468</td>\n",
       "    </tr>\n",
       "    <tr>\n",
       "      <th>1997-07-01</th>\n",
       "      <td>0.017315</td>\n",
       "      <td>0.004996</td>\n",
       "      <td>0.031761</td>\n",
       "    </tr>\n",
       "    <tr>\n",
       "      <th>1997-10-01</th>\n",
       "      <td>0.018849</td>\n",
       "      <td>0.018385</td>\n",
       "      <td>0.039459</td>\n",
       "    </tr>\n",
       "    <tr>\n",
       "      <th>1998-01-01</th>\n",
       "      <td>0.032912</td>\n",
       "      <td>0.012328</td>\n",
       "      <td>0.037315</td>\n",
       "    </tr>\n",
       "  </tbody>\n",
       "</table>\n",
       "</div>"
      ],
      "text/plain": [
       "             germany     spain        uk\n",
       "TIME                                    \n",
       "1997-01-01  0.019560  0.005951  0.021179\n",
       "1997-04-01  0.019769  0.009848  0.029468\n",
       "1997-07-01  0.017315  0.004996  0.031761\n",
       "1997-10-01  0.018849  0.018385  0.039459\n",
       "1998-01-01  0.032912  0.012328  0.037315"
      ]
     },
     "execution_count": 64,
     "metadata": {},
     "output_type": "execute_result"
    }
   ],
   "source": [
    "data.head()"
   ]
  },
  {
   "cell_type": "code",
   "execution_count": 65,
   "metadata": {
    "collapsed": false,
    "slideshow": {
     "slide_type": "skip"
    }
   },
   "outputs": [
    {
     "data": {
      "text/html": [
       "<div>\n",
       "<table border=\"1\" class=\"dataframe\">\n",
       "  <thead>\n",
       "    <tr style=\"text-align: right;\">\n",
       "      <th></th>\n",
       "      <th>germany</th>\n",
       "      <th>spain</th>\n",
       "      <th>uk</th>\n",
       "    </tr>\n",
       "    <tr>\n",
       "      <th>TIME</th>\n",
       "      <th></th>\n",
       "      <th></th>\n",
       "      <th></th>\n",
       "    </tr>\n",
       "  </thead>\n",
       "  <tbody>\n",
       "    <tr>\n",
       "      <th>2013-07-01</th>\n",
       "      <td>0.005161</td>\n",
       "      <td>0.012231</td>\n",
       "      <td>0.021154</td>\n",
       "    </tr>\n",
       "    <tr>\n",
       "      <th>2013-10-01</th>\n",
       "      <td>0.013296</td>\n",
       "      <td>0.028614</td>\n",
       "      <td>0.028065</td>\n",
       "    </tr>\n",
       "    <tr>\n",
       "      <th>2014-01-01</th>\n",
       "      <td>0.023121</td>\n",
       "      <td>0.031464</td>\n",
       "      <td>0.027602</td>\n",
       "    </tr>\n",
       "    <tr>\n",
       "      <th>2014-04-01</th>\n",
       "      <td>0.013519</td>\n",
       "      <td>0.033305</td>\n",
       "      <td>0.030974</td>\n",
       "    </tr>\n",
       "    <tr>\n",
       "      <th>2014-07-01</th>\n",
       "      <td>0.011681</td>\n",
       "      <td>0.032141</td>\n",
       "      <td>0.028106</td>\n",
       "    </tr>\n",
       "  </tbody>\n",
       "</table>\n",
       "</div>"
      ],
      "text/plain": [
       "             germany     spain        uk\n",
       "TIME                                    \n",
       "2013-07-01  0.005161  0.012231  0.021154\n",
       "2013-10-01  0.013296  0.028614  0.028065\n",
       "2014-01-01  0.023121  0.031464  0.027602\n",
       "2014-04-01  0.013519  0.033305  0.030974\n",
       "2014-07-01  0.011681  0.032141  0.028106"
      ]
     },
     "execution_count": 65,
     "metadata": {},
     "output_type": "execute_result"
    }
   ],
   "source": [
    "data.tail()"
   ]
  },
  {
   "cell_type": "code",
   "execution_count": 66,
   "metadata": {
    "collapsed": true,
    "slideshow": {
     "slide_type": "skip"
    }
   },
   "outputs": [],
   "source": [
    "endog = data.copy()"
   ]
  },
  {
   "cell_type": "markdown",
   "metadata": {
    "slideshow": {
     "slide_type": "skip"
    }
   },
   "source": [
    "_Tras decirle a Gretl que estime hasta con __un máximo de 12 retardos__, se nos presentará una pantalla resumen de resultados donde se nos muestran para cada orden del VAR los estadísticos AIC, SBIC y Hannan-Quinn, seleccionaremos el número de retardos mayor que cero que __minimice esos criterios__._"
   ]
  },
  {
   "cell_type": "code",
   "execution_count": 67,
   "metadata": {
    "collapsed": false,
    "slideshow": {
     "slide_type": "skip"
    }
   },
   "outputs": [],
   "source": [
    "m1 = VAR(endog=endog)"
   ]
  },
  {
   "cell_type": "markdown",
   "metadata": {
    "slideshow": {
     "slide_type": "subslide"
    }
   },
   "source": [
    "## NÚMERO DE RETARDOS"
   ]
  },
  {
   "cell_type": "code",
   "execution_count": 68,
   "metadata": {
    "collapsed": false,
    "slideshow": {
     "slide_type": "subslide"
    }
   },
   "outputs": [
    {
     "name": "stdout",
     "output_type": "stream",
     "text": [
      "                 VAR Order Selection                  \n",
      "======================================================\n",
      "            aic          bic          fpe         hqic\n",
      "------------------------------------------------------\n",
      "0        -24.05       -23.95    3.574e-11       -24.01\n",
      "1        -28.51       -28.09    4.155e-13       -28.35\n",
      "2        -29.84      -29.10*    1.107e-13       -29.55\n",
      "3        -29.79       -28.73    1.166e-13       -29.38\n",
      "4        -29.88       -28.51    1.076e-13       -29.35\n",
      "5        -30.63       -28.94    5.203e-14       -29.97\n",
      "6        -30.68       -28.67    5.106e-14       -29.89\n",
      "7        -30.97       -28.65    3.974e-14       -30.06\n",
      "8        -31.05       -28.41    3.894e-14       -30.02\n",
      "9        -31.85       -28.90   1.880e-14*      -30.70*\n",
      "10       -31.93       -28.66    1.925e-14       -30.65\n",
      "11       -31.76       -28.17    2.605e-14       -30.36\n",
      "12      -32.09*       -28.18    2.233e-14       -30.56\n",
      "======================================================\n",
      "* Minimum\n",
      "\n"
     ]
    },
    {
     "data": {
      "text/plain": [
       "{'aic': 12, 'bic': 2, 'fpe': 9, 'hqic': 9}"
      ]
     },
     "execution_count": 68,
     "metadata": {},
     "output_type": "execute_result"
    }
   ],
   "source": [
    "m1.select_order(12)"
   ]
  },
  {
   "cell_type": "markdown",
   "metadata": {
    "slideshow": {
     "slide_type": "subslide"
    }
   },
   "source": [
    "_Ahora que ya hemos seleccionado el número de retardos, volvemos a estimar el sistema en el menú Modelo-Series temporales-Autorregresión vectorial (VAR), donde tras indicar las opciones adecuadas, se nos mostrarán los resultados de la estimación de cada una de las ecuaciones del sistema, tres en nuestro caso. Analizaremos si existe algún __problema residual__ en alguna ecuación mirando los test de autocorrelación __LM(1), ARCH(1) y normalidad__, analizando además los __gráficos residuales. ___"
   ]
  },
  {
   "cell_type": "markdown",
   "metadata": {
    "slideshow": {
     "slide_type": "subslide"
    }
   },
   "source": [
    "# MODELO 1"
   ]
  },
  {
   "cell_type": "code",
   "execution_count": 69,
   "metadata": {
    "collapsed": false,
    "slideshow": {
     "slide_type": "skip"
    }
   },
   "outputs": [],
   "source": [
    "lags = 2\n",
    "r1 = m1.fit(lags)"
   ]
  },
  {
   "cell_type": "code",
   "execution_count": 70,
   "metadata": {
    "collapsed": false,
    "slideshow": {
     "slide_type": "skip"
    }
   },
   "outputs": [],
   "source": [
    "%%R -i endog -i lags\n",
    "require(vars)\n",
    "\n",
    "endog = ts(endog, start = c(1995, 3), end = c(2014,3), frequency = 4)\n",
    "m1 <- VAR(y = endog, p = lags)"
   ]
  },
  {
   "cell_type": "code",
   "execution_count": 71,
   "metadata": {
    "collapsed": false,
    "scrolled": false,
    "slideshow": {
     "slide_type": "skip"
    }
   },
   "outputs": [
    {
     "data": {
      "text/plain": [
       "\n",
       "VAR Estimation Results:\n",
       "========================= \n",
       "Endogenous variables: germany, spain, uk \n",
       "Deterministic variables: const \n",
       "Sample size: 75 \n",
       "Log Likelihood: 814.46 \n",
       "Roots of the characteristic polynomial:\n",
       "0.872 0.872 0.851 0.6855 0.6855 0.2392\n",
       "Call:\n",
       "VAR(y = endog, p = lags)\n",
       "\n",
       "\n",
       "Estimation results for equation germany: \n",
       "======================================== \n",
       "germany = germany.l1 + spain.l1 + uk.l1 + germany.l2 + spain.l2 + uk.l2 + const \n",
       "\n",
       "            Estimate Std. Error t value Pr(>|t|)    \n",
       "germany.l1  0.774398   0.117946   6.566 8.52e-09 ***\n",
       "spain.l1    0.422524   0.142251   2.970 0.004109 ** \n",
       "uk.l1       0.644915   0.183308   3.518 0.000779 ***\n",
       "germany.l2 -0.006473   0.115514  -0.056 0.955476    \n",
       "spain.l2   -0.259471   0.146753  -1.768 0.081533 .  \n",
       "uk.l2      -0.648651   0.183722  -3.531 0.000749 ***\n",
       "const       0.003083   0.001977   1.560 0.123414    \n",
       "---\n",
       "Signif. codes:  0 ‘***’ 0.001 ‘**’ 0.01 ‘*’ 0.05 ‘.’ 0.1 ‘ ’ 1\n",
       "\n",
       "\n",
       "Residual standard error: 0.008927 on 68 degrees of freedom\n",
       "Multiple R-Squared: 0.8619,\tAdjusted R-squared: 0.8497 \n",
       "F-statistic: 70.73 on 6 and 68 DF,  p-value: < 2.2e-16 \n",
       "\n",
       "\n",
       "Estimation results for equation spain: \n",
       "====================================== \n",
       "spain = germany.l1 + spain.l1 + uk.l1 + germany.l2 + spain.l2 + uk.l2 + const \n",
       "\n",
       "             Estimate Std. Error t value Pr(>|t|)    \n",
       "germany.l1  0.1175199  0.0917925   1.280  0.20480    \n",
       "spain.l1    0.9427998  0.1107083   8.516 2.53e-12 ***\n",
       "uk.l1       0.4779410  0.1426612   3.350  0.00132 ** \n",
       "germany.l2 -0.2651894  0.0898996  -2.950  0.00436 ** \n",
       "spain.l2   -0.1701440  0.1142120  -1.490  0.14092    \n",
       "uk.l2      -0.4077363  0.1429832  -2.852  0.00575 ** \n",
       "const       0.0002402  0.0015383   0.156  0.87639    \n",
       "---\n",
       "Signif. codes:  0 ‘***’ 0.001 ‘**’ 0.01 ‘*’ 0.05 ‘.’ 0.1 ‘ ’ 1\n",
       "\n",
       "\n",
       "Residual standard error: 0.006947 on 68 degrees of freedom\n",
       "Multiple R-Squared: 0.8877,\tAdjusted R-squared: 0.8778 \n",
       "F-statistic: 89.56 on 6 and 68 DF,  p-value: < 2.2e-16 \n",
       "\n",
       "\n",
       "Estimation results for equation uk: \n",
       "=================================== \n",
       "uk = germany.l1 + spain.l1 + uk.l1 + germany.l2 + spain.l2 + uk.l2 + const \n",
       "\n",
       "            Estimate Std. Error t value Pr(>|t|)    \n",
       "germany.l1 -0.110761   0.077405  -1.431  0.15703    \n",
       "spain.l1   -0.058732   0.093356  -0.629  0.53138    \n",
       "uk.l1       1.634689   0.120301  13.588  < 2e-16 ***\n",
       "germany.l2  0.010741   0.075809   0.142  0.88775    \n",
       "spain.l2    0.127775   0.096311   1.327  0.18905    \n",
       "uk.l2      -0.755622   0.120573  -6.267 2.89e-08 ***\n",
       "const       0.003858   0.001297   2.974  0.00406 ** \n",
       "---\n",
       "Signif. codes:  0 ‘***’ 0.001 ‘**’ 0.01 ‘*’ 0.05 ‘.’ 0.1 ‘ ’ 1\n",
       "\n",
       "\n",
       "Residual standard error: 0.005858 on 68 degrees of freedom\n",
       "Multiple R-Squared: 0.9218,\tAdjusted R-squared: 0.9149 \n",
       "F-statistic: 133.7 on 6 and 68 DF,  p-value: < 2.2e-16 \n",
       "\n",
       "\n",
       "\n",
       "Covariance matrix of residuals:\n",
       "          germany     spain        uk\n",
       "germany 7.969e-05 5.844e-06 1.594e-05\n",
       "spain   5.844e-06 4.827e-05 1.668e-05\n",
       "uk      1.594e-05 1.668e-05 3.432e-05\n",
       "\n",
       "Correlation matrix of residuals:\n",
       "        germany   spain     uk\n",
       "germany 1.00000 0.09424 0.3048\n",
       "spain   0.09424 1.00000 0.4099\n",
       "uk      0.30481 0.40987 1.0000\n",
       "\n",
       "\n"
      ]
     },
     "metadata": {},
     "output_type": "display_data"
    }
   ],
   "source": [
    "%%R\n",
    "summary(m1)"
   ]
  },
  {
   "cell_type": "markdown",
   "metadata": {
    "slideshow": {
     "slide_type": "subslide"
    }
   },
   "source": [
    "    VAR Estimation Results:\n",
    "    ========================= \n",
    "    Endogenous variables: germany, spain, uk \n",
    "    Deterministic variables: const \n",
    "    Sample size: 75 \n",
    "    Log Likelihood: 814.46 \n",
    "    Roots of the characteristic polynomial:\n",
    "    0.872 0.872 0.851 0.6855 0.6855 0.2392\n",
    "    Call:\n",
    "    VAR(y = endog, p = lags)\n",
    "\n",
    "\n",
    "    Estimation results for equation germany: \n",
    "    ======================================== \n",
    "    germany = germany.l1 + spain.l1 + uk.l1 + germany.l2 + spain.l2 + uk.l2 + const \n",
    "\n",
    "                Estimate Std. Error t value Pr(>|t|)    \n",
    "    germany.l1  0.774398   0.117946   6.566 8.52e-09 ***\n",
    "    spain.l1    0.422524   0.142251   2.970 0.004109 ** \n",
    "    uk.l1       0.644915   0.183308   3.518 0.000779 ***\n",
    "    germany.l2 -0.006473   0.115514  -0.056 0.955476    \n",
    "    spain.l2   -0.259471   0.146753  -1.768 0.081533 .  \n",
    "    uk.l2      -0.648651   0.183722  -3.531 0.000749 ***\n",
    "    const       0.003083   0.001977   1.560 0.123414    \n",
    "    ---\n",
    "    Signif. codes:  0 ‘***’ 0.001 ‘**’ 0.01 ‘*’ 0.05 ‘.’ 0.1 ‘ ’ 1\n",
    "\n",
    "\n",
    "    Residual standard error: 0.008927 on 68 degrees of freedom\n",
    "    Multiple R-Squared: 0.8619,\tAdjusted R-squared: 0.8497 \n",
    "    F-statistic: 70.73 on 6 and 68 DF,  p-value: < 2.2e-16 \n",
    "\n",
    "\n",
    "    Estimation results for equation spain: \n",
    "    ====================================== \n",
    "    spain = germany.l1 + spain.l1 + uk.l1 + germany.l2 + spain.l2 + uk.l2 + const \n",
    "\n",
    "                 Estimate Std. Error t value Pr(>|t|)    \n",
    "    germany.l1  0.1175199  0.0917925   1.280  0.20480    \n",
    "    spain.l1    0.9427998  0.1107083   8.516 2.53e-12 ***\n",
    "    uk.l1       0.4779410  0.1426612   3.350  0.00132 ** \n",
    "    germany.l2 -0.2651894  0.0898996  -2.950  0.00436 ** \n",
    "    spain.l2   -0.1701440  0.1142120  -1.490  0.14092    \n",
    "    uk.l2      -0.4077363  0.1429832  -2.852  0.00575 ** \n",
    "    const       0.0002402  0.0015383   0.156  0.87639    \n",
    "    ---\n",
    "    Signif. codes:  0 ‘***’ 0.001 ‘**’ 0.01 ‘*’ 0.05 ‘.’ 0.1 ‘ ’ 1\n",
    "\n",
    "\n",
    "    Residual standard error: 0.006947 on 68 degrees of freedom\n",
    "    Multiple R-Squared: 0.8877,\tAdjusted R-squared: 0.8778 \n",
    "    F-statistic: 89.56 on 6 and 68 DF,  p-value: < 2.2e-16 \n",
    "\n",
    "\n",
    "    Estimation results for equation uk: \n",
    "    =================================== \n",
    "    uk = germany.l1 + spain.l1 + uk.l1 + germany.l2 + spain.l2 + uk.l2 + const \n",
    "\n",
    "                Estimate Std. Error t value Pr(>|t|)    \n",
    "    germany.l1 -0.110761   0.077405  -1.431  0.15703    \n",
    "    spain.l1   -0.058732   0.093356  -0.629  0.53138    \n",
    "    uk.l1       1.634689   0.120301  13.588  < 2e-16 ***\n",
    "    germany.l2  0.010741   0.075809   0.142  0.88775    \n",
    "    spain.l2    0.127775   0.096311   1.327  0.18905    \n",
    "    uk.l2      -0.755622   0.120573  -6.267 2.89e-08 ***\n",
    "    const       0.003858   0.001297   2.974  0.00406 ** \n",
    "    ---\n",
    "    Signif. codes:  0 ‘***’ 0.001 ‘**’ 0.01 ‘*’ 0.05 ‘.’ 0.1 ‘ ’ 1\n",
    "\n",
    "\n",
    "    Residual standard error: 0.005858 on 68 degrees of freedom\n",
    "    Multiple R-Squared: 0.9218,\tAdjusted R-squared: 0.9149 \n",
    "    F-statistic: 133.7 on 6 and 68 DF,  p-value: < 2.2e-16 \n",
    "\n",
    "\n",
    "\n",
    "    Covariance matrix of residuals:\n",
    "              germany     spain        uk\n",
    "    germany 7.969e-05 5.844e-06 1.594e-05\n",
    "    spain   5.844e-06 4.827e-05 1.668e-05\n",
    "    uk      1.594e-05 1.668e-05 3.432e-05\n",
    "\n",
    "    Correlation matrix of residuals:\n",
    "            germany   spain     uk\n",
    "    germany 1.00000 0.09424 0.3048\n",
    "    spain   0.09424 1.00000 0.4099\n",
    "    uk      0.30481 0.40987 1.0000"
   ]
  },
  {
   "cell_type": "markdown",
   "metadata": {
    "slideshow": {
     "slide_type": "slide"
    }
   },
   "source": [
    "# CONTRASTES"
   ]
  },
  {
   "cell_type": "code",
   "execution_count": 53,
   "metadata": {
    "collapsed": false,
    "slideshow": {
     "slide_type": "subslide"
    }
   },
   "outputs": [
    {
     "data": {
      "text/plain": [
       "<matplotlib.text.Text at 0x119ebe4e0>"
      ]
     },
     "execution_count": 53,
     "metadata": {},
     "output_type": "execute_result"
    },
    {
     "data": {
      "image/png": "[encoded data removed]",
      "text/plain": [
       "<matplotlib.figure.Figure at 0x119e682b0>"
      ]
     },
     "metadata": {},
     "output_type": "display_data"
    }
   ],
   "source": [
    "g = r1.resid.plot(linewidth=1, subplots=True, cmap='Set2')\n",
    "sns.despine()\n",
    "for ax in g:\n",
    "    ax.legend(loc=1, fontsize=14)\n",
    "plt.suptitle('Residuos Modelo 1', fontsize=15)"
   ]
  },
  {
   "cell_type": "markdown",
   "metadata": {
    "slideshow": {
     "slide_type": "skip"
    }
   },
   "source": [
    "### Homocedasticidad\n",
    "\n",
    "$H_0$: Homocedasticidad\n",
    "\n",
    "No hay evidencia para rechazar la hipótesis nula de homocedasticidad."
   ]
  },
  {
   "cell_type": "code",
   "execution_count": 54,
   "metadata": {
    "collapsed": false,
    "slideshow": {
     "slide_type": "subslide"
    }
   },
   "outputs": [
    {
     "data": {
      "text/plain": [
       "\n",
       "\tARCH (multivariate)\n",
       "\n",
       "data:  Residuals of VAR object x\n",
       "Chi-squared = 209.22, df = 180, p-value = 0.06702\n",
       "\n"
      ]
     },
     "metadata": {},
     "output_type": "display_data"
    }
   ],
   "source": [
    "%%R\n",
    "arch(m1)"
   ]
  },
  {
   "cell_type": "markdown",
   "metadata": {
    "slideshow": {
     "slide_type": "subslide"
    }
   },
   "source": [
    "### Autocorrleación\n",
    "\n",
    "$H_0$: No Autocorrelación\n",
    "\n",
    "Hay evidencia en contra de la hipótesis nula, se rechaza la hipótesis de no autocorrelación."
   ]
  },
  {
   "cell_type": "code",
   "execution_count": 55,
   "metadata": {
    "collapsed": false,
    "slideshow": {
     "slide_type": "subslide"
    }
   },
   "outputs": [
    {
     "data": {
      "text/plain": [
       "\n",
       "\tBreusch-Godfrey LM test\n",
       "\n",
       "data:  Residuals of VAR object x\n",
       "Chi-squared = 86.03, df = 45, p-value = 0.000223\n",
       "\n"
      ]
     },
     "metadata": {},
     "output_type": "display_data"
    }
   ],
   "source": [
    "%%R\n",
    "serial(m1, lags.pt = 16, type = 'BG')"
   ]
  },
  {
   "cell_type": "markdown",
   "metadata": {
    "slideshow": {
     "slide_type": "subslide"
    }
   },
   "source": [
    "### Normalidad\n",
    "\n",
    "$H_0$: La muestra proviene de una distribución normal\n",
    "\n",
    "Según el JB, no se puede rechazar la hipóstesis nula."
   ]
  },
  {
   "cell_type": "code",
   "execution_count": 56,
   "metadata": {
    "collapsed": false,
    "slideshow": {
     "slide_type": "subslide"
    }
   },
   "outputs": [
    {
     "data": {
      "text/plain": [
       "$JB\n",
       "\n",
       "\tJB-Test (multivariate)\n",
       "\n",
       "data:  Residuals of VAR object x\n",
       "Chi-squared = 7.9662, df = 6, p-value = 0.2406\n",
       "\n",
       "\n",
       "$Skewness\n",
       "\n",
       "\tSkewness only (multivariate)\n",
       "\n",
       "data:  Residuals of VAR object x\n",
       "Chi-squared = 2.6354, df = 3, p-value = 0.4513\n",
       "\n",
       "\n",
       "$Kurtosis\n",
       "\n",
       "\tKurtosis only (multivariate)\n",
       "\n",
       "data:  Residuals of VAR object x\n",
       "Chi-squared = 5.3307, df = 3, p-value = 0.1491\n",
       "\n",
       "\n"
      ]
     },
     "metadata": {},
     "output_type": "display_data"
    }
   ],
   "source": [
    "%%R\n",
    "normality(m1)"
   ]
  },
  {
   "cell_type": "markdown",
   "metadata": {
    "slideshow": {
     "slide_type": "subslide"
    }
   },
   "source": [
    "### Estabilidad\n",
    "$H_0$: Estabilidad\n",
    "\n",
    "Dado que la serie se mantiene entre las bandas no se puede rechazar la hipótesis nula de estabilidad de los parámetros."
   ]
  },
  {
   "cell_type": "code",
   "execution_count": 57,
   "metadata": {
    "collapsed": false,
    "slideshow": {
     "slide_type": "subslide"
    }
   },
   "outputs": [
    {
     "data": {
      "image/png": "[encoded data removed]"
     },
     "metadata": {},
     "output_type": "display_data"
    }
   ],
   "source": [
    "%%R\n",
    "plot(stability(m1, type = \"OLS-CUSUM\"))"
   ]
  },
  {
   "cell_type": "markdown",
   "metadata": {
    "slideshow": {
     "slide_type": "skip"
    }
   },
   "source": [
    "_Es posible que encontremos algún problema, por ejemplo, es posible que sea necesario incorporar una __variable ficticia__ que dé cuenta de la __crisis del precio del petróleo__ ocurrida en los años 70; a esta nueva variable la podemos llamar __D74__ y tomará valor 1 durante los cuatro trimestres de 1974 y valor 0 el resto. _"
   ]
  },
  {
   "cell_type": "markdown",
   "metadata": {
    "slideshow": {
     "slide_type": "slide"
    }
   },
   "source": [
    "## MODELO 2\n",
    "\n",
    "Es el modelo 1 con D08 como variable exógena."
   ]
  },
  {
   "cell_type": "markdown",
   "metadata": {
    "slideshow": {
     "slide_type": "fragment"
    }
   },
   "source": [
    "Dado que la crisis del petróleo no entra en el período, y el objetivo es capturar un comportamiento atípico, vamos a introducir una variable ficticia que recoja el efecto de la crisis actual, que llamaremos D08 que tomará valor 1 entre 2008-2011."
   ]
  },
  {
   "cell_type": "code",
   "execution_count": 58,
   "metadata": {
    "collapsed": false,
    "slideshow": {
     "slide_type": "skip"
    }
   },
   "outputs": [],
   "source": [
    "dummy = data.copy()\n",
    "dummy['d08'] = 0\n",
    "dummy.loc['2008':'2011', 'd08'] = 1\n",
    "exog = dummy.d08"
   ]
  },
  {
   "cell_type": "code",
   "execution_count": 59,
   "metadata": {
    "collapsed": false,
    "slideshow": {
     "slide_type": "skip"
    }
   },
   "outputs": [
    {
     "data": {
      "text/html": [
       "<div>\n",
       "<table border=\"1\" class=\"dataframe\">\n",
       "  <thead>\n",
       "    <tr style=\"text-align: right;\">\n",
       "      <th></th>\n",
       "      <th>germany</th>\n",
       "      <th>spain</th>\n",
       "      <th>uk</th>\n",
       "      <th>d08</th>\n",
       "    </tr>\n",
       "    <tr>\n",
       "      <th>TIME</th>\n",
       "      <th></th>\n",
       "      <th></th>\n",
       "      <th></th>\n",
       "      <th></th>\n",
       "    </tr>\n",
       "  </thead>\n",
       "  <tbody>\n",
       "    <tr>\n",
       "      <th>2007-01-01</th>\n",
       "      <td>0.043096</td>\n",
       "      <td>-0.000932</td>\n",
       "      <td>0.019510</td>\n",
       "      <td>0</td>\n",
       "    </tr>\n",
       "    <tr>\n",
       "      <th>2007-04-01</th>\n",
       "      <td>0.034307</td>\n",
       "      <td>-0.003435</td>\n",
       "      <td>0.022631</td>\n",
       "      <td>0</td>\n",
       "    </tr>\n",
       "    <tr>\n",
       "      <th>2007-07-01</th>\n",
       "      <td>0.032895</td>\n",
       "      <td>-0.005619</td>\n",
       "      <td>0.028958</td>\n",
       "      <td>0</td>\n",
       "    </tr>\n",
       "    <tr>\n",
       "      <th>2007-10-01</th>\n",
       "      <td>0.023079</td>\n",
       "      <td>-0.005532</td>\n",
       "      <td>0.030927</td>\n",
       "      <td>0</td>\n",
       "    </tr>\n",
       "    <tr>\n",
       "      <th>2008-01-01</th>\n",
       "      <td>0.027107</td>\n",
       "      <td>-0.010575</td>\n",
       "      <td>0.023805</td>\n",
       "      <td>1</td>\n",
       "    </tr>\n",
       "    <tr>\n",
       "      <th>2008-04-01</th>\n",
       "      <td>0.017382</td>\n",
       "      <td>-0.015832</td>\n",
       "      <td>0.012202</td>\n",
       "      <td>1</td>\n",
       "    </tr>\n",
       "    <tr>\n",
       "      <th>2008-07-01</th>\n",
       "      <td>0.005338</td>\n",
       "      <td>-0.029628</td>\n",
       "      <td>-0.012374</td>\n",
       "      <td>1</td>\n",
       "    </tr>\n",
       "    <tr>\n",
       "      <th>2008-10-01</th>\n",
       "      <td>-0.017735</td>\n",
       "      <td>-0.047570</td>\n",
       "      <td>-0.042843</td>\n",
       "      <td>1</td>\n",
       "    </tr>\n",
       "    <tr>\n",
       "      <th>2009-01-01</th>\n",
       "      <td>-0.071746</td>\n",
       "      <td>-0.062545</td>\n",
       "      <td>-0.061153</td>\n",
       "      <td>1</td>\n",
       "    </tr>\n",
       "    <tr>\n",
       "      <th>2009-04-01</th>\n",
       "      <td>-0.068377</td>\n",
       "      <td>-0.065284</td>\n",
       "      <td>-0.057617</td>\n",
       "      <td>1</td>\n",
       "    </tr>\n",
       "    <tr>\n",
       "      <th>2009-07-01</th>\n",
       "      <td>-0.058809</td>\n",
       "      <td>-0.045230</td>\n",
       "      <td>-0.039112</td>\n",
       "      <td>1</td>\n",
       "    </tr>\n",
       "    <tr>\n",
       "      <th>2009-10-01</th>\n",
       "      <td>-0.029973</td>\n",
       "      <td>-0.016921</td>\n",
       "      <td>-0.012798</td>\n",
       "      <td>1</td>\n",
       "    </tr>\n",
       "    <tr>\n",
       "      <th>2010-01-01</th>\n",
       "      <td>0.023375</td>\n",
       "      <td>0.022809</td>\n",
       "      <td>0.006710</td>\n",
       "      <td>1</td>\n",
       "    </tr>\n",
       "    <tr>\n",
       "      <th>2010-04-01</th>\n",
       "      <td>0.042704</td>\n",
       "      <td>0.044701</td>\n",
       "      <td>0.016763</td>\n",
       "      <td>1</td>\n",
       "    </tr>\n",
       "    <tr>\n",
       "      <th>2010-07-01</th>\n",
       "      <td>0.044752</td>\n",
       "      <td>0.043761</td>\n",
       "      <td>0.020095</td>\n",
       "      <td>1</td>\n",
       "    </tr>\n",
       "    <tr>\n",
       "      <th>2010-10-01</th>\n",
       "      <td>0.043569</td>\n",
       "      <td>0.034866</td>\n",
       "      <td>0.017516</td>\n",
       "      <td>1</td>\n",
       "    </tr>\n",
       "    <tr>\n",
       "      <th>2011-01-01</th>\n",
       "      <td>0.054253</td>\n",
       "      <td>0.008750</td>\n",
       "      <td>0.021272</td>\n",
       "      <td>1</td>\n",
       "    </tr>\n",
       "    <tr>\n",
       "      <th>2011-04-01</th>\n",
       "      <td>0.035935</td>\n",
       "      <td>-0.009596</td>\n",
       "      <td>0.016668</td>\n",
       "      <td>1</td>\n",
       "    </tr>\n",
       "    <tr>\n",
       "      <th>2011-07-01</th>\n",
       "      <td>0.032098</td>\n",
       "      <td>-0.017054</td>\n",
       "      <td>0.019808</td>\n",
       "      <td>1</td>\n",
       "    </tr>\n",
       "    <tr>\n",
       "      <th>2011-10-01</th>\n",
       "      <td>0.023977</td>\n",
       "      <td>-0.022960</td>\n",
       "      <td>0.020382</td>\n",
       "      <td>1</td>\n",
       "    </tr>\n",
       "    <tr>\n",
       "      <th>2012-01-01</th>\n",
       "      <td>0.009383</td>\n",
       "      <td>-0.020190</td>\n",
       "      <td>0.015142</td>\n",
       "      <td>0</td>\n",
       "    </tr>\n",
       "    <tr>\n",
       "      <th>2012-04-01</th>\n",
       "      <td>0.008216</td>\n",
       "      <td>-0.016699</td>\n",
       "      <td>0.009963</td>\n",
       "      <td>0</td>\n",
       "    </tr>\n",
       "    <tr>\n",
       "      <th>2012-07-01</th>\n",
       "      <td>0.005790</td>\n",
       "      <td>-0.015057</td>\n",
       "      <td>0.011937</td>\n",
       "      <td>0</td>\n",
       "    </tr>\n",
       "    <tr>\n",
       "      <th>2012-10-01</th>\n",
       "      <td>0.001180</td>\n",
       "      <td>-0.014117</td>\n",
       "      <td>0.009864</td>\n",
       "      <td>0</td>\n",
       "    </tr>\n",
       "  </tbody>\n",
       "</table>\n",
       "</div>"
      ],
      "text/plain": [
       "             germany     spain        uk  d08\n",
       "TIME                                         \n",
       "2007-01-01  0.043096 -0.000932  0.019510    0\n",
       "2007-04-01  0.034307 -0.003435  0.022631    0\n",
       "2007-07-01  0.032895 -0.005619  0.028958    0\n",
       "2007-10-01  0.023079 -0.005532  0.030927    0\n",
       "2008-01-01  0.027107 -0.010575  0.023805    1\n",
       "2008-04-01  0.017382 -0.015832  0.012202    1\n",
       "2008-07-01  0.005338 -0.029628 -0.012374    1\n",
       "2008-10-01 -0.017735 -0.047570 -0.042843    1\n",
       "2009-01-01 -0.071746 -0.062545 -0.061153    1\n",
       "2009-04-01 -0.068377 -0.065284 -0.057617    1\n",
       "2009-07-01 -0.058809 -0.045230 -0.039112    1\n",
       "2009-10-01 -0.029973 -0.016921 -0.012798    1\n",
       "2010-01-01  0.023375  0.022809  0.006710    1\n",
       "2010-04-01  0.042704  0.044701  0.016763    1\n",
       "2010-07-01  0.044752  0.043761  0.020095    1\n",
       "2010-10-01  0.043569  0.034866  0.017516    1\n",
       "2011-01-01  0.054253  0.008750  0.021272    1\n",
       "2011-04-01  0.035935 -0.009596  0.016668    1\n",
       "2011-07-01  0.032098 -0.017054  0.019808    1\n",
       "2011-10-01  0.023977 -0.022960  0.020382    1\n",
       "2012-01-01  0.009383 -0.020190  0.015142    0\n",
       "2012-04-01  0.008216 -0.016699  0.009963    0\n",
       "2012-07-01  0.005790 -0.015057  0.011937    0\n",
       "2012-10-01  0.001180 -0.014117  0.009864    0"
      ]
     },
     "execution_count": 59,
     "metadata": {},
     "output_type": "execute_result"
    }
   ],
   "source": [
    "dummy.loc['2007':'2012']"
   ]
  },
  {
   "cell_type": "markdown",
   "metadata": {
    "slideshow": {
     "slide_type": "subslide"
    }
   },
   "source": [
    "## NÚMERO DE RETARDOS"
   ]
  },
  {
   "cell_type": "code",
   "execution_count": 60,
   "metadata": {
    "collapsed": false,
    "slideshow": {
     "slide_type": "subslide"
    }
   },
   "outputs": [
    {
     "data": {
      "text/plain": [
       "AIC(n)  HQ(n)  SC(n) FPE(n) \n",
       "    12      2      2     12 \n"
      ]
     },
     "metadata": {},
     "output_type": "display_data"
    }
   ],
   "source": [
    "%%R -i endog -i exog\n",
    "\n",
    "endog <- ts(endog, start = c(1995, 3), end = c(2014,3), frequency = 4)\n",
    "exog <- ts(exog, start = c(1995, 3), end = c(2014,3), frequency = 4)\n",
    "\n",
    "print(VARselect(y = endog, lag.max = 12, exogen = exog, type = 'none')$selection)"
   ]
  },
  {
   "cell_type": "code",
   "execution_count": 61,
   "metadata": {
    "collapsed": true,
    "slideshow": {
     "slide_type": "subslide"
    }
   },
   "outputs": [],
   "source": [
    "lags2 = 3"
   ]
  },
  {
   "cell_type": "code",
   "execution_count": 62,
   "metadata": {
    "collapsed": false,
    "scrolled": false,
    "slideshow": {
     "slide_type": "skip"
    }
   },
   "outputs": [
    {
     "data": {
      "text/plain": [
       "\n",
       "VAR Estimation Results:\n",
       "========================= \n",
       "Endogenous variables: germany, spain, uk \n",
       "Deterministic variables: const \n",
       "Sample size: 74 \n",
       "Log Likelihood: 832.542 \n",
       "Roots of the characteristic polynomial:\n",
       "0.9444 0.9444 0.8348 0.8348 0.6831 0.5486 0.5486 0.3009 0.2406\n",
       "Call:\n",
       "VAR(y = endog, p = lags2, exogen = exog)\n",
       "\n",
       "\n",
       "Estimation results for equation germany: \n",
       "======================================== \n",
       "germany = germany.l1 + spain.l1 + uk.l1 + germany.l2 + spain.l2 + uk.l2 + germany.l3 + spain.l3 + uk.l3 + const + exo1 \n",
       "\n",
       "            Estimate Std. Error t value Pr(>|t|)    \n",
       "germany.l1  0.802880   0.134042   5.990  1.1e-07 ***\n",
       "spain.l1    0.510828   0.174670   2.925  0.00479 ** \n",
       "uk.l1       0.661906   0.237017   2.793  0.00691 ** \n",
       "germany.l2 -0.083125   0.170427  -0.488  0.62742    \n",
       "spain.l2   -0.451216   0.232227  -1.943  0.05649 .  \n",
       "uk.l2      -0.648813   0.376332  -1.724  0.08960 .  \n",
       "germany.l3  0.026925   0.129335   0.208  0.83576    \n",
       "spain.l3    0.150162   0.164877   0.911  0.36590    \n",
       "uk.l3       0.014864   0.259214   0.057  0.95445    \n",
       "const       0.002409   0.003501   0.688  0.49397    \n",
       "exo1        0.002108   0.004242   0.497  0.62102    \n",
       "---\n",
       "Signif. codes:  0 ‘***’ 0.001 ‘**’ 0.01 ‘*’ 0.05 ‘.’ 0.1 ‘ ’ 1\n",
       "\n",
       "\n",
       "Residual standard error: 0.0091 on 63 degrees of freedom\n",
       "Multiple R-Squared: 0.867,\tAdjusted R-squared: 0.8459 \n",
       "F-statistic: 41.07 on 10 and 63 DF,  p-value: < 2.2e-16 \n",
       "\n",
       "\n",
       "Estimation results for equation spain: \n",
       "====================================== \n",
       "spain = germany.l1 + spain.l1 + uk.l1 + germany.l2 + spain.l2 + uk.l2 + germany.l3 + spain.l3 + uk.l3 + const + exo1 \n",
       "\n",
       "            Estimate Std. Error t value Pr(>|t|)    \n",
       "germany.l1  0.056717   0.082031   0.691 0.491848    \n",
       "spain.l1    0.668378   0.106895   6.253 3.93e-08 ***\n",
       "uk.l1       0.165319   0.145050   1.140 0.258709    \n",
       "germany.l2  0.025254   0.104298   0.242 0.809462    \n",
       "spain.l2    0.049457   0.142118   0.348 0.728999    \n",
       "uk.l2       0.205642   0.230308   0.893 0.375310    \n",
       "germany.l3 -0.209098   0.079151  -2.642 0.010389 *  \n",
       "spain.l3    0.011948   0.100902   0.118 0.906116    \n",
       "uk.l3      -0.578828   0.158634  -3.649 0.000536 ***\n",
       "const       0.008303   0.002143   3.875 0.000256 ***\n",
       "exo1       -0.011613   0.002596  -4.473 3.29e-05 ***\n",
       "---\n",
       "Signif. codes:  0 ‘***’ 0.001 ‘**’ 0.01 ‘*’ 0.05 ‘.’ 0.1 ‘ ’ 1\n",
       "\n",
       "\n",
       "Residual standard error: 0.005569 on 63 degrees of freedom\n",
       "Multiple R-Squared: 0.9331,\tAdjusted R-squared: 0.9224 \n",
       "F-statistic: 87.82 on 10 and 63 DF,  p-value: < 2.2e-16 \n",
       "\n",
       "\n",
       "Estimation results for equation uk: \n",
       "=================================== \n",
       "uk = germany.l1 + spain.l1 + uk.l1 + germany.l2 + spain.l2 + uk.l2 + germany.l3 + spain.l3 + uk.l3 + const + exo1 \n",
       "\n",
       "            Estimate Std. Error t value Pr(>|t|)    \n",
       "germany.l1 -0.034722   0.077311  -0.449   0.6549    \n",
       "spain.l1   -0.058037   0.100744  -0.576   0.5666    \n",
       "uk.l1       1.353704   0.136704   9.902 1.83e-14 ***\n",
       "germany.l2 -0.003098   0.098297  -0.032   0.9750    \n",
       "spain.l2    0.051695   0.133941   0.386   0.7008    \n",
       "uk.l2      -0.455157   0.217057  -2.097   0.0400 *  \n",
       "germany.l3  0.012904   0.074596   0.173   0.8632    \n",
       "spain.l3    0.138562   0.095096   1.457   0.1501    \n",
       "uk.l3      -0.310715   0.149507  -2.078   0.0418 *  \n",
       "const       0.011442   0.002019   5.666 3.89e-07 ***\n",
       "exo1       -0.011197   0.002447  -4.576 2.28e-05 ***\n",
       "---\n",
       "Signif. codes:  0 ‘***’ 0.001 ‘**’ 0.01 ‘*’ 0.05 ‘.’ 0.1 ‘ ’ 1\n",
       "\n",
       "\n",
       "Residual standard error: 0.005248 on 63 degrees of freedom\n",
       "Multiple R-Squared: 0.9417,\tAdjusted R-squared: 0.9324 \n",
       "F-statistic: 101.7 on 10 and 63 DF,  p-value: < 2.2e-16 \n",
       "\n",
       "\n",
       "\n",
       "Covariance matrix of residuals:\n",
       "          germany     spain        uk\n",
       "germany 8.280e-05 9.364e-06 1.798e-05\n",
       "spain   9.364e-06 3.101e-05 8.684e-06\n",
       "uk      1.798e-05 8.684e-06 2.755e-05\n",
       "\n",
       "Correlation matrix of residuals:\n",
       "        germany  spain     uk\n",
       "germany  1.0000 0.1848 0.3765\n",
       "spain    0.1848 1.0000 0.2971\n",
       "uk       0.3765 0.2971 1.0000\n",
       "\n",
       "\n"
      ]
     },
     "metadata": {},
     "output_type": "display_data"
    }
   ],
   "source": [
    "%%R -i lags2\n",
    "m0 <- VAR(y = endog, p = lags2)\n",
    "m2 <- VAR(y = endog, p = lags2, exogen = exog)\n",
    "summary(m2)"
   ]
  },
  {
   "cell_type": "markdown",
   "metadata": {
    "slideshow": {
     "slide_type": "skip"
    }
   },
   "source": [
    "_Incorporamos esta nueva variable explicativa a nuestro modelo, le indicamos el periodo de estimación, el número de retardos y para ver si resulta __conjuntamente significativa o no__ debemos ir al menú de contraste de hipótesis del VAR y seleccionar la opción que nos hace un contraste sobre la __exogeneidad de las variables__. Tras indicarle que queremos analizar la exogeneidad de D74 nos calculará un contraste __LR de la razón de verosimilitudes__, si el valor del p-valor de este contraste es menor que 0,05, aceptamos que mantenemos dicha variable al nivel de significación del 5%. __Comprobar cómo cambian los resultados de las tres ecuaciones__ estimadas del VAR con esta nueva variable y decidir con base en esos resultados si la mantenemos o no._"
   ]
  },
  {
   "cell_type": "markdown",
   "metadata": {
    "slideshow": {
     "slide_type": "subslide"
    }
   },
   "source": [
    "$H_0$: Modelo 1 (Restringido)\n",
    "\n",
    "$H_a$: Modelo 2 (Con Ficticia)"
   ]
  },
  {
   "cell_type": "code",
   "execution_count": 63,
   "metadata": {
    "collapsed": false,
    "slideshow": {
     "slide_type": "subslide"
    }
   },
   "outputs": [
    {
     "data": {
      "text/plain": [
       "Likelihood ratio test\n",
       "\n",
       "Model 1: VAR(y = endog, p = lags2)\n",
       "Model 2: VAR(y = endog, p = lags2, exogen = exog)\n",
       "  #Df LogLik Df Chisq Pr(>Chisq)    \n",
       "1  30 814.81                        \n",
       "2  33 832.54  3 35.46  9.741e-08 ***\n",
       "---\n",
       "Signif. codes:  0 ‘***’ 0.001 ‘**’ 0.01 ‘*’ 0.05 ‘.’ 0.1 ‘ ’ 1\n"
      ]
     },
     "metadata": {},
     "output_type": "display_data"
    }
   ],
   "source": [
    "%%R\n",
    "lrtest(m0, m2)"
   ]
  },
  {
   "cell_type": "markdown",
   "metadata": {
    "slideshow": {
     "slide_type": "subslide"
    }
   },
   "source": [
    "El contraste LR nos da evidencia en contra de la hipótesis alternativa (variable ficticia no significativa), por tanto, rechazamos el modelo 1 sin ficticia y trabajaremos en adelante con el modelo 2."
   ]
  },
  {
   "cell_type": "markdown",
   "metadata": {
    "slideshow": {
     "slide_type": "slide"
    }
   },
   "source": [
    "# RESÚMEN MODELO 2"
   ]
  },
  {
   "cell_type": "markdown",
   "metadata": {
    "slideshow": {
     "slide_type": "subslide"
    }
   },
   "source": [
    "Resulta interesante que el modelo estimado tiene problemas de normalidad, y para el caso de Alemania, tiene sólo dos variable significativas.\n",
    "\n",
    "Los contrastes de causalidad en sentido de granger:\n",
    "\n",
    "### Alemania:\n",
    "- España e Inglaterra causa en sentido de granger.\n",
    "\n",
    "### España:\n",
    "- Inglaterra y Alemania causan en sentido granger.\n",
    "\n",
    "### Inglaterra:\n",
    "- España y Alemania no causan en sentido de granger."
   ]
  },
  {
   "cell_type": "markdown",
   "metadata": {
    "slideshow": {
     "slide_type": "subslide"
    }
   },
   "source": [
    "    Contraste sobre el VAR original:\n",
    "\n",
    "      Hipótesis nula: los parámetros de regresión son cero para las variables\n",
    "        d08\n",
    "      Contraste LR (razón de verosimilitudes): Chi-cuadrado(3) = 41,2448, con valor p = 5,80231e-09\n",
    "\n",
    "    Sistema VAR, orden del retardo 3\n",
    "    estimaciones de MCO, observaciones 1997:4-2014:3 (T = 68)\n",
    "    Log-verosimilitud = 753,17963\n",
    "    Determinante de la matriz de covarianzas = 4,807696e-14\n",
    "    AIC = -21,2700\n",
    "    BIC = -20,2908\n",
    "    HQC = -20,8820\n",
    "    Contraste Portmanteau: LB(17) = 203,195, gl = 126 [0,0000]\n",
    "\n",
    "    Ecuación 1: germany\n",
    "\n",
    "                  Coeficiente   Desv. Típica   Estadístico t   Valor p \n",
    "      -----------------------------------------------------------------\n",
    "      const        0,00327783    0,00235137       1,394        0,1686  \n",
    "      germany_1    0,840602      0,134378         6,256        5,15e-08 ***\n",
    "      germany_2   −0,0486518     0,176294        −0,2760       0,7836  \n",
    "      germany_3   −0,00771409    0,137423        −0,05613      0,9554  \n",
    "      spain_1      0,596470      0,195455         3,052        0,0034   ***\n",
    "      spain_2     −0,635130      0,264789        −2,399        0,0197   **\n",
    "      spain_3      0,243166      0,184474         1,318        0,1926  \n",
    "      uk_1         0,672601      0,221678         3,034        0,0036   ***\n",
    "      uk_2        −0,748377      0,382582        −1,956        0,0553   *\n",
    "      uk_3         0,0636203     0,250850         0,2536       0,8007  \n",
    "\n",
    "    Media de la vble. dep.  0,012848   D.T. de la vble. dep.   0,024031\n",
    "    Suma de cuad. residuos  0,004734   D.T. de la regresión    0,009035\n",
    "    R-cuadrado              0,877638   R-cuadrado corregido    0,858651\n",
    "    F(9, 58)                46,22275   Valor p (de F)          3,28e-23\n",
    "    rho                    −0,023140   Durbin-Watson           2,019450\n",
    "\n",
    "    Contrastes F de restricciones cero:\n",
    "\n",
    "    Todos los retardos de germany      F(3, 58) =   32,832 [0,0000]\n",
    "    Todos los retardos de spain        F(3, 58) =   3,2071 [0,0296]\n",
    "    Todos los retardos de uk           F(3, 58) =   4,1124 [0,0103]\n",
    "    Todas las variables, retardo 3     F(3, 58) =  0,71711 [0,5458]\n",
    "\n",
    "    Ecuación 2: spain\n",
    "\n",
    "                 Coeficiente   Desv. Típica  Estadístico t  Valor p \n",
    "      --------------------------------------------------------------\n",
    "      const       0,00121224    0,00153768      0,7884      0,4337  \n",
    "      germany_1  −0,0196898     0,0878763      −0,2241      0,8235  \n",
    "      germany_2  −0,0332798     0,115287       −0,2887      0,7739  \n",
    "      germany_3  −0,148135      0,0898674      −1,648       0,1047  \n",
    "      spain_1     0,871071      0,127817        6,815       5,99e-09 ***\n",
    "      spain_2    −0,120276      0,173159       −0,6946      0,4901  \n",
    "      spain_3    −0,000566028   0,120637       −0,004692    0,9963  \n",
    "      uk_1        0,377382      0,144966        2,603       0,0117   **\n",
    "      uk_2       −0,0152370     0,250189       −0,06090     0,9516  \n",
    "      uk_3       −0,299781      0,164043       −1,827       0,0728   *\n",
    "\n",
    "    Media de la vble. dep. −0,001423   D.T. de la vble. dep.   0,020576\n",
    "    Suma de cuad. residuos  0,002025   D.T. de la regresión    0,005908\n",
    "    R-cuadrado              0,928627   R-cuadrado corregido    0,917552\n",
    "    F(9, 58)                83,84777   Valor p (de F)          6,45e-30\n",
    "    rho                     0,099362   Durbin-Watson           1,707778\n",
    "\n",
    "    Contrastes F de restricciones cero:\n",
    "\n",
    "    Todos los retardos de germany      F(3, 58) =   4,0820 [0,0107]\n",
    "    Todos los retardos de spain        F(3, 58) =   44,642 [0,0000]\n",
    "    Todos los retardos de uk           F(3, 58) =   6,6470 [0,0006]\n",
    "    Todas las variables, retardo 3     F(3, 58) =   3,5139 [0,0206]\n",
    "\n",
    "    Ecuación 3: uk\n",
    "\n",
    "                  Coeficiente   Desv. Típica   Estadístico t   Valor p \n",
    "      -----------------------------------------------------------------\n",
    "      const        0,00414163    0,00152504       2,716        0,0087   ***\n",
    "      germany_1   −0,109889      0,0871540       −1,261        0,2124  \n",
    "      germany_2   −0,0161926     0,114340        −0,1416       0,8879  \n",
    "      germany_3    0,0413171     0,0891287        0,4636       0,6447  \n",
    "      spain_1      0,138002      0,126767         1,089        0,2808  \n",
    "      spain_2     −0,154176      0,171735        −0,8978       0,3730  \n",
    "      spain_3      0,139691      0,119645         1,168        0,2478  \n",
    "      uk_1         1,61335       0,143775        11,22         3,65e-16 ***\n",
    "      uk_2        −0,756154      0,248133        −3,047        0,0035   ***\n",
    "      uk_3         0,00252780    0,162695         0,01554      0,9877  \n",
    "\n",
    "    Media de la vble. dep.  0,020217   D.T. de la vble. dep.   0,020722\n",
    "    Suma de cuad. residuos  0,001992   D.T. de la regresión    0,005860\n",
    "    R-cuadrado              0,930777   R-cuadrado corregido    0,920035\n",
    "    F(9, 58)                86,65188   Valor p (de F)          2,68e-30\n",
    "    rho                    −0,030340   Durbin-Watson           1,999696\n",
    "\n",
    "    Contrastes F de restricciones cero:\n",
    "\n",
    "    Todos los retardos de germany      F(3, 58) =   1,2323 [0,3062]\n",
    "    Todos los retardos de spain        F(3, 58) =   1,0029 [0,3981]\n",
    "    Todos los retardos de uk           F(3, 58) =   105,47 [0,0000]\n",
    "    Todas las variables, retardo 3     F(3, 58) =  0,68411 [0,5654]\n",
    "\n",
    "    Para el sistema en conjunto:\n",
    "\n",
    "      Hipótesis nula: el retardo más largo es 2\n",
    "      Hipótesis alternativa: el retardo más largo es 3\n",
    "      Contraste de razón de verosimilitudes: Chi-cuadrado(9) = 19,2769 [0,0229]\n",
    "\n",
    "      Comparación de criterios de información:\n",
    "      Orden de retardos 3: AIC = -21,2700, BIC = -20,2908, HQC = -20,8820\n",
    "      Orden de retardos 2: AIC = -21,2512, BIC = -20,5658, HQC = -20,9796\n"
   ]
  },
  {
   "cell_type": "markdown",
   "metadata": {
    "slideshow": {
     "slide_type": "slide"
    }
   },
   "source": [
    "# CONTRASTES"
   ]
  },
  {
   "cell_type": "markdown",
   "metadata": {
    "slideshow": {
     "slide_type": "subslide"
    }
   },
   "source": [
    "## RESIDUOS MODELO 2"
   ]
  },
  {
   "cell_type": "markdown",
   "metadata": {
    "slideshow": {
     "slide_type": "fragment"
    }
   },
   "source": [
    "![](res2.png)"
   ]
  },
  {
   "cell_type": "markdown",
   "metadata": {
    "slideshow": {
     "slide_type": "subslide"
    }
   },
   "source": [
    "### Homocedasticidad\n",
    "\n",
    "$H_0$: Homocedasticidad\n",
    "\n",
    "No hay evidencia para rechazar la hipótesis nula de homocedasticidad."
   ]
  },
  {
   "cell_type": "code",
   "execution_count": 64,
   "metadata": {
    "collapsed": false,
    "slideshow": {
     "slide_type": "fragment"
    }
   },
   "outputs": [
    {
     "data": {
      "text/plain": [
       "\n",
       "\tARCH (multivariate)\n",
       "\n",
       "data:  Residuals of VAR object x\n",
       "Chi-squared = 176.72, df = 180, p-value = 0.5551\n",
       "\n"
      ]
     },
     "metadata": {},
     "output_type": "display_data"
    }
   ],
   "source": [
    "%%R\n",
    "arch(m2)"
   ]
  },
  {
   "cell_type": "markdown",
   "metadata": {
    "slideshow": {
     "slide_type": "subslide"
    }
   },
   "source": [
    "### Autocorrleación\n",
    "\n",
    "$H_0$: No Autocorrelación\n",
    "\n",
    "Hay evidencia en contra de la hipótesis nula, se rechaza la hipótesis de no autocorrelación."
   ]
  },
  {
   "cell_type": "code",
   "execution_count": 65,
   "metadata": {
    "collapsed": false,
    "slideshow": {
     "slide_type": "fragment"
    }
   },
   "outputs": [
    {
     "data": {
      "text/plain": [
       "\n",
       "\tBreusch-Godfrey LM test\n",
       "\n",
       "data:  Residuals of VAR object x\n",
       "Chi-squared = 78.679, df = 45, p-value = 0.001402\n",
       "\n"
      ]
     },
     "metadata": {},
     "output_type": "display_data"
    }
   ],
   "source": [
    "%%R\n",
    "serial(m2, lags.pt = 16, type = 'BG')"
   ]
  },
  {
   "cell_type": "markdown",
   "metadata": {
    "slideshow": {
     "slide_type": "subslide"
    }
   },
   "source": [
    "### Normalidad\n",
    "\n",
    "$H_0$: La muestra proviene de una distribución normal\n",
    "\n",
    "Según el JB, no se puede rechazar la hipóstesis nula."
   ]
  },
  {
   "cell_type": "code",
   "execution_count": 66,
   "metadata": {
    "collapsed": false,
    "slideshow": {
     "slide_type": "fragment"
    }
   },
   "outputs": [
    {
     "data": {
      "text/plain": [
       "$JB\n",
       "\n",
       "\tJB-Test (multivariate)\n",
       "\n",
       "data:  Residuals of VAR object m2\n",
       "Chi-squared = 7.0553, df = 6, p-value = 0.3158\n",
       "\n",
       "\n",
       "$Skewness\n",
       "\n",
       "\tSkewness only (multivariate)\n",
       "\n",
       "data:  Residuals of VAR object m2\n",
       "Chi-squared = 2.0722, df = 3, p-value = 0.5576\n",
       "\n",
       "\n",
       "$Kurtosis\n",
       "\n",
       "\tKurtosis only (multivariate)\n",
       "\n",
       "data:  Residuals of VAR object m2\n",
       "Chi-squared = 4.9831, df = 3, p-value = 0.173\n",
       "\n",
       "\n"
      ]
     },
     "metadata": {},
     "output_type": "display_data"
    }
   ],
   "source": [
    "%%R\n",
    "normality.test(m2)"
   ]
  },
  {
   "cell_type": "markdown",
   "metadata": {
    "slideshow": {
     "slide_type": "subslide"
    }
   },
   "source": [
    "### Estabilidad\n",
    "$H_0$: Estabilidad\n",
    "\n",
    "Dado que la serie se mantiene entre las bandas no se puede rechazar la hipótesis nula de estabilidad de los parámetros."
   ]
  },
  {
   "cell_type": "code",
   "execution_count": 67,
   "metadata": {
    "collapsed": false,
    "slideshow": {
     "slide_type": "fragment"
    }
   },
   "outputs": [
    {
     "data": {
      "image/png": "[encoded data removed]"
     },
     "metadata": {},
     "output_type": "display_data"
    }
   ],
   "source": [
    "%%R\n",
    "plot(stability(m2, type = \"OLS-CUSUM\"))"
   ]
  },
  {
   "cell_type": "markdown",
   "metadata": {
    "slideshow": {
     "slide_type": "slide"
    }
   },
   "source": [
    "### RESÚMEN\n",
    "\n",
    "|                 |modelo 1| modelo 2|\n",
    "|:---------------:|:------:|:-------:|\n",
    "|LAGS             |2       |3        |\n",
    "|ARCH             |     ✔  |  ✔      |\n",
    "|BP               |   ✘    |    ✘    |\n",
    "|JB               |    ✔   |  ✔      |\n",
    "|OLS-CUSUM        |    ✔   |  ✔      |\n",
    "|$\\bar{R}^2_{Ale}$| 0.8497 | 0,858651|\n",
    "|$\\bar{R}^2_{Esp}$| 0.8778 | 0,917552|\n",
    "|$\\bar{R}^2_{Ing}$| 0.9149 | 0,920035|\n",
    "\n"
   ]
  },
  {
   "cell_type": "markdown",
   "metadata": {
    "slideshow": {
     "slide_type": "slide"
    }
   },
   "source": [
    "<div style=\"font-family:serif;\">\n",
    "<div style=\"font-size:300%;\">\n",
    "<h1 style=\"text-align:center;\">APARTADO B\n",
    "</h1></div></div>"
   ]
  },
  {
   "cell_type": "markdown",
   "metadata": {
    "slideshow": {
     "slide_type": "skip"
    }
   },
   "source": [
    "# b\n",
    "Una vez determinado el modelo más adecuado, realizaremos __predicciones dinámicas__ para cada una de las variables endógenas. Para ello, tras indicarle que deje los últimos 20 valores para representar antes del periodo de predicción. Gretl nos ofrecerá una tabla con los valores reales y predichos, los errores y algunas medidas para evaluar y comparar las predicciones. La mejor __medida para comparar__ suele ser el __“porcentaje de error absoluto medio” (EAPM)__, con el que podemos comparar el error medio que comete cada una de las tres ecuaciones."
   ]
  },
  {
   "cell_type": "markdown",
   "metadata": {
    "slideshow": {
     "slide_type": "skip"
    }
   },
   "source": [
    "[⬆Caso2.3](#Caso-2.3-PRESENTAR)\t[⬆a](#a)\t\t[⬆b](#b)\t\t[⬆c](#c)\t\t"
   ]
  },
  {
   "cell_type": "markdown",
   "metadata": {
    "slideshow": {
     "slide_type": "slide"
    }
   },
   "source": [
    "# PORCENTAJE DE ERROR ABSOLUTO MEDIO"
   ]
  },
  {
   "cell_type": "markdown",
   "metadata": {
    "slideshow": {
     "slide_type": "fragment"
    }
   },
   "source": [
    "|País|EAPM|\n",
    "|:--:|:--:|\n",
    "|Alemania |36,4|\n",
    "|España | 24,78|\n",
    "|Reino Unido|32,18|"
   ]
  },
  {
   "cell_type": "markdown",
   "metadata": {
    "collapsed": false,
    "slideshow": {
     "slide_type": "subslide"
    }
   },
   "source": [
    "     Para intervalos de confianza 95%, t(58, .0,025) = 2,002\n",
    "\n",
    "                  germany    predicción  Desv. Típica     Intervalo de confianza 95% \n",
    "\n",
    "      2009:4     -0,029973    -0,030079\n",
    "      2010:1      0,023375     0,001228\n",
    "      2010:2      0,042704     0,049795\n",
    "      2010:3      0,044752     0,051770\n",
    "      2010:4      0,043569     0,043293\n",
    "      2011:1      0,054253     0,039076\n",
    "      2011:2      0,035935     0,042612\n",
    "      2011:3      0,032098     0,024112\n",
    "      2011:4      0,023977     0,028345\n",
    "      2012:1      0,009383     0,016342\n",
    "      2012:2      0,008216     0,004336\n",
    "      2012:3      0,005790     0,003488\n",
    "      2012:4      0,001180     0,005925\n",
    "      2013:1     -0,005392    -0,000658\n",
    "      2013:2      0,003067     0,003721\n",
    "      2013:3      0,005161     0,012866\n",
    "      2013:4      0,013296     0,010016\n",
    "      2014:1      0,023121     0,028767\n",
    "      2014:2      0,013519     0,024502\n",
    "      2014:3      0,011681     0,022216\n",
    "      2014:4      0,014551     0,015410     0,008344    -0,001293 - 0,032112\n",
    "      2015:1      0,010885     0,017560     0,013030    -0,008522 - 0,043643\n",
    "      2015:2      0,015828     0,021189     0,016334    -0,011508 - 0,053885\n",
    "      2015:3      0,017096     0,024705     0,018710    -0,012747 - 0,062156\n",
    "\n",
    "      Estadísticos de evaluación de la predicción\n",
    "\n",
    "      Error medio                          -0,0051258\n",
    "      Error cuadrático medio                3,2981e-05\n",
    "      Raíz del Error cuadrático medio       0,0057429\n",
    "      Error absoluto medio                  0,0051258\n",
    "      Porcentaje de error medio            -36,4\n",
    "      Porcentaje de error absoluto medio    36,4\n",
    "      U de Theil                            1,5741\n",
    "      Proporción de sesgo, UM               0,79665\n",
    "      Proporción de regresión, UR           0,11631\n",
    "      Proporción de perturbación, UD        0,087041\n"
   ]
  },
  {
   "cell_type": "markdown",
   "metadata": {
    "collapsed": false,
    "slideshow": {
     "slide_type": "subslide"
    }
   },
   "source": [
    "     Para intervalos de confianza 95%, t(58, .0,025) = 2,002\n",
    "\n",
    "                    spain    predicción  Desv. Típica     Intervalo de confianza 95% \n",
    "\n",
    "      2009:4     -0,016921    -0,011787\n",
    "      2010:1      0,022809     0,017665\n",
    "      2010:2      0,044701     0,046842\n",
    "      2010:3      0,043761     0,050298\n",
    "      2010:4      0,034866     0,033493\n",
    "      2011:1      0,008750     0,018900\n",
    "      2011:2     -0,009596    -0,002795\n",
    "      2011:3     -0,017054    -0,016471\n",
    "      2011:4     -0,022960    -0,021514\n",
    "      2012:1     -0,020190    -0,021201\n",
    "      2012:2     -0,016699    -0,019875\n",
    "      2012:3     -0,015057    -0,017499\n",
    "      2012:4     -0,014117    -0,011847\n",
    "      2013:1     -0,005319    -0,010143\n",
    "      2013:2      0,003484    -0,000865\n",
    "      2013:3      0,012231     0,009943\n",
    "      2013:4      0,028614     0,015429\n",
    "      2014:1      0,031464     0,027470\n",
    "      2014:2      0,033305     0,027156\n",
    "      2014:3      0,032141     0,026273\n",
    "      2014:4      0,024368     0,022941     0,005457     0,012018 - 0,033864\n",
    "      2015:1      0,021968     0,015953     0,007980    -0,000021 - 0,031928\n",
    "      2015:2      0,019515     0,012853     0,010649    -0,008463 - 0,034169\n",
    "      2015:3      0,016182     0,011045     0,012847    -0,014671 - 0,036761\n",
    "\n",
    "      Estadísticos de evaluación de la predicción\n",
    "\n",
    "      Error medio                           0,0048102\n",
    "      Error cuadrático medio                2,7247e-05\n",
    "      Raíz del Error cuadrático medio       0,0052199\n",
    "      Error absoluto medio                  0,0048102\n",
    "      Porcentaje de error medio             24,78\n",
    "      Porcentaje de error absoluto medio    24,78\n",
    "      U de Theil                            2,0804\n",
    "      Proporción de sesgo, UM               0,84921\n",
    "      Proporción de regresión, UR           0,1071\n",
    "      Proporción de perturbación, UD        0,043691\n"
   ]
  },
  {
   "cell_type": "markdown",
   "metadata": {
    "collapsed": false,
    "slideshow": {
     "slide_type": "subslide"
    }
   },
   "source": [
    "     Para intervalos de confianza 95%, t(58, .0,025) = 2,002\n",
    "\n",
    "                       uk    predicción  Desv. Típica     Intervalo de confianza 95% \n",
    "\n",
    "      2009:4     -0,012798    -0,015855\n",
    "      2010:1      0,006710     0,009863\n",
    "      2010:2      0,016763     0,019470\n",
    "      2010:3      0,020095     0,020060\n",
    "      2010:4      0,017516     0,021593\n",
    "      2011:1      0,021272     0,017809\n",
    "      2011:2      0,016668     0,022394\n",
    "      2011:3      0,019808     0,014162\n",
    "      2011:4      0,020382     0,022031\n",
    "      2012:1      0,015142     0,018539\n",
    "      2012:2      0,009963     0,011487\n",
    "      2012:3      0,011937     0,006354\n",
    "      2012:4      0,009864     0,013200\n",
    "      2013:1      0,014227     0,009211\n",
    "      2013:2      0,021934     0,019818\n",
    "      2013:3      0,021154     0,027924\n",
    "      2013:4      0,028065     0,021289\n",
    "      2014:1      0,027602     0,034612\n",
    "      2014:2      0,030974     0,026601\n",
    "      2014:3      0,028106     0,035745\n",
    "      2014:4      0,029223     0,029283     0,005412     0,018451 - 0,040116\n",
    "      2015:1      0,026784     0,031751     0,010371     0,010990 - 0,052512\n",
    "      2015:2      0,023991     0,034753     0,014263     0,006203 - 0,063304\n",
    "      2015:3      0,022300     0,036819     0,016873     0,003045 - 0,070593\n",
    "\n",
    "      Estadísticos de evaluación de la predicción\n",
    "\n",
    "      Error medio                          -0,0075772\n",
    "      Error cuadrático medio                8,7826e-05\n",
    "      Raíz del Error cuadrático medio       0,0093716\n",
    "      Error absoluto medio                  0,0075772\n",
    "      Porcentaje de error medio            -32,18\n",
    "      Porcentaje de error absoluto medio    32,18\n",
    "      U de Theil                            4,9399\n",
    "      Proporción de sesgo, UM               0,65372\n",
    "      Proporción de regresión, UR           0,34618\n",
    "      Proporción de perturbación, UD        0,00010315\n"
   ]
  },
  {
   "cell_type": "markdown",
   "metadata": {
    "slideshow": {
     "slide_type": "slide"
    }
   },
   "source": [
    "<div style=\"font-family:serif;\">\n",
    "<div style=\"font-size:200%;\">\n",
    "<h1 style=\"text-align:center;\">APARTADO C\n",
    "</h1></div></div>"
   ]
  },
  {
   "cell_type": "markdown",
   "metadata": {
    "slideshow": {
     "slide_type": "skip"
    }
   },
   "source": [
    "# c\n",
    "_Por último, realizaremos un estudio __“impulso-respuesta”__ con el VAR estimado, esto es, cómo responden las variables endógenas ante un shock en alguna de ellas; para ello se __descompone la varianza de los errores__ de predicción de las variables a lo largo de diferentes periodos. Una vez que tenemos modelo VAR con las variables que hayamos seleccionado, iremos a la opción __Gráficos-Respuestas al impulso (todas)__ y nos dibujará los efectos impulso-respuesta para un shock de cada variable sobre las demás._\n",
    "\n",
    "_Algo a tener en cuenta es que cuando se calculan los impulso-respuesta ortogonalizados se “normalizan” respecto de la primera variable que seleccionemos, la cual debe ser la que pensemos ejerce mayor influencia sobre las demás, es decir, tenemos que ordenarlas de mayor a menor exogeneidad según creamos. ¿Qué país produce mayores respuestas de los demás ante un shock inicial?_"
   ]
  },
  {
   "cell_type": "markdown",
   "metadata": {
    "slideshow": {
     "slide_type": "skip"
    }
   },
   "source": [
    "[⬆Caso2.3](#Caso-2.3-PRESENTAR)\t[⬆a](#a)\t\t[⬆b](#b)\t\t[⬆c](#c)\t\t"
   ]
  },
  {
   "cell_type": "markdown",
   "metadata": {
    "slideshow": {
     "slide_type": "fragment"
    }
   },
   "source": [
    "## IMPULSO RESPUESTA"
   ]
  },
  {
   "cell_type": "markdown",
   "metadata": {
    "collapsed": true,
    "slideshow": {
     "slide_type": "subslide"
    }
   },
   "source": [
    "## Orden:\n",
    "\n",
    "1. Alemania\n",
    "2. España\n",
    "3. Inglaterra\n",
    "\n",
    "En el gráfico se puede ver, que la respuesta del PIB de España en Alemania es mayor que la de Alemania en España.\n",
    "\n",
    "El efecto de Inglaterra en Alemania es similar al de Alemania sobre Inglaterra pero este último menos intenso.\n",
    "\n",
    "El efecto de España en Inglaterra es menor que la inversa.\n",
    "\n",
    "### Conclusión\n",
    "Para el caso elegido no parece haber un país que produzca mayores respuestas en los demás."
   ]
  },
  {
   "cell_type": "markdown",
   "metadata": {
    "slideshow": {
     "slide_type": "subslide"
    }
   },
   "source": [
    "\n",
    "![](irp.png)"
   ]
  }
 ],
 "metadata": {
  "celltoolbar": "Slideshow",
  "kernelspec": {
   "display_name": "Python 3",
   "language": "python",
   "name": "python3"
  },
  "language_info": {
   "codemirror_mode": {
    "name": "ipython",
    "version": 3
   },
   "file_extension": ".py",
   "mimetype": "text/x-python",
   "name": "python",
   "nbconvert_exporter": "python",
   "pygments_lexer": "ipython3",
   "version": "3.5.0"
  }
 },
 "nbformat": 4,
 "nbformat_minor": 0
}
