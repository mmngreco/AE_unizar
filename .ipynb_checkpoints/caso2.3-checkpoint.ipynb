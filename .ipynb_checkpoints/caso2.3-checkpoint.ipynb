{
 "cells": [
  {
   "cell_type": "code",
   "execution_count": 1,
   "metadata": {
    "collapsed": true,
    "slideshow": {
     "slide_type": "skip"
    }
   },
   "outputs": [],
   "source": [
    "import warnings\n",
    "warnings.filterwarnings('ignore')"
   ]
  },
  {
   "cell_type": "code",
   "execution_count": 2,
   "metadata": {
    "collapsed": true,
    "slideshow": {
     "slide_type": "skip"
    }
   },
   "outputs": [],
   "source": [
    "%matplotlib inline"
   ]
  },
  {
   "cell_type": "code",
   "execution_count": 3,
   "metadata": {
    "collapsed": false,
    "slideshow": {
     "slide_type": "skip"
    }
   },
   "outputs": [
    {
     "data": {
      "text/plain": [
       "'%.3f'"
      ]
     },
     "execution_count": 3,
     "metadata": {},
     "output_type": "execute_result"
    }
   ],
   "source": [
    "%precision 3"
   ]
  },
  {
   "cell_type": "code",
   "execution_count": 4,
   "metadata": {
    "collapsed": false,
    "slideshow": {
     "slide_type": "skip"
    }
   },
   "outputs": [],
   "source": [
    "%load_ext rpy2.ipython"
   ]
  },
  {
   "cell_type": "code",
   "execution_count": 5,
   "metadata": {
    "collapsed": true,
    "slideshow": {
     "slide_type": "skip"
    }
   },
   "outputs": [],
   "source": [
    "from scipy.stats import chi2, norm"
   ]
  },
  {
   "cell_type": "code",
   "execution_count": 6,
   "metadata": {
    "collapsed": true,
    "slideshow": {
     "slide_type": "skip"
    }
   },
   "outputs": [],
   "source": [
    "from IPython.display import Markdown"
   ]
  },
  {
   "cell_type": "code",
   "execution_count": 7,
   "metadata": {
    "collapsed": false,
    "slideshow": {
     "slide_type": "skip"
    }
   },
   "outputs": [],
   "source": [
    "import statsmodels.stats.diagnostic as smsdia\n",
    "import statsmodels.stats.outliers_influence as oi\n",
    "from statsmodels.formula.api import ols\n",
    "from statsmodels.graphics.tsaplots import plot_acf, plot_pacf\n",
    "import statsmodels.api as sm\n",
    "import statsmodels.stats as sms\n",
    "from statsmodels.tsa.api import VARMAX, VAR\n",
    "from statsmodels.tsa.stattools import adfuller"
   ]
  },
  {
   "cell_type": "code",
   "execution_count": 8,
   "metadata": {
    "collapsed": false,
    "slideshow": {
     "slide_type": "skip"
    }
   },
   "outputs": [],
   "source": [
    "import pandas as pd\n",
    "import numpy as np\n",
    "import seaborn as sns\n",
    "import matplotlib.pyplot as plt"
   ]
  },
  {
   "cell_type": "code",
   "execution_count": 9,
   "metadata": {
    "collapsed": false,
    "slideshow": {
     "slide_type": "skip"
    }
   },
   "outputs": [],
   "source": [
    "sns.set(style='ticks', palette='Set2')"
   ]
  },
  {
   "cell_type": "markdown",
   "metadata": {
    "slideshow": {
     "slide_type": "slide"
    }
   },
   "source": [
    "![Imgur](http://i.imgur.com/7FF9A5Bl.jpg)"
   ]
  },
  {
   "cell_type": "markdown",
   "metadata": {
    "slideshow": {
     "slide_type": "slide"
    }
   },
   "source": [
    "# Caso 2.3\n",
    "\n",
    "_Estudio de las __relaciones__ entre los __PIB__ de varios países entre sí. Identificación de países dominantes y países seguidores._\n",
    "\n",
    "_En este ejercicio se trata de estimar un __modelo multiecuacional__ en el que se analizan las relaciones entre el __crecimiento del PIB__ de tres países cualquiera extraídos de alguna base de datos (Ministerio de Economía, Banco de España, INE, etc.). _\n",
    "\n",
    "_Una vez tengamos los datos __(preferiblemente trimestrales)__ del PIB a __precios constantes__, tendremos que calcular la __tasa de crecimiento anual__ para cada país y luego estimaremos un __modelo VAR sin restricciones__, Se trata de ver si algún país de los seleccionados actúa como líder y si el resto de países actúan como seguidores._"
   ]
  },
  {
   "cell_type": "markdown",
   "metadata": {
    "slideshow": {
     "slide_type": "skip"
    }
   },
   "source": [
    "[⬆Caso2.3](#Caso-2.3-PRESENTAR)\t[⬆a](#a)\t\t[⬆b](#b)\t\t[⬆c](#c)\t\t"
   ]
  },
  {
   "cell_type": "markdown",
   "metadata": {
    "slideshow": {
     "slide_type": "subslide"
    }
   },
   "source": [
    "## DATOS\n",
    "- Nombre: Chain GDP (millons euros)\n",
    "- Fuente: EUROSTAT\n",
    "- Enlace: http://ec.europa.eu/eurostat/web/national-accounts/data/database"
   ]
  },
  {
   "cell_type": "code",
   "execution_count": 10,
   "metadata": {
    "collapsed": true,
    "slideshow": {
     "slide_type": "skip"
    }
   },
   "outputs": [],
   "source": [
    "data = pd.read_csv('eu_gdp_q.csv', index_col=0, parse_dates=True)"
   ]
  },
  {
   "cell_type": "code",
   "execution_count": 11,
   "metadata": {
    "collapsed": false,
    "slideshow": {
     "slide_type": "skip"
    }
   },
   "outputs": [
    {
     "name": "stdout",
     "output_type": "stream",
     "text": [
      "0 European Union (28 countries)\n",
      "1 European Union (15 countries)\n",
      "2 Euro area (EA11-2000, EA12-2006, EA13-2007, EA15-2008, EA16-2010, EA17-2013, EA18-2014, EA19)\n",
      "3 Euro area (19 countries)\n",
      "4 Euro area (18 countries)\n",
      "5 Euro area (12 countries)\n",
      "6 Belgium\n",
      "7 Bulgaria\n",
      "8 Czech Republic\n",
      "9 Denmark\n",
      "10 Germany (until 1990 former territory of the FRG)\n",
      "11 Estonia\n",
      "12 Ireland\n",
      "13 Greece\n",
      "14 Spain\n",
      "15 France\n",
      "16 Croatia\n",
      "17 Italy\n",
      "18 Cyprus\n",
      "19 Latvia\n",
      "20 Lithuania\n",
      "21 Luxembourg\n",
      "22 Hungary\n",
      "23 Malta\n",
      "24 Netherlands\n",
      "25 Austria\n",
      "26 Poland\n",
      "27 Portugal\n",
      "28 Romania\n",
      "29 Slovenia\n",
      "30 Slovakia\n",
      "31 Finland\n",
      "32 Sweden\n",
      "33 United Kingdom\n",
      "34 Iceland\n",
      "35 Norway\n",
      "36 Switzerland\n",
      "37 Former Yugoslav Republic of Macedonia, the\n",
      "38 Albania\n",
      "39 Serbia\n"
     ]
    }
   ],
   "source": [
    "for i,e in enumerate(data.GEO.unique()):\n",
    "    print(i,e)"
   ]
  },
  {
   "cell_type": "code",
   "execution_count": 12,
   "metadata": {
    "collapsed": true,
    "slideshow": {
     "slide_type": "skip"
    }
   },
   "outputs": [],
   "source": [
    "index_paises = [10, 14, 33]"
   ]
  },
  {
   "cell_type": "code",
   "execution_count": 13,
   "metadata": {
    "collapsed": false,
    "slideshow": {
     "slide_type": "skip"
    }
   },
   "outputs": [],
   "source": [
    "paises = data.GEO.unique()[index_paises]"
   ]
  },
  {
   "cell_type": "code",
   "execution_count": 14,
   "metadata": {
    "collapsed": false,
    "slideshow": {
     "slide_type": "skip"
    }
   },
   "outputs": [],
   "source": [
    "d = dict()\n",
    "for p in paises:\n",
    "    d[p] = data[data.GEO == p].Value"
   ]
  },
  {
   "cell_type": "code",
   "execution_count": 15,
   "metadata": {
    "collapsed": false,
    "slideshow": {
     "slide_type": "skip"
    }
   },
   "outputs": [],
   "source": [
    "pib = pd.DataFrame.from_dict(d)"
   ]
  },
  {
   "cell_type": "code",
   "execution_count": 16,
   "metadata": {
    "collapsed": false,
    "slideshow": {
     "slide_type": "skip"
    }
   },
   "outputs": [],
   "source": [
    "pib.columns = ['germany', 'spain', 'uk']"
   ]
  },
  {
   "cell_type": "markdown",
   "metadata": {
    "slideshow": {
     "slide_type": "skip"
    }
   },
   "source": [
    "# VALORES PERDIDOS"
   ]
  },
  {
   "cell_type": "code",
   "execution_count": 17,
   "metadata": {
    "collapsed": true,
    "slideshow": {
     "slide_type": "skip"
    }
   },
   "outputs": [],
   "source": [
    "pib.replace(to_replace=':', value=np.nan, inplace=True)"
   ]
  },
  {
   "cell_type": "code",
   "execution_count": 18,
   "metadata": {
    "collapsed": false,
    "slideshow": {
     "slide_type": "skip"
    }
   },
   "outputs": [
    {
     "data": {
      "text/html": [
       "<div>\n",
       "<table border=\"1\" class=\"dataframe\">\n",
       "  <thead>\n",
       "    <tr style=\"text-align: right;\">\n",
       "      <th></th>\n",
       "      <th>germany</th>\n",
       "      <th>spain</th>\n",
       "      <th>uk</th>\n",
       "    </tr>\n",
       "    <tr>\n",
       "      <th>TIME</th>\n",
       "      <th></th>\n",
       "      <th></th>\n",
       "      <th></th>\n",
       "    </tr>\n",
       "  </thead>\n",
       "  <tbody>\n",
       "    <tr>\n",
       "      <th>1975-01-01</th>\n",
       "      <td>NaN</td>\n",
       "      <td>NaN</td>\n",
       "      <td>206 522.0</td>\n",
       "    </tr>\n",
       "    <tr>\n",
       "      <th>1975-04-01</th>\n",
       "      <td>NaN</td>\n",
       "      <td>NaN</td>\n",
       "      <td>202 980.6</td>\n",
       "    </tr>\n",
       "    <tr>\n",
       "      <th>1975-07-01</th>\n",
       "      <td>NaN</td>\n",
       "      <td>NaN</td>\n",
       "      <td>202 336.9</td>\n",
       "    </tr>\n",
       "    <tr>\n",
       "      <th>1975-10-01</th>\n",
       "      <td>NaN</td>\n",
       "      <td>NaN</td>\n",
       "      <td>204 823.2</td>\n",
       "    </tr>\n",
       "    <tr>\n",
       "      <th>1976-01-01</th>\n",
       "      <td>NaN</td>\n",
       "      <td>NaN</td>\n",
       "      <td>208 175.8</td>\n",
       "    </tr>\n",
       "  </tbody>\n",
       "</table>\n",
       "</div>"
      ],
      "text/plain": [
       "           germany spain         uk\n",
       "TIME                               \n",
       "1975-01-01     NaN   NaN  206 522.0\n",
       "1975-04-01     NaN   NaN  202 980.6\n",
       "1975-07-01     NaN   NaN  202 336.9\n",
       "1975-10-01     NaN   NaN  204 823.2\n",
       "1976-01-01     NaN   NaN  208 175.8"
      ]
     },
     "execution_count": 18,
     "metadata": {},
     "output_type": "execute_result"
    }
   ],
   "source": [
    "pib.head()"
   ]
  },
  {
   "cell_type": "code",
   "execution_count": 19,
   "metadata": {
    "collapsed": false,
    "slideshow": {
     "slide_type": "subslide"
    }
   },
   "outputs": [
    {
     "data": {
      "text/html": [
       "<div>\n",
       "<table border=\"1\" class=\"dataframe\">\n",
       "  <thead>\n",
       "    <tr style=\"text-align: right;\">\n",
       "      <th></th>\n",
       "      <th>germany</th>\n",
       "      <th>spain</th>\n",
       "      <th>uk</th>\n",
       "    </tr>\n",
       "    <tr>\n",
       "      <th>TIME</th>\n",
       "      <th></th>\n",
       "      <th></th>\n",
       "      <th></th>\n",
       "    </tr>\n",
       "  </thead>\n",
       "  <tbody>\n",
       "    <tr>\n",
       "      <th>1995-01-01</th>\n",
       "      <td>532282.4</td>\n",
       "      <td>175965</td>\n",
       "      <td>327356.5</td>\n",
       "    </tr>\n",
       "    <tr>\n",
       "      <th>1995-04-01</th>\n",
       "      <td>536668.6</td>\n",
       "      <td>177181</td>\n",
       "      <td>328610.3</td>\n",
       "    </tr>\n",
       "    <tr>\n",
       "      <th>1995-07-01</th>\n",
       "      <td>538410.2</td>\n",
       "      <td>178027</td>\n",
       "      <td>332094.4</td>\n",
       "    </tr>\n",
       "    <tr>\n",
       "      <th>1995-10-01</th>\n",
       "      <td>538152.2</td>\n",
       "      <td>179278</td>\n",
       "      <td>333514.5</td>\n",
       "    </tr>\n",
       "    <tr>\n",
       "      <th>1996-01-01</th>\n",
       "      <td>533089.0</td>\n",
       "      <td>180436</td>\n",
       "      <td>337196.3</td>\n",
       "    </tr>\n",
       "  </tbody>\n",
       "</table>\n",
       "</div>"
      ],
      "text/plain": [
       "             germany   spain        uk\n",
       "TIME                                  \n",
       "1995-01-01  532282.4  175965  327356.5\n",
       "1995-04-01  536668.6  177181  328610.3\n",
       "1995-07-01  538410.2  178027  332094.4\n",
       "1995-10-01  538152.2  179278  333514.5\n",
       "1996-01-01  533089.0  180436  337196.3"
      ]
     },
     "execution_count": 19,
     "metadata": {},
     "output_type": "execute_result"
    }
   ],
   "source": [
    "pib = pib.dropna()\n",
    "pib = pib.applymap(lambda x: x.replace(' ', ''))\n",
    "pib = pib.astype('float')\n",
    "pib.head()"
   ]
  },
  {
   "cell_type": "code",
   "execution_count": 20,
   "metadata": {
    "collapsed": false,
    "slideshow": {
     "slide_type": "subslide"
    }
   },
   "outputs": [
    {
     "data": {
      "text/html": [
       "<div>\n",
       "<table border=\"1\" class=\"dataframe\">\n",
       "  <thead>\n",
       "    <tr style=\"text-align: right;\">\n",
       "      <th></th>\n",
       "      <th>germany</th>\n",
       "      <th>spain</th>\n",
       "      <th>uk</th>\n",
       "    </tr>\n",
       "    <tr>\n",
       "      <th>TIME</th>\n",
       "      <th></th>\n",
       "      <th></th>\n",
       "      <th></th>\n",
       "    </tr>\n",
       "  </thead>\n",
       "  <tbody>\n",
       "    <tr>\n",
       "      <th>2014-07-01</th>\n",
       "      <td>684570.6</td>\n",
       "      <td>260281</td>\n",
       "      <td>493645.2</td>\n",
       "    </tr>\n",
       "    <tr>\n",
       "      <th>2014-10-01</th>\n",
       "      <td>688763.3</td>\n",
       "      <td>262050</td>\n",
       "      <td>497349.5</td>\n",
       "    </tr>\n",
       "    <tr>\n",
       "      <th>2015-01-01</th>\n",
       "      <td>691149.9</td>\n",
       "      <td>264331</td>\n",
       "      <td>499176.3</td>\n",
       "    </tr>\n",
       "    <tr>\n",
       "      <th>2015-04-01</th>\n",
       "      <td>694181.5</td>\n",
       "      <td>266942</td>\n",
       "      <td>502436.8</td>\n",
       "    </tr>\n",
       "    <tr>\n",
       "      <th>2015-07-01</th>\n",
       "      <td>696374.6</td>\n",
       "      <td>269039</td>\n",
       "      <td>504777.1</td>\n",
       "    </tr>\n",
       "  </tbody>\n",
       "</table>\n",
       "</div>"
      ],
      "text/plain": [
       "             germany   spain        uk\n",
       "TIME                                  \n",
       "2014-07-01  684570.6  260281  493645.2\n",
       "2014-10-01  688763.3  262050  497349.5\n",
       "2015-01-01  691149.9  264331  499176.3\n",
       "2015-04-01  694181.5  266942  502436.8\n",
       "2015-07-01  696374.6  269039  504777.1"
      ]
     },
     "execution_count": 20,
     "metadata": {},
     "output_type": "execute_result"
    }
   ],
   "source": [
    "pib.tail()"
   ]
  },
  {
   "cell_type": "code",
   "execution_count": 21,
   "metadata": {
    "collapsed": false,
    "slideshow": {
     "slide_type": "fragment"
    }
   },
   "outputs": [
    {
     "data": {
      "text/plain": [
       "83"
      ]
     },
     "execution_count": 21,
     "metadata": {},
     "output_type": "execute_result"
    }
   ],
   "source": [
    "len(pib)"
   ]
  },
  {
   "cell_type": "code",
   "execution_count": 22,
   "metadata": {
    "collapsed": true
   },
   "outputs": [],
   "source": [
    "lpib = np.log(pib).copy()"
   ]
  },
  {
   "cell_type": "markdown",
   "metadata": {
    "slideshow": {
     "slide_type": "slide"
    }
   },
   "source": [
    "# ANÁLISIS UNIVARIANTE"
   ]
  },
  {
   "cell_type": "code",
   "execution_count": 23,
   "metadata": {
    "collapsed": false,
    "slideshow": {
     "slide_type": "subslide"
    }
   },
   "outputs": [
    {
     "data": {
      "image/png": "[encoded data removed]"
     },
     "metadata": {},
     "output_type": "display_data"
    }
   ],
   "source": [
    "%%R -i lpib\n",
    "library(forecast)\n",
    "plot(ts(lpib))"
   ]
  },
  {
   "cell_type": "code",
   "execution_count": 24,
   "metadata": {
    "collapsed": false,
    "slideshow": {
     "slide_type": "subslide"
    }
   },
   "outputs": [
    {
     "data": {
      "text/plain": [
       "[1] 1\n",
       "[1] 0\n",
       "[1] 1\n"
      ]
     },
     "metadata": {},
     "output_type": "display_data"
    }
   ],
   "source": [
    "%%R\n",
    "\n",
    "print(ndiffs(lpib$germany, test = 'kpss', m=4))\n",
    "print(ndiffs(lpib$germany, test = 'adf', m=4))\n",
    "print(ndiffs(lpib$germany, test = 'pp', m=4))"
   ]
  },
  {
   "cell_type": "code",
   "execution_count": 25,
   "metadata": {
    "collapsed": false,
    "slideshow": {
     "slide_type": "subslide"
    }
   },
   "outputs": [
    {
     "data": {
      "text/plain": [
       "[1] 2\n",
       "[1] 2\n",
       "[1] 2\n"
      ]
     },
     "metadata": {},
     "output_type": "display_data"
    }
   ],
   "source": [
    "%%R\n",
    "\n",
    "print(ndiffs(lpib$spain, test = 'kpss', m=4))\n",
    "print(ndiffs(lpib$spain, test = 'adf', m=4))\n",
    "print(ndiffs(lpib$spain, test = 'pp', m=4))"
   ]
  },
  {
   "cell_type": "code",
   "execution_count": 26,
   "metadata": {
    "collapsed": false,
    "slideshow": {
     "slide_type": "subslide"
    }
   },
   "outputs": [
    {
     "data": {
      "text/plain": [
       "[1] 1\n",
       "[1] 2\n",
       "[1] 1\n"
      ]
     },
     "metadata": {},
     "output_type": "display_data"
    }
   ],
   "source": [
    "%%R\n",
    "\n",
    "print(ndiffs(lpib$uk, test = 'kpss', m=4))\n",
    "print(ndiffs(lpib$uk, test = 'adf', m=4))\n",
    "print(ndiffs(lpib$uk, test = 'pp', m=4))"
   ]
  },
  {
   "cell_type": "markdown",
   "metadata": {
    "slideshow": {
     "slide_type": "slide"
    }
   },
   "source": [
    "## TENDENCIA"
   ]
  },
  {
   "cell_type": "code",
   "execution_count": 27,
   "metadata": {
    "collapsed": false,
    "slideshow": {
     "slide_type": "subslide"
    }
   },
   "outputs": [
    {
     "data": {
      "image/png": "[encoded data removed]",
      "text/plain": [
       "<matplotlib.figure.Figure at 0x111a119e8>"
      ]
     },
     "metadata": {},
     "output_type": "display_data"
    }
   ],
   "source": [
    "kws_sp = {'subplots':False, 'layout':(3,1), 'figsize':(7,6), 'cmap':'Set2'}\n",
    "titles = [c.upper() for c in pib.columns]\n",
    "g = lpib.plot(**kws_sp, sharey=True)\n",
    "plt.legend(loc=0, fontsize=15)\n",
    "\n",
    "sns.despine()\n",
    "plt.title('SERIES: Log-PIB', fontsize=15)\n",
    "plt.tight_layout()"
   ]
  },
  {
   "cell_type": "markdown",
   "metadata": {
    "slideshow": {
     "slide_type": "subslide"
    }
   },
   "source": [
    "Del gráfico podemos ver que las series __no son estacionarias__, puesto que tienen tendencia __determinista__ y probablemente __ruptura estructural__ en 2008 (comprar con el test de chow). \n",
    "\n",
    "Sin embargo faltaría comprobar si las series tienen tendencia estocástica, mediante el correlograma y el contraste de Dickey-Fuller."
   ]
  },
  {
   "cell_type": "code",
   "execution_count": 28,
   "metadata": {
    "collapsed": false,
    "slideshow": {
     "slide_type": "subslide"
    }
   },
   "outputs": [
    {
     "data": {
      "image/png": "[encoded data removed]",
      "text/plain": [
       "<matplotlib.figure.Figure at 0x116ab5438>"
      ]
     },
     "metadata": {},
     "output_type": "display_data"
    }
   ],
   "source": [
    "fig, axs = plt.subplots(2,3)\n",
    "for i, pais in enumerate(lpib.columns):\n",
    "    plot_acf(lpib[pais], axs[0][i])\n",
    "    plot_pacf(lpib[pais], axs[1][i])\n",
    "    axs[0][i].text(x=0,y=1.5,s=pais.upper(), fontsize=12)\n",
    "\n",
    "fig.set_figheight(5)\n",
    "fig.set_figwidth(15)\n",
    "sns.despine(bottom=True)\n",
    "plt.tight_layout()"
   ]
  },
  {
   "cell_type": "markdown",
   "metadata": {
    "slideshow": {
     "slide_type": "subslide"
    }
   },
   "source": [
    "El correlograma de la serie nos da pistas sobre la tendencia estocástica, vemos que hay un aplanamiento de la función de autocorrelación propio de las series con tendencia estocástica pero lo comprabamos con la prueba de reíz unitaria."
   ]
  },
  {
   "cell_type": "code",
   "execution_count": 29,
   "metadata": {
    "collapsed": true,
    "slideshow": {
     "slide_type": "skip"
    }
   },
   "outputs": [],
   "source": [
    "txt = '## CONTRASTE DICKEY FULLER\\n'\n",
    "txt += '### SERIE: Log-PIB CON CONSTANTE Y TENDENCIA\\n'\n",
    "txt += '$H_0$: $y_{it} \\sim I(1)$\\n\\n'\n",
    "txt += '$H_a$: $y_{it} \\sim I(0)$\\n\\n'\n",
    "txt += '|Pais|ADF|pvalue|\\n'\n",
    "txt += '|:---:|:---:|:---:|\\n'\n",
    "for pais in pib.columns:\n",
    "    d = lpib\n",
    "    txt += '|%s|%.3f |%.3f\\n' % (pais.upper(), \n",
    "                                              *adfuller(d[pais], autolag='bic', regression='ct')[:2])"
   ]
  },
  {
   "cell_type": "code",
   "execution_count": 30,
   "metadata": {
    "collapsed": false,
    "slideshow": {
     "slide_type": "subslide"
    }
   },
   "outputs": [
    {
     "data": {
      "text/markdown": [
       "## CONTRASTE DICKEY FULLER\n",
       "### SERIE: Log-PIB CON CONSTANTE Y TENDENCIA\n",
       "$H_0$: $y_{it} \\sim I(1)$\n",
       "\n",
       "$H_a$: $y_{it} \\sim I(0)$\n",
       "\n",
       "|Pais|ADF|pvalue|\n",
       "|:---:|:---:|:---:|\n",
       "|GERMANY|-3.177 |0.089\n",
       "|SPAIN|-2.232 |0.472\n",
       "|UK|-1.968 |0.619\n"
      ],
      "text/plain": [
       "<IPython.core.display.Markdown object>"
      ]
     },
     "execution_count": 30,
     "metadata": {},
     "output_type": "execute_result"
    }
   ],
   "source": [
    "Markdown(txt)"
   ]
  },
  {
   "cell_type": "markdown",
   "metadata": {
    "slideshow": {
     "slide_type": "subslide"
    }
   },
   "source": [
    "El contraste de Dickey Fuller no rechaza que las series sean integradas de orden 1 para un nivel de significación del 5%, por tanto las series son al menos I(1). El siguiente paso es diferencia las variables una vez y volver a aplicar el contraste."
   ]
  },
  {
   "cell_type": "markdown",
   "metadata": {
    "slideshow": {
     "slide_type": "skip"
    }
   },
   "source": [
    "### PRIMERA DIFERENCIA DEL Log-PIB (Interanual, 1 periodo)"
   ]
  },
  {
   "cell_type": "code",
   "execution_count": 31,
   "metadata": {
    "collapsed": false,
    "slideshow": {
     "slide_type": "subslide"
    }
   },
   "outputs": [
    {
     "data": {
      "image/png": "[encoded data removed]",
      "text/plain": [
       "<matplotlib.figure.Figure at 0x116b42978>"
      ]
     },
     "metadata": {},
     "output_type": "display_data"
    }
   ],
   "source": [
    "kws = {'figsize':(8,5), 'cmap':'Set2'}\n",
    "\n",
    "dlpib = lpib.diff(periods=1).dropna()\n",
    "\n",
    "g = dlpib.plot(**kws)\n",
    "sns.despine()\n",
    "plt.axhline(y=0, linewidth=2, linestyle='--', color='black', alpha=0.6)\n",
    "plt.suptitle('PRIMERA DIFERENCIA', fontsize=15)\n",
    "plt.legend(loc=0, fontsize=15)\n",
    "plt.tight_layout()"
   ]
  },
  {
   "cell_type": "code",
   "execution_count": 32,
   "metadata": {
    "collapsed": false,
    "slideshow": {
     "slide_type": "subslide"
    }
   },
   "outputs": [
    {
     "data": {
      "image/png": "[encoded data removed]",
      "text/plain": [
       "<matplotlib.figure.Figure at 0x116c96940>"
      ]
     },
     "metadata": {},
     "output_type": "display_data"
    }
   ],
   "source": [
    "fig, axs = plt.subplots(2,3)\n",
    "\n",
    "for i, pais in enumerate(pib.columns):\n",
    "    plot_acf(dlpib[pais], axs[0][i])\n",
    "    plot_pacf(dlpib[pais], axs[1][i])\n",
    "    axs[0][i].text(x=0,y=1.5,s=pais.upper(), fontsize=12)\n",
    "\n",
    "fig.set_figheight(5)\n",
    "fig.set_figwidth(15)\n",
    "sns.despine(bottom=True)\n",
    "plt.tight_layout()"
   ]
  },
  {
   "cell_type": "markdown",
   "metadata": {
    "slideshow": {
     "slide_type": "subslide"
    }
   },
   "source": [
    "En este caso, las funciones de autocorrelación de las primeras diferencias muestran que para el caso de Alemania y Reino Unido, un correlograma parecido a una caminata aleatoria. Sin embargo para el caso de España, aun persiste ese lento aplanamiento de la FAC, que comentabamos antes, por lo que parece que para este último caso aún no es I(0)."
   ]
  },
  {
   "cell_type": "code",
   "execution_count": 33,
   "metadata": {
    "collapsed": true,
    "slideshow": {
     "slide_type": "skip"
    }
   },
   "outputs": [],
   "source": [
    "txt = '## CONTRASTE DICKEY FULLER\\n'\n",
    "txt += '### SERIE: dLog-PIB CON CONSTANTE\\n'\n",
    "txt += '$H_0$: $\\Delta y_{it} \\sim I(1)$\\n\\n'\n",
    "txt += '$H_a$: $\\Delta y_{it} \\sim I(0)$\\n\\n'\n",
    "txt += '|Pais|ADF|pvalue|\\n'\n",
    "txt += '|:---:|:---:|:---:|\\n'\n",
    "\n",
    "for pais in pib.columns:\n",
    "    d = dlpib\n",
    "    txt += '|%s|%.3f |%.3f\\n' % (pais.upper(), *adfuller(d[pais], autolag='bic', regression='c')[:2])"
   ]
  },
  {
   "cell_type": "code",
   "execution_count": 34,
   "metadata": {
    "collapsed": false,
    "slideshow": {
     "slide_type": "subslide"
    }
   },
   "outputs": [
    {
     "data": {
      "text/markdown": [
       "## CONTRASTE DICKEY FULLER\n",
       "### SERIE: dLog-PIB CON CONSTANTE\n",
       "$H_0$: $\\Delta y_{it} \\sim I(1)$\n",
       "\n",
       "$H_a$: $\\Delta y_{it} \\sim I(0)$\n",
       "\n",
       "|Pais|ADF|pvalue|\n",
       "|:---:|:---:|:---:|\n",
       "|GERMANY|-6.184 |0.000\n",
       "|SPAIN|-1.478 |0.544\n",
       "|UK|-4.049 |0.001\n"
      ],
      "text/plain": [
       "<IPython.core.display.Markdown object>"
      ]
     },
     "execution_count": 34,
     "metadata": {},
     "output_type": "execute_result"
    }
   ],
   "source": [
    "Markdown(txt)"
   ]
  },
  {
   "cell_type": "markdown",
   "metadata": {
    "slideshow": {
     "slide_type": "subslide"
    }
   },
   "source": [
    "El contraste de raíz unitaria nos da evidencia en contra de la hipótesis nula para Alemania y Reino Unido, encambio no se rechaza para España, por tanto las series en primeras diferencias son I(0) excepto para España que es al menos I(2).\n",
    "\n",
    "Por tanto a modo de resúmen, las series originales no son estacionarias, tienen tendencia determinista y estocástica. Existe sospecha de ruptura estructural que habrá que comprobar para un correcto análisis. Dado que las series para el caso de Alemania y Reino Unido tienen el mismo orden de integración cabe la posibilidad de que estén cointegradas y esto requiere un tratamiento distinto del propuesto en este ejercicio, por tanto dado que el caso de España no se puede dar cointegración continuamos sin hacer el análisis apropiado.\n",
    "\n",
    "Dado que para estimar el modelo VAR es necesario que las series sean integradas, necesitamos hallar el orden de integración de la serie para España."
   ]
  },
  {
   "cell_type": "code",
   "execution_count": 35,
   "metadata": {
    "collapsed": true,
    "slideshow": {
     "slide_type": "skip"
    }
   },
   "outputs": [],
   "source": [
    "dlpib_spa = dlpib.spain\n",
    "ddlpib_spa = dlpib_spa.diff(periods=1).dropna()"
   ]
  },
  {
   "cell_type": "code",
   "execution_count": 36,
   "metadata": {
    "collapsed": false,
    "slideshow": {
     "slide_type": "subslide"
    }
   },
   "outputs": [
    {
     "data": {
      "text/plain": [
       "<matplotlib.text.Text at 0x117319940>"
      ]
     },
     "execution_count": 36,
     "metadata": {},
     "output_type": "execute_result"
    },
    {
     "data": {
      "image/png": "[encoded data removed]",
      "text/plain": [
       "<matplotlib.figure.Figure at 0x117319e48>"
      ]
     },
     "metadata": {},
     "output_type": "display_data"
    }
   ],
   "source": [
    "ddlpib_spa.plot()\n",
    "sns.despine()\n",
    "plt.axhline(y=0, linestyle='--', linewidth=2, alpha=0.7, color='black')\n",
    "\n",
    "plt.suptitle('SEGUNDA DIFERENCIA: Log-PIB ESPAÑA', fontsize=15)"
   ]
  },
  {
   "cell_type": "code",
   "execution_count": 37,
   "metadata": {
    "collapsed": false,
    "slideshow": {
     "slide_type": "subslide"
    }
   },
   "outputs": [
    {
     "data": {
      "image/png": "[encoded data removed]",
      "text/plain": [
       "<matplotlib.figure.Figure at 0x1175304e0>"
      ]
     },
     "metadata": {},
     "output_type": "display_data"
    }
   ],
   "source": [
    "fig, axs = plt.subplots(2,1)\n",
    "ax1, ax2 = axs\n",
    "_ = plot_acf(ddlpib_spa, ax=ax1)\n",
    "_ = plot_pacf(ddlpib_spa, ax=ax2)\n",
    "sns.despine(bottom=True)\n",
    "fig.set_figheight(4)\n",
    "fig.set_figwidth(5)\n",
    "plt.tight_layout()"
   ]
  },
  {
   "cell_type": "markdown",
   "metadata": {
    "slideshow": {
     "slide_type": "subslide"
    }
   },
   "source": [
    "El correlograma de las segundas diferencias muestra un correlograma próximo a un ruido blanco. Lo comprobamos con el contraste de Dickey-Fuller."
   ]
  },
  {
   "cell_type": "code",
   "execution_count": 38,
   "metadata": {
    "collapsed": true,
    "slideshow": {
     "slide_type": "skip"
    }
   },
   "outputs": [],
   "source": [
    "txt = '## CONTRASTE DICKEY FULLER\\n'\n",
    "txt += '### SERIE: PIB\\n'\n",
    "txt += '$H_0$: $\\Delta^2y_{it} \\sim I(1)$\\n\\n'\n",
    "txt += '$H_a$: $\\Delta^2y_{it} \\sim I(0)$\\n\\n'\n",
    "txt += '|Pais|ADF|pvalue|\\n'\n",
    "txt += '|:---:|:---:|:---:|\\n'\n",
    "pais = dlpib.columns[1]\n",
    "d = ddlpib_spa\n",
    "txt += '|%s|%.3f |%.3f\\n' % (pais.upper(), *adfuller(d, autolag='bic', regression='nc')[:2])"
   ]
  },
  {
   "cell_type": "code",
   "execution_count": 39,
   "metadata": {
    "collapsed": false,
    "slideshow": {
     "slide_type": "subslide"
    }
   },
   "outputs": [
    {
     "data": {
      "text/markdown": [
       "## CONTRASTE DICKEY FULLER\n",
       "### SERIE: PIB\n",
       "$H_0$: $\\Delta^2y_{it} \\sim I(1)$\n",
       "\n",
       "$H_a$: $\\Delta^2y_{it} \\sim I(0)$\n",
       "\n",
       "|Pais|ADF|pvalue|\n",
       "|:---:|:---:|:---:|\n",
       "|SPAIN|-5.618 |0.000\n"
      ],
      "text/plain": [
       "<IPython.core.display.Markdown object>"
      ]
     },
     "execution_count": 39,
     "metadata": {},
     "output_type": "execute_result"
    }
   ],
   "source": [
    "Markdown(txt)"
   ]
  },
  {
   "cell_type": "markdown",
   "metadata": {
    "slideshow": {
     "slide_type": "subslide"
    }
   },
   "source": [
    "Para segundas diferencias del PIB de España, la serie es I(0), lo que implica que la serie original para España es I(2)."
   ]
  },
  {
   "cell_type": "code",
   "execution_count": 40,
   "metadata": {
    "collapsed": true,
    "slideshow": {
     "slide_type": "skip"
    }
   },
   "outputs": [],
   "source": [
    "names = [p.upper() for p in pib.columns]\n",
    "d = ['$y_{1t} \\sim I(1)$', '$y_{2t} \\sim I(2)$', '$y_{3t} \\sim I(1)$']\n",
    "line = '\\n'\n",
    "txt = '### RESÚMEN' + line\n",
    "txt += '$Log(PIB_{it}) = y_{it}$' +line+line\n",
    "txt += '|Pais (i)|Orden de Integración|T. Determinista|'+line\n",
    "txt += '|:--:|:---:|:---:|'+line\n",
    "txt += '|{names[0]}|{d[0]}|SI|'+line\n",
    "txt += '|{names[1]}|{d[1]}|SI|'+line\n",
    "txt += '|{names[2]}|{d[2]}|SI|'+line"
   ]
  },
  {
   "cell_type": "code",
   "execution_count": 41,
   "metadata": {
    "collapsed": false,
    "slideshow": {
     "slide_type": "subslide"
    }
   },
   "outputs": [
    {
     "data": {
      "text/markdown": [
       "### RESÚMEN\n",
       "$Log(PIB_{it}) = y_{it}$\n",
       "\n",
       "|Pais (i)|Orden de Integración|T. Determinista|\n",
       "|:--:|:---:|:---:|\n",
       "|GERMANY|$y_{1t} \\sim I(1)$|SI|\n",
       "|SPAIN|$y_{2t} \\sim I(2)$|SI|\n",
       "|UK|$y_{3t} \\sim I(1)$|SI|\n"
      ],
      "text/plain": [
       "<IPython.core.display.Markdown object>"
      ]
     },
     "execution_count": 41,
     "metadata": {},
     "output_type": "execute_result"
    }
   ],
   "source": [
    "Markdown(txt.format(names=names, d=d, it='{it}'))"
   ]
  },
  {
   "cell_type": "markdown",
   "metadata": {
    "slideshow": {
     "slide_type": "slide"
    }
   },
   "source": [
    "<div style=\"font-family:serif;\">\n",
    "<div style=\"font-size:300%;\">\n",
    "<h1 style=\"text-align:center;\">APARTADO A\n",
    "</h1></div></div>"
   ]
  },
  {
   "cell_type": "markdown",
   "metadata": {
    "slideshow": {
     "slide_type": "skip"
    }
   },
   "source": [
    "# a\n",
    "_Antes de estimar un VAR, tenemos que __seleccionar el número óptimo de retardos del VAR__, para ello hay que ir a la opción __Modelo-Series temporales-Selección del orden del VAR__, donde le indicamos nuestro conjunto de variables endógenas, exógenas (si las hubiera) y el máximo número de retardos del VAR. Acortaremos el periodo de manera que __dejaremos las 4 últimas observaciones para predecir__. _"
   ]
  },
  {
   "cell_type": "markdown",
   "metadata": {
    "slideshow": {
     "slide_type": "skip"
    }
   },
   "source": [
    "[⬆Caso2.3](#Caso-2.3-PRESENTAR)\t[⬆a](#a)\t\t[⬆b](#b)\t\t[⬆c](#c)\t\t"
   ]
  },
  {
   "cell_type": "code",
   "execution_count": 42,
   "metadata": {
    "collapsed": true,
    "slideshow": {
     "slide_type": "skip"
    }
   },
   "outputs": [],
   "source": [
    "data = dlpib.copy()\n",
    "data['spain'] = ddlpib_spa"
   ]
  },
  {
   "cell_type": "code",
   "execution_count": 43,
   "metadata": {
    "collapsed": false,
    "slideshow": {
     "slide_type": "skip"
    }
   },
   "outputs": [],
   "source": [
    "data_bkp = data.copy()\n",
    "data = data_bkp.iloc[:-4].dropna()"
   ]
  },
  {
   "cell_type": "code",
   "execution_count": 44,
   "metadata": {
    "collapsed": false,
    "slideshow": {
     "slide_type": "skip"
    }
   },
   "outputs": [
    {
     "data": {
      "text/html": [
       "<div>\n",
       "<table border=\"1\" class=\"dataframe\">\n",
       "  <thead>\n",
       "    <tr style=\"text-align: right;\">\n",
       "      <th></th>\n",
       "      <th>germany</th>\n",
       "      <th>spain</th>\n",
       "      <th>uk</th>\n",
       "    </tr>\n",
       "    <tr>\n",
       "      <th>TIME</th>\n",
       "      <th></th>\n",
       "      <th></th>\n",
       "      <th></th>\n",
       "    </tr>\n",
       "  </thead>\n",
       "  <tbody>\n",
       "    <tr>\n",
       "      <th>1995-07-01</th>\n",
       "      <td>0.003240</td>\n",
       "      <td>-0.002123</td>\n",
       "      <td>0.010547</td>\n",
       "    </tr>\n",
       "    <tr>\n",
       "      <th>1995-10-01</th>\n",
       "      <td>-0.000479</td>\n",
       "      <td>0.002239</td>\n",
       "      <td>0.004267</td>\n",
       "    </tr>\n",
       "    <tr>\n",
       "      <th>1996-01-01</th>\n",
       "      <td>-0.009453</td>\n",
       "      <td>-0.000564</td>\n",
       "      <td>0.010979</td>\n",
       "    </tr>\n",
       "    <tr>\n",
       "      <th>1996-04-01</th>\n",
       "      <td>0.013460</td>\n",
       "      <td>-0.000102</td>\n",
       "      <td>0.003017</td>\n",
       "    </tr>\n",
       "    <tr>\n",
       "      <th>1996-07-01</th>\n",
       "      <td>0.006426</td>\n",
       "      <td>0.003353</td>\n",
       "      <td>0.004663</td>\n",
       "    </tr>\n",
       "  </tbody>\n",
       "</table>\n",
       "</div>"
      ],
      "text/plain": [
       "             germany     spain        uk\n",
       "TIME                                    \n",
       "1995-07-01  0.003240 -0.002123  0.010547\n",
       "1995-10-01 -0.000479  0.002239  0.004267\n",
       "1996-01-01 -0.009453 -0.000564  0.010979\n",
       "1996-04-01  0.013460 -0.000102  0.003017\n",
       "1996-07-01  0.006426  0.003353  0.004663"
      ]
     },
     "execution_count": 44,
     "metadata": {},
     "output_type": "execute_result"
    }
   ],
   "source": [
    "data.head()"
   ]
  },
  {
   "cell_type": "code",
   "execution_count": 45,
   "metadata": {
    "collapsed": false,
    "slideshow": {
     "slide_type": "skip"
    }
   },
   "outputs": [
    {
     "data": {
      "text/html": [
       "<div>\n",
       "<table border=\"1\" class=\"dataframe\">\n",
       "  <thead>\n",
       "    <tr style=\"text-align: right;\">\n",
       "      <th></th>\n",
       "      <th>germany</th>\n",
       "      <th>spain</th>\n",
       "      <th>uk</th>\n",
       "    </tr>\n",
       "    <tr>\n",
       "      <th>TIME</th>\n",
       "      <th></th>\n",
       "      <th></th>\n",
       "      <th></th>\n",
       "    </tr>\n",
       "  </thead>\n",
       "  <tbody>\n",
       "    <tr>\n",
       "      <th>2013-07-01</th>\n",
       "      <td>0.003725</td>\n",
       "      <td>0.003128</td>\n",
       "      <td>0.009206</td>\n",
       "    </tr>\n",
       "    <tr>\n",
       "      <th>2013-10-01</th>\n",
       "      <td>0.003236</td>\n",
       "      <td>0.001884</td>\n",
       "      <td>0.006359</td>\n",
       "    </tr>\n",
       "    <tr>\n",
       "      <th>2014-01-01</th>\n",
       "      <td>0.007125</td>\n",
       "      <td>0.001183</td>\n",
       "      <td>0.006106</td>\n",
       "    </tr>\n",
       "    <tr>\n",
       "      <th>2014-04-01</th>\n",
       "      <td>-0.000566</td>\n",
       "      <td>0.001209</td>\n",
       "      <td>0.009303</td>\n",
       "    </tr>\n",
       "    <tr>\n",
       "      <th>2014-07-01</th>\n",
       "      <td>0.001886</td>\n",
       "      <td>0.001003</td>\n",
       "      <td>0.006338</td>\n",
       "    </tr>\n",
       "  </tbody>\n",
       "</table>\n",
       "</div>"
      ],
      "text/plain": [
       "             germany     spain        uk\n",
       "TIME                                    \n",
       "2013-07-01  0.003725  0.003128  0.009206\n",
       "2013-10-01  0.003236  0.001884  0.006359\n",
       "2014-01-01  0.007125  0.001183  0.006106\n",
       "2014-04-01 -0.000566  0.001209  0.009303\n",
       "2014-07-01  0.001886  0.001003  0.006338"
      ]
     },
     "execution_count": 45,
     "metadata": {},
     "output_type": "execute_result"
    }
   ],
   "source": [
    "data.tail()"
   ]
  },
  {
   "cell_type": "code",
   "execution_count": 46,
   "metadata": {
    "collapsed": true,
    "slideshow": {
     "slide_type": "skip"
    }
   },
   "outputs": [],
   "source": [
    "endog = data.copy()"
   ]
  },
  {
   "cell_type": "markdown",
   "metadata": {
    "slideshow": {
     "slide_type": "skip"
    }
   },
   "source": [
    "_Tras decirle a Gretl que estime hasta con __un máximo de 12 retardos__, se nos presentará una pantalla resumen de resultados donde se nos muestran para cada orden del VAR los estadísticos AIC, SBIC y Hannan-Quinn, seleccionaremos el número de retardos mayor que cero que __minimice esos criterios__._"
   ]
  },
  {
   "cell_type": "code",
   "execution_count": 47,
   "metadata": {
    "collapsed": false,
    "slideshow": {
     "slide_type": "skip"
    }
   },
   "outputs": [],
   "source": [
    "m1 = VAR(endog=endog)"
   ]
  },
  {
   "cell_type": "code",
   "execution_count": 48,
   "metadata": {
    "collapsed": false,
    "slideshow": {
     "slide_type": "subslide"
    }
   },
   "outputs": [
    {
     "name": "stdout",
     "output_type": "stream",
     "text": [
      "                 VAR Order Selection                  \n",
      "======================================================\n",
      "            aic          bic          fpe         hqic\n",
      "------------------------------------------------------\n",
      "0        -31.63       -31.53    1.840e-14       -31.59\n",
      "1        -32.36      -31.96*    8.796e-15       -32.21\n",
      "2        -32.27       -31.57    9.706e-15       -31.99\n",
      "3        -32.71       -31.70    6.299e-15      -32.31*\n",
      "4        -32.79       -31.48   5.869e-15*       -32.27\n",
      "5        -32.72       -31.12    6.332e-15       -32.09\n",
      "6        -32.61       -30.70    7.282e-15       -31.85\n",
      "7        -32.54       -30.33    8.059e-15       -31.66\n",
      "8        -32.73       -30.22    6.894e-15       -31.74\n",
      "9        -32.67       -29.86    7.766e-15       -31.56\n",
      "10       -32.79       -29.68    7.369e-15       -31.57\n",
      "11      -32.80*       -29.39    8.020e-15       -31.46\n",
      "12       -32.76       -29.04    9.443e-15       -31.29\n",
      "======================================================\n",
      "* Minimum\n",
      "\n"
     ]
    },
    {
     "data": {
      "text/plain": [
       "{'aic': 11, 'bic': 1, 'fpe': 4, 'hqic': 3}"
      ]
     },
     "execution_count": 48,
     "metadata": {},
     "output_type": "execute_result"
    }
   ],
   "source": [
    "m1.select_order(12)"
   ]
  },
  {
   "cell_type": "markdown",
   "metadata": {
    "slideshow": {
     "slide_type": "subslide"
    }
   },
   "source": [
    "_Ahora que ya hemos seleccionado el número de retardos, volvemos a estimar el sistema en el menú Modelo-Series temporales-Autorregresión vectorial (VAR), donde tras indicar las opciones adecuadas, se nos mostrarán los resultados de la estimación de cada una de las ecuaciones del sistema, tres en nuestro caso. Analizaremos si existe algún __problema residual__ en alguna ecuación mirando los test de autocorrelación __LM(1), ARCH(1) y normalidad__, analizando además los __gráficos residuales. ___"
   ]
  },
  {
   "cell_type": "code",
   "execution_count": 49,
   "metadata": {
    "collapsed": false,
    "slideshow": {
     "slide_type": "skip"
    }
   },
   "outputs": [],
   "source": [
    "lags = 3\n",
    "r1 = m1.fit(lags)"
   ]
  },
  {
   "cell_type": "code",
   "execution_count": 51,
   "metadata": {
    "collapsed": false,
    "slideshow": {
     "slide_type": "skip"
    }
   },
   "outputs": [],
   "source": [
    "%%R -i endog -i lags\n",
    "require(vars)\n",
    "\n",
    "endog = ts(endog, start = c(1995, 3), end = c(2014,3), frequency = 4)\n",
    "m1 <- VAR(y = endog, p = lags)"
   ]
  },
  {
   "cell_type": "markdown",
   "metadata": {},
   "source": [
    "# MODELO 1"
   ]
  },
  {
   "cell_type": "markdown",
   "metadata": {
    "collapsed": false,
    "slideshow": {
     "slide_type": "subslide"
    }
   },
   "source": [
    "\n",
    "\n",
    "    VAR Estimation Results:\n",
    "    ========================= \n",
    "    Endogenous variables: germany, spain, uk \n",
    "    Deterministic variables: const \n",
    "    Sample size: 74 \n",
    "    Log Likelihood: 927.855 \n",
    "    Roots of the characteristic polynomial:\n",
    "    0.8487 0.8487 0.8356 0.8356 0.5354 0.5354 0.5093 0.4858 0.4858\n",
    "    Call:\n",
    "    VAR(y = endog, p = lags)"
   ]
  },
  {
   "cell_type": "markdown",
   "metadata": {
    "collapsed": false,
    "slideshow": {
     "slide_type": "subslide"
    }
   },
   "source": [
    "    Estimation results for equation germany: \n",
    "    ======================================== \n",
    "    germany = germany.l1 + spain.l1 + uk.l1 + germany.l2 + spain.l2 + uk.l2 + germany.l3 + spain.l3 + uk.l3 + const \n",
    "\n",
    "                Estimate Std. Error t value Pr(>|t|)   \n",
    "    germany.l1  0.044196   0.123036   0.359  0.72062   \n",
    "    spain.l1    0.988420   0.327615   3.017  0.00366 **\n",
    "    uk.l1       0.455034   0.224997   2.022  0.04732 * \n",
    "    germany.l2  0.002901   0.124807   0.023  0.98153   \n",
    "    spain.l2    0.505234   0.349942   1.444  0.15368   \n",
    "    uk.l2       0.063410   0.245657   0.258  0.79714   \n",
    "    germany.l3  0.189053   0.123944   1.525  0.13211   \n",
    "    spain.l3    0.345234   0.320470   1.077  0.28540   \n",
    "    uk.l3      -0.252272   0.217730  -1.159  0.25091   \n",
    "    const       0.001299   0.001312   0.990  0.32585   \n",
    "    ---\n",
    "    Signif. codes:  0 ‘***’ 0.001 ‘**’ 0.01 ‘*’ 0.05 ‘.’ 0.1 ‘ ’ 1\n",
    "\n",
    "\n",
    "    Residual standard error: 0.007195 on 64 degrees of freedom\n",
    "    Multiple R-Squared: 0.4047,\tAdjusted R-squared: 0.3209 \n",
    "    F-statistic: 4.834 on 9 and 64 DF,  p-value: 6.193e-05 "
   ]
  },
  {
   "cell_type": "markdown",
   "metadata": {
    "collapsed": false,
    "slideshow": {
     "slide_type": "subslide"
    }
   },
   "source": [
    "    Estimation results for equation spain: \n",
    "    ====================================== \n",
    "    spain = germany.l1 + spain.l1 + uk.l1 + germany.l2 + spain.l2 + uk.l2 + germany.l3 + spain.l3 + uk.l3 + const \n",
    "\n",
    "                 Estimate Std. Error t value Pr(>|t|)    \n",
    "    germany.l1 -0.0583548  0.0390070  -1.496  0.13957    \n",
    "    spain.l1   -0.2924037  0.1038657  -2.815  0.00647 ** \n",
    "    uk.l1       0.1499681  0.0713322   2.102  0.03946 *  \n",
    "    germany.l2 -0.1054027  0.0395683  -2.664  0.00976 ** \n",
    "    spain.l2   -0.0010978  0.1109442  -0.010  0.99214    \n",
    "    uk.l2       0.1283207  0.0778823   1.648  0.10433    \n",
    "    germany.l3 -0.0247390  0.0392948  -0.630  0.53121    \n",
    "    spain.l3    0.4811352  0.1016007   4.736 1.25e-05 ***\n",
    "    uk.l3      -0.2998073  0.0690285  -4.343 5.11e-05 ***\n",
    "    const       0.0007382  0.0004158   1.775  0.08059 .  \n",
    "    ---\n",
    "    Signif. codes:  0 ‘***’ 0.001 ‘**’ 0.01 ‘*’ 0.05 ‘.’ 0.1 ‘ ’ 1\n",
    "\n",
    "\n",
    "    Residual standard error: 0.002281 on 64 degrees of freedom\n",
    "    Multiple R-Squared: 0.5339,\tAdjusted R-squared: 0.4684 \n",
    "    F-statistic: 8.145 on 9 and 64 DF,  p-value: 6.074e-08 "
   ]
  },
  {
   "cell_type": "markdown",
   "metadata": {
    "collapsed": false,
    "slideshow": {
     "slide_type": "subslide"
    }
   },
   "source": [
    "    Estimation results for equation uk: \n",
    "    =================================== \n",
    "    uk = germany.l1 + spain.l1 + uk.l1 + germany.l2 + spain.l2 + uk.l2 + germany.l3 + spain.l3 + uk.l3 + const \n",
    "\n",
    "                 Estimate Std. Error t value Pr(>|t|)    \n",
    "    germany.l1 -0.1164214  0.0753700  -1.545  0.12736    \n",
    "    spain.l1    0.4757584  0.2006913   2.371  0.02078 *  \n",
    "    uk.l1       0.5868056  0.1378294   4.257  6.9e-05 ***\n",
    "    germany.l2  0.0142141  0.0764546   0.186  0.85310    \n",
    "    spain.l2    0.1447941  0.2143685   0.675  0.50183    \n",
    "    uk.l2       0.2538018  0.1504856   1.687  0.09656 .  \n",
    "    germany.l3  0.0408690  0.0759262   0.538  0.59226    \n",
    "    spain.l3    0.1497523  0.1963147   0.763  0.44837    \n",
    "    uk.l3      -0.2762432  0.1333781  -2.071  0.04238 *  \n",
    "    const       0.0024482  0.0008034   3.047  0.00335 ** \n",
    "    ---\n",
    "    Signif. codes:  0 ‘***’ 0.001 ‘**’ 0.01 ‘*’ 0.05 ‘.’ 0.1 ‘ ’ 1\n",
    "\n",
    "\n",
    "    Residual standard error: 0.004407 on 64 degrees of freedom\n",
    "    Multiple R-Squared: 0.5575,\tAdjusted R-squared: 0.4953 \n",
    "    F-statistic: 8.961 on 9 and 64 DF,  p-value: 1.325e-08 "
   ]
  },
  {
   "cell_type": "markdown",
   "metadata": {
    "collapsed": false,
    "slideshow": {
     "slide_type": "subslide"
    }
   },
   "source": [
    "    Covariance matrix of residuals:\n",
    "              germany     spain        uk\n",
    "    germany 5.177e-05 1.735e-06 7.953e-06\n",
    "    spain   1.735e-06 5.203e-06 4.341e-06\n",
    "    uk      7.953e-06 4.341e-06 1.943e-05\n",
    "\n",
    "    Correlation matrix of residuals:\n",
    "            germany  spain     uk\n",
    "    germany  1.0000 0.1057 0.2508\n",
    "    spain    0.1057 1.0000 0.4318\n",
    "    uk       0.2508 0.4318 1.0000\n"
   ]
  },
  {
   "cell_type": "markdown",
   "metadata": {
    "slideshow": {
     "slide_type": "slide"
    }
   },
   "source": [
    "# CONTRASTES"
   ]
  },
  {
   "cell_type": "code",
   "execution_count": 104,
   "metadata": {
    "collapsed": false,
    "slideshow": {
     "slide_type": "subslide"
    }
   },
   "outputs": [
    {
     "data": {
      "text/plain": [
       "<matplotlib.text.Text at 0x11b37d7f0>"
      ]
     },
     "execution_count": 104,
     "metadata": {},
     "output_type": "execute_result"
    },
    {
     "data": {
      "image/png": "[encoded data removed]",
      "text/plain": [
       "<matplotlib.figure.Figure at 0x11b422ef0>"
      ]
     },
     "metadata": {},
     "output_type": "display_data"
    }
   ],
   "source": [
    "g = r1.resid.plot(marker='.', linewidth=0, subplots=True, cmap='Set2')\n",
    "sns.despine()\n",
    "for ax in g:\n",
    "    ax.legend(loc=1, fontsize=14)\n",
    "plt.suptitle('Residuos Modelo 1', fontsize=15)"
   ]
  },
  {
   "cell_type": "code",
   "execution_count": 50,
   "metadata": {
    "collapsed": false,
    "slideshow": {
     "slide_type": "fragment"
    }
   },
   "outputs": [
    {
     "data": {
      "text/plain": [
       "True"
      ]
     },
     "execution_count": 50,
     "metadata": {},
     "output_type": "execute_result"
    }
   ],
   "source": [
    "r1.is_stable()"
   ]
  },
  {
   "cell_type": "code",
   "execution_count": 52,
   "metadata": {
    "collapsed": false,
    "slideshow": {
     "slide_type": "subslide"
    }
   },
   "outputs": [
    {
     "data": {
      "text/plain": [
       "\n",
       "\tARCH (multivariate)\n",
       "\n",
       "data:  Residuals of VAR object x\n",
       "Chi-squared = 177.7, df = 180, p-value = 0.5345\n",
       "\n"
      ]
     },
     "metadata": {},
     "output_type": "display_data"
    }
   ],
   "source": [
    "%%R\n",
    "arch(m1)"
   ]
  },
  {
   "cell_type": "code",
   "execution_count": 53,
   "metadata": {
    "collapsed": false,
    "slideshow": {
     "slide_type": "subslide"
    }
   },
   "outputs": [
    {
     "data": {
      "text/plain": [
       "$JB\n",
       "\n",
       "\tJB-Test (multivariate)\n",
       "\n",
       "data:  Residuals of VAR object x\n",
       "Chi-squared = 42.444, df = 6, p-value = 1.503e-07\n",
       "\n",
       "\n",
       "$Skewness\n",
       "\n",
       "\tSkewness only (multivariate)\n",
       "\n",
       "data:  Residuals of VAR object x\n",
       "Chi-squared = 5.9645, df = 3, p-value = 0.1133\n",
       "\n",
       "\n",
       "$Kurtosis\n",
       "\n",
       "\tKurtosis only (multivariate)\n",
       "\n",
       "data:  Residuals of VAR object x\n",
       "Chi-squared = 36.479, df = 3, p-value = 5.931e-08\n",
       "\n",
       "\n"
      ]
     },
     "metadata": {},
     "output_type": "display_data"
    }
   ],
   "source": [
    "%%R\n",
    "normality(m1)"
   ]
  },
  {
   "cell_type": "code",
   "execution_count": 54,
   "metadata": {
    "collapsed": false,
    "slideshow": {
     "slide_type": "subslide"
    }
   },
   "outputs": [
    {
     "data": {
      "text/plain": [
       "\n",
       "\tBreusch-Godfrey LM test\n",
       "\n",
       "data:  Residuals of VAR object x\n",
       "Chi-squared = 74.423, df = 45, p-value = 0.003774\n",
       "\n"
      ]
     },
     "metadata": {},
     "output_type": "display_data"
    }
   ],
   "source": [
    "%%R\n",
    "serial(m1, lags.pt = 16, type = 'BG')"
   ]
  },
  {
   "cell_type": "code",
   "execution_count": 55,
   "metadata": {
    "collapsed": false,
    "slideshow": {
     "slide_type": "subslide"
    }
   },
   "outputs": [
    {
     "data": {
      "image/png": "[encoded data removed]"
     },
     "metadata": {},
     "output_type": "display_data"
    }
   ],
   "source": [
    "%%R\n",
    "plot(stability(m1, type = \"OLS-CUSUM\"))"
   ]
  },
  {
   "cell_type": "markdown",
   "metadata": {
    "slideshow": {
     "slide_type": "skip"
    }
   },
   "source": [
    "_Es posible que encontremos algún problema, por ejemplo, es posible que sea necesario incorporar una __variable ficticia__ que dé cuenta de la __crisis del precio del petróleo__ ocurrida en los años 70; a esta nueva variable la podemos llamar __D74__ y tomará valor 1 durante los cuatro trimestres de 1974 y valor 0 el resto. _"
   ]
  },
  {
   "cell_type": "markdown",
   "metadata": {
    "slideshow": {
     "slide_type": "slide"
    }
   },
   "source": [
    "## ESTIMAR EL MODELO 2\n",
    "\n",
    "Es el modelo 1 con D08 como variable exógena."
   ]
  },
  {
   "cell_type": "markdown",
   "metadata": {
    "slideshow": {
     "slide_type": "fragment"
    }
   },
   "source": [
    "Dado que la crisis del petróleo no entra en el período, y el objetivo es capturar un comportamiento atípico, vamos a introducir una variable ficticia que recoja el efecto de la crisis actual, que llamaremos D08 que tomará valor 1 entre 2008-2010."
   ]
  },
  {
   "cell_type": "code",
   "execution_count": 57,
   "metadata": {
    "collapsed": false,
    "slideshow": {
     "slide_type": "skip"
    }
   },
   "outputs": [],
   "source": [
    "dummy = data.copy()\n",
    "dummy['d08'] = 0\n",
    "dummy.loc['2008':'2011', 'd08'] = 1\n",
    "dummy.loc['2007':'2009']\n",
    "exog = dummy.d08"
   ]
  },
  {
   "cell_type": "markdown",
   "metadata": {
    "slideshow": {
     "slide_type": "skip"
    }
   },
   "source": [
    "## ESTIMAR EL NÚMERO DE RETARDOS"
   ]
  },
  {
   "cell_type": "code",
   "execution_count": 58,
   "metadata": {
    "collapsed": false,
    "slideshow": {
     "slide_type": "subslide"
    }
   },
   "outputs": [
    {
     "data": {
      "text/plain": [
       "AIC(n)  HQ(n)  SC(n) FPE(n) \n",
       "    10      3      1      4 \n"
      ]
     },
     "metadata": {},
     "output_type": "display_data"
    }
   ],
   "source": [
    "%%R -i endog -i exog\n",
    "\n",
    "endog = ts(endog, start = c(1995, 3), end = c(2014,3), frequency = 4)\n",
    "exog = ts(exog, start = c(1995, 3), end = c(2014,3), frequency = 4)\n",
    "\n",
    "print(VARselect(y = endog, lag.max = 12, exogen = exog, type = 'none')$selection)"
   ]
  },
  {
   "cell_type": "code",
   "execution_count": 59,
   "metadata": {
    "collapsed": true,
    "slideshow": {
     "slide_type": "skip"
    }
   },
   "outputs": [],
   "source": [
    "%%R -i lags\n",
    "m2 <- VAR(y = endog, p = lags, exogen = exog)"
   ]
  },
  {
   "cell_type": "markdown",
   "metadata": {
    "slideshow": {
     "slide_type": "skip"
    }
   },
   "source": [
    "_Incorporamos esta nueva variable explicativa a nuestro modelo, le indicamos el periodo de estimación, el número de retardos y para ver si resulta __conjuntamente significativa o no__ debemos ir al menú de contraste de hipótesis del VAR y seleccionar la opción que nos hace un contraste sobre la __exogeneidad de las variables__. Tras indicarle que queremos analizar la exogeneidad de D74 nos calculará un contraste __LR de la razón de verosimilitudes__, si el valor del p-valor de este contraste es menor que 0,05, aceptamos que mantenemos dicha variable al nivel de significación del 5%. __Comprobar cómo cambian los resultados de las tres ecuaciones__ estimadas del VAR con esta nueva variable y decidir con base en esos resultados si la mantenemos o no._"
   ]
  },
  {
   "cell_type": "markdown",
   "metadata": {
    "slideshow": {
     "slide_type": "subslide"
    }
   },
   "source": [
    "$H_0$: Modelo 1 (Restringido)\n",
    "\n",
    "$H_a$: Modelo 2 (Con Ficticia)"
   ]
  },
  {
   "cell_type": "code",
   "execution_count": 60,
   "metadata": {
    "collapsed": false,
    "slideshow": {
     "slide_type": "subslide"
    }
   },
   "outputs": [
    {
     "data": {
      "text/plain": [
       "Likelihood ratio test\n",
       "\n",
       "Model 1: VAR(y = endog, p = lags)\n",
       "Model 2: VAR(y = endog, p = lags, exogen = exog)\n",
       "  #Df LogLik Df  Chisq Pr(>Chisq)    \n",
       "1  30 927.86                         \n",
       "2  33 940.08  3 24.445  2.017e-05 ***\n",
       "---\n",
       "Signif. codes:  0 ‘***’ 0.001 ‘**’ 0.01 ‘*’ 0.05 ‘.’ 0.1 ‘ ’ 1\n"
      ]
     },
     "metadata": {},
     "output_type": "display_data"
    }
   ],
   "source": [
    "%%R\n",
    "lrtest(m1, m2)"
   ]
  },
  {
   "cell_type": "markdown",
   "metadata": {
    "slideshow": {
     "slide_type": "subslide"
    }
   },
   "source": [
    "El contraste LR nos da evidencia en contra de la hipótesis alternativa (variable ficticia no significativa), por tanto, rechazamos el modelo 1 sin ficticia y trabajaremos en adelante con el modelo 2."
   ]
  },
  {
   "cell_type": "markdown",
   "metadata": {
    "slideshow": {
     "slide_type": "slide"
    }
   },
   "source": [
    "# RESÚMEN MODELO 2"
   ]
  },
  {
   "cell_type": "markdown",
   "metadata": {
    "slideshow": {
     "slide_type": "subslide"
    }
   },
   "source": [
    "Resulta interesante que el modelo estimado tiene problemas de normalidad, y para el caso de Alemania, tiene sólo dos variable significativas.\n",
    "\n",
    "Los contrastes de causalidad en sentido de granger:\n",
    "\n",
    "### Alemania:\n",
    "- España causa en sentdio de granger.\n",
    "- Inglaterra no causa en sentido de granger.\n",
    "\n",
    "### España:\n",
    "- Ni Inglaterra ni Alemania causan en sentido granger.\n",
    "\n",
    "### Inglaterra:\n",
    "- España y Alemania causan en sentido de granger."
   ]
  },
  {
   "cell_type": "markdown",
   "metadata": {
    "slideshow": {
     "slide_type": "subslide"
    }
   },
   "source": [
    "    Contraste sobre el VAR original:\n",
    "\n",
    "      Hipótesis nula: los parámetros de regresión son cero para las variables\n",
    "        d08\n",
    "      Contraste LR (razón de verosimilitudes): Chi-cuadrado(3) = 24,4451, con valor p = 2,01667e-05\n",
    "\n",
    "    Sistema VAR, orden del retardo 3\n",
    "    estimaciones de MCO, observaciones 1996:2-2014:3 (T = 74)\n",
    "    Log-verosimilitud = 927,85529\n",
    "    Determinante de la matriz de covarianzas = 2,5804796e-15\n",
    "    AIC = -24,2664\n",
    "    BIC = -23,3323\n",
    "    HQC = -23,8937\n",
    "    Contraste Portmanteau: LB(18) = 151,845, gl = 135 [0,1526]"
   ]
  },
  {
   "cell_type": "markdown",
   "metadata": {
    "slideshow": {
     "slide_type": "subslide"
    }
   },
   "source": [
    "    Ecuación 1: germany\n",
    "\n",
    "                  Coeficiente   Desv. Típica   Estadístico t   Valor p\n",
    "      ----------------------------------------------------------------\n",
    "      const        0,00129853    0,00131151       0,9901       0,3259 \n",
    "      germany_1    0,0441957     0,123036         0,3592       0,7206 \n",
    "      germany_2    0,00290124    0,124807         0,02325      0,9815 \n",
    "      germany_3    0,189053      0,123944         1,525        0,1321 \n",
    "      spain_1      0,988420      0,327615         3,017        0,0037  ***\n",
    "      spain_2      0,505234      0,349942         1,444        0,1537 \n",
    "      spain_3      0,345234      0,320470         1,077        0,2854 \n",
    "      uk_1         0,455034      0,224997         2,022        0,0473  **\n",
    "      uk_2         0,0634100     0,245657         0,2581       0,7971 \n",
    "      uk_3        −0,252272      0,217730        −1,159        0,2509 \n",
    "\n",
    "    Media de la vble. dep.  0,003380   D.T. de la vble. dep.   0,008731\n",
    "    Suma de cuad. residuos  0,003313   D.T. de la regresión    0,007195\n",
    "    R-cuadrado              0,404665   R-cuadrado corregido    0,320946\n",
    "    F(9, 64)                4,833607   Valor p (de F)          0,000062\n",
    "    rho                    −0,011514   Durbin-Watson           1,986392\n",
    "\n",
    "    Contrastes F de restricciones cero:\n",
    "\n",
    "    Todos los retardos de germany      F(3, 64) =  0,88407 [0,4542]\n",
    "    Todos los retardos de spain        F(3, 64) =   3,2766 [0,0266]\n",
    "    Todos los retardos de uk           F(3, 64) =   1,8200 [0,1524]\n",
    "    Todas las variables, retardo 3     F(3, 64) =   1,1882 [0,3213]"
   ]
  },
  {
   "cell_type": "markdown",
   "metadata": {
    "slideshow": {
     "slide_type": "subslide"
    }
   },
   "source": [
    "    Ecuación 2: spain\n",
    "\n",
    "                 Coeficiente   Desv. Típica  Estadístico t  Valor p \n",
    "      --------------------------------------------------------------\n",
    "      const       0,000738207  0,000415798      1,775       0,0806   *\n",
    "      germany_1  −0,0583548    0,0390070       −1,496       0,1396  \n",
    "      germany_2  −0,105403     0,0395683       −2,664       0,0098   ***\n",
    "      germany_3  −0,0247390    0,0392948       −0,6296      0,5312  \n",
    "      spain_1    −0,292404     0,103866        −2,815       0,0065   ***\n",
    "      spain_2    −0,00109776   0,110944        −0,009895    0,9921  \n",
    "      spain_3     0,481135     0,101601         4,736       1,25e-05 ***\n",
    "      uk_1        0,149968     0,0713322        2,102       0,0395   **\n",
    "      uk_2        0,128321     0,0778823        1,648       0,1043  \n",
    "      uk_3       −0,299807     0,0690285       −4,343       5,11e-05 ***\n",
    "\n",
    "    Media de la vble. dep. −7,54e-06   D.T. de la vble. dep.   0,003128\n",
    "    Suma de cuad. residuos  0,000333   D.T. de la regresión    0,002281\n",
    "    R-cuadrado              0,533899   R-cuadrado corregido    0,468353\n",
    "    F(9, 64)                8,145461   Valor p (de F)          6,07e-08\n",
    "    rho                    −0,025509   Durbin-Watson           2,050190\n",
    "\n",
    "    Contrastes F de restricciones cero:\n",
    "\n",
    "    Todos los retardos de germany      F(3, 64) =   3,9700 [0,0117]\n",
    "    Todos los retardos de spain        F(3, 64) =   11,012 [0,0000]\n",
    "    Todos los retardos de uk           F(3, 64) =   7,1351 [0,0003]\n",
    "    Todas las variables, retardo 3     F(3, 64) =   18,443 [0,0000]"
   ]
  },
  {
   "cell_type": "markdown",
   "metadata": {
    "collapsed": false,
    "slideshow": {
     "slide_type": "subslide"
    }
   },
   "source": [
    "    Ecuación 3: uk\n",
    "\n",
    "                  Coeficiente   Desv. Típica   Estadístico t   Valor p \n",
    "      -----------------------------------------------------------------\n",
    "      const        0,00244819   0,000803412        3,047       0,0034   ***\n",
    "      germany_1   −0,116421     0,0753700         −1,545       0,1274  \n",
    "      germany_2    0,0142141    0,0764546          0,1859      0,8531  \n",
    "      germany_3    0,0408690    0,0759262          0,5383      0,5923  \n",
    "      spain_1      0,475758     0,200691           2,371       0,0208   **\n",
    "      spain_2      0,144794     0,214369           0,6754      0,5018  \n",
    "      spain_3      0,149752     0,196315           0,7628      0,4484  \n",
    "      uk_1         0,586806     0,137829           4,257       6,90e-05 ***\n",
    "      uk_2         0,253802     0,150486           1,687       0,0966   *\n",
    "      uk_3        −0,276243     0,133378          −2,071       0,0424   **\n",
    "\n",
    "    Media de la vble. dep.  0,005151   D.T. de la vble. dep.   0,006204\n",
    "    Suma de cuad. residuos  0,001243   D.T. de la regresión    0,004407\n",
    "    R-cuadrado              0,557536   R-cuadrado corregido    0,495315\n",
    "    F(9, 64)                8,960522   Valor p (de F)          1,33e-08\n",
    "    rho                     0,086214   Durbin-Watson           1,802590\n",
    "\n",
    "    Contrastes F de restricciones cero:\n",
    "\n",
    "    Todos los retardos de germany      F(3, 64) =  0,85705 [0,4680]\n",
    "    Todos los retardos de spain        F(3, 64) =   2,0344 [0,1179]\n",
    "    Todos los retardos de uk           F(3, 64) =   10,468 [0,0000]\n",
    "    Todas las variables, retardo 3     F(3, 64) =   1,7506 [0,1656]\n",
    "\n",
    "    Para el sistema en conjunto:\n",
    "\n",
    "      Hipótesis nula: el retardo más largo es 2\n",
    "      Hipótesis alternativa: el retardo más largo es 3\n",
    "      Contraste de razón de verosimilitudes: Chi-cuadrado(9) = 51,7962 [0,0000]\n",
    "\n",
    "      Comparación de criterios de información:\n",
    "      Orden de retardos 3: AIC = -24,2664, BIC = -23,3323, HQC = -23,8937\n",
    "      Orden de retardos 2: AIC = -23,8097, BIC = -23,1558, HQC = -23,5488"
   ]
  },
  {
   "cell_type": "markdown",
   "metadata": {
    "slideshow": {
     "slide_type": "subslide"
    }
   },
   "source": [
    "# CONTRASTES"
   ]
  },
  {
   "cell_type": "markdown",
   "metadata": {
    "slideshow": {
     "slide_type": "skip"
    }
   },
   "source": [
    "$H_0$: Homocedasticidad"
   ]
  },
  {
   "cell_type": "code",
   "execution_count": 61,
   "metadata": {
    "collapsed": false,
    "slideshow": {
     "slide_type": "subslide"
    }
   },
   "outputs": [
    {
     "data": {
      "text/plain": [
       "\n",
       "\tARCH (multivariate)\n",
       "\n",
       "data:  Residuals of VAR object x\n",
       "Chi-squared = 185.8, df = 180, p-value = 0.3678\n",
       "\n"
      ]
     },
     "metadata": {},
     "output_type": "display_data"
    }
   ],
   "source": [
    "%%R\n",
    "arch(m2)"
   ]
  },
  {
   "cell_type": "markdown",
   "metadata": {
    "slideshow": {
     "slide_type": "subslide"
    }
   },
   "source": [
    "$H_0$: No Autocorrelación"
   ]
  },
  {
   "cell_type": "code",
   "execution_count": 63,
   "metadata": {
    "collapsed": false,
    "slideshow": {
     "slide_type": "fragment"
    }
   },
   "outputs": [
    {
     "data": {
      "text/plain": [
       "\n",
       "\tBreusch-Godfrey LM test\n",
       "\n",
       "data:  Residuals of VAR object x\n",
       "Chi-squared = 69.606, df = 45, p-value = 0.01076\n",
       "\n"
      ]
     },
     "metadata": {},
     "output_type": "display_data"
    }
   ],
   "source": [
    "%%R\n",
    "serial(m2, lags.pt = 16, type = 'BG')"
   ]
  },
  {
   "cell_type": "markdown",
   "metadata": {
    "slideshow": {
     "slide_type": "subslide"
    }
   },
   "source": [
    "$H_0$: La muestra proviene de una distribución normal\n"
   ]
  },
  {
   "cell_type": "code",
   "execution_count": 62,
   "metadata": {
    "collapsed": false,
    "slideshow": {
     "slide_type": "subslide"
    }
   },
   "outputs": [
    {
     "data": {
      "text/plain": [
       "$JB\n",
       "\n",
       "\tJB-Test (multivariate)\n",
       "\n",
       "data:  Residuals of VAR object m2\n",
       "Chi-squared = 38.076, df = 6, p-value = 1.086e-06\n",
       "\n",
       "\n",
       "$Skewness\n",
       "\n",
       "\tSkewness only (multivariate)\n",
       "\n",
       "data:  Residuals of VAR object m2\n",
       "Chi-squared = 4.5569, df = 3, p-value = 0.2073\n",
       "\n",
       "\n",
       "$Kurtosis\n",
       "\n",
       "\tKurtosis only (multivariate)\n",
       "\n",
       "data:  Residuals of VAR object m2\n",
       "Chi-squared = 33.519, df = 3, p-value = 2.503e-07\n",
       "\n",
       "\n"
      ]
     },
     "metadata": {},
     "output_type": "display_data"
    }
   ],
   "source": [
    "%%R\n",
    "normality.test(m2)"
   ]
  },
  {
   "cell_type": "markdown",
   "metadata": {
    "slideshow": {
     "slide_type": "subslide"
    }
   },
   "source": [
    "$H_0$: Estabilidad"
   ]
  },
  {
   "cell_type": "code",
   "execution_count": 64,
   "metadata": {
    "collapsed": false,
    "slideshow": {
     "slide_type": "fragment"
    }
   },
   "outputs": [
    {
     "data": {
      "image/png": "[encoded data removed]"
     },
     "metadata": {},
     "output_type": "display_data"
    }
   ],
   "source": [
    "%%R\n",
    "plot(stability(m2, type = \"OLS-CUSUM\"))"
   ]
  },
  {
   "cell_type": "markdown",
   "metadata": {
    "slideshow": {
     "slide_type": "skip"
    }
   },
   "source": [
    "<div style=\"font-family:serif;\">\n",
    "<div style=\"font-size:300%;\">\n",
    "<h1 style=\"text-align:center;\">APARTADO B\n",
    "</h1></div></div>"
   ]
  },
  {
   "cell_type": "markdown",
   "metadata": {
    "slideshow": {
     "slide_type": "skip"
    }
   },
   "source": [
    "# b\n",
    "Una vez determinado el modelo más adecuado, realizaremos __predicciones dinámicas__ para cada una de las variables endógenas. Para ello, tras indicarle que deje los últimos 20 valores para representar antes del periodo de predicción. Gretl nos ofrecerá una tabla con los valores reales y predichos, los errores y algunas medidas para evaluar y comparar las predicciones. La mejor __medida para comparar__ suele ser el __“porcentaje de error absoluto medio” (EAPM)__, con el que podemos comparar el error medio que comete cada una de las tres ecuaciones."
   ]
  },
  {
   "cell_type": "markdown",
   "metadata": {
    "slideshow": {
     "slide_type": "skip"
    }
   },
   "source": [
    "[⬆Caso2.3](#Caso-2.3-PRESENTAR)\t[⬆a](#a)\t\t[⬆b](#b)\t\t[⬆c](#c)\t\t"
   ]
  },
  {
   "cell_type": "markdown",
   "metadata": {
    "slideshow": {
     "slide_type": "slide"
    }
   },
   "source": [
    "# PORCENTAJE DE ERROR ABSOLUTO MEDIO"
   ]
  },
  {
   "cell_type": "markdown",
   "metadata": {
    "slideshow": {
     "slide_type": "subslide"
    }
   },
   "source": [
    "|País|EAPM|\n",
    "|:--:|:--:|\n",
    "|Alemania |543.09|\n",
    "|España | 99.731|\n",
    "|Reino Unido|35.513|"
   ]
  },
  {
   "cell_type": "markdown",
   "metadata": {
    "collapsed": false,
    "slideshow": {
     "slide_type": "subslide"
    }
   },
   "source": [
    "\n",
    "     Para intervalos de confianza 95%, t(64, .0,025) = 1,998\n",
    "\n",
    "                  germany    predicción  Desv. Típica     Intervalo de confianza 95% \n",
    "\n",
    "      2009:4      0,009014     0,005232\n",
    "      2010:1      0,007782     0,012062\n",
    "      2010:2      0,020062     0,011407\n",
    "      2010:3      0,007893     0,008485\n",
    "      2010:4      0,007831     0,004207\n",
    "      2011:1      0,018467     0,002659\n",
    "      2011:2      0,001743     0,001147\n",
    "      2011:3      0,004056     0,001701\n",
    "      2011:4     -0,000289     0,006446\n",
    "      2012:1      0,003873     0,000652\n",
    "      2012:2      0,000576    -0,002089\n",
    "      2012:3      0,001630    -0,001707\n",
    "      2012:4     -0,004899     0,007253\n",
    "      2013:1     -0,002700    -0,000464\n",
    "      2013:2      0,009035     0,006576\n",
    "      2013:3      0,003725     0,006871\n",
    "      2013:4      0,003236     0,009605\n",
    "      2014:1      0,007125     0,008999\n",
    "      2014:2     -0,000566     0,006387\n",
    "      2014:3      0,001886     0,007365\n",
    "      2014:4      0,006106     0,006671     0,006691    -0,006696 - 0,020038\n",
    "      2015:1      0,003459     0,005077     0,007518    -0,009941 - 0,020096\n",
    "      2015:2      0,004377     0,004080     0,007945    -0,011792 - 0,019953\n",
    "      2015:3      0,003154     0,004369     0,008157    -0,011927 - 0,020664\n",
    "\n",
    "      Estadísticos de evaluación de la predicción\n",
    "\n",
    "      Error medio                          -0,00077541\n",
    "      Error cuadrático medio                1,1252e-06\n",
    "      Raíz del Error cuadrático medio       0,0010608\n",
    "      Error absoluto medio                  0,00092354\n",
    "      Porcentaje de error medio            -21,943\n",
    "      Porcentaje de error absoluto medio    25,328\n",
    "      U de Theil                            0,67797\n",
    "      Proporción de sesgo, UM               0,53433\n",
    "      Proporción de regresión, UR           0,0098151\n",
    "      Proporción de perturbación, UD        0,45585\n"
   ]
  },
  {
   "cell_type": "markdown",
   "metadata": {
    "collapsed": false,
    "slideshow": {
     "slide_type": "subslide"
    }
   },
   "source": [
    "\n",
    "     Para intervalos de confianza 95%, t(64, .0,025) = 1,998\n",
    "\n",
    "                    spain    predicción  Desv. Típica     Intervalo de confianza 95% \n",
    "\n",
    "      2009:4      0,002469     0,001356\n",
    "      2010:1      0,003624     0,003253\n",
    "      2010:2     -0,001111     0,001863\n",
    "      2010:3     -0,001471     0,000650\n",
    "      2010:4     -0,000399     0,000797\n",
    "      2011:1     -0,004039    -0,003097\n",
    "      2011:2     -0,000822    -0,001109\n",
    "      2011:3      0,001314    -0,000269\n",
    "      2011:4     -0,001716    -0,003060\n",
    "      2012:1     -0,003025     0,000625\n",
    "      2012:2      0,000187     0,000085\n",
    "      2012:3      0,002250    -0,001013\n",
    "      2012:4     -0,003734    -0,001019\n",
    "      2013:1      0,005845     0,003749\n",
    "      2013:2      0,001203    -0,001331\n",
    "      2013:3      0,003128     0,000360\n",
    "      2013:4      0,001884     0,001704\n",
    "      2014:1      0,001183     0,000314\n",
    "      2014:2      0,001209     0,000018\n",
    "      2014:3      0,001003     0,000764\n",
    "      2014:4      0,000893     0,001100     0,002121    -0,003138 - 0,005338\n",
    "      2015:1      0,001893    -0,000393     0,002240    -0,004868 - 0,004081\n",
    "      2015:2      0,001163     0,000296     0,002409    -0,004516 - 0,005107\n",
    "      2015:3     -0,002004    -0,000401     0,002628    -0,005651 - 0,004848\n",
    "\n",
    "      Estadísticos de evaluación de la predicción\n",
    "\n",
    "      Error medio                           0,00033588\n",
    "      Error cuadrático medio                2,1478e-06\n",
    "      Raíz del Error cuadrático medio       0,0014655\n",
    "      Error absoluto medio                  0,0012407\n",
    "      Porcentaje de error medio             63,044\n",
    "      Porcentaje de error absoluto medio    74,609\n",
    "      U de Theil                            0,9908\n",
    "      Proporción de sesgo, UM               0,052525\n",
    "      Proporción de regresión, UR           0,01403\n",
    "      Proporción de perturbación, UD        0,93344\n"
   ]
  },
  {
   "cell_type": "markdown",
   "metadata": {
    "collapsed": false,
    "slideshow": {
     "slide_type": "subslide"
    }
   },
   "source": [
    "     Para intervalos de confianza 95%, t(64, .0,025) = 1,998\n",
    "\n",
    "                       uk    predicción  Desv. Típica     Intervalo de confianza 95% \n",
    "\n",
    "      2009:4      0,003527     0,007859\n",
    "      2010:1      0,003689     0,007626\n",
    "      2010:2      0,008008     0,007619\n",
    "      2010:3      0,004871     0,005619\n",
    "      2010:4      0,000947     0,005686\n",
    "      2011:1      0,007446     0,001479\n",
    "      2011:2      0,003403     0,001796\n",
    "      2011:3      0,008012     0,005417\n",
    "      2011:4      0,001521     0,006165\n",
    "      2012:1      0,002206     0,003847\n",
    "      2012:2     -0,001776     0,000135\n",
    "      2012:3      0,009986     0,000916\n",
    "      2012:4     -0,000552     0,007869\n",
    "      2013:1      0,006569     0,004343\n",
    "      2013:2      0,005931     0,006293\n",
    "      2013:3      0,009206     0,007317\n",
    "      2013:4      0,006359     0,009664\n",
    "      2014:1      0,006106     0,008453\n",
    "      2014:2      0,009303     0,005774\n",
    "      2014:3      0,006338     0,009028\n",
    "      2014:4      0,007476     0,007735     0,004099    -0,000454 - 0,015923\n",
    "      2015:1      0,003666     0,006102     0,005020    -0,003927 - 0,016131\n",
    "      2015:2      0,006511     0,005944     0,005662    -0,005367 - 0,017256\n",
    "      2015:3      0,004647     0,005467     0,005868    -0,006255 - 0,017188\n",
    "\n",
    "      Estadísticos de evaluación de la predicción\n",
    "\n",
    "      Error medio                          -0,000737\n",
    "      Error cuadrático medio                1,7481e-06\n",
    "      Raíz del Error cuadrático medio       0,0013221\n",
    "      Error absoluto medio                  0,0010201\n",
    "      Porcentaje de error medio            -19,71\n",
    "      Porcentaje de error absoluto medio    24,058\n",
    "      U de Theil                            0,39319\n",
    "      Proporción de sesgo, UM               0,31072\n",
    "      Proporción de regresión, UR           0,01931\n",
    "      Proporción de perturbación, UD        0,66997\n"
   ]
  },
  {
   "cell_type": "markdown",
   "metadata": {
    "slideshow": {
     "slide_type": "slide"
    }
   },
   "source": [
    "<div style=\"font-family:serif;\">\n",
    "<div style=\"font-size:200%;\">\n",
    "<h1 style=\"text-align:center;\">APARTADO C\n",
    "</h1></div></div>"
   ]
  },
  {
   "cell_type": "markdown",
   "metadata": {
    "slideshow": {
     "slide_type": "skip"
    }
   },
   "source": [
    "# c\n",
    "Por último, realizaremos un estudio __“impulso-respuesta”__ con el VAR estimado, esto es, _cómo responden las variables endógenas ante un shock en alguna de ellas_; para ello se __descompone la varianza de los errores__ de predicción de las variables a lo largo de diferentes periodos. Una vez que tenemos modelo VAR con las variables que hayamos seleccionado, iremos a la opción __Gráficos-Respuestas al impulso (todas)__ y nos dibujará los efectos impulso-respuesta para un shock de cada variable sobre las demás.\n",
    "\n",
    "Algo a tener en cuenta es que cuando se calculan los impulso-respuesta ortogonalizados se “normalizan” respecto de la primera variable que seleccionemos, la cual debe ser la que pensemos ejerce mayor influencia sobre las demás, es decir, tenemos que ordenarlas de mayor a menor exogeneidad según creamos. ¿Qué país produce mayores respuestas de los demás ante un shock inicial?"
   ]
  },
  {
   "cell_type": "markdown",
   "metadata": {
    "slideshow": {
     "slide_type": "skip"
    }
   },
   "source": [
    "[⬆Caso2.3](#Caso-2.3-PRESENTAR)\t[⬆a](#a)\t\t[⬆b](#b)\t\t[⬆c](#c)\t\t"
   ]
  },
  {
   "cell_type": "markdown",
   "metadata": {
    "collapsed": true,
    "slideshow": {
     "slide_type": "subslide"
    }
   },
   "source": [
    "## Orden:\n",
    "\n",
    "1. Alemania\n",
    "2. Inglaterra\n",
    "3. España\n",
    "\n",
    "En el gráfico se puede ver, que el efecto del PIB de España en Alemania es simétricamente opuesto al de Alemania en España.\n",
    "\n",
    "El efecto de Inglaterra en Alemania es similar al de Alemania sobre Inglaterra pero este último menos intenso.\n",
    "\n",
    "El efecto de España en Inglaterra es mayor que la inversa.\n",
    "\n",
    "### Conclusión\n",
    "Para el caso elegido no parece haber un país que produzca mayores respuestas en los demás."
   ]
  },
  {
   "cell_type": "markdown",
   "metadata": {
    "slideshow": {
     "slide_type": "subslide"
    }
   },
   "source": [
    "![](irp.png)"
   ]
  }
 ],
 "metadata": {
  "celltoolbar": "Slideshow",
  "kernelspec": {
   "display_name": "Python 3",
   "language": "python",
   "name": "python3"
  },
  "language_info": {
   "codemirror_mode": {
    "name": "ipython",
    "version": 3
   },
   "file_extension": ".py",
   "mimetype": "text/x-python",
   "name": "python",
   "nbconvert_exporter": "python",
   "pygments_lexer": "ipython3",
   "version": "3.5.0"
  }
 },
 "nbformat": 4,
 "nbformat_minor": 0
}
