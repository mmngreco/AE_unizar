{
 "cells": [
  {
   "cell_type": "code",
   "execution_count": 1,
   "metadata": {
    "collapsed": false
   },
   "outputs": [],
   "source": [
    "%matplotlib inline\n",
    "import numpy as np\n",
    "from statsmodels.formula.api import ols, rlm, gls, glm, wls\n",
    "from statsmodels.graphics.tsaplots import plot_acf, plot_pacf\n",
    "import statsmodels.api as sm\n",
    "import statsmodels.stats.api as sms\n",
    "import pandas as pd\n",
    "import seaborn as sns\n",
    "import matplotlib.pyplot as plt"
   ]
  },
  {
   "cell_type": "markdown",
   "metadata": {},
   "source": [
    "# Caso 2.1A.- Estimación de una función de consumo con datos de corte transversal."
   ]
  },
  {
   "cell_type": "markdown",
   "metadata": {},
   "source": [
    "En este ejercicio vamos a analizar la relación entre el consumo y la renta para un conjunto de familias, tratando de evaluar la función de consumo keynesiana. Los datos se refieren a los gastos en consumo y la renta de 50 familias, que se muestran en la siguiente tabla: \n",
    "\n",
    "|     |CONSUMO|RENTA||CONSUMO|RENTA|\n",
    "|:---|:--------:|:------:|:---|:--------:|:------:|\n",
    "|Familia 1| 1080,5| 1000|Familia 13| 3033,8| 3400|\n",
    "|Familia 26| 5782,6| 6051|Familia 38| 6808,6| 8407|\n",
    "|Familia 2| 1239,8| 1020|Familia 14| 3310,4| 3990|\n",
    "|Familia 27| 4201,4| 6200|Familia 39| 7089,8| 8900|\n",
    "|Familia 3| 1540,7| 1200|Familia 15| 4077,2| 4000|\n",
    "|Familia 28| 6058,7| 6406|Familia 40| 6236,6| 9000|\n",
    "|Familia 4| 1773,8| 1500|Familia 16| 2987,6| 4010|\n",
    "|Familia 29| 4946,0| 6802|Familia 41| 6623,3| 9072|\n",
    "|Familia 5| 1896,5| 1990|Familia 17| 3812,0| 4100|\n",
    "|Familia 30| 5690,3| 7000|Familia 42| 7009,1| 9300|\n",
    "|Familia 6| 1691,0| 2000|Familia 18| 3921,8| 4400|\n",
    "|Familia 31| 5956,6| 7043|Familia 43| 8645,6| 9700|\n",
    "|Familia 7| 1979,6| 2010|Familia 19| 4122,2| 4800|\n",
    "|Familia 32| 4556,6| 7100|Familia 44| 9578,0| 9990|\n",
    "|Familia 8| 1940,0| 2020|Familia 20| 4530,8| 5000|\n",
    "|Familia 33| 6069,5| 7600|Familia 45| 7355,0| 10000|\n",
    "|Familia 9| 2502,5| 2900|Familia 21| 4042,2| 5025|\n",
    "|Familia 34| 7763,9| 7992|Familia 46| 7276,4| 10030|\n",
    "|Familia 10| 2909,6| 3000|Familia 22| 3741,6| 5103|\n",
    "|Familia 35| 6254,0| 8000|Familia 47| 9506,6| 10100|\n",
    "|Familia 11| 2644,7| 3032|Familia 23| 4720,4| 5500|\n",
    "|Familia 36| 5755,7| 8056|Familia 48| 8293,7| 10506|\n",
    "|Familia 12| 2813,0| 3200|Familia 24| 5235,5| 5920|\n",
    "|Familia 37| 6506,8| 8201|Familia 49| 7443,6| 10709|\n",
    "|Familia 25| 5281,7| 6000|\n",
    "\n",
    "\n",
    "    Alternativamente, se pueden tomar datos del INE de la encuesta de presupuestos familiares Base 2006 y de la encuesta anual de coste laboral, para obtener datos del Gasto total medio por unidad de consumo (asimilable al gasto en consumo anual) y Salario medio (asimilable a la renta anual) por comunidad autónoma y para un año determinado. Los resultados de las encuestas anteriores se encuentran en las secciones del INE correspondientes a Condiciones de vida y Mercado laboral respectivamente. Tendremos de esta manera datos de 18 comunidades autónomas españolas que podemos analizar.\n",
    "\n",
    "Lo primero que vamos a hacer es un gráfico de dispersión entre las dos variables, para, a continuación hacer la regresión entre ambas. Una vez hecha la regresión y habiendo comentado los resultados desde el punto de vista económico, vamos a tratar de detectar la posible presencia de heteroscedasticidad por diversos métodos."
   ]
  },
  {
   "cell_type": "markdown",
   "metadata": {},
   "source": [
    "# a) \n",
    "## Método gráfico: \n",
    "\n",
    "Se trata de hacer un gráfico de los __residuos__ para ver si su varianza permanece constante. Además, se puede hacer otro gráfico de dispersión de la __serie del cuadrado de los residuos__ frente a la variable __Renta al cuadrado__ para analizar si existe algún grado de dependencia."
   ]
  },
  {
   "cell_type": "code",
   "execution_count": 2,
   "metadata": {
    "collapsed": false
   },
   "outputs": [],
   "source": [
    "data = pd.read_csv('datos_caso2.1A.csv')"
   ]
  },
  {
   "cell_type": "code",
   "execution_count": 3,
   "metadata": {
    "collapsed": false
   },
   "outputs": [
    {
     "data": {
      "text/html": [
       "<div>\n",
       "<table border=\"1\" class=\"dataframe\">\n",
       "  <thead>\n",
       "    <tr style=\"text-align: right;\">\n",
       "      <th></th>\n",
       "      <th>obs</th>\n",
       "      <th>consumo</th>\n",
       "      <th>renta</th>\n",
       "    </tr>\n",
       "  </thead>\n",
       "  <tbody>\n",
       "    <tr>\n",
       "      <th>0</th>\n",
       "      <td>1</td>\n",
       "      <td>1080.5</td>\n",
       "      <td>1000</td>\n",
       "    </tr>\n",
       "    <tr>\n",
       "      <th>2</th>\n",
       "      <td>2</td>\n",
       "      <td>1239.8</td>\n",
       "      <td>1020</td>\n",
       "    </tr>\n",
       "    <tr>\n",
       "      <th>4</th>\n",
       "      <td>3</td>\n",
       "      <td>1540.7</td>\n",
       "      <td>1200</td>\n",
       "    </tr>\n",
       "    <tr>\n",
       "      <th>6</th>\n",
       "      <td>4</td>\n",
       "      <td>1773.8</td>\n",
       "      <td>1500</td>\n",
       "    </tr>\n",
       "    <tr>\n",
       "      <th>8</th>\n",
       "      <td>5</td>\n",
       "      <td>1896.5</td>\n",
       "      <td>1990</td>\n",
       "    </tr>\n",
       "  </tbody>\n",
       "</table>\n",
       "</div>"
      ],
      "text/plain": [
       "   obs  consumo  renta\n",
       "0    1   1080.5   1000\n",
       "2    2   1239.8   1020\n",
       "4    3   1540.7   1200\n",
       "6    4   1773.8   1500\n",
       "8    5   1896.5   1990"
      ]
     },
     "execution_count": 3,
     "metadata": {},
     "output_type": "execute_result"
    }
   ],
   "source": [
    "data.sort_values(by='obs').head()"
   ]
  },
  {
   "cell_type": "code",
   "execution_count": 4,
   "metadata": {
    "collapsed": false
   },
   "outputs": [
    {
     "data": {
      "text/plain": [
       "<seaborn.axisgrid.JointGrid at 0x1113dbda0>"
      ]
     },
     "execution_count": 4,
     "metadata": {},
     "output_type": "execute_result"
    },
    {
     "name": "stderr",
     "output_type": "stream",
     "text": [
      "/Users/mmngreco/Virtualenvs/ipynb/lib/python3.5/site-packages/matplotlib/collections.py:590: FutureWarning: elementwise comparison failed; returning scalar instead, but in the future will perform elementwise comparison\n",
      "  if self._edgecolors == str('face'):\n"
     ]
    },
    {
     "data": {
      "image/png": "[encoded data removed]",
      "text/plain": [
       "<matplotlib.figure.Figure at 0x1113dbeb8>"
      ]
     },
     "metadata": {},
     "output_type": "display_data"
    }
   ],
   "source": [
    "sns.jointplot(data=data, x='renta', y='consumo')"
   ]
  },
  {
   "cell_type": "code",
   "execution_count": 5,
   "metadata": {
    "collapsed": false
   },
   "outputs": [
    {
     "data": {
      "text/plain": [
       "<seaborn.axisgrid.JointGrid at 0x11160b9b0>"
      ]
     },
     "execution_count": 5,
     "metadata": {},
     "output_type": "execute_result"
    },
    {
     "name": "stderr",
     "output_type": "stream",
     "text": [
      "/Users/mmngreco/Virtualenvs/ipynb/lib/python3.5/site-packages/matplotlib/collections.py:590: FutureWarning: elementwise comparison failed; returning scalar instead, but in the future will perform elementwise comparison\n",
      "  if self._edgecolors == str('face'):\n"
     ]
    },
    {
     "data": {
      "image/png": "[encoded data removed]",
      "text/plain": [
       "<matplotlib.figure.Figure at 0x11160bcf8>"
      ]
     },
     "metadata": {},
     "output_type": "display_data"
    }
   ],
   "source": [
    "sns.jointplot(data=np.log(data), x='renta', y='consumo')"
   ]
  },
  {
   "cell_type": "code",
   "execution_count": 6,
   "metadata": {
    "collapsed": false
   },
   "outputs": [
    {
     "name": "stdout",
     "output_type": "stream",
     "text": [
      "                            OLS Regression Results                            \n",
      "==============================================================================\n",
      "Dep. Variable:                consumo   R-squared:                       0.930\n",
      "Model:                            OLS   Adj. R-squared:                  0.928\n",
      "Method:                 Least Squares   F-statistic:                     623.3\n",
      "Date:                Sun, 22 Nov 2015   Prob (F-statistic):           9.03e-29\n",
      "Time:                        18:44:56   Log-Likelihood:                -382.22\n",
      "No. Observations:                  49   AIC:                             768.4\n",
      "Df Residuals:                      47   BIC:                             772.2\n",
      "Df Model:                           1                                         \n",
      "Covariance Type:            nonrobust                                         \n",
      "==============================================================================\n",
      "                 coef    std err          t      P>|t|      [95.0% Conf. Int.]\n",
      "------------------------------------------------------------------------------\n",
      "Intercept    482.1375    195.461      2.467      0.017        88.921   875.354\n",
      "renta          0.7444      0.030     24.966      0.000         0.684     0.804\n",
      "==============================================================================\n",
      "Omnibus:                        6.210   Durbin-Watson:                   2.004\n",
      "Prob(Omnibus):                  0.045   Jarque-Bera (JB):                5.116\n",
      "Skew:                           0.648   Prob(JB):                       0.0775\n",
      "Kurtosis:                       3.908   Cond. No.                     1.49e+04\n",
      "==============================================================================\n",
      "\n",
      "Warnings:\n",
      "[1] Standard Errors assume that the covariance matrix of the errors is correctly specified.\n",
      "[2] The condition number is large, 1.49e+04. This might indicate that there are\n",
      "strong multicollinearity or other numerical problems.\n"
     ]
    }
   ],
   "source": [
    "f = 'consumo ~ renta'\n",
    "m = ols(f, data)\n",
    "reg = m.fit()\n",
    "print(reg.summary())"
   ]
  },
  {
   "cell_type": "code",
   "execution_count": 10,
   "metadata": {
    "collapsed": false
   },
   "outputs": [
    {
     "name": "stdout",
     "output_type": "stream",
     "text": [
      "$\\beta_0 = 482.138 (195.461)$\n",
      "$\\beta_1 = 0.744 (0.030)$\n"
     ]
    }
   ],
   "source": [
    "for i, (c, se) in enumerate(zip(reg.params, reg.bse)):\n",
    "    print(r'$\\beta_%s = %.3f (%.3f)$' % (i, c, se))"
   ]
  },
  {
   "cell_type": "code",
   "execution_count": 11,
   "metadata": {
    "collapsed": false
   },
   "outputs": [
    {
     "data": {
      "image/png": "[encoded data removed]",
      "text/plain": [
       "<matplotlib.figure.Figure at 0x111746b00>"
      ]
     },
     "metadata": {},
     "output_type": "display_data"
    }
   ],
   "source": [
    "sns.coefplot(f, data, intercept=True)"
   ]
  },
  {
   "cell_type": "code",
   "execution_count": 12,
   "metadata": {
    "collapsed": false
   },
   "outputs": [
    {
     "data": {
      "text/plain": [
       "[<matplotlib.lines.Line2D at 0x111afd320>]"
      ]
     },
     "execution_count": 12,
     "metadata": {},
     "output_type": "execute_result"
    },
    {
     "data": {
      "image/png": "[encoded data removed]",
      "text/plain": [
       "<matplotlib.figure.Figure at 0x1114cec18>"
      ]
     },
     "metadata": {},
     "output_type": "display_data"
    }
   ],
   "source": [
    "plt.plot(reg.resid)"
   ]
  },
  {
   "cell_type": "code",
   "execution_count": 54,
   "metadata": {
    "collapsed": false
   },
   "outputs": [
    {
     "data": {
      "text/plain": [
       "<matplotlib.text.Text at 0x1128f2c88>"
      ]
     },
     "execution_count": 54,
     "metadata": {},
     "output_type": "execute_result"
    },
    {
     "name": "stderr",
     "output_type": "stream",
     "text": [
      "/Users/mmngreco/Virtualenvs/ipynb/lib/python3.5/site-packages/matplotlib/collections.py:590: FutureWarning: elementwise comparison failed; returning scalar instead, but in the future will perform elementwise comparison\n",
      "  if self._edgecolors == str('face'):\n"
     ]
    },
    {
     "data": {
      "image/png": "[encoded data removed]",
      "text/plain": [
       "<matplotlib.figure.Figure at 0x1127e5fd0>"
      ]
     },
     "metadata": {},
     "output_type": "display_data"
    }
   ],
   "source": [
    "plt.scatter(data.renta ** 2, reg.resid ** 2, alpha=0.6)\n",
    "plt.xlabel('Renta')\n",
    "plt.ylabel('Residuo')"
   ]
  },
  {
   "cell_type": "code",
   "execution_count": 14,
   "metadata": {
    "collapsed": false
   },
   "outputs": [
    {
     "name": "stderr",
     "output_type": "stream",
     "text": [
      "/Users/mmngreco/Virtualenvs/ipynb/lib/python3.5/site-packages/seaborn/linearmodels.py:1283: UserWarning: The `corrplot` function has been deprecated in favor of `heatmap` and will be removed in a forthcoming release. Please update your code.\n",
      "  warnings.warn((\"The `corrplot` function has been deprecated in favor \"\n",
      "/Users/mmngreco/Virtualenvs/ipynb/lib/python3.5/site-packages/seaborn/linearmodels.py:1349: UserWarning: The `symmatplot` function has been deprecated in favor of `heatmap` and will be removed in a forthcoming release. Please update your code.\n",
      "  warnings.warn((\"The `symmatplot` function has been deprecated in favor \"\n"
     ]
    },
    {
     "data": {
      "text/plain": [
       "<matplotlib.axes._subplots.AxesSubplot at 0x111b40b38>"
      ]
     },
     "execution_count": 14,
     "metadata": {},
     "output_type": "execute_result"
    },
    {
     "name": "stderr",
     "output_type": "stream",
     "text": [
      "/Users/mmngreco/Virtualenvs/ipynb/lib/python3.5/site-packages/matplotlib/collections.py:590: FutureWarning: elementwise comparison failed; returning scalar instead, but in the future will perform elementwise comparison\n",
      "  if self._edgecolors == str('face'):\n"
     ]
    },
    {
     "data": {
      "image/png": "[encoded data removed]",
      "text/plain": [
       "<matplotlib.figure.Figure at 0x111c19898>"
      ]
     },
     "metadata": {},
     "output_type": "display_data"
    }
   ],
   "source": [
    "sns.corrplot(data.ix[:,1:])"
   ]
  },
  {
   "cell_type": "markdown",
   "metadata": {},
   "source": [
    "# b) \n",
    "\n",
    "## Contraste de White\n",
    "\n",
    "Lo obtiene Gretl de forma automática haciendo una regresión auxiliar del cuadrado de los residuos sobre la variable exógena y su cuadrado, calculando para esta regresión el producto de T·R2, el cual se distribuye según una Chi-cuadrado con p grados de libertad, siendo p el número de regresores de esta regresión auxiliar."
   ]
  },
  {
   "cell_type": "code",
   "execution_count": 15,
   "metadata": {
    "collapsed": false
   },
   "outputs": [
    {
     "name": "stdout",
     "output_type": "stream",
     "text": [
      "White: 13.3226 (0.0013)\n"
     ]
    }
   ],
   "source": [
    "t =  sm.stats.diagnostic.het_white(reg.resid, reg.model.exog)[:2]\n",
    "string = '%.4f (%.4f)'\n",
    "print('White: '+string % (t[0], t[1]))"
   ]
  },
  {
   "cell_type": "markdown",
   "metadata": {},
   "source": [
    "# c) \n",
    "## Contraste de Breusch-Pagan: \n",
    "\n",
    "El contraste de Breusch-Pagan que calcula Gretl incluye en la regresión auxiliar todo el conjunto de variables de nuestro modelo, como en nuestro caso tenemos sólo una variable, vamos a hacer el contraste de __forma manual__ para entender mejor cómo se lleva a cabo. Para obtener el estadístico de contraste BP se realiza una __regresión auxiliar__ donde, como variable __dependiente__ aparecen los __residuos al cuadrado__ del modelo estimado __divididos__ por la __estimación máximo verosímil de la varianza__, y como __variables explicativas__ aquellas que se piensa puedan causar el problema de varianza no constante, en nuestro caso, la __renta__.\n",
    "\n",
    "Para el cálculo concreto del estadístico, dentro de la ventana de resultados de la estimación del modelo original, iremos a la opción Guardar-Definir nueva variable, y allí definiremos la variable siguiente: `bp1=($uhat^2)/($ess/$nobs)`, donde las variables con $ delante son variables internas que guarda Gretl cada vez que hace una regresión. Construida la variable dependiente de la regresión auxiliar, se efectúa dicha regresión y se calcula el estadístico de __Breusch-Pagan__ como el valor de la __Suma Explicada (SE) dividida por dos__ (la Suma Explicada se puede obtener en el menú ANOVA de los resultados de la regresión). Una vez calculado el estadístico, su valor se __compara con una Chi-cuadrado con p grados de libertad__ igual al número de parámetros de posición de la regresión auxiliar sin tener en cuenta el término independiente. Recordemos que Gretl permite obtener directamente el p-valor de un estadístico, conociendo los grados de libertad de la distribución que sigue, para ello hay que ir a la opción Herramientas-buscador de valores p, ir a la pestaña de la Chi-cuadrado y poner el valor del estadístico calculado y los grados de libertad (1 en nuestro caso porque sólo hemos considerado una explicativa). "
   ]
  },
  {
   "cell_type": "markdown",
   "metadata": {},
   "source": [
    "\n",
    "- Estimar el residuo del modelo orginal:\n",
    "\n",
    "$$c = \\hat{c}_a + \\hat{c}_y·y + \\hat{u}$$\n",
    "\n",
    "- Estimar el residuo de la regresión auxiliar:\n",
    "\n",
    "$$\\frac{\\hat{u}}{\\widetilde{\\sigma}_{\\hat{c}}} = \\hat{\\gamma}_1 + \\hat{\\gamma}_2·y + \\hat{\\epsilon}$$\n",
    "\n",
    "- El estimador BP:\n",
    "\n",
    "$$BP = \\frac{SE_{ra}}{2} \\sim \\chi^2(1)$$"
   ]
  },
  {
   "cell_type": "code",
   "execution_count": 16,
   "metadata": {
    "collapsed": false
   },
   "outputs": [],
   "source": [
    "sigma_mv = (reg.ssr / reg.nobs)"
   ]
  },
  {
   "cell_type": "code",
   "execution_count": 17,
   "metadata": {
    "collapsed": false
   },
   "outputs": [],
   "source": [
    "bp_endog = reg.resid ** 2 / sigma_mv"
   ]
  },
  {
   "cell_type": "code",
   "execution_count": 18,
   "metadata": {
    "collapsed": false
   },
   "outputs": [],
   "source": [
    "data_bp = pd.DataFrame.from_dict({'endog': bp_endog, 'renta': data.renta})"
   ]
  },
  {
   "cell_type": "code",
   "execution_count": 23,
   "metadata": {
    "collapsed": false
   },
   "outputs": [
    {
     "name": "stdout",
     "output_type": "stream",
     "text": [
      "BP_value = 17.832\tChi(1) = 5.024\n"
     ]
    }
   ],
   "source": [
    "fc = 'endog ~ renta'\n",
    "\n",
    "regc = ols(fc, data_bp).fit()\n",
    "e = 0.05 # signification\n",
    "se_ra = np.power(regc.fittedvalues - regc.fittedvalues.mean(), 2) # SSE\n",
    "se_ra = np.sum(se_ra)\n",
    "bp_value = se_ra / 2\n",
    "bp_score = sns.stats.chi2.ppf(1 - e/2, df=1)\n",
    "res = (bp_value, bp_score)\n",
    "print('BP_value = %.3f\\tChi(1) = %.3f' % res)"
   ]
  },
  {
   "cell_type": "code",
   "execution_count": 24,
   "metadata": {
    "collapsed": false
   },
   "outputs": [
    {
     "name": "stdout",
     "output_type": "stream",
     "text": [
      "          df        sum_sq       mean_sq           F        PR(>F)\n",
      "renta      1  2.268472e+08  2.268472e+08  623.285017  9.034474e-29\n",
      "Residual  47  1.710584e+07  3.639541e+05         NaN           NaN\n"
     ]
    }
   ],
   "source": [
    "print(sms.anova_lm(reg)) # quitar"
   ]
  },
  {
   "cell_type": "code",
   "execution_count": 25,
   "metadata": {
    "collapsed": false
   },
   "outputs": [
    {
     "data": {
      "text/plain": [
       "12.262877320608398"
      ]
     },
     "execution_count": 25,
     "metadata": {},
     "output_type": "execute_result"
    }
   ],
   "source": [
    "regc.nobs * regc.rsquared # quitar"
   ]
  },
  {
   "cell_type": "code",
   "execution_count": 26,
   "metadata": {
    "collapsed": false
   },
   "outputs": [
    {
     "data": {
      "text/plain": [
       "(12.262877320608398,\n",
       " 0.00046205850806998159,\n",
       " 15.688632969394533,\n",
       " 0.00025192772295442304)"
      ]
     },
     "execution_count": 26,
     "metadata": {},
     "output_type": "execute_result"
    }
   ],
   "source": [
    "sms.diagnostic.het_breushpagan(reg.resid, reg.model.exog) # quitar"
   ]
  },
  {
   "cell_type": "markdown",
   "metadata": {},
   "source": [
    "# d)  \n",
    "## Vamos a tratar la posible presencia de heteroscedasticidad de la variable renta suponiendo dos tipos de estructuras heteroscedásticas:\n",
    "\n",
    "- (1)  $V(u_i) = \\alpha + \\beta· renta_i^2$\n",
    "\n",
    "- (2)  $log V(u_i) = \\alpha + \\beta · log(renta_i)$  $\\longrightarrow$  heteroscedasticidad multiplicativa\n",
    "\n",
    "Para determinar cuál de las dos estructuras es la más adecuada, habrá que hacer las regresiones que corresponda según el supuesto adoptado:\n",
    "\n",
    "- si (1): $\\hat{u}^2 = \\alpha + \\beta · renta_i^2 + v_i$\n",
    "\n",
    "- si (2): $log (\\hat{u}^2) = \\alpha + \\beta · log(renta_i) + v_i$\n",
    "\n",
    "Se aceptará que existe un determinado __tipo de heteroscedasticidad__ u otro si en el modelo estimado la variable __log renta es significativa__, en ese caso, nos quedaremos con el modelo en que el __t-ratio sea mayor__. \n",
    "\n",
    "En caso de que se aceptara el primer tipo de heteroscedasticidad, para estimar el modelo de forma adecuada debemos aplicar Mínimos Cuadrados Generalizados Factibles, lo cual implica ponderar todas las variables del modelo por la desviación típica de la varianza, es decir, __dividir por la variable Renta__, tanto la variable endógena, como la constante y la variable exógena. \n",
    "\n",
    "Una vez construidas las nuevas variables, se estima el nuevo modelo por MCO y los nuevos coeficientes estimados ya están libres de problemas de heteroscedasticidad. En caso de aceptar __heteroscedasticidad multiplicativa__, para corregir el modelo original habría que ponderarlo por:\n",
    "\n",
    "$\\sqrt{e^{[\\alpha + \\beta · log (renta)]}}$\n",
    "\n",
    "De este nuevo modelo se pueden __analizar los residuos__ para ver si su varianza ya es constante. Hacer el __gráfico__ de los __residuos__ frente a la variable __Renta__ y hacer también el contraste de __White__. __Valorar__ también el __cambio__ producido en los __parámetros__ estimados respecto al modelo inicial."
   ]
  },
  {
   "cell_type": "code",
   "execution_count": 27,
   "metadata": {
    "collapsed": false
   },
   "outputs": [],
   "source": [
    "data['uhat2'] = reg.resid ** 2\n",
    "fd1 = 'uhat2 ~ np.power(renta, 2)'\n",
    "md1 = ols(fd1, data).fit()"
   ]
  },
  {
   "cell_type": "code",
   "execution_count": 28,
   "metadata": {
    "collapsed": false
   },
   "outputs": [
    {
     "name": "stdout",
     "output_type": "stream",
     "text": [
      "                            OLS Regression Results                            \n",
      "==============================================================================\n",
      "Dep. Variable:                  uhat2   R-squared:                       0.271\n",
      "Model:                            OLS   Adj. R-squared:                  0.255\n",
      "Method:                 Least Squares   F-statistic:                     17.45\n",
      "Date:                Sun, 22 Nov 2015   Prob (F-statistic):           0.000127\n",
      "Time:                        18:46:36   Log-Likelihood:                -713.34\n",
      "No. Observations:                  49   AIC:                             1431.\n",
      "Df Residuals:                      47   BIC:                             1434.\n",
      "Df Model:                           1                                         \n",
      "Covariance Type:            nonrobust                                         \n",
      "======================================================================================\n",
      "                         coef    std err          t      P>|t|      [95.0% Conf. Int.]\n",
      "--------------------------------------------------------------------------------------\n",
      "Intercept          -3.618e+04   1.18e+05     -0.306      0.761     -2.74e+05  2.02e+05\n",
      "np.power(renta, 2)     0.0090      0.002      4.177      0.000         0.005     0.013\n",
      "==============================================================================\n",
      "Omnibus:                       26.233   Durbin-Watson:                   1.990\n",
      "Prob(Omnibus):                  0.000   Jarque-Bera (JB):               48.780\n",
      "Skew:                           1.608   Prob(JB):                     2.56e-11\n",
      "Kurtosis:                       6.681   Cond. No.                     8.80e+07\n",
      "==============================================================================\n",
      "\n",
      "Warnings:\n",
      "[1] Standard Errors assume that the covariance matrix of the errors is correctly specified.\n",
      "[2] The condition number is large, 8.8e+07. This might indicate that there are\n",
      "strong multicollinearity or other numerical problems.\n"
     ]
    }
   ],
   "source": [
    "print(md1.summary())"
   ]
  },
  {
   "cell_type": "code",
   "execution_count": 29,
   "metadata": {
    "collapsed": false
   },
   "outputs": [
    {
     "name": "stdout",
     "output_type": "stream",
     "text": [
      "                            OLS Regression Results                            \n",
      "==============================================================================\n",
      "Dep. Variable:          np.log(uhat2)   R-squared:                       0.185\n",
      "Model:                            OLS   Adj. R-squared:                  0.168\n",
      "Method:                 Least Squares   F-statistic:                     10.70\n",
      "Date:                Sun, 22 Nov 2015   Prob (F-statistic):            0.00201\n",
      "Time:                        18:46:48   Log-Likelihood:                -123.86\n",
      "No. Observations:                  49   AIC:                             251.7\n",
      "Df Residuals:                      47   BIC:                             255.5\n",
      "Df Model:                           1                                         \n",
      "Covariance Type:            nonrobust                                         \n",
      "=================================================================================\n",
      "                    coef    std err          t      P>|t|      [95.0% Conf. Int.]\n",
      "---------------------------------------------------------------------------------\n",
      "Intercept        -8.7203      5.869     -1.486      0.144       -20.527     3.087\n",
      "np.log(renta)     2.2495      0.688      3.272      0.002         0.866     3.633\n",
      "==============================================================================\n",
      "Omnibus:                       17.278   Durbin-Watson:                   2.071\n",
      "Prob(Omnibus):                  0.000   Jarque-Bera (JB):               20.284\n",
      "Skew:                          -1.420   Prob(JB):                     3.94e-05\n",
      "Kurtosis:                       4.369   Cond. No.                         115.\n",
      "==============================================================================\n",
      "\n",
      "Warnings:\n",
      "[1] Standard Errors assume that the covariance matrix of the errors is correctly specified.\n"
     ]
    }
   ],
   "source": [
    "fd2 = 'np.log(uhat2) ~ np.log(renta)'\n",
    "md2 = ols(fd2, data).fit()\n",
    "print(md2.summary())"
   ]
  },
  {
   "cell_type": "markdown",
   "metadata": {},
   "source": [
    "A la vista de los modelos, la estructura (1) es más significativa que la (2), por tanto planteamos el modelo lineal generalizado, siguiendo dicha estructura.\n",
    "\n",
    "$\\hat{u}^2 = \\alpha + \\beta · \\text{renta}_i^2 + v_i$ (1)\n",
    "\n",
    "$\\hat{u} = \\sqrt{\\hat{\\alpha} + \\hat{\\beta} · \\text{renta}_i^2 + v_i}$\n",
    "\n",
    "Estimar:\n",
    "\n",
    "$\\frac{\\text{consumo}_i}{\\hat{u}} = \\alpha + \\beta · \\frac{\\text{renta}_i}{\\hat{u}}$"
   ]
  },
  {
   "cell_type": "code",
   "execution_count": 106,
   "metadata": {
    "collapsed": false,
    "scrolled": false
   },
   "outputs": [
    {
     "name": "stdout",
     "output_type": "stream",
     "text": [
      "                            OLS Regression Results                            \n",
      "==============================================================================\n",
      "Dep. Variable:                consumo   R-squared:                       1.000\n",
      "Model:                            OLS   Adj. R-squared:                  1.000\n",
      "Method:                 Least Squares   F-statistic:                 1.162e+05\n",
      "Date:                Sun, 22 Nov 2015   Prob (F-statistic):           2.08e-81\n",
      "Time:                        21:00:17   Log-Likelihood:                 31.978\n",
      "No. Observations:                  49   AIC:                            -59.96\n",
      "Df Residuals:                      47   BIC:                            -56.17\n",
      "Df Model:                           1                                         \n",
      "Covariance Type:            nonrobust                                         \n",
      "==============================================================================\n",
      "                 coef    std err          t      P>|t|      [95.0% Conf. Int.]\n",
      "------------------------------------------------------------------------------\n",
      "Intercept      0.0168      0.019      0.907      0.369        -0.020     0.054\n",
      "renta          0.9813      0.003    340.922      0.000         0.976     0.987\n",
      "==============================================================================\n",
      "Omnibus:                      104.262   Durbin-Watson:                   2.048\n",
      "Prob(Omnibus):                  0.000   Jarque-Bera (JB):             3410.115\n",
      "Skew:                           6.230   Prob(JB):                         0.00\n",
      "Kurtosis:                      41.923   Cond. No.                         6.50\n",
      "==============================================================================\n",
      "\n",
      "Warnings:\n",
      "[1] Standard Errors assume that the covariance matrix of the errors is correctly specified.\n"
     ]
    }
   ],
   "source": [
    "d = data.copy()\n",
    "\n",
    "d['consumo'] = d.consumo / md1.fittedvalues #** 0.5\n",
    "d['renta'] = d.renta / md1.fittedvalues #** 0.5\n",
    "\n",
    "f_d = 'consumo ~ renta'\n",
    "md = ols(f_d, d).fit()\n",
    "\n",
    "print(md.summary())"
   ]
  },
  {
   "cell_type": "code",
   "execution_count": 107,
   "metadata": {
    "collapsed": false
   },
   "outputs": [
    {
     "data": {
      "text/plain": [
       "(30.851382218909958,\n",
       " 1.998515273263059e-07,\n",
       " 39.098393034332226,\n",
       " 1.1992007951514375e-10)"
      ]
     },
     "execution_count": 107,
     "metadata": {},
     "output_type": "execute_result"
    }
   ],
   "source": [
    "sm.stats.diagnostic.het_white(md.resid, md.model.exog)"
   ]
  },
  {
   "cell_type": "code",
   "execution_count": 108,
   "metadata": {
    "collapsed": false
   },
   "outputs": [
    {
     "data": {
      "text/plain": [
       "<matplotlib.collections.PathCollection at 0x1137e8400>"
      ]
     },
     "execution_count": 108,
     "metadata": {},
     "output_type": "execute_result"
    },
    {
     "name": "stderr",
     "output_type": "stream",
     "text": [
      "/Users/mmngreco/Virtualenvs/ipynb/lib/python3.5/site-packages/matplotlib/collections.py:590: FutureWarning: elementwise comparison failed; returning scalar instead, but in the future will perform elementwise comparison\n",
      "  if self._edgecolors == str('face'):\n"
     ]
    },
    {
     "data": {
      "image/png": "[encoded data removed]",
      "text/plain": [
       "<matplotlib.figure.Figure at 0x1137855c0>"
      ]
     },
     "metadata": {},
     "output_type": "display_data"
    }
   ],
   "source": [
    "plt.scatter(md.model.exog[:,1], np.array(md.resid), alpha=0.6)"
   ]
  },
  {
   "cell_type": "code",
   "execution_count": null,
   "metadata": {
    "collapsed": true
   },
   "outputs": [],
   "source": []
  },
  {
   "cell_type": "code",
   "execution_count": null,
   "metadata": {
    "collapsed": true
   },
   "outputs": [],
   "source": []
  }
 ],
 "metadata": {
  "kernelspec": {
   "display_name": "Python 3",
   "language": "python",
   "name": "python3"
  },
  "language_info": {
   "codemirror_mode": {
    "name": "ipython",
    "version": 3
   },
   "file_extension": ".py",
   "mimetype": "text/x-python",
   "name": "python",
   "nbconvert_exporter": "python",
   "pygments_lexer": "ipython3",
   "version": "3.5.0"
  }
 },
 "nbformat": 4,
 "nbformat_minor": 0
}
