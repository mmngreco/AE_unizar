{
 "cells": [
  {
   "cell_type": "code",
   "execution_count": 1,
   "metadata": {
    "collapsed": false
   },
   "outputs": [],
   "source": [
    "import scipy.stats as st\n",
    "from statsmodels.formula.api import ols, rlm\n",
    "import statsmodels.stats.api as sms\n",
    "import statsmodels.api as sm\n",
    "import statsmodels.tsa.stattools as ts\n",
    "from statsmodels.graphics.tsaplots import plot_acf, plot_pacf\n",
    "import matplotlib.pyplot as plt\n",
    "import numpy as np\n",
    "import pandas as pd\n",
    "import seaborn as sns\n",
    "import tabulate as tb\n",
    "from statsmodels.sandbox.regression.predstd import wls_prediction_std"
   ]
  },
  {
   "cell_type": "code",
   "execution_count": 2,
   "metadata": {
    "collapsed": true
   },
   "outputs": [],
   "source": [
    "%matplotlib inline"
   ]
  },
  {
   "cell_type": "markdown",
   "metadata": {
    "collapsed": false,
    "scrolled": false
   },
   "source": [
    "# Caso 1.1.\n",
    "## Estimación de una función de demanda de dinero con datos de la economía española.\n",
    "\n",
    "En el fichero DEMDIN.GDT se ofrece información de la economía española en el periodo 1964-1985 de las siguientes variables:\n",
    "\n",
    "- M1: Efectivo en manos del público + depósitos a la vista\n",
    "\n",
    "- ipc: índice de precios al consumo base 1970\n",
    "\n",
    "- rc: tipo de interés a corto plazo (tipo de los depósitos a menos de un año)\n",
    "\n",
    "- rl: tipo de interés a largo plazo (rendimiento interno de las obligaciones privadas)\n",
    "\n",
    "- y: PIB en unidades monetarias constantes de 1970.\n",
    "\n",
    "\n",
    ">Alternativamente, los datos de M1, producción a precios\n",
    "constantes y tipo de interés a corto y largo plazo, todos ellos para Europa, se\n",
    "pueden obtener de la base de datos del Banco de España que se ofrece a través\n",
    "del propio Gretl en la opción Archivos-Bases de datos-Sobre servidor. El dato\n",
    "del IPC con base 2005 se puede obtener de la base de datos del BCE en internet.\n",
    "Se pueden usar todos los datos mensuales y cuando se cargan desde Gretl se\n",
    "puede decir que convierta los datos trimestrales en mensuales interpolando. Los\n",
    "datos del IPC habrá que guardarlos en formato Excel y después añadirlos a los\n",
    "que tengamos en Gretl, teniendo cuidado de que los decimales estén en Excel con\n",
    "coma y que coincidan los periodos inicial y final.\n",
    "\n",
    "# Se plantea estimar la siguiente función de demanda de dinero:\n",
    "\n",
    "$$log (M1) = β_0 + β_1 log (y) + β_2 log (r) + β_3 log (ipc) + u$$\n",
    "\n",
    "En el modelo se intenta explicar la demanda de dinero en función de la renta real, utilizándose el PIB, para estimar el efecto del motivo transacción. La segunda variable explicativa, el tipo de interés, recoge el comportamiento de la demanda de dinero especulativo, representando el coste de oportunidad de mantener dinero como forma de ahorro. La última variable, el índice de precios al consumo, se introduce como variable explicativa para valorar el efecto de la inflación sobre la demanda nominal de dinero.\n",
    "\n",
    "- a)  Estimar el modelo de oferta monetaria, utilizando el tipo de interés a corto plazo para los grupos tipo A y el tipo a largo para los grupos tipo B. Comentar los resultados desde el punto de vista económico y econométrico.\n",
    "\n",
    "- b)  Contrastar la restricción $β_3 = 1$, comentando sus implicaciones económicas. Hacer los cálculos paso a paso sin usar las opciones directas de Gretl.\n",
    "\n",
    "- c)  Estimar el modelo asumiendo que la restricción es cierta.\n",
    "\n",
    "- d)  Suponer que queremos estimar el modelo usando la variable M1 en términos reales, imponiendo para ello la restricción del apartado b), y a la vez seguir manteniendo el ipc como variable explicativa. Pensar cómo transformar el modelo para conseguir el doble objetivo anterior y calcular de forma razonada (con la ayuda de la estimación del apartado a) el valor del coeficiente que acompaña a la variable ipc.\n",
    "\n",
    "- e)  Estimar al modelo del apartado d) comprobando si se cumple el resultado teórico.\n",
    "\n",
    "Interpretar económicamente todos los modelos estimados y calcular en cada modelo los contrastes de especificación RESET, normalidad y autocorrelación LM de orden 1 y 2."
   ]
  },
  {
   "cell_type": "markdown",
   "metadata": {
    "collapsed": false,
    "scrolled": false
   },
   "source": [
    "# MODELO:\n",
    "\n",
    "$$log (M) = β_0 + β_1 log (y) + β_2 log (r) + β_3 log (ipc) + u$$\n",
    "\n",
    "## QUE ES UNA TRANSFORMACIÓN DEL MODELO ORIGINAL (Cobb-Douglas):\n",
    "\n",
    "$$ M= e^{\\beta_0}·y^{\\beta_1}·r^{\\beta_2}·ipc^{\\beta_3}$$\n",
    "$$ \\frac{M}{ipc^{\\beta_3}}= e^{\\beta_0}·y^{\\beta_1}·r^{\\beta_2}$$\n",
    "\n",
    "# DATOS:\n",
    "\n",
    "Las variables usadas han sido obtenidas en la base de [datos FMI](http://data.imf.org/?sk=7CB6619C-CF87-48DC-9443-2973E161ABEB&ss=1390023474041), todas tienen frecuencia trimestral.\n",
    "\n",
    "## Metodología:\n",
    "\n",
    "Dado que cada serie presenta datos para un rango distinto, he fitrado el rango común para poder realizar el análisis, lo que ha reducido mucho la muestra de la series a 68 observaciones, pero suficiente para poder aplicar el teorema central del límite y la ley de los grandes números. Todas las series son para España. El rango de datos resultante va desde el primer trimestre de 1982 hasta el último trimestre de 1998.\n",
    "\n",
    "- __M1:__ Oferta monetaria M1 (Euros) [enlace](http://data.imf.org/?sk=b6ba51fd-6647-4ca2-8e8c-e680d2660ed5&dsId=DS_1438873160033)\n",
    "- __ipc:__ Indice de Precios al Consumidor, ALL ITEMS (2010 = 100%) [enlace](http://data.imf.org/?sk=37214c4f-816c-4789-a0c6-d8a4dba96f1c&dsId=DS_1438873160033)\n",
    "- __rc:__ Tipo de interés de los depósitos a la vista (%) [enlace](http://data.imf.org/?sk=8bb6d92d-843b-4a2c-a147-4e009850014c&dsId=DS_1438873160033)\n",
    "- __y:__ PIB real, ajustado de efecto estacional, indice (2010 = 100%) [enlace](http://data.imf.org/?sk=c7fe04cd-fbbf-4f6b-b7d2-cd13a9fa5122&dsId=DS_1438873160033)"
   ]
  },
  {
   "cell_type": "code",
   "execution_count": 3,
   "metadata": {
    "collapsed": false
   },
   "outputs": [],
   "source": [
    "# datos\n",
    "r = pd.read_excel('fmi_interes_spain.xlsx', skip_rows=0, header=1, index_col=0) / 100  # tanto por uno\n",
    "r.columns = ['r']"
   ]
  },
  {
   "cell_type": "code",
   "execution_count": 4,
   "metadata": {
    "collapsed": false
   },
   "outputs": [],
   "source": [
    "p = pd.read_excel('fmi_ipc_spain.xlsx', skip_rows=0, header=1, index_col=0)\n",
    "p.columns = ['p']"
   ]
  },
  {
   "cell_type": "code",
   "execution_count": 5,
   "metadata": {
    "collapsed": false
   },
   "outputs": [],
   "source": [
    "m1 = pd.read_excel('fmi_m1_spain.xlsx', skip_rows=0, header=1, index_col=0)\n",
    "m1.columns = ['m1']"
   ]
  },
  {
   "cell_type": "code",
   "execution_count": 6,
   "metadata": {
    "collapsed": false
   },
   "outputs": [],
   "source": [
    "y = pd.read_excel('fmi_pib_spain.xlsx',skip_rows=0, header=1, index_col=0)\n",
    "y.columns = ['y']"
   ]
  },
  {
   "cell_type": "code",
   "execution_count": 7,
   "metadata": {
    "collapsed": false
   },
   "outputs": [
    {
     "data": {
      "image/png": "[encoded data removed]",
      "text/plain": [
       "<matplotlib.figure.Figure at 0x1151aea20>"
      ]
     },
     "metadata": {},
     "output_type": "display_data"
    }
   ],
   "source": [
    "data = pd.concat([m1 , y, r, p], axis=1, join='inner')\n",
    "data.dropna(inplace=True)\n",
    "data.plot(subplots=True, layout=(2,2), figsize=(10,9))\n",
    "plt.tight_layout()\n",
    "\n",
    "plt.suptitle('Series', y=1.015, fontsize=15)\n",
    "plt.savefig('imgs/series.png', bbox_inches='tight')"
   ]
  },
  {
   "cell_type": "markdown",
   "metadata": {},
   "source": [
    "Los gráficos nos indican que las variables presentan tendencia determinista, excepto el caso del tipo de interés que no está muy claro. Para identificar mejor los componentes deberías hacer un contraste de dickey-fuller para todas y decidir a partir de la información recogida. A priori podemos decir que el tipo de interés tiene una tendencia mas volátil y decreciente, mientras que el resto son más estables y con tendencia creciente respecto del tiempo."
   ]
  },
  {
   "cell_type": "code",
   "execution_count": 8,
   "metadata": {
    "collapsed": false,
    "scrolled": true
   },
   "outputs": [
    {
     "name": "stdout",
     "output_type": "stream",
     "text": [
      "                    m1          y         r          p\n",
      "Q1 1982  4363000000000  44.744559  0.119700  26.637351\n",
      "Q2 1982  4611700000000  44.912734  0.121233  27.584677\n",
      "Q3 1982  4684000000000  45.216270  0.122633  28.391079\n",
      "Q4 1982  5003400000000  45.375656  0.126733  29.040898\n",
      "Q1 1983  4821800000000  45.541487  0.122100  30.160465\n"
     ]
    }
   ],
   "source": [
    "print(data.head())"
   ]
  },
  {
   "cell_type": "code",
   "execution_count": 9,
   "metadata": {
    "collapsed": false
   },
   "outputs": [
    {
     "name": "stdout",
     "output_type": "stream",
     "text": [
      "                     m1          y         r          p\n",
      "Q4 1997  21834900000000  71.054916  0.036000  71.072951\n",
      "Q1 1998  21705700000000  69.937077  0.032467  71.310435\n",
      "Q2 1998  22567600000000  70.530850  0.030600  71.534871\n",
      "Q3 1998  22653200000000  71.158433  0.029167  72.004619\n",
      "Q4 1998  25270600000000  71.763124  0.024633  72.135105\n"
     ]
    }
   ],
   "source": [
    "print(data.tail())"
   ]
  },
  {
   "cell_type": "markdown",
   "metadata": {},
   "source": [
    "## MODELO A"
   ]
  },
  {
   "cell_type": "code",
   "execution_count": 81,
   "metadata": {
    "collapsed": false
   },
   "outputs": [
    {
     "name": "stdout",
     "output_type": "stream",
     "text": [
      "$np.log(m1) ~ np.log(y) + np.log(r) + np.log(p)$\n",
      "\n",
      "\n",
      "                            OLS Regression Results                            \n",
      "==============================================================================\n",
      "Dep. Variable:             np.log(m1)   R-squared:                       0.991\n",
      "Model:                            OLS   Adj. R-squared:                  0.990\n",
      "Method:                 Least Squares   F-statistic:                     2309.\n",
      "Date:                Fri, 16 Oct 2015   Prob (F-statistic):           3.80e-65\n",
      "Time:                        14:05:11   Log-Likelihood:                 107.11\n",
      "No. Observations:                  68   AIC:                            -206.2\n",
      "Df Residuals:                      64   BIC:                            -197.3\n",
      "Df Model:                           3                                         \n",
      "Covariance Type:            nonrobust                                         \n",
      "==============================================================================\n",
      "                 coef    std err          t      P>|t|      [95.0% Conf. Int.]\n",
      "------------------------------------------------------------------------------\n",
      "Intercept     16.7194      0.481     34.726      0.000        15.758    17.681\n",
      "np.log(y)      2.9630      0.222     13.372      0.000         2.520     3.406\n",
      "np.log(r)      0.0910      0.024      3.770      0.000         0.043     0.139\n",
      "np.log(p)      0.3982      0.108      3.675      0.000         0.182     0.615\n",
      "==============================================================================\n",
      "Omnibus:                        3.352   Durbin-Watson:                   1.128\n",
      "Prob(Omnibus):                  0.187   Jarque-Bera (JB):                1.785\n",
      "Skew:                           0.021   Prob(JB):                        0.410\n",
      "Kurtosis:                       2.207   Cond. No.                         536.\n",
      "==============================================================================\n",
      "\n",
      "Warnings:\n",
      "[1] Standard Errors assume that the covariance matrix of the errors is correctly specified.\n"
     ]
    }
   ],
   "source": [
    "# regresión\n",
    "formula = 'np.log(m1) ~ np.log(y) + np.log(r) + np.log(p)'\n",
    "results = ols(formula, data).fit()\n",
    "print('$'+ formula+'$')\n",
    "print('\\n')\n",
    "print(results.summary())"
   ]
  },
  {
   "cell_type": "markdown",
   "metadata": {},
   "source": [
    "A partir de la información obtenida del modelo, analizamos el Durbin-Watson que contrasta la no autocorrelación, está entre 0 y 4, con cerca de 0 correlación positiva y cerca de 4 correlacón negativa. Vemos que parece haber autorcorrelación, pero no está claro con un DW de 1.128 > 1, $\\hat{\\rho} = 1 - \\frac{1.128}{2} = 0.436$ con $-1< \\rho < 1$ estaríamos indecisos solo con este contraste, por lo que necesitamos más información al respecto. $H_0 = \\rho = 0$\n",
    "\n",
    "La prueba de Jarque-Bera nos da información sobre la normalidad de las perturbaciones, con un JB = 1.785 y p-value = 0.410, no podemos rechazar la normalidad de las perturbaciones. El contraste Omnibus también da evidencia a favor de la normalidad.\n",
    "\n",
    "Nos faltaría información acerca de la correcta especificación y sobre la heterocedasticidad que calcularemos a continuación.\n",
    "\n",
    "Tras este breve análisis, suponiendo que no hay problemas de autocorrelación, especificación y heterocedasticidad, podríamos afirmar que los t-ratios y el estadístico F siguen las distribuciones correspondientes y se puede concluir que el modelo es significativo conjuntamente, los parámetros lo son individualmente y además con un $R^2 = 0.991$ por lo que el modelo explica practicamente la totalidad del comportamiento de la variable endógena."
   ]
  },
  {
   "cell_type": "code",
   "execution_count": 30,
   "metadata": {
    "collapsed": false
   },
   "outputs": [
    {
     "data": {
      "image/png": "[encoded data removed]",
      "text/plain": [
       "<matplotlib.figure.Figure at 0x115928518>"
      ]
     },
     "metadata": {},
     "output_type": "display_data"
    }
   ],
   "source": [
    "data_log = np.log(data)\n",
    "fig=plt.figure(figsize=(8,10))\n",
    "\n",
    "ax1 = plt.subplot(2,1,1)\n",
    "data_log.m1.plot(label='Real', ax=ax1)\n",
    "results.fittedvalues.plot(label='Predicción')\n",
    "\n",
    "ax2 = plt.subplot(2,1,2)\n",
    "results.resid.plot(ax=ax2, label='Residuo', sharex=ax1)\n",
    "ax2.axhline(y=0, color='black', linewidth=1)\n",
    "\n",
    "ax1.legend()\n",
    "ax2.legend()\n",
    "plt.suptitle('Ajuste', fontsize=15, y=1.01)\n",
    "plt.tight_layout()\n",
    "plt.savefig('imgs/ols_ajuste.png', bbox_inches='tight')"
   ]
  },
  {
   "cell_type": "markdown",
   "metadata": {},
   "source": [
    "En este gráfico vemos el gráfico de la endógena y la estimación de la endógena según el modelo estimado, se ve claramente que el modelo se ajusta muy bien a la realidad, aunque presenta problemas.\n",
    "\n",
    "El gráfico de los residuos, no parecen ser muy aleatorios, esto lo tendremos en cuentra para aplicar los contrastes."
   ]
  },
  {
   "cell_type": "markdown",
   "metadata": {},
   "source": [
    "## AUTOCORRELACIÓN"
   ]
  },
  {
   "cell_type": "code",
   "execution_count": 71,
   "metadata": {
    "collapsed": false
   },
   "outputs": [
    {
     "name": "stderr",
     "output_type": "stream",
     "text": [
      "/Users/mmngreco/Virtualenvs/ipynb/lib/python3.5/site-packages/matplotlib/collections.py:590: FutureWarning: elementwise comparison failed; returning scalar instead, but in the future will perform elementwise comparison\n",
      "  if self._edgecolors == str('face'):\n"
     ]
    },
    {
     "data": {
      "image/png": "[encoded data removed]",
      "text/plain": [
       "<matplotlib.figure.Figure at 0x1153c4d68>"
      ]
     },
     "metadata": {},
     "output_type": "display_data"
    }
   ],
   "source": [
    "# desde aqui\n",
    "fsize = (10,5)\n",
    "\n",
    "plt.figure(figsize=fsize)\n",
    "ax1 = plt.subplot(2,1,1)\n",
    "plot_acf(data.m1, ax=ax1)\n",
    "ax2 = plt.subplot(2,1,2)\n",
    "plot_pacf(data.m1, ax=ax2)\n",
    "plt.suptitle('Oferta Monetaria (M1)', fontsize=15, y=1.015)\n",
    "plt.tight_layout()\n",
    "plt.savefig('imgs/m1_acor.png', bbox_inches='tight')"
   ]
  },
  {
   "cell_type": "code",
   "execution_count": 72,
   "metadata": {
    "collapsed": false
   },
   "outputs": [
    {
     "name": "stderr",
     "output_type": "stream",
     "text": [
      "/Users/mmngreco/Virtualenvs/ipynb/lib/python3.5/site-packages/matplotlib/collections.py:590: FutureWarning: elementwise comparison failed; returning scalar instead, but in the future will perform elementwise comparison\n",
      "  if self._edgecolors == str('face'):\n"
     ]
    },
    {
     "data": {
      "image/png": "[encoded data removed]",
      "text/plain": [
       "<matplotlib.figure.Figure at 0x115ac7e80>"
      ]
     },
     "metadata": {},
     "output_type": "display_data"
    }
   ],
   "source": [
    "plt.figure(figsize=fsize)\n",
    "ax1 = plt.subplot(2,1,1)\n",
    "plot_acf(data.p, ax=ax1)\n",
    "ax2 = plt.subplot(2,1,2)\n",
    "plot_pacf(data.p, ax=ax2)\n",
    "plt.suptitle('Precio', fontsize=15, y=1.015)\n",
    "plt.tight_layout()\n",
    "plt.savefig('imgs/p_acor.png', bbox_inches='tight')"
   ]
  },
  {
   "cell_type": "code",
   "execution_count": 73,
   "metadata": {
    "collapsed": false
   },
   "outputs": [
    {
     "name": "stderr",
     "output_type": "stream",
     "text": [
      "/Users/mmngreco/Virtualenvs/ipynb/lib/python3.5/site-packages/matplotlib/collections.py:590: FutureWarning: elementwise comparison failed; returning scalar instead, but in the future will perform elementwise comparison\n",
      "  if self._edgecolors == str('face'):\n"
     ]
    },
    {
     "data": {
      "image/png": "[encoded data removed]",
      "text/plain": [
       "<matplotlib.figure.Figure at 0x1165bfd68>"
      ]
     },
     "metadata": {},
     "output_type": "display_data"
    }
   ],
   "source": [
    "plt.figure(figsize=fsize)\n",
    "ax1 = plt.subplot(2,1,1)\n",
    "\n",
    "plot_acf(data.r, ax=ax1)\n",
    "ax2 = plt.subplot(2,1,2)\n",
    "\n",
    "plot_pacf(data.r, ax=ax2)\n",
    "plt.suptitle('Tipo de Interés (r)', fontsize=15, y=1.015)\n",
    "plt.tight_layout()\n",
    "plt.savefig('imgs/r_acor.png', bbox_inches='tight')"
   ]
  },
  {
   "cell_type": "code",
   "execution_count": 74,
   "metadata": {
    "collapsed": false
   },
   "outputs": [
    {
     "name": "stderr",
     "output_type": "stream",
     "text": [
      "/Users/mmngreco/Virtualenvs/ipynb/lib/python3.5/site-packages/matplotlib/collections.py:590: FutureWarning: elementwise comparison failed; returning scalar instead, but in the future will perform elementwise comparison\n",
      "  if self._edgecolors == str('face'):\n"
     ]
    },
    {
     "data": {
      "image/png": "[encoded data removed]",
      "text/plain": [
       "<matplotlib.figure.Figure at 0x1165da2b0>"
      ]
     },
     "metadata": {},
     "output_type": "display_data"
    }
   ],
   "source": [
    "plt.figure(figsize=fsize)\n",
    "ax1 = plt.subplot(2,1,1)\n",
    "plot_acf(data.y, ax=ax1)\n",
    "ax2 = plt.subplot(2,1,2)\n",
    "plot_pacf(data.y, ax=ax2)\n",
    "plt.suptitle('PIB (y)', fontsize=15, y=1.015)\n",
    "plt.tight_layout()\n",
    "plt.savefig('imgs/y_acor.png', bbox_inches='tight')"
   ]
  },
  {
   "cell_type": "code",
   "execution_count": 75,
   "metadata": {
    "collapsed": false
   },
   "outputs": [
    {
     "data": {
      "image/png": "[encoded data removed]",
      "text/plain": [
       "<matplotlib.figure.Figure at 0x1165eeac8>"
      ]
     },
     "metadata": {},
     "output_type": "display_data"
    }
   ],
   "source": [
    "# residuos:\n",
    "reg.resid.plot()\n",
    "plt.suptitle('Residuos', fontsize=15, y=1.015)\n",
    "plt.savefig('imgs/resid.png', bbox_inches='tight')"
   ]
  },
  {
   "cell_type": "code",
   "execution_count": 76,
   "metadata": {
    "collapsed": false
   },
   "outputs": [
    {
     "name": "stderr",
     "output_type": "stream",
     "text": [
      "/Users/mmngreco/Virtualenvs/ipynb/lib/python3.5/site-packages/matplotlib/collections.py:590: FutureWarning: elementwise comparison failed; returning scalar instead, but in the future will perform elementwise comparison\n",
      "  if self._edgecolors == str('face'):\n"
     ]
    },
    {
     "data": {
      "image/png": "[encoded data removed]",
      "text/plain": [
       "<matplotlib.figure.Figure at 0x1158ead68>"
      ]
     },
     "metadata": {},
     "output_type": "display_data"
    }
   ],
   "source": [
    "plt.figure(figsize=fsize)\n",
    "\n",
    "ax1 = plt.subplot(2,1,1)\n",
    "plot_acf(reg.resid, ax=ax1)\n",
    "\n",
    "ax2 = plt.subplot(2,1,2)\n",
    "plot_pacf(reg.resid, ax=ax2)\n",
    "\n",
    "plt.suptitle('RESIDUOS (u)', fontsize=15, y=1.015)\n",
    "plt.tight_layout()\n",
    "\n",
    "plt.savefig('imgs/u_acor.png', bbox_inches='tight')"
   ]
  },
  {
   "cell_type": "code",
   "execution_count": 77,
   "metadata": {
    "collapsed": false
   },
   "outputs": [
    {
     "name": "stdout",
     "output_type": "stream",
     "text": [
      "## Contraste de Aucorrelación de Breusch-Godfrey:\n",
      "LM(1) 12.0219692828 0.000525771214336\n",
      "LM(2) 23.6299815825 7.39289768254e-06\n",
      "LM(3) 24.1781351031 2.29296353231e-05\n",
      "LM(4) 27.9482176456 1.27779926424e-05\n"
     ]
    }
   ],
   "source": [
    "# contraste de autocorrelación de Breusch-Godfrey\n",
    "\n",
    "print('## Contraste de Aucorrelación de Breusch-Godfrey:')\n",
    "name = ['LM', 'P-value', 'F-test', 'P-value']\n",
    "for i in range(1,5):\n",
    "    test = sms.acorr_breush_godfrey(results, nlags=i)\n",
    "    print('LM(%s)' % i, test[0], test[1])"
   ]
  },
  {
   "cell_type": "markdown",
   "metadata": {},
   "source": [
    "Contraste LM de Breusch-Godfrey, para LM(i) con i = 1,...,4, nos dice que hay evidencia en contra de la no autocorrelación de los residuos para cada orden i. "
   ]
  },
  {
   "cell_type": "code",
   "execution_count": 32,
   "metadata": {
    "collapsed": false
   },
   "outputs": [
    {
     "name": "stdout",
     "output_type": "stream",
     "text": [
      "## Contrsaste de Aucorrelación de LJung-Box\n",
      "      lbvalue        pvalue\n",
      "0   10.851982  9.869006e-04\n",
      "1   29.007207  5.025336e-07\n",
      "2   31.366407  7.116739e-07\n",
      "3   41.047683  2.627414e-08\n",
      "4   41.350204  7.971946e-08\n",
      "5   41.845424  1.972617e-07\n",
      "6   46.285981  7.690277e-08\n",
      "7   46.286403  2.096812e-07\n",
      "8   54.335390  1.629970e-08\n",
      "9   55.431563  2.622770e-08\n",
      "10  66.565120  5.464979e-10\n",
      "11  66.925855  1.198618e-09\n",
      "12  75.277305  8.451995e-11\n"
     ]
    }
   ],
   "source": [
    "# contraste de autocorrelación de ljun-box:\n",
    "print('## Contrsaste de Aucorrelación de LJung-Box')\n",
    "name = 'lbvalue pvalue'.split(' ')\n",
    "test = sms.acorr_ljungbox(results.resid, lags=13)\n",
    "print(pd.DataFrame([test[0], test[1]], index=name).T)\n"
   ]
  },
  {
   "cell_type": "markdown",
   "metadata": {},
   "source": [
    "El contraste de Ljung-Box contrasta conjuntamente la autocorrelación de orden i. La primera columna nos da el valor del LB y la segunda el p-value, que nos da evidencia en contra de la hipótesis de no autocorrelación.\n",
    "\n",
    "Por tanto el modelo presenta problemas de autocorrelación, este problema es típico con datos de series temporales, y se puede corregir añadiendo retardos, diferenciando, conviertiendo las series en estacionarias o cambiando los datos por corte trasnversal."
   ]
  },
  {
   "cell_type": "markdown",
   "metadata": {},
   "source": [
    "## HETEROCEDASTICIDAD"
   ]
  },
  {
   "cell_type": "code",
   "execution_count": 33,
   "metadata": {
    "collapsed": false
   },
   "outputs": [
    {
     "name": "stdout",
     "output_type": "stream",
     "text": [
      "## Contraste de Heterocedasticidad (Breusch-Pagan):\n",
      "-----------------------------  ---------\n",
      "Lagrange multiplier statistic  7.90439\n",
      "p-value                        0.0480296\n",
      "f-value                        2.80598\n",
      "f p-value                      0.0466507\n",
      "-----------------------------  ---------\n"
     ]
    }
   ],
   "source": [
    "# constraste heterocedasticidad breush-pagan\n",
    "print('## Contraste de Heterocedasticidad (Breusch-Pagan):')\n",
    "name = ['Lagrange multiplier statistic', 'p-value',\n",
    "        'f-value', 'f p-value']\n",
    "test = sms.het_breushpagan(results.resid, results.model.exog)\n",
    "print(tb.tabulate(list(zip(name, test))))\n"
   ]
  },
  {
   "cell_type": "markdown",
   "metadata": {},
   "source": [
    "El contraste LM de Breusch-Pagan (BP) no informa de la presencia de homocedasticidad o ausencia de ella. Para un nivel de significación del 5% estrictamente deberíamos rechazar la hipótesis nula de homocedasticidad pero al estar tan próximo no sería sensato, necesitamos más información."
   ]
  },
  {
   "cell_type": "markdown",
   "metadata": {},
   "source": [
    "El contraste de breush-pagan plantea la siguiente regresión auxiliar:\n",
    "$\\hat{u}^2 = \\gamma_0 + \\gamma_1 x + v$ y contrasta $\\gamma_0 = \\gamma_1 = 0$."
   ]
  },
  {
   "cell_type": "code",
   "execution_count": 34,
   "metadata": {
    "collapsed": false
   },
   "outputs": [
    {
     "name": "stdout",
     "output_type": "stream",
     "text": [
      "## Contraste de Heterocedasticidad (Goldfeld-Quandt):\n",
      "-----------  --------\n",
      "F statistic  0.747412\n",
      "p-value      0.785038\n",
      "-----------  --------\n"
     ]
    }
   ],
   "source": [
    "# constraste heterocedasticidad Golfeld-Quandt\n",
    "print('## Contraste de Heterocedasticidad (Goldfeld-Quandt):')\n",
    "name = ['F statistic', 'p-value']\n",
    "test = sms.het_goldfeldquandt(results.resid, results.model.exog)\n",
    "print(tb.tabulate(list(zip(name, test))))\n"
   ]
  },
  {
   "cell_type": "markdown",
   "metadata": {},
   "source": [
    "Para buscar más información que nos permita arrojar luz sobre la homocedasticidad del modelo, nos fijamos en los resultados del contraste de Goldfeld-Quandt que nos dice que se acepta la hipótesis nula de homocedasticidad. Este test suele usarse cuando pensamos que la varianza de la perturbación tiene una relación proporcional al valor de una de la varianza de una de las variables explicativas."
   ]
  },
  {
   "cell_type": "code",
   "execution_count": 35,
   "metadata": {
    "collapsed": false
   },
   "outputs": [
    {
     "name": "stdout",
     "output_type": "stream",
     "text": [
      "Contraste LM ARCH (22.217553581644651, 0.022740969171777203)\n"
     ]
    }
   ],
   "source": [
    "# constraste homocedasticidad\n",
    "print('Contraste LM ARCH', sms.het_arch(results.resid)[:2])"
   ]
  },
  {
   "cell_type": "markdown",
   "metadata": {},
   "source": [
    "Si la la varianza del error depende de la varianza del error en periodos anteriores, entonces este contraste lo recogería. La hipótesis nula es la ausencia de componentes ARCH frente a la alternativa de precencia."
   ]
  },
  {
   "cell_type": "code",
   "execution_count": 36,
   "metadata": {
    "collapsed": false
   },
   "outputs": [
    {
     "name": "stdout",
     "output_type": "stream",
     "text": [
      "white (14.655637956739263, 0.10083977629982969)\n"
     ]
    }
   ],
   "source": [
    "print('white', sms.het_white(results.resid, results.model.exog)[:2])"
   ]
  },
  {
   "cell_type": "markdown",
   "metadata": {},
   "source": [
    "El contraste de white, es muy sensible a la mala especificación del modelo y a la precencia de componentes ARCH. Por lo que no podemos fiarnos mucho de su resultado.\n",
    "\n",
    "$$ y_t = a_0 + a_1 y_{t-1} + \\cdots + a_q y_{t-q} + \\epsilon_t = a_0 + \\sum_{i=1}^q a_i y_{t-i} + \\epsilon_t$$\n",
    "\n",
    "Se obtiene el cuadrado del error: $\\hat \\epsilon^2 $ y se hace la regresión:\n",
    "$$ \\hat \\epsilon_t^2 = \\hat \\alpha_0 + \\sum_{i=1}^{q} \\hat \\alpha_i \\hat \\epsilon_{t-i}^2$$\n",
    "donde q es la cantidad de retardos.\n",
    "\n",
    "La hipótesis nula es que $\\alpha_i = 0$ $\\forall i=1,..,q$\n",
    "\n",
    "En una muestra de T residuos bajo la hipótesis nula de ausencia de componentes ARCH en los errores, el estadístico $T'R^2 ~\\chi^2_{q}$, donde T' es el número de ecuaciones en el modelo que ajustan el residuo contra los retardos. (T'=T-q)."
   ]
  },
  {
   "cell_type": "markdown",
   "metadata": {},
   "source": [
    "## ESPECIFICACIÓN"
   ]
  },
  {
   "cell_type": "code",
   "execution_count": 37,
   "metadata": {
    "collapsed": false
   },
   "outputs": [
    {
     "name": "stdout",
     "output_type": "stream",
     "text": [
      "## Contraste de RESET\n",
      "Intervalo de Confianza\n",
      "\n",
      "                      0            1\n",
      "Intercept -12960.922679 -6033.819132\n",
      "y          -5676.943123 -2641.843546\n",
      "r           -191.550094   -89.157697\n",
      "p           -775.389506  -360.883653\n",
      "y_hat2        29.919212    64.198961\n",
      "y_hat3        -0.716173    -0.334037\n",
      "\n",
      "F-test\n",
      "\n",
      "<F test: F=array([[ 15.96871175]]), p=2.547677213796178e-06, df_denom=62, df_num=2>\n"
     ]
    }
   ],
   "source": [
    "# contraste de especificacion RESET\n",
    "print('## Contraste de RESET')\n",
    "\n",
    "reset = 'm1 ~ y + r + p + y_hat2 + y_hat3'\n",
    "\n",
    "d = np.log(data).copy()\n",
    "\n",
    "d['y_hat2'] = results.predict() ** 2\n",
    "d['y_hat3'] = results.predict() ** 3\n",
    "res = ols(reset, d).fit()\n",
    "h0 = 'y_hat2 = y_hat3 = 0'\n",
    "test = res.f_test(h0)\n",
    "print('Intervalo de Confianza\\n')\n",
    "print(res.conf_int())\n",
    "print('\\nF-test\\n')\n",
    "print(test)"
   ]
  },
  {
   "cell_type": "markdown",
   "metadata": {},
   "source": [
    "El test de RESET contrasta la correcta especificación o no del modelo, introduciendo en el modelo original la endógena al cuadrado y al cubo si el modelo esta correctamente especificado entonces los parámetros que acompañan a las endógenas al cuadrado y al cubo deberán ser cero. En este caso vemos que el contraste reset no da evidencia en contra de la hipótesis nula, por tanto hay evidencia a favor de que el modelo está mal especificado."
   ]
  },
  {
   "cell_type": "markdown",
   "metadata": {},
   "source": [
    "## SIGNIFICATIVIDAD Y CONTRASTES"
   ]
  },
  {
   "cell_type": "code",
   "execution_count": 38,
   "metadata": {
    "collapsed": false
   },
   "outputs": [
    {
     "name": "stdout",
     "output_type": "stream",
     "text": [
      "## Contraste de $\\beta_3 = 1$\n",
      "                             Test for Constraints                             \n",
      "==============================================================================\n",
      "                 coef    std err          z      P>|z|      [95.0% Conf. Int.]\n",
      "------------------------------------------------------------------------------\n",
      "c0             0.4046      0.117     -5.080      0.000         0.175     0.634\n",
      "==============================================================================\n"
     ]
    }
   ],
   "source": [
    "# contraste b3=1\n",
    "print('## Contraste de $\\\\beta_3 = 1$')\n",
    "h0 = 'np.log(p) = 1'\n",
    "t_test = results.t_test(h0)\n",
    "print(t_test)"
   ]
  },
  {
   "cell_type": "markdown",
   "metadata": {},
   "source": [
    "El contraste t-ratio para $\\beta_3 = 1$ que se obtiene dividiendo el parámetro por su error estándar, sigue una t-student de N - k - 1 grado de libertad. Suponiendo que las muestras provienen de una población normal."
   ]
  },
  {
   "cell_type": "markdown",
   "metadata": {},
   "source": [
    "## MODELO A_HAC"
   ]
  },
  {
   "cell_type": "code",
   "execution_count": 110,
   "metadata": {
    "collapsed": false
   },
   "outputs": [
    {
     "name": "stdout",
     "output_type": "stream",
     "text": [
      "                            OLS Regression Results                            \n",
      "==============================================================================\n",
      "Dep. Variable:             np.log(m1)   R-squared:                       0.991\n",
      "Model:                            OLS   Adj. R-squared:                  0.990\n",
      "Method:                 Least Squares   F-statistic:                     1035.\n",
      "Date:                Fri, 16 Oct 2015   Prob (F-statistic):           3.70e-54\n",
      "Time:                        14:15:36   Log-Likelihood:                 107.11\n",
      "No. Observations:                  68   AIC:                            -206.2\n",
      "Df Residuals:                      64   BIC:                            -197.3\n",
      "Df Model:                           3                                         \n",
      "Covariance Type:                  HAC                                         \n",
      "==============================================================================\n",
      "                 coef    std err          t      P>|t|      [95.0% Conf. Int.]\n",
      "------------------------------------------------------------------------------\n",
      "Intercept     16.7194      0.539     31.009      0.000        15.642    17.797\n",
      "np.log(y)      2.9630      0.253     11.703      0.000         2.457     3.469\n",
      "np.log(r)      0.0910      0.036      2.539      0.014         0.019     0.163\n",
      "np.log(p)      0.3982      0.135      2.939      0.005         0.127     0.669\n",
      "==============================================================================\n",
      "Omnibus:                        3.352   Durbin-Watson:                   1.128\n",
      "Prob(Omnibus):                  0.187   Jarque-Bera (JB):                1.785\n",
      "Skew:                           0.021   Prob(JB):                        0.410\n",
      "Kurtosis:                       2.207   Cond. No.                         536.\n",
      "==============================================================================\n",
      "\n",
      "Warnings:\n",
      "[1] Standard Errors are heteroscedasticity and autocorrelation robust (HAC) using 4 lags and without small sample correction\n"
     ]
    }
   ],
   "source": [
    "rs = results.get_robustcov_results(cov_type='HAC', maxlags=4)\n",
    "print(rs.summary())"
   ]
  },
  {
   "cell_type": "code",
   "execution_count": 119,
   "metadata": {
    "collapsed": false
   },
   "outputs": [
    {
     "name": "stdout",
     "output_type": "stream",
     "text": [
      "ARCH (22.776322189330006, 0.019003517556925188)\n",
      "white (14.756701258655047, 0.097839451391084992)\n",
      "BP (8.0488350838750691, 0.045013140169406413)\n",
      "GQ (0.74741229976427759, 0.78503800595899786)\n"
     ]
    }
   ],
   "source": [
    "# constraste homocedasticidad\n",
    "rs = results\n",
    "print('ARCH', sms.het_arch(rs.resid)[:2])\n",
    "print('white', sms.het_white(rs.resid, rs.model.exog)[:2])\n",
    "print('BP', sms.het_breushpagan(rs.resid, rs.model.exog)[:2])\n",
    "print('GQ', sms.het_goldfeldquandt(rs.resid, rs.model.exog)[:2])"
   ]
  },
  {
   "cell_type": "markdown",
   "metadata": {},
   "source": [
    "## ¿SE CUMPLEN LOS SUPUESTO DEL MODELO LINEAL GENERAL?\n",
    "\n",
    "### AUTOCORRELACIÓN\n",
    "\n",
    "Para comprobar que las perturbaciones sean independientes, he aplicado los contrastes de Breusch-Godfrey y Ljun-Box, y ambos proporcionan evidencia en contra de la hipótesis nula, por tanto no aceptamos la hipótesis nula de no autocorrelación.\n",
    "\n",
    "Por tanto el modelo evidencia __autocorrelación__.\n",
    "\n",
    "### HOMOCEDASTICIDAD\n",
    "\n",
    "Aplicamos los contrastes de Breusch-Pagan (BP) y Goldfeld-Quandt (GQ) y encontramos cierta contradicción entre los contrastes, pues el contraste BP nos da una evidencia muy debil en contra de la hipótesis nula, para un nivel de significación del 5% se obtiene un p-value = 4,5% lo que estrictamente lleva a rechazar $H_0$. \n",
    "\n",
    "Por otro lado el contraste Goldfeld-Quandt nos proporciona evidencia clara a favor la hipótesis nula.\n",
    "\n",
    "Dado que el GQ da un p-value mucho más determinante, que el resto, parece razonable suponer que hay mayor evidencia a favor de $H_0$ que en contra.\n",
    "\n",
    "Sin embargo el contrate ARCH, nos dice que puede haber evidencia para suponer que la varianza de los residuos depende del pasado de los propios residuos.\n",
    "\n",
    "Por tanto modelo evidencia __homocedasticidad__ según GQ y White, pero __heterocedasticidad__ según ARCH, BP.\n",
    "\n",
    "### ESPECIFICACIÓN\n",
    "\n",
    "El contraste de RESET nos dá información acerca de la correcta especifiación del modelo, y obtenemos que hay evidencia a en contra de la hipótesis nula ($\\gamma_0 = \\gamma_1 = 0$), por tanto el modelo puede estar mal especificado. Hay que tener en cuenta que este problema pueda deberse a los problemas de autocorrelación.\n",
    "\n",
    "Por tanto el modelo evidencia una __mala especificación__.\n",
    "\n",
    "### NORMALIDAD\n",
    "\n",
    "Para validar la normalidad en las perturbaciones, aplicamos el contraste de Jarque-Vera que nos dá evidencia a favor de la normalidad.\n",
    "\n",
    "Por tanto el modelo evidencia __normalidad.__\n",
    "\n",
    "### SIGNIFICATIVIDAD\n",
    "\n",
    "De haberse cumplido los supuestos del MLG, los parámetros estimados se pueden interpretar y si son todos significativos, tanto individual como conjuntamente, razonar en términos económicos.\n",
    "\n",
    "El modelo con un $R^2 = 0.991$ explica prácticamente todo el comportamiento de la variable endógena, el $\\hat{R}^2 = 0.99$.\n",
    "\n",
    "### CONTRASTE DE DICKEY-FULLER\n",
    "\n",
    "Los p-values, del Dickey-Fuller nos dice que las series no son I(0) y por tanto las series tienen tendencia estocástica con shocks permanentes, requiere de un análisis impulso-respuesta. \n"
   ]
  },
  {
   "cell_type": "markdown",
   "metadata": {},
   "source": [
    "# APARTADO A\n",
    "\n",
    "## El modelo planteado:\n",
    "\n",
    "$$ log(M1) = \\beta_1 log(p) + \\beta_2 log(y) + \\beta_3 log(rc) + u$$\n",
    "\n",
    "Planteamos un modelo MCO para la regresión anterior y obtenemos los siguientes resultados:"
   ]
  },
  {
   "cell_type": "markdown",
   "metadata": {},
   "source": [
    "### PRINCIPALES RESULTADOS\n",
    "\n",
    "$\\beta   = valor  \\ (t-ratio)$\n",
    "\n",
    "$\\beta_0\\ =\\ 16.3003\\ (0.531)$\n",
    "\n",
    "$\\beta_1\\ =\\ 2.96300\\ (0.222)$\n",
    "\n",
    "$\\beta_2\\ =\\ 0.09100\\ (0.024)$\n",
    "\n",
    "$\\beta_3\\ =\\ 0.39820\\ (0.108)$\n",
    "\n",
    "Con todos los parámetros significativos y una vez comprobado que se cumplen los supuestos del modelo lineal general (recordar que en este modelo no se cumple dado que presenta problemas de especificación y autocorrelación), poddríamos interpretar el modelo en términos económicos.\n",
    "\n",
    "Si pasamos por alto los problemas del modelo vemos que estamos ante un modelo __doblemente logarítmico__ y que por tanto tenemos que interpretar los parámetros de posición como __elasticidades__, esto es, el efecto del incremento de un punto porcentual que afecta a la oferta monetaria, exceptuando el caso del tipo de interés (r) cuyas unidades son porcentajes (%) lo que dificulta su interpretación."
   ]
  },
  {
   "cell_type": "markdown",
   "metadata": {},
   "source": [
    "### EL TÉRMINO INDEPENDIENTE ($\\beta_0$)\n",
    "\n",
    "Vemos por tanto que la interpretación del término __independiente ('Intercept')__ es que si no se producen cambios en la renta, precios y el tipo de interés la oferta monetaria tiene un valor que tenemos que hallar, este valor es:\n",
    "\n",
    "$log(M1) = \\beta_0$\n",
    "\n",
    "$e^{log(M1)} = e^{\\beta_0}$\n",
    "\n",
    "$M1 = e^{\\beta_0} $\n",
    "\n",
    "$M1 = e^{16.3003} = 11 998 593.59$"
   ]
  },
  {
   "cell_type": "markdown",
   "metadata": {},
   "source": [
    "### EL EFECTO DE LA RENTA (y) EN LA OFERTA MONETARIA ($\\beta_1$)\n",
    "\n",
    "El $\\beta_1 = 2.9630$ nos dice que incrementos de un 1% en la renta, tiene un efecto de 2.9630% en la oferta monetaria, casi 3 veces más intenso relativamente. Esto tiene sentido ya que por teoría sabemos que el multiplicador de la demanda de dinero tiene efecto positivo."
   ]
  },
  {
   "cell_type": "markdown",
   "metadata": {},
   "source": [
    "### EL EFECTO DEL TIPO DE INTERÉS (r) EN LA OFERTA MONETARIA ($\\beta_2$)\n",
    "\n",
    "El $ \\beta_2  = 0.0910 $ nos dice que aumentos del 1% del tipo de interés(%), tiene un efecto del 0.0910% sobre la oferta de dinero. Teniendo en cuenta que para el modelo planteado la oferta monetaria es exógena, y el tipo de interés (r) es endógena, esto nos indica cómo debería cambiar la oferta monetaria para conseguir un cambio en el tipo de interés, así pues:\n",
    "\n",
    "$ \\frac{d(M)}{M} = \\beta_2 d(r) $\n",
    "\n",
    "$ \\frac{1}{\\beta_2} · \\frac{d(M)}{M} = d(r) $\n",
    "\n",
    "$ \\frac{1}{0.0910} · \\frac{d(M)}{M} = d(r) $\n",
    "\n",
    "$ 10.989011 \\frac{d(M)}{M} = d(r) $\n",
    "\n",
    "Es importante notar que el signo del $\\beta_2$ es el mismo que el $m_r$, según la teoría nos dice que $m_r < 0$ por lo tanto tenemos una __contradicción__ con la realidad. Al ser de un 0.0910 muy pequeño nos dice que la elasticidad de la oferta monetaria al tipo de interés podría ser inelástica. Esto implica que la economía podría encontrarse en una situación en la que la política monetaria deja de ser tan efectiva, en el modelo keynesiano a esto se le denomina trampa de la liquidez. Pero esta interpretación podría ser totalmente errada ya que tenemos que recordar que el modelo no cumple los supuesto básico."
   ]
  },
  {
   "cell_type": "markdown",
   "metadata": {},
   "source": [
    "### EL EFECTO DEL PRECIO SOBRE LA OFERTA MONETARIA ($\\beta_3$)\n",
    "\n",
    "El $\\beta_3 = 0.3982$ nos dice que si aumentan los precios en un 1%, la oferta monetaria lo hace en un 0.3982%, es decir, que si hay inflación la oferta monetaria aumenta relativamente menos de la mitad. Esto tiene sentido con lo que nos dice la Teoría Económica, ya que:\n",
    "\n",
    "$ \\frac{M}{P} = m(r,y) $\n",
    "\n",
    "$ log(\\frac{M}{P} = log[m(r,y)] $\n",
    "\n",
    "$ log(M) - log(P)  = log[m(r,y)] $\n",
    "\n",
    "$ log(M) = log[m(r,y)] + log(P) $\n",
    "\n",
    "__DERIVANDO:__\n",
    "\n",
    "$ \\frac{d(M)}{M} = \\frac{m_r·d(r) + m_y · d(y)}{m(r,y)} + \\frac{d(P)}{P}$ con dr, dy = 0\n",
    "\n",
    "$ \\frac{d(M)}{M} = \\frac{d(P)}{P} $\n",
    "\n",
    "Por lo tanto aumentan en la misma dirección. Importante notar que en un esquema de modelo Keynesiano o Clásico, P es una variable endógena mientras que M es exógenas, para esta última, es importante notar que las autoridades monetarias deciden M y no r como es en la realidad."
   ]
  },
  {
   "cell_type": "markdown",
   "metadata": {},
   "source": [
    "# APARTADO B\n",
    "Contrastar la restricción $β_3=1$, comentando sus implicaciones económicas. \n",
    "Hacer los cálculos paso a paso sin usar las opciones directas de Gretl."
   ]
  },
  {
   "cell_type": "markdown",
   "metadata": {},
   "source": [
    "Para contrastar $\\beta_3 = 1$, tenemos dos opciones, plantear un contraste F o t, dado que es más sencillo un contraste t-ratio, el procedimiento a seguir es:\n",
    "\n",
    "## Hipótesis\n",
    "\n",
    "$ H_0: \\beta_3 = 1 $\n",
    "\n",
    "$ H_1: \\beta_3 ≠ 1 $\n",
    "\n",
    "## Contraste\n",
    "\n",
    "### $t = \\frac{\\hat{\\beta_3} - \\beta_3}{\\sigma_{\\hat{\\beta_3} / \\sqrt{N}}}$\n",
    "\n",
    "### $ t = \\frac{0.39820 - 1}{0.108} = -5.5722$\n",
    "\n",
    "## Validación\n",
    "\n",
    "### Región Crítica\n",
    "\n",
    "N = 68\n",
    "\n",
    "n = 68 - 4\n",
    "\n",
    "gl = 63\n",
    "\n",
    "α = 0.05\n",
    "\n",
    "$t < t_{(n-1 , \\alpha / 2)}$\n",
    "\n",
    "$t < t_{(63 , 0.025)}$\n",
    "\n",
    "$ t_{(63 , 0.025)} = -1.9983 $\n",
    "\n",
    "$ -5.722 < -1.9983 \\rightarrow$ Nos indica que hay evidencia en contra de la hipótesis nula, por tanto rechazamos $H_0: \\beta_3 = 1 $"
   ]
  },
  {
   "cell_type": "code",
   "execution_count": 43,
   "metadata": {
    "collapsed": true
   },
   "outputs": [],
   "source": [
    "data_log = np.log(data)"
   ]
  },
  {
   "cell_type": "code",
   "execution_count": 44,
   "metadata": {
    "collapsed": false
   },
   "outputs": [
    {
     "name": "stdout",
     "output_type": "stream",
     "text": [
      " ## Contraste con los datos\n",
      "Grados de Libertad = 63\n",
      "\n",
      "$\\hat{\\beta}$ = 0.3982\n",
      "\n",
      "$\\beta_{H_0}$ = 1\n",
      "\n",
      "Error Estandar = 0.108\n",
      "\n",
      "t-ratio = -5.572222222222222\n",
      "\n",
      "$\\alpha = 0.05$\n",
      "\n",
      "punto crítico = -1.99834054177\n"
     ]
    }
   ],
   "source": [
    "df=len(data_log)-4-1\n",
    "beta_hat = .39820\n",
    "beta_h0 = 1\n",
    "se = 0.108\n",
    "tratio = (beta_hat - beta_h0) / se\n",
    "alpha = 0.05\n",
    "tscore = st.t.ppf(alpha / 2, df=df)\n",
    "\n",
    "txt = ''' ## Contraste con los datos\n",
    "Grados de Libertad = %s\n",
    "\n",
    "$\\\\hat{\\\\beta}$ = %s\n",
    "\n",
    "$\\\\beta_{H_0}$ = %s\n",
    "\n",
    "Error Estandar = %s\n",
    "\n",
    "t-ratio = %s\n",
    "\n",
    "$\\\\alpha = %s$\n",
    "\n",
    "punto crítico = %s''' % (df, beta_hat, beta_h0, se, tratio, alpha, tscore)\n",
    "\n",
    "print(txt)"
   ]
  },
  {
   "cell_type": "code",
   "execution_count": 45,
   "metadata": {
    "collapsed": false
   },
   "outputs": [
    {
     "name": "stderr",
     "output_type": "stream",
     "text": [
      "/Users/mmngreco/Virtualenvs/ipynb/lib/python3.5/site-packages/matplotlib/collections.py:590: FutureWarning: elementwise comparison failed; returning scalar instead, but in the future will perform elementwise comparison\n",
      "  if self._edgecolors == str('face'):\n"
     ]
    },
    {
     "data": {
      "image/png": "[encoded data removed]",
      "text/plain": [
       "<matplotlib.figure.Figure at 0x11513e978>"
      ]
     },
     "metadata": {},
     "output_type": "display_data"
    }
   ],
   "source": [
    "plt.figure(figsize=(8,6))\n",
    "# pintar la distribución t-student teórica\n",
    "x = np.linspace(-6,6,100)\n",
    "y = st.t.pdf(x, df=df)\n",
    "plt.plot(x, y)\n",
    "# sombrear la región crítica\n",
    "plt.fill_between(x=x[x<= -1.998], y1 = y[:len(x[x<= -1.998])], color = 'red', alpha=0.6)\n",
    "plt.fill_between(x=x[x>= 1.998], y1 = y[-len(x[x>= 1.998]):], color='red', alpha=0.6)\n",
    "# dibujar el punto del t-ratio\n",
    "plt.scatter(tratio, 0)\n",
    "# anotar el punto t-ratio\n",
    "plt.annotate(xy = (tratio,0), \n",
    "             xytext = (-6, 0.2), \n",
    "             s=r't-ratio($\\hat{\\beta_3}$)',\n",
    "             fontsize=15,\n",
    "             xycoords='data', \n",
    "             arrowprops=dict(arrowstyle=\"simple, tail_width=0.2\", \n",
    "                             connectionstyle=\"arc3,rad=.2\", \n",
    "                             color='red', \n",
    "                             alpha=0.6))\n",
    "# título\n",
    "plt.suptitle('Región Crítica', fontsize=17, y=1.01)\n",
    "\n",
    "plt.tight_layout()\n",
    "plt.savefig('imgs/rc.png', bbox_inches='tight')"
   ]
  },
  {
   "cell_type": "markdown",
   "metadata": {},
   "source": [
    "El gráfico muestra la representación gráfica de la prueba t-ratio para el caso de $\\beta_3 = 1$"
   ]
  },
  {
   "cell_type": "markdown",
   "metadata": {},
   "source": [
    "### Contraste con los datos\n",
    "Grados de Libertad = 63\n",
    "\n",
    "$\\hat{\\beta}$ = 0.3982\n",
    "\n",
    "$\\beta_{H_0}$ = 1\n",
    "\n",
    "Error Estandar = 0.108\n",
    "\n",
    "t-ratio = -5.572222222222222\n",
    "\n",
    "$\\alpha = 0.05$\n",
    "\n",
    "punto crítico = -1.99834054177"
   ]
  },
  {
   "cell_type": "markdown",
   "metadata": {},
   "source": [
    "### p-value\n",
    "\n",
    "$P\\{t < t_{contraste}\\} < \\alpha $\n",
    "\n",
    "Notar que dado que se trata de un contraste bilateral, basta compara el valor que queremos contrastar con el intervalo de confianza de $\\hat{\\beta}_3$, si el intervalo contiene a dicho valor entonces no se rechaza $H_0$, de lo contrario rechazaríamos la hipótesis nula."
   ]
  },
  {
   "cell_type": "code",
   "execution_count": 46,
   "metadata": {
    "collapsed": false
   },
   "outputs": [
    {
     "name": "stdout",
     "output_type": "stream",
     "text": [
      "$P-value = P\\{ t < |t-ratio|\\} = 5.58e-07 $\n"
     ]
    }
   ],
   "source": [
    "txt2 = '''$P-value = P\\{ t < |t-ratio|\\} = %s $''' % round(st.t.cdf(tratio, df=df) * 2, 9)\n",
    "print(txt2)"
   ]
  },
  {
   "cell_type": "markdown",
   "metadata": {},
   "source": [
    "$P-value = P\\{ t < |t-ratio|\\} = 5.58e-07 $"
   ]
  },
  {
   "cell_type": "markdown",
   "metadata": {},
   "source": [
    "Por tanto, los tres indicadores (P-Value, Punto Crítico, Intervalo de Confianza) nos dicen que hay evidencia suficiente para rechazar la hipótesis nula o equivalentemente existe evidencia para afirmar que $\\beta_3 ≠ 1$."
   ]
  },
  {
   "cell_type": "markdown",
   "metadata": {},
   "source": [
    "# APARTADO C\n",
    "\n",
    "Estimar asumiendo que $\\beta_3 = 1$, para ello tenemos que hacer unos cambios en el modelo inicial.\n",
    "\n",
    "Modelo Inicial: \n",
    "\n",
    "$$log (M1) = β_0 + β_1 log (y) + β_2 log (r) + β_3 log (ipc) + u$$\n",
    "\n",
    "Sustituyendo $\\beta_3 = 1$:\n",
    "\n",
    "$$log (M1) = β_0 + β_1 log (y) + β_2 log (r) + log (ipc) + u$$\n",
    "\n",
    "$$log (M1) - log (ipc) = β_0 + β_1 log (y) + β_2 log (r) + u$$\n",
    "\n",
    "Esta última es la ecuación que vamos a estimar."
   ]
  },
  {
   "cell_type": "code",
   "execution_count": 47,
   "metadata": {
    "collapsed": false
   },
   "outputs": [
    {
     "name": "stdout",
     "output_type": "stream",
     "text": [
      "                            OLS Regression Results                            \n",
      "==============================================================================\n",
      "Dep. Variable:             np.log(m1)   R-squared:                       0.989\n",
      "Model:                            OLS   Adj. R-squared:                  0.989\n",
      "Method:                 Least Squares   F-statistic:                     2899.\n",
      "Date:                Fri, 16 Oct 2015   Prob (F-statistic):           2.85e-64\n",
      "Time:                        12:58:05   Log-Likelihood:                 100.60\n",
      "No. Observations:                  68   AIC:                            -195.2\n",
      "Df Residuals:                      65   BIC:                            -188.6\n",
      "Df Model:                           2                                         \n",
      "Covariance Type:            nonrobust                                         \n",
      "==============================================================================\n",
      "                 coef    std err          t      P>|t|      [95.0% Conf. Int.]\n",
      "------------------------------------------------------------------------------\n",
      "Intercept     15.1432      0.239     63.401      0.000        14.666    15.620\n",
      "np.log(y)      3.7423      0.070     53.375      0.000         3.602     3.882\n",
      "np.log(r)      0.0983      0.026      3.743      0.000         0.046     0.151\n",
      "==============================================================================\n",
      "Omnibus:                        4.430   Durbin-Watson:                   1.031\n",
      "Prob(Omnibus):                  0.109   Jarque-Bera (JB):                3.333\n",
      "Skew:                           0.407   Prob(JB):                        0.189\n",
      "Kurtosis:                       2.282   Cond. No.                         177.\n",
      "==============================================================================\n",
      "\n",
      "Warnings:\n",
      "[1] Standard Errors assume that the covariance matrix of the errors is correctly specified.\n"
     ]
    }
   ],
   "source": [
    "formula_c = 'np.log(m1) - np.log(p) ~ np.log(y) + np.log(r)'\n",
    "modelo = ols(formula_c, data)\n",
    "\n",
    "reg = modelo.fit()\n",
    "#endog.name = 'logM1-logP'\n",
    "\n",
    "print(reg.summary())"
   ]
  },
  {
   "cell_type": "code",
   "execution_count": 48,
   "metadata": {
    "collapsed": false
   },
   "outputs": [
    {
     "data": {
      "text/html": [
       "<table class=\"simpletable\">\n",
       "<tr>\n",
       "  <th>Omnibus:</th>       <td> 4.430</td> <th>  Durbin-Watson:     </th> <td>   1.031</td>\n",
       "</tr>\n",
       "<tr>\n",
       "  <th>Prob(Omnibus):</th> <td> 0.109</td> <th>  Jarque-Bera (JB):  </th> <td>   3.333</td>\n",
       "</tr>\n",
       "<tr>\n",
       "  <th>Skew:</th>          <td> 0.407</td> <th>  Prob(JB):          </th> <td>   0.189</td>\n",
       "</tr>\n",
       "<tr>\n",
       "  <th>Kurtosis:</th>      <td> 2.282</td> <th>  Cond. No.          </th> <td>    177.</td>\n",
       "</tr>\n",
       "</table>"
      ],
      "text/plain": [
       "<class 'statsmodels.iolib.table.SimpleTable'>"
      ]
     },
     "execution_count": 48,
     "metadata": {},
     "output_type": "execute_result"
    }
   ],
   "source": [
    "reg.summary().tables[2]"
   ]
  },
  {
   "cell_type": "markdown",
   "metadata": {},
   "source": [
    "- Según el DW parece haber presencia de autocorrelacón.\n",
    "- El JB nos informa que los residuos siguen una distribución normal.\n",
    "- Suponiendo cumplimiento de las hipótesis:\n",
    "    - Los parámetros son significativos individualmente y conjuntamente.\n",
    "    - R^2 nos dice que el modelo explica el 93.9% del comportamiento de la endógena.\n",
    "- $\\beta_0 (const)    19.101696$ \n",
    "- $\\beta_1 (y) =         1.785015$ % que aumenta m/p por aumentos en un 1% de y.\n",
    "- $\\beta_2 (r) =         0.079900$ % que aumenta m/p por aumentos en un 1% de r(%)."
   ]
  },
  {
   "cell_type": "code",
   "execution_count": 49,
   "metadata": {
    "collapsed": false
   },
   "outputs": [
    {
     "data": {
      "text/plain": [
       "<class 'statsmodels.stats.contrast.ContrastResults'>\n",
       "                             Test for Constraints                             \n",
       "==============================================================================\n",
       "                 coef    std err          t      P>|t|      [95.0% Conf. Int.]\n",
       "------------------------------------------------------------------------------\n",
       "c0             3.7423      0.070     53.375      0.000         3.602     3.882\n",
       "=============================================================================="
      ]
     },
     "execution_count": 49,
     "metadata": {},
     "output_type": "execute_result"
    }
   ],
   "source": [
    "reg.t_test([0,1,0])"
   ]
  },
  {
   "cell_type": "code",
   "execution_count": 50,
   "metadata": {
    "collapsed": false
   },
   "outputs": [
    {
     "name": "stdout",
     "output_type": "stream",
     "text": [
      "<F test: F=array([[ 1765.04196998]]), p=7.782653021705407e-49, df_denom=65, df_num=1>\n"
     ]
    }
   ],
   "source": [
    "print(reg.f_test([0,1,1]))"
   ]
  },
  {
   "cell_type": "code",
   "execution_count": 51,
   "metadata": {
    "collapsed": false
   },
   "outputs": [
    {
     "name": "stdout",
     "output_type": "stream",
     "text": [
      "           df     sum_sq    mean_sq            F        PR(>F)\n",
      "np.log(y)   1  18.379454  18.379454  5784.561958  3.050297e-65\n",
      "np.log(r)   1   0.044524   0.044524    14.013098  3.869733e-04\n",
      "Residual   65   0.206526   0.003177          NaN           NaN\n"
     ]
    }
   ],
   "source": [
    "print(sms.anova_lm(reg))"
   ]
  },
  {
   "cell_type": "code",
   "execution_count": 52,
   "metadata": {
    "collapsed": false
   },
   "outputs": [
    {
     "name": "stdout",
     "output_type": "stream",
     "text": [
      "BG(1) =  (15.005653852130848, 0.00010718955479897729)\n",
      "BG(2) =  (24.603883193325899, 4.5429153852507941e-06)\n",
      "BG(3) =  (25.014806550584296, 1.5330822558100206e-05)\n",
      "BG(4) =  (27.009758414558796, 1.9788806321966926e-05)\n",
      "BG(5) =  (30.766379902988557, 1.0416507082758812e-05)\n",
      "BG(6) =  (30.958050534190544, 2.5821062896197716e-05)\n",
      "BG(7) =  (32.255644022127647, 3.6414471156037268e-05)\n",
      "BG(8) =  (32.433806292935571, 7.7865314840694938e-05)\n"
     ]
    }
   ],
   "source": [
    "# autocorrelación\n",
    "for i in range(1,9):\n",
    "    print('BG(%s) = ' % i, sm.stats.diagnostic.acorr_breush_godfrey(reg, nlags=i)[:2])"
   ]
  },
  {
   "cell_type": "code",
   "execution_count": 53,
   "metadata": {
    "collapsed": false
   },
   "outputs": [
    {
     "name": "stdout",
     "output_type": "stream",
     "text": [
      "LJ(1) 14.8947310962 0.000113680054445\n",
      "LJ(2) 35.6296906298 1.83278272942e-08\n",
      "LJ(3) 40.9327856639 6.7574083711e-09\n",
      "LJ(4) 52.3940178131 1.14105015156e-10\n",
      "LJ(5) 52.6002089311 4.06289846032e-10\n",
      "LJ(6) 53.7904726569 8.13083456962e-10\n",
      "LJ(7) 55.6696265213 1.09824746436e-09\n",
      "LJ(8) 55.6702037159 3.27026037803e-09\n",
      "LJ(9) 63.0514583635 3.44785029292e-10\n",
      "LJ(10) 66.264532527 2.32064962817e-10\n",
      "LJ(11) 81.9783841415 6.10797693348e-13\n",
      "LJ(12) 85.5223119154 3.6115949027e-13\n",
      "LJ(13) 100.395009834 1.39089174517e-15\n",
      "LJ(14) 106.667887481 2.47043339249e-16\n"
     ]
    }
   ],
   "source": [
    "for i in range(14):\n",
    "    lj = sms.acorr_ljungbox(reg.resid, lags=14)\n",
    "    print('LJ(%s)' % (i+1), lj[0][i], lj[1][i])"
   ]
  },
  {
   "cell_type": "code",
   "execution_count": 54,
   "metadata": {
    "collapsed": false
   },
   "outputs": [
    {
     "name": "stdout",
     "output_type": "stream",
     "text": [
      "ARCH (17.752169027925579, 0.087512189035460763)\n",
      "white (8.6212684712087704, 0.12515793941092759)\n",
      "BP (3.2875791166879247, 0.19324633469498653)\n",
      "GQ (0.73269753623472478, 0.80432966125185135)\n"
     ]
    }
   ],
   "source": [
    "# constraste homocedasticidad\n",
    "print('ARCH', sms.het_arch(reg.resid)[:2])\n",
    "print('white', sms.het_white(reg.resid, reg.model.exog)[:2])\n",
    "print('BP', sms.het_breushpagan(reg.resid, reg.model.exog)[:2])\n",
    "print('GQ', sms.het_goldfeldquandt(reg.resid, reg.model.exog)[:2])"
   ]
  },
  {
   "cell_type": "markdown",
   "metadata": {},
   "source": [
    "# APARTADO D\n",
    "Suponer que queremos estimar el modelo usando la variable M1 en términos reales, imponiendo para ello la restricción del apartado b ($\\beta_3 = 1$), y a la vez seguir manteniendo el ipc como variable explicativa. Pensar cómo transformar el modelo para conseguir el doble objetivo anterior y calcular de forma razonada (con la ayuda de la estimación del apartado a) el valor del coeficiente que acompaña a la variable ipc.\n",
    "\n",
    "## RESTAR AL MODELO ORIGINAL $\\log(ipc)$\n",
    "\n",
    "Dado el modelo original:\n",
    "\n",
    "$$\\log(m) = \\beta_0 + \\beta_1 log(y) + \\beta_2 log(r) + \\beta_3 log(ipc)$$\n",
    "\n",
    "Si restamos a ambos lados del modelo $\\log(ipc)$ obtenemos:\n",
    "\n",
    "$$\\log(m) - log(ipc)= \\beta_0 + \\beta_1 log(y) + \\beta_2 log(r) + \\beta_3 log(ipc) - log(ipc)$$\n",
    "\n",
    "Reordenando y sacando factor común:\n",
    "\n",
    "$$\\log(\\frac{m}{ipc}) = \\beta_0 + \\beta_1 log(y) + \\beta_2 log(r) + (\\beta_3 - 1)log(ipc)$$\n",
    "\n",
    "$$\\log(\\frac{m}{ipc}) = \\beta_0 + \\beta_1 log(y) + \\beta_2 log(r) + \\beta_3' log(ipc)$$\n",
    "\n",
    "Por tanto con $\\beta_3 = 0.404592$\n",
    "\n",
    "__Obtenemos $\\beta_3' = 0.404592 - 1 = -0.595408$__"
   ]
  },
  {
   "cell_type": "markdown",
   "metadata": {},
   "source": [
    "# APARTADO E\n",
    "\n",
    "Estimar al modelo del apartado d) comprobando si se cumple el resultado teórico.\n"
   ]
  },
  {
   "cell_type": "code",
   "execution_count": 36,
   "metadata": {
    "collapsed": false
   },
   "outputs": [
    {
     "name": "stdout",
     "output_type": "stream",
     "text": [
      "                            OLS Regression Results                            \n",
      "==============================================================================\n",
      "Dep. Variable:         np.log(m1 / p)   R-squared:                       0.959\n",
      "Model:                            OLS   Adj. R-squared:                  0.957\n",
      "Method:                 Least Squares   F-statistic:                     497.1\n",
      "Date:                Wed, 21 Oct 2015   Prob (F-statistic):           2.88e-44\n",
      "Time:                        11:45:41   Log-Likelihood:                 107.11\n",
      "No. Observations:                  68   AIC:                            -206.2\n",
      "Df Residuals:                      64   BIC:                            -197.3\n",
      "Df Model:                           3                                         \n",
      "Covariance Type:            nonrobust                                         \n",
      "==============================================================================\n",
      "                 coef    std err          t      P>|t|      [95.0% Conf. Int.]\n",
      "------------------------------------------------------------------------------\n",
      "Intercept     16.7194      0.481     34.726      0.000        15.758    17.681\n",
      "np.log(y)      2.9630      0.222     13.372      0.000         2.520     3.406\n",
      "np.log(r)      0.0910      0.024      3.770      0.000         0.043     0.139\n",
      "np.log(p)     -0.6018      0.108     -5.554      0.000        -0.818    -0.385\n",
      "==============================================================================\n",
      "Omnibus:                        3.352   Durbin-Watson:                   1.128\n",
      "Prob(Omnibus):                  0.187   Jarque-Bera (JB):                1.785\n",
      "Skew:                           0.021   Prob(JB):                        0.410\n",
      "Kurtosis:                       2.207   Cond. No.                         536.\n",
      "==============================================================================\n",
      "\n",
      "Warnings:\n",
      "[1] Standard Errors assume that the covariance matrix of the errors is correctly specified.\n"
     ]
    }
   ],
   "source": [
    "formula_e = 'np.log(m1/p) ~ np.log(y) + np.log(r) + np.log(p)'\n",
    "reg_e = ols(formula_e, data).fit()\n",
    "print(reg_e.summary())"
   ]
  },
  {
   "cell_type": "markdown",
   "metadata": {},
   "source": [
    "## AUTOCORRELACIÓN \n",
    "\n",
    "### Durbin-Watson\n",
    "\n",
    "No nos da información clara ya que esta cerca de 1, por tanto no podemos sacar conclusiones."
   ]
  },
  {
   "cell_type": "markdown",
   "metadata": {},
   "source": [
    "### Breusch-Godfrey"
   ]
  },
  {
   "cell_type": "code",
   "execution_count": 41,
   "metadata": {
    "collapsed": false
   },
   "outputs": [
    {
     "name": "stdout",
     "output_type": "stream",
     "text": [
      "LM(1) 11.9649139334 0.000542117130143\n",
      "LM(2) 23.8190547934 6.72601713742e-06\n",
      "LM(3) 24.3129525903 2.14901918751e-05\n",
      "LM(4) 28.2185035672 1.12634844818e-05\n"
     ]
    }
   ],
   "source": [
    "for i in range(1,5):\n",
    "    test = sms.acorr_breush_godfrey(reg_e, nlags=i)\n",
    "    print('LM(%s)' % i, test[0], test[1])"
   ]
  },
  {
   "cell_type": "markdown",
   "metadata": {},
   "source": [
    "Igual que antes, el contraste de BG nos aporta evidencia en contra de la hipótesis nula, por tanto parece que hay autocorrelación."
   ]
  },
  {
   "cell_type": "markdown",
   "metadata": {},
   "source": [
    "### Ljun-Box:"
   ]
  },
  {
   "cell_type": "code",
   "execution_count": 44,
   "metadata": {
    "collapsed": false
   },
   "outputs": [
    {
     "name": "stdout",
     "output_type": "stream",
     "text": [
      "      lbvalue        pvalue\n",
      "0   11.269672  7.878367e-04\n",
      "1   30.360436  2.554555e-07\n",
      "2   33.239104  2.867520e-07\n",
      "3   44.338519  5.456638e-09\n",
      "4   44.435671  1.889343e-08\n",
      "5   45.313049  4.055493e-08\n",
      "6   48.816594  2.464618e-08\n",
      "7   48.875780  6.716029e-08\n",
      "8   55.946530  8.036167e-09\n",
      "9   56.817468  1.442384e-08\n",
      "10  67.555734  3.551608e-10\n",
      "11  67.925697  7.811390e-10\n",
      "12  76.674257  4.637358e-11\n"
     ]
    }
   ],
   "source": [
    "name = 'lbvalue pvalue'.split(' ')\n",
    "test = sms.acorr_ljungbox(reg_e.resid, lags=13)\n",
    "\n",
    "print(pd.DataFrame([test[0], test[1]], index=name).T)"
   ]
  },
  {
   "cell_type": "markdown",
   "metadata": {},
   "source": [
    "El contraste LJB también coincide con el BG, es decir, hay evidencia de presencia de autocorrelación."
   ]
  },
  {
   "cell_type": "markdown",
   "metadata": {},
   "source": [
    "## HETEROCEDASTICIDAD\n",
    "\n",
    "### Breush-Pagan"
   ]
  },
  {
   "cell_type": "code",
   "execution_count": 46,
   "metadata": {
    "collapsed": false
   },
   "outputs": [
    {
     "name": "stdout",
     "output_type": "stream",
     "text": [
      "-----------------------------  ---------\n",
      "Lagrange multiplier statistic  8.04884\n",
      "p-value                        0.0450131\n",
      "f-value                        2.86414\n",
      "f p-value                      0.043508\n",
      "-----------------------------  ---------\n"
     ]
    }
   ],
   "source": [
    "name = ['Lagrange multiplier statistic', 'p-value', 'f-value', 'f p-value']\n",
    "test = sms.het_breushpagan(reg_e.resid, reg_e.model.exog)\n",
    "print(tb.tabulate(list(zip(name, test))))"
   ]
  },
  {
   "cell_type": "markdown",
   "metadata": {},
   "source": [
    "El contaste de BP no nos da una clara evidencia en contra de la hipótesis nula de heterocedasticidad, con un P-Value de 0.045 estamos muy próximos de aceptar la hipótesis nula con una confianza del 95%."
   ]
  },
  {
   "cell_type": "markdown",
   "metadata": {},
   "source": [
    "### Golfeld-Quandt"
   ]
  },
  {
   "cell_type": "code",
   "execution_count": 47,
   "metadata": {
    "collapsed": false
   },
   "outputs": [
    {
     "name": "stdout",
     "output_type": "stream",
     "text": [
      "-----------  --------\n",
      "F statistic  0.747412\n",
      "p-value      0.785038\n",
      "-----------  --------\n"
     ]
    }
   ],
   "source": [
    "name = ['F statistic', 'p-value']\n",
    "test = sms.het_goldfeldquandt(reg_e.resid, reg_e.model.exog)\n",
    "print(tb.tabulate(list(zip(name, test))))"
   ]
  },
  {
   "cell_type": "markdown",
   "metadata": {},
   "source": [
    "El contraste de GQ nos dice que no hay evidencia en contra de la hipótesis nula, por tanto parece que hay homocedasticidad."
   ]
  },
  {
   "cell_type": "markdown",
   "metadata": {},
   "source": [
    "### ARCH"
   ]
  },
  {
   "cell_type": "code",
   "execution_count": 49,
   "metadata": {
    "collapsed": false
   },
   "outputs": [
    {
     "name": "stdout",
     "output_type": "stream",
     "text": [
      "Contraste LM ARCH (22.776322189330134, 0.019003517556924414)\n"
     ]
    }
   ],
   "source": [
    "print('Contraste LM ARCH', sms.het_arch(reg_e.resid)[:2])"
   ]
  },
  {
   "cell_type": "markdown",
   "metadata": {},
   "source": [
    "EL contraste de ARCH tampoco es muy concluyente, para una significación del 5% no se puede aceptar que el modelo sea homocedástico, sin embargo para una significación del 1%, no rechazaríamos la hipótesis de homocedasticidad."
   ]
  },
  {
   "cell_type": "markdown",
   "metadata": {},
   "source": [
    "## NORMALIDAD\n",
    "\n",
    "### Jarque-Vera\n",
    "\n",
    "El contraste de JB nos da un P-Value de 0.410 por lo tanto no rechazamos la hipótesis de normalidad."
   ]
  },
  {
   "cell_type": "markdown",
   "metadata": {},
   "source": [
    "## ESPECIFICACIÓN\n",
    "\n",
    "### RESET"
   ]
  },
  {
   "cell_type": "code",
   "execution_count": 51,
   "metadata": {
    "collapsed": false
   },
   "outputs": [
    {
     "name": "stdout",
     "output_type": "stream",
     "text": [
      "Intervalo de Confianza\n",
      "\n",
      "                       0             1\n",
      "Intercept -110412.837862 -12173.681052\n",
      "y          -40745.520545  -4466.214032\n",
      "r           -1251.531599   -137.219177\n",
      "p             908.094040   8276.804723\n",
      "y_hat2         58.205018    527.524237\n",
      "y_hat3         -6.744689     -0.748613\n",
      "\n",
      "F-test\n",
      "\n",
      "<F test: F=array([[ 5.11121071]]), p=0.00881675920409109, df_denom=62, df_num=2>\n"
     ]
    }
   ],
   "source": [
    "d = np.log(data).copy()\n",
    "# los datos ya estan en logaritmos\n",
    "reset = 'm1 - p ~ y + r + p + y_hat2 + y_hat3'\n",
    "\n",
    "d['y_hat2'] = reg_e.predict() ** 2\n",
    "d['y_hat3'] = reg_e.predict() ** 3\n",
    "reg_reset = ols(reset, d).fit()\n",
    "h0 = 'y_hat2 = y_hat3 = 0'\n",
    "test = reg_reset.f_test(h0)\n",
    "print('Intervalo de Confianza\\n')\n",
    "print(reg_reset.conf_int())\n",
    "print('\\nF-test\\n')\n",
    "print(test)"
   ]
  },
  {
   "cell_type": "markdown",
   "metadata": {},
   "source": [
    "El contraste de RESET nos evidencia problemas de especificación, sin embargo no parece que sean muy acusados ya que con una confianza del 99% no podríamos rechazar la hipótesis nula (correcta especificación) concluyentemente."
   ]
  },
  {
   "cell_type": "markdown",
   "metadata": {},
   "source": [
    "## BONDAD DEL AJUSTE\n",
    "\n",
    "### R^2\n",
    "\n",
    "Tenemos un $R^2 = 0.959$, lo que significa que los regresores explican el 96% del comportamiento de la oferta monetaria real, y un 4% son otros factores.\n",
    "\n",
    "### SIGNIFICATIVIDAD\n",
    "\n",
    "En el supuesto de que el modelo no tuviera problemas de autocorrealción, heterocedasticidad y especificación, poddríamos estar seguros de que los parámetros, y los t-ratios y contraste F  siguen las distribuciones del modelo lineal general, pero no es el caso, este modelo es inútil.\n",
    "\n",
    "Sin embargo para hacer el ejercicio de interpretación, si cumpliese las hipótesis nulas:\n",
    "Los coeficientes estimados son todos significativos individualmente, esto nos lo dice los t-ratios con p-value ≈ 0. Conjuntamente también son significativos si nos fijamos en la F, con un p-value ≈ 0."
   ]
  },
  {
   "cell_type": "markdown",
   "metadata": {},
   "source": [
    "## INTERPRETACIÓN\n",
    "\n",
    "### PRINCIPALES RESULTADOS\n",
    "\n",
    "$\\beta   = valor  \\ (error estándar)$\n",
    "\n",
    "$\\beta_0\\ =\\ 16.719\\ (0.482)$\n",
    "\n",
    "$\\beta_1\\ =\\ 2.963\\ (0.222)$\n",
    "\n",
    "$\\beta_2\\ =\\ 0.091\\ (0.0241)$\n",
    "\n",
    "$\\beta_3\\ =\\ -0.602\\ (0.108)$\n",
    "\n",
    "Igual que antes, los pimeros tres coeficientes son idénticos, y el último nos dice que ante aumentos en el precio, la oferta monetaria real deciende un 60% por cada 1% del precio. Vemos que efectivamente este $\\beta_3' ≈ \\beta_3 - 1$ varía en unas décimas, seguramente a causa de lo decimales."
   ]
  }
 ],
 "metadata": {
  "kernelspec": {
   "display_name": "Python 3",
   "language": "python",
   "name": "python3"
  },
  "language_info": {
   "codemirror_mode": {
    "name": "ipython",
    "version": 3
   },
   "file_extension": ".py",
   "mimetype": "text/x-python",
   "name": "python",
   "nbconvert_exporter": "python",
   "pygments_lexer": "ipython3",
   "version": "3.5.0"
  },
  "latex_envs": {
   "bibliofile": "biblio.bib",
   "cite_by": "apalike",
   "current_citInitial": 1,
   "eqLabelWithNumbers": true,
   "eqNumInitial": 0
  }
 },
 "nbformat": 4,
 "nbformat_minor": 0
}
