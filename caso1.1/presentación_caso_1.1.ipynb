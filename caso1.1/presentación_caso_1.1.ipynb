{
 "cells": [
  {
   "cell_type": "code",
   "execution_count": 1,
   "metadata": {
    "collapsed": false,
    "slideshow": {
     "slide_type": "skip"
    }
   },
   "outputs": [],
   "source": [
    "import scipy.stats as st\n",
    "from statsmodels.formula.api import ols, rlm\n",
    "import statsmodels.stats.api as sms\n",
    "import statsmodels.api as sm\n",
    "import statsmodels.tsa.stattools as ts\n",
    "from statsmodels.graphics.tsaplots import plot_acf, plot_pacf\n",
    "import matplotlib.pyplot as plt\n",
    "import numpy as np\n",
    "import pandas as pd\n",
    "import seaborn as sns\n",
    "import tabulate as tb\n",
    "from statsmodels.sandbox.regression.predstd import wls_prediction_std"
   ]
  },
  {
   "cell_type": "code",
   "execution_count": 2,
   "metadata": {
    "collapsed": true,
    "slideshow": {
     "slide_type": "skip"
    }
   },
   "outputs": [],
   "source": [
    "import warnings\n",
    "warnings.filterwarnings('ignore')"
   ]
  },
  {
   "cell_type": "code",
   "execution_count": 3,
   "metadata": {
    "collapsed": true,
    "slideshow": {
     "slide_type": "skip"
    }
   },
   "outputs": [],
   "source": [
    "%matplotlib inline"
   ]
  },
  {
   "cell_type": "code",
   "execution_count": 4,
   "metadata": {
    "collapsed": false,
    "slideshow": {
     "slide_type": "skip"
    }
   },
   "outputs": [
    {
     "data": {
      "text/plain": [
       "'%.3f'"
      ]
     },
     "execution_count": 4,
     "metadata": {},
     "output_type": "execute_result"
    }
   ],
   "source": [
    "%precision 3"
   ]
  },
  {
   "cell_type": "markdown",
   "metadata": {
    "slideshow": {
     "slide_type": "slide"
    }
   },
   "source": [
    "![](http://i.imgur.com/eCb65SE.jpg)\n",
    "\n",
    "# CASO 1.1. Estimación de una función de demanda de dinero con datos de la economía española.\n",
    "\n",
    "## APLICACIONES ECONOMÉTRICAS\n",
    "### AUTOR: MAXIMILIANO GRECO\n",
    "### GRUPO 5A\n"
   ]
  },
  {
   "cell_type": "markdown",
   "metadata": {
    "slideshow": {
     "slide_type": "skip"
    }
   },
   "source": [
    "## Estimación de una función de demanda de dinero con datos de la economía española.\n",
    "\n",
    "En el fichero DEMDIN.GDT se ofrece información de la economía española en el periodo 1964-1985 de las siguientes variables:\n",
    "\n",
    "- M1: Efectivo en manos del público + depósitos a la vista\n",
    "\n",
    "- ipc: índice de precios al consumo base 1970\n",
    "\n",
    "- rc: tipo de interés a corto plazo (tipo de los depósitos a menos de un año)\n",
    "\n",
    "- rl: tipo de interés a largo plazo (rendimiento interno de las obligaciones privadas)\n",
    "\n",
    "- y: PIB en unidades monetarias constantes de 1970.\n",
    "\n",
    "\n",
    ">Alternativamente, los datos de M1, producción a precios\n",
    "constantes y tipo de interés a corto y largo plazo, todos ellos para Europa, se\n",
    "pueden obtener de la base de datos del Banco de España que se ofrece a través\n",
    "del propio Gretl en la opción Archivos-Bases de datos-Sobre servidor. El dato\n",
    "del IPC con base 2005 se puede obtener de la base de datos del BCE en internet.\n",
    "Se pueden usar todos los datos mensuales y cuando se cargan desde Gretl se\n",
    "puede decir que convierta los datos trimestrales en mensuales interpolando. Los\n",
    "datos del IPC habrá que guardarlos en formato Excel y después añadirlos a los\n",
    "que tengamos en Gretl, teniendo cuidado de que los decimales estén en Excel con\n",
    "coma y que coincidan los periodos inicial y final."
   ]
  },
  {
   "cell_type": "markdown",
   "metadata": {
    "collapsed": false,
    "scrolled": false,
    "slideshow": {
     "slide_type": "skip"
    }
   },
   "source": [
    "# Se plantea estimar la siguiente función de demanda de dinero:\n",
    "\n",
    "$$log (M1) = β_0 + β_1 log (y) + β_2 log (r) + β_3 log (ipc) + u$$\n",
    "\n",
    "En el modelo se intenta explicar la demanda de dinero en función de la renta real, utilizándose el PIB, para estimar el efecto del motivo transacción. La segunda variable explicativa, el tipo de interés, recoge el comportamiento de la demanda de dinero especulativo, representando el coste de oportunidad de mantener dinero como forma de ahorro. La última variable, el índice de precios al consumo, se introduce como variable explicativa para valorar el efecto de la inflación sobre la demanda nominal de dinero.\n",
    "\n",
    "- a)  Estimar el modelo de oferta monetaria, utilizando el tipo de interés a corto plazo para los grupos tipo A y el tipo a largo para los grupos tipo B. Comentar los resultados desde el punto de vista económico y econométrico.\n",
    "\n",
    "- b)  Contrastar la restricción $β_3 = 1$, comentando sus implicaciones económicas. Hacer los cálculos paso a paso sin usar las opciones directas de Gretl.\n",
    "\n",
    "- c)  Estimar el modelo asumiendo que la restricción es cierta.\n",
    "\n",
    "- d)  Suponer que queremos estimar el modelo usando la variable M1 en términos reales, imponiendo para ello la restricción del apartado b), y a la vez seguir manteniendo el ipc como variable explicativa. Pensar cómo transformar el modelo para conseguir el doble objetivo anterior y calcular de forma razonada (con la ayuda de la estimación del apartado a) el valor del coeficiente que acompaña a la variable ipc.\n",
    "\n",
    "- e)  Estimar al modelo del apartado d) comprobando si se cumple el resultado teórico.\n",
    "\n",
    "Interpretar económicamente todos los modelos estimados y calcular en cada modelo los contrastes de especificación RESET, normalidad y autocorrelación LM de orden 1 y 2."
   ]
  },
  {
   "cell_type": "markdown",
   "metadata": {
    "slideshow": {
     "slide_type": "slide"
    }
   },
   "source": [
    "# MODELO:\n",
    "\n",
    "$$log (M) = β_0 + β_1 log (y) + β_2 log (r) + β_3 log (ipc) + u$$\n",
    "\n",
    "## QUE ES UNA TRANSFORMACIÓN DEL MODELO ORIGINAL (Cobb-Douglas):\n",
    "\n",
    "$$ M= e^{\\beta_0}·y^{\\beta_1}·r^{\\beta_2}·ipc^{\\beta_3}$$\n",
    "$$ \\frac{M}{ipc^{\\beta_3}}= e^{\\beta_0}·y^{\\beta_1}·r^{\\beta_2}$$"
   ]
  },
  {
   "cell_type": "markdown",
   "metadata": {
    "collapsed": false,
    "scrolled": false,
    "slideshow": {
     "slide_type": "slide"
    }
   },
   "source": [
    "# DATOS:\n",
    "\n",
    "Las variables usadas han sido obtenidas en la base de [datos FMI](http://data.imf.org/?sk=7CB6619C-CF87-48DC-9443-2973E161ABEB&ss=1390023474041), todas tienen frecuencia trimestral.\n",
    "\n",
    "## DESCRIPCIÓN:\n",
    "\n",
    "Dado que cada serie presenta __distintos periodos temporales__, he fitrado el rango común para poder realizar el análisis, lo que ha reducido mucho la muestra de la series a __68 observaciones__, pero suficiente para poder aplicar el teorema central del límite y la ley de los grandes números. Todas las series son __para España.__ El rango de datos resultante va desde el primer trimestre de __1982 hasta el último trimestre de 1998.__\n",
    "\n",
    "- __M1:__ Oferta monetaria M1 (Euros) [enlace](http://data.imf.org/?sk=b6ba51fd-6647-4ca2-8e8c-e680d2660ed5&dsId=DS_1438873160033)\n",
    "- __ipc:__ Indice de Precios al Consumidor, ALL ITEMS (2010 = 100%) [enlace](http://data.imf.org/?sk=37214c4f-816c-4789-a0c6-d8a4dba96f1c&dsId=DS_1438873160033)\n",
    "- __rc:__ Tipo de interés de los depósitos a la vista (%) [enlace](http://data.imf.org/?sk=8bb6d92d-843b-4a2c-a147-4e009850014c&dsId=DS_1438873160033)\n",
    "- __y:__ PIB real, ajustado de efecto estacional, indice (2010 = 100%) [enlace](http://data.imf.org/?sk=c7fe04cd-fbbf-4f6b-b7d2-cd13a9fa5122&dsId=DS_1438873160033)"
   ]
  },
  {
   "cell_type": "markdown",
   "metadata": {
    "slideshow": {
     "slide_type": "slide"
    }
   },
   "source": [
    "## Teoría Económica:\n",
    "\n",
    "### Mercado monetario Keynesiano"
   ]
  },
  {
   "cell_type": "markdown",
   "metadata": {
    "slideshow": {
     "slide_type": "fragment"
    }
   },
   "source": [
    "#### Demanda de Dinero\n",
    "\n",
    "- Motivo Transacción (y)\n",
    "- Motivo Especulación (r)\n",
    "- Motivo Precausión (r)"
   ]
  },
  {
   "cell_type": "markdown",
   "metadata": {
    "slideshow": {
     "slide_type": "fragment"
    }
   },
   "source": [
    "#### Oferta de Dinero\n",
    "\n",
    "- Variable de Pólitica monetaria (M)"
   ]
  },
  {
   "cell_type": "code",
   "execution_count": 5,
   "metadata": {
    "collapsed": false,
    "slideshow": {
     "slide_type": "skip"
    }
   },
   "outputs": [],
   "source": [
    "# datos\n",
    "r = pd.read_excel('fmi_interes_spain.xlsx', skip_rows=0, header=1, index_col=0) / 100  # tanto por uno\n",
    "r.columns = ['r']"
   ]
  },
  {
   "cell_type": "code",
   "execution_count": 6,
   "metadata": {
    "collapsed": false,
    "slideshow": {
     "slide_type": "skip"
    }
   },
   "outputs": [],
   "source": [
    "p = pd.read_excel('fmi_ipc_spain.xlsx', skip_rows=0, header=1, index_col=0)\n",
    "p.columns = ['p']"
   ]
  },
  {
   "cell_type": "code",
   "execution_count": 7,
   "metadata": {
    "collapsed": false,
    "slideshow": {
     "slide_type": "skip"
    }
   },
   "outputs": [],
   "source": [
    "m1 = pd.read_excel('fmi_m1_spain.xlsx', skip_rows=0, header=1, index_col=0)\n",
    "m1.columns = ['m1']"
   ]
  },
  {
   "cell_type": "code",
   "execution_count": 8,
   "metadata": {
    "collapsed": false,
    "slideshow": {
     "slide_type": "skip"
    }
   },
   "outputs": [],
   "source": [
    "y = pd.read_excel('fmi_pib_spain.xlsx',skip_rows=0, header=1, index_col=0)\n",
    "y.columns = ['y']"
   ]
  },
  {
   "cell_type": "code",
   "execution_count": 9,
   "metadata": {
    "collapsed": true,
    "slideshow": {
     "slide_type": "skip"
    }
   },
   "outputs": [],
   "source": [
    "data = pd.concat([m1 , y, r, p], axis=1, join='inner')\n",
    "data.dropna(inplace=True)"
   ]
  },
  {
   "cell_type": "code",
   "execution_count": 12,
   "metadata": {
    "collapsed": false,
    "slideshow": {
     "slide_type": "slide"
    }
   },
   "outputs": [
    {
     "data": {
      "image/png": "[encoded data removed]",
      "text/plain": [
       "<matplotlib.figure.Figure at 0x106a56f98>"
      ]
     },
     "metadata": {},
     "output_type": "display_data"
    }
   ],
   "source": [
    "data.plot(subplots=True, layout=(2,2), figsize=(10,9))\n",
    "plt.tight_layout()\n",
    "t = plt.suptitle('Series', y=1.015, fontsize=15)"
   ]
  },
  {
   "cell_type": "markdown",
   "metadata": {
    "slideshow": {
     "slide_type": "skip"
    }
   },
   "source": [
    "Los gráficos nos indican que las variables presentan tendencia determinista, excepto el caso del tipo de interés que no está muy claro. Para identificar mejor los componentes deberíamos hacer un contraste de dickey-fuller para todas y decidir a partir de la información recogida. A priori podemos decir que el tipo de interés tiene una tendencia mas volátil y decreciente, mientras que el resto son más estables y con tendencia creciente respecto del tiempo."
   ]
  },
  {
   "cell_type": "code",
   "execution_count": 13,
   "metadata": {
    "collapsed": false,
    "slideshow": {
     "slide_type": "subslide"
    }
   },
   "outputs": [
    {
     "data": {
      "text/plain": [
       "<matplotlib.text.Text at 0x10766fa58>"
      ]
     },
     "execution_count": 13,
     "metadata": {},
     "output_type": "execute_result"
    },
    {
     "data": {
      "image/png": "[encoded data removed]",
      "text/plain": [
       "<matplotlib.figure.Figure at 0x1075e9c50>"
      ]
     },
     "metadata": {},
     "output_type": "display_data"
    }
   ],
   "source": [
    "plt.figure(figsize=(10,7))\n",
    "ax = plt.subplot(1,2,1)\n",
    "sns.corrplot(data, ax=ax, cbar=False)\n",
    "plt.title('Series Originales', fontsize=15, y=1.09)\n",
    "\n",
    "ax = plt.subplot(1,2,2)\n",
    "sns.corrplot(np.log(data), ax=ax, cbar=False)\n",
    "plt.title('Series en Logartimos', fontsize=15, y=1.09)\n",
    "plt.suptitle('Correlaciones', fontsize=15, y=.91)"
   ]
  },
  {
   "cell_type": "code",
   "execution_count": 14,
   "metadata": {
    "collapsed": false,
    "scrolled": false,
    "slideshow": {
     "slide_type": "subslide"
    }
   },
   "outputs": [
    {
     "data": {
      "text/plain": [
       "<matplotlib.text.Text at 0x106911080>"
      ]
     },
     "execution_count": 14,
     "metadata": {},
     "output_type": "execute_result"
    },
    {
     "data": {
      "image/png": "[encoded data removed]",
      "text/plain": [
       "<matplotlib.figure.Figure at 0x106ecfb38>"
      ]
     },
     "metadata": {},
     "output_type": "display_data"
    }
   ],
   "source": [
    "g = sns.pairplot(data=data, kind='reg', diag_kind='kde', size=2)\n",
    "plt.suptitle('Dispersión y Densidad Series Originales', y=1.015, fontsize=15)"
   ]
  },
  {
   "cell_type": "code",
   "execution_count": 15,
   "metadata": {
    "collapsed": false,
    "scrolled": false,
    "slideshow": {
     "slide_type": "subslide"
    }
   },
   "outputs": [
    {
     "data": {
      "text/plain": [
       "<matplotlib.text.Text at 0x108623048>"
      ]
     },
     "execution_count": 15,
     "metadata": {},
     "output_type": "execute_result"
    },
    {
     "data": {
      "image/png": "[encoded data removed]",
      "text/plain": [
       "<matplotlib.figure.Figure at 0x107c7f438>"
      ]
     },
     "metadata": {},
     "output_type": "display_data"
    }
   ],
   "source": [
    "g = sns.pairplot(data=np.log(data), kind='reg', diag_kind='kde', size=2)\n",
    "plt.suptitle('Dispersión y Densidad Series en Logaritmos', y=1.015, fontsize=15)"
   ]
  },
  {
   "cell_type": "markdown",
   "metadata": {
    "slideshow": {
     "slide_type": "skip"
    }
   },
   "source": [
    "Este gráfico nos muestra las relaciones entre todas las variables y los histogramas de frecuencia en la diagonal. Resalta sobre todo, el comportamiento de la variable tipo de interés con el resto, vemos que se comporta de la misma forma sea cual sea la variable, esto sugiere que el tipo de interés tiene la misma correlación con el resto de variables. Por lo tanto seguramente tendremos problemas de multicolinealidad, esto ocurre cuando dos variables explicativas tienen una fuerte correlación."
   ]
  },
  {
   "cell_type": "code",
   "execution_count": 16,
   "metadata": {
    "collapsed": false,
    "scrolled": true,
    "slideshow": {
     "slide_type": "skip"
    }
   },
   "outputs": [
    {
     "name": "stdout",
     "output_type": "stream",
     "text": [
      "                    m1          y         r          p\n",
      "Q1 1982  4363000000000  44.744559  0.119700  26.637351\n",
      "Q2 1982  4611700000000  44.912734  0.121233  27.584677\n",
      "Q3 1982  4684000000000  45.216270  0.122633  28.391079\n",
      "Q4 1982  5003400000000  45.375656  0.126733  29.040898\n",
      "Q1 1983  4821800000000  45.541487  0.122100  30.160465\n"
     ]
    }
   ],
   "source": [
    "print(data.head())"
   ]
  },
  {
   "cell_type": "code",
   "execution_count": 17,
   "metadata": {
    "collapsed": false,
    "slideshow": {
     "slide_type": "skip"
    }
   },
   "outputs": [
    {
     "name": "stdout",
     "output_type": "stream",
     "text": [
      "                     m1          y         r          p\n",
      "Q4 1997  21834900000000  71.054916  0.036000  71.072951\n",
      "Q1 1998  21705700000000  69.937077  0.032467  71.310435\n",
      "Q2 1998  22567600000000  70.530850  0.030600  71.534871\n",
      "Q3 1998  22653200000000  71.158433  0.029167  72.004619\n",
      "Q4 1998  25270600000000  71.763124  0.024633  72.135105\n"
     ]
    }
   ],
   "source": [
    "print(data.tail())"
   ]
  },
  {
   "cell_type": "markdown",
   "metadata": {
    "slideshow": {
     "slide_type": "slide"
    }
   },
   "source": [
    "# APARTADO A\n",
    "\n",
    "## El modelo planteado:\n",
    "\n",
    "$$ log(M1) = \\beta_1 log(y) + \\beta_2 log(r) + \\beta_3 log(p) + u$$\n",
    "\n",
    "Planteamos un modelo MCO para la regresión anterior y obtenemos los siguientes resultados:"
   ]
  },
  {
   "cell_type": "markdown",
   "metadata": {
    "slideshow": {
     "slide_type": "fragment"
    }
   },
   "source": [
    "## MODELO A"
   ]
  },
  {
   "cell_type": "code",
   "execution_count": 60,
   "metadata": {
    "collapsed": false,
    "slideshow": {
     "slide_type": "slide"
    }
   },
   "outputs": [
    {
     "name": "stdout",
     "output_type": "stream",
     "text": [
      "$np.log(m1) ~ np.log(y) + np.log(r) + np.log(p)$\n",
      "\n",
      "\n",
      "                            OLS Regression Results                            \n",
      "==============================================================================\n",
      "Dep. Variable:             np.log(m1)   R-squared:                       0.991\n",
      "Model:                            OLS   Adj. R-squared:                  0.990\n",
      "Method:                 Least Squares   F-statistic:                     2296.\n",
      "Date:                Wed, 04 Nov 2015   Prob (F-statistic):           4.57e-65\n",
      "Time:                        12:41:13   Log-Likelihood:                 107.11\n",
      "No. Observations:                  68   AIC:                            -206.2\n",
      "Df Residuals:                      64   BIC:                            -197.3\n",
      "Df Model:                           3                                         \n",
      "Covariance Type:                  HC1                                         \n",
      "==============================================================================\n",
      "                 coef    std err          t      P>|t|      [95.0% Conf. Int.]\n",
      "------------------------------------------------------------------------------\n",
      "Intercept     16.7194      0.417     40.104      0.000        15.887    17.552\n",
      "np.log(y)      2.9630      0.191     15.515      0.000         2.581     3.344\n",
      "np.log(r)      0.0910      0.026      3.470      0.001         0.039     0.143\n",
      "np.log(p)      0.3982      0.097      4.107      0.000         0.205     0.592\n",
      "==============================================================================\n",
      "Omnibus:                        3.352   Durbin-Watson:                   1.128\n",
      "Prob(Omnibus):                  0.187   Jarque-Bera (JB):                1.785\n",
      "Skew:                           0.021   Prob(JB):                        0.410\n",
      "Kurtosis:                       2.207   Cond. No.                         536.\n",
      "==============================================================================\n",
      "\n",
      "Warnings:\n",
      "[1] Standard Errors are heteroscedasticity robust (HC1)\n"
     ]
    }
   ],
   "source": [
    "# regresión\n",
    "formula = 'np.log(m1) ~ np.log(y) + np.log(r) + np.log(p)'\n",
    "results = ols(formula, data).fit().get_robustcov_results()\n",
    "print('$'+ formula+'$')\n",
    "print('\\n')\n",
    "print(results.summary())"
   ]
  },
  {
   "cell_type": "code",
   "execution_count": 61,
   "metadata": {
    "collapsed": false,
    "slideshow": {
     "slide_type": "subslide"
    }
   },
   "outputs": [
    {
     "data": {
      "text/plain": [
       "<matplotlib.text.Text at 0x106488160>"
      ]
     },
     "execution_count": 61,
     "metadata": {},
     "output_type": "execute_result"
    },
    {
     "data": {
      "image/png": "[encoded data removed]",
      "text/plain": [
       "<matplotlib.figure.Figure at 0x109e44dd8>"
      ]
     },
     "metadata": {},
     "output_type": "display_data"
    }
   ],
   "source": [
    "sns.coefplot(formula, data, intercept=True, ci=95)\n",
    "plt.suptitle('Coeficientes, confianza 95%', fontsize=15, y=1.05)"
   ]
  },
  {
   "cell_type": "markdown",
   "metadata": {
    "slideshow": {
     "slide_type": "skip"
    }
   },
   "source": [
    "Estimando el mismo modelo pero con estimaciones robustas, no sulucionamos los problemas de heterocedasticidad pero al menos nos aseguramos que los t-ratios y el estadístico F siguen sus correspondientes distribuciones. Por tanto, usaremos estos errores estandar para hacer los contrastes."
   ]
  },
  {
   "cell_type": "markdown",
   "metadata": {
    "slideshow": {
     "slide_type": "skip"
    }
   },
   "source": [
    "A partir de la información obtenida del modelo, analizamos el **Durbin-Watson** que contrasta la no autocorrelación, está entre 0 y 4, con un DW cerca de 0 correlación positiva y cerca de 4 correlación negativa. \n",
    "\n",
    "$H_0 = \\rho = 0$\n",
    "\n",
    "A priori, parece haber autorcorrelación, pero **no está claro** con un DW de 1.128 > 1, $\\hat{\\rho} = 1 - \\frac{1.128}{2} = 0.436$ con $-1< \\rho < 1$ estaríamos indecisos solo con este contraste, por lo que necesitamos __más información__ al respecto. \n",
    "\n",
    "La prueba de **Jarque-Bera** nos da información sobre la normalidad de las perturbaciones, con un JB = 1.785 y p-value = 0.410, **no hay evidencia que sugiera rechazar** la hipótesis de normalidad de las perturbaciones. El contraste **Omnibus** también da evidencia a **favor de la normalidad.**\n",
    "\n",
    "Nos faltaría información acerca de la correcta **especificación** y sobre la **heterocedasticidad** que calcularemos a continuación.\n",
    "\n",
    "Tras este breve análisis, se puede concluir que el modelo es significativo conjuntamente, los parámetros lo son individualmente y además con un $R^2 = 0.991$ por lo que el modelo explica practicamente la totalidad del comportamiento de la variable endógena.\n",
    "\n",
    "El estadístico Cond. No. es medida de multicolinealidad mayor que 60 indica problemas, como ya se vió anteriormente, cuando se analiza las relaciones entre las variables."
   ]
  },
  {
   "cell_type": "code",
   "execution_count": 66,
   "metadata": {
    "collapsed": false,
    "slideshow": {
     "slide_type": "subslide"
    }
   },
   "outputs": [
    {
     "data": {
      "image/png": "[encoded data removed]",
      "text/plain": [
       "<matplotlib.figure.Figure at 0x101e32668>"
      ]
     },
     "metadata": {},
     "output_type": "display_data"
    }
   ],
   "source": [
    "data_log = np.log(data)\n",
    "fig=plt.figure(figsize=(8,7))\n",
    "\n",
    "ax1 = plt.subplot(2,1,1)\n",
    "data_log.m1.plot(label='Real', ax=ax1)\n",
    "plt.plot(results.fittedvalues, label='Predicción')\n",
    "\n",
    "ax2 = plt.subplot(2,1,2, sharex=ax1)\n",
    "ax2.plot(results.resid, label='Residuo')\n",
    "ax2.axhline(y=0, color='black', linewidth=1)\n",
    "\n",
    "ax1.legend()\n",
    "ax2.legend()\n",
    "plt.suptitle('Ajuste', fontsize=15, y=1.01)\n",
    "plt.tight_layout()"
   ]
  },
  {
   "cell_type": "markdown",
   "metadata": {
    "slideshow": {
     "slide_type": "skip"
    }
   },
   "source": [
    "En el primero de los gráficos está representado la endógena real y la estimada, se ve como la estimación se ajusta muy bien a la realidad (endógena), aunque sabemos que presenta problemas.\n",
    "\n",
    "El segundo es el gráfico de los residuos, a partir de 1989 parece presentar un comportamiento no estocástico, esto lo tendremos en cuentra para aplicar los contrastes."
   ]
  },
  {
   "cell_type": "markdown",
   "metadata": {
    "slideshow": {
     "slide_type": "slide"
    }
   },
   "source": [
    "## AUTOCORRELACIÓN"
   ]
  },
  {
   "cell_type": "code",
   "execution_count": 54,
   "metadata": {
    "collapsed": false,
    "slideshow": {
     "slide_type": "skip"
    }
   },
   "outputs": [
    {
     "data": {
      "image/png": "[encoded data removed]",
      "text/plain": [
       "<matplotlib.figure.Figure at 0x1099724a8>"
      ]
     },
     "metadata": {},
     "output_type": "display_data"
    }
   ],
   "source": [
    "# desde aqui\n",
    "fsize = (7,3)\n",
    "\n",
    "plt.figure(figsize=fsize)\n",
    "ax1 = plt.subplot(2,1,1)\n",
    "plot_acf(data.m1, ax=ax1)\n",
    "ax2 = plt.subplot(2,1,2)\n",
    "plot_pacf(data.m1, ax=ax2)\n",
    "plt.suptitle('Oferta Monetaria (M1)', fontsize=15, y=1.015)\n",
    "plt.tight_layout()"
   ]
  },
  {
   "cell_type": "code",
   "execution_count": 55,
   "metadata": {
    "collapsed": false,
    "slideshow": {
     "slide_type": "skip"
    }
   },
   "outputs": [
    {
     "data": {
      "image/png": "[encoded data removed]",
      "text/plain": [
       "<matplotlib.figure.Figure at 0x109e42e80>"
      ]
     },
     "metadata": {},
     "output_type": "display_data"
    }
   ],
   "source": [
    "plt.figure(figsize=fsize)\n",
    "ax1 = plt.subplot(2,1,1)\n",
    "plot_acf(data.p, ax=ax1)\n",
    "ax2 = plt.subplot(2,1,2)\n",
    "plot_pacf(data.p, ax=ax2)\n",
    "plt.suptitle('Precio', fontsize=15, y=1.015)\n",
    "plt.tight_layout()"
   ]
  },
  {
   "cell_type": "code",
   "execution_count": 56,
   "metadata": {
    "collapsed": false,
    "slideshow": {
     "slide_type": "skip"
    }
   },
   "outputs": [
    {
     "data": {
      "image/png": "[encoded data removed]",
      "text/plain": [
       "<matplotlib.figure.Figure at 0x109e42a90>"
      ]
     },
     "metadata": {},
     "output_type": "display_data"
    }
   ],
   "source": [
    "plt.figure(figsize=fsize)\n",
    "ax1 = plt.subplot(2,1,1)\n",
    "\n",
    "plot_acf(data.r, ax=ax1)\n",
    "ax2 = plt.subplot(2,1,2)\n",
    "\n",
    "plot_pacf(data.r, ax=ax2)\n",
    "plt.suptitle('Tipo de Interés (r)', fontsize=15, y=1.015)\n",
    "plt.tight_layout()"
   ]
  },
  {
   "cell_type": "code",
   "execution_count": 57,
   "metadata": {
    "collapsed": false,
    "slideshow": {
     "slide_type": "skip"
    }
   },
   "outputs": [
    {
     "data": {
      "image/png": "[encoded data removed]",
      "text/plain": [
       "<matplotlib.figure.Figure at 0x1075b5780>"
      ]
     },
     "metadata": {},
     "output_type": "display_data"
    }
   ],
   "source": [
    "plt.figure(figsize=fsize)\n",
    "ax1 = plt.subplot(2,1,1)\n",
    "plot_acf(data.y, ax=ax1)\n",
    "ax2 = plt.subplot(2,1,2)\n",
    "plot_pacf(data.y, ax=ax2)\n",
    "plt.suptitle('PIB (y)', fontsize=15, y=1.015)\n",
    "plt.tight_layout()"
   ]
  },
  {
   "cell_type": "code",
   "execution_count": 58,
   "metadata": {
    "collapsed": false,
    "slideshow": {
     "slide_type": "skip"
    }
   },
   "outputs": [
    {
     "data": {
      "image/png": "[encoded data removed]",
      "text/plain": [
       "<matplotlib.figure.Figure at 0x1071d8908>"
      ]
     },
     "metadata": {},
     "output_type": "display_data"
    }
   ],
   "source": [
    "plt.figure(figsize=fsize)\n",
    "\n",
    "ax1 = plt.subplot(2,1,1)\n",
    "plot_acf(reg.resid, ax=ax1)\n",
    "\n",
    "ax2 = plt.subplot(2,1,2)\n",
    "plot_pacf(reg.resid, ax=ax2)\n",
    "\n",
    "plt.suptitle('RESIDUOS (u)', fontsize=15, y=1.015)\n",
    "plt.tight_layout()"
   ]
  },
  {
   "cell_type": "markdown",
   "metadata": {
    "slideshow": {
     "slide_type": "skip"
    }
   },
   "source": [
    "Los gráficos muestran para cada variable la función de autocorrelación y la función de autocorrelación parcial, puede verse como todas las variables siguen una estructura autorregresiva de orden 2, AR(2). Par el caso de los residuos la función de autocorrelación no nos dice nada casi nada. Habría que diferenciar y ver el posible orden de integración y aplicar constraste de Dickey-Fuller."
   ]
  },
  {
   "cell_type": "code",
   "execution_count": 22,
   "metadata": {
    "collapsed": false,
    "slideshow": {
     "slide_type": "subslide"
    }
   },
   "outputs": [
    {
     "name": "stdout",
     "output_type": "stream",
     "text": [
      "## Contraste de Aucorrelación de Breusch-Godfrey:\n",
      "BG(1): 11.9649\t p-value: 0.0005\n",
      "BG(2): 23.8191\t p-value: 0.0\n",
      "BG(3): 24.313\t p-value: 0.0\n",
      "BG(4): 28.2185\t p-value: 0.0\n"
     ]
    }
   ],
   "source": [
    "# contraste de autocorrelación de Breusch-Godfrey\n",
    "\n",
    "print('## Contraste de Aucorrelación de Breusch-Godfrey:')\n",
    "name = ['LM', 'P-value', 'F-test', 'P-value']\n",
    "for i in range(1,5):\n",
    "    test = sms.acorr_breush_godfrey(results, nlags=i)\n",
    "    test = np.round(test, 4)\n",
    "    print('BG(%s): %s\\t p-value: %s' % (i, test[0], test[1]))"
   ]
  },
  {
   "cell_type": "markdown",
   "metadata": {
    "slideshow": {
     "slide_type": "skip"
    }
   },
   "source": [
    "Contraste LM de Breusch-Godfrey, para LM(i) con i = 1,...,4, nos dice que hay evidencia a favor de la autocorrelación de los residuos para cada orden i."
   ]
  },
  {
   "cell_type": "code",
   "execution_count": 23,
   "metadata": {
    "collapsed": false,
    "slideshow": {
     "slide_type": "subslide"
    }
   },
   "outputs": [
    {
     "name": "stdout",
     "output_type": "stream",
     "text": [
      "## Contrsaste de Aucorrelación de LJung-Box\n",
      "    lbvalue  pvalue\n",
      "0   11.2697  0.0008\n",
      "1   30.3604  0.0000\n",
      "2   33.2391  0.0000\n",
      "3   44.3385  0.0000\n",
      "4   44.4357  0.0000\n",
      "5   45.3130  0.0000\n",
      "6   48.8166  0.0000\n",
      "7   48.8758  0.0000\n",
      "8   55.9465  0.0000\n",
      "9   56.8175  0.0000\n",
      "10  67.5557  0.0000\n",
      "11  67.9257  0.0000\n",
      "12  76.6743  0.0000\n"
     ]
    }
   ],
   "source": [
    "# contraste de autocorrelación de ljun-box:\n",
    "print('## Contrsaste de Aucorrelación de LJung-Box')\n",
    "name = 'lbvalue pvalue'.split(' ')\n",
    "test = sms.acorr_ljungbox(results.resid, lags=13)\n",
    "test = np.round(test, 4)\n",
    "print(pd.DataFrame([test[0], test[1]], index=name).T)\n"
   ]
  },
  {
   "cell_type": "markdown",
   "metadata": {
    "slideshow": {
     "slide_type": "skip"
    }
   },
   "source": [
    "El contraste de Ljung-Box contrasta conjuntamente la autocorrelación de orden i. La primera columna nos da el valor del LB y la segunda el p-value, que nos da evidencia en contra de la hipótesis de no autocorrelación.\n",
    "\n",
    "Por tanto el modelo presenta problemas de autocorrelación, este problema es típico con datos de series temporales, y se puede corregir añadiendo retardos, diferenciando, conviertiendo las series en estacionarias o cambiando los datos por corte trasnversal."
   ]
  },
  {
   "cell_type": "markdown",
   "metadata": {
    "slideshow": {
     "slide_type": "slide"
    }
   },
   "source": [
    "## HETEROCEDASTICIDAD"
   ]
  },
  {
   "cell_type": "code",
   "execution_count": 24,
   "metadata": {
    "collapsed": false,
    "slideshow": {
     "slide_type": "subslide"
    }
   },
   "outputs": [
    {
     "name": "stdout",
     "output_type": "stream",
     "text": [
      "## Contraste de Heterocedasticidad (Breusch-Pagan):\n",
      "BP: 8.049 \t p-value: 0.045\n"
     ]
    }
   ],
   "source": [
    "# constraste heterocedasticidad breush-pagan\n",
    "print('## Contraste de Heterocedasticidad (Breusch-Pagan):')\n",
    "name = ['Lagrange multiplier statistic', 'p-value','f-value', 'f p-value']\n",
    "bp, pvalue = np.round(sms.het_breushpagan(results.resid, results.model.exog)[:2], 3)\n",
    "print('BP: %s \\t p-value: %s' % (bp, pvalue))"
   ]
  },
  {
   "cell_type": "markdown",
   "metadata": {
    "slideshow": {
     "slide_type": "skip"
    }
   },
   "source": [
    "El contraste LM de Breusch-Pagan (BP) no informa de la presencia de homocedasticidad o ausencia de ella. Para un nivel de significación del 5% estrictamente no podemos aceptar la hipótesis nula de homocedasticidad pero al estar tan próximo de la región de aceptación, necesitamos más información."
   ]
  },
  {
   "cell_type": "markdown",
   "metadata": {
    "slideshow": {
     "slide_type": "skip"
    }
   },
   "source": [
    "El contraste de breush-pagan plantea la siguiente regresión auxiliar:\n",
    "\n",
    "$\\hat{u}^2 = \\gamma_0 + \\gamma_1 x + v$ y contrasta $\\gamma_0 = \\gamma_1 = 0$."
   ]
  },
  {
   "cell_type": "code",
   "execution_count": 25,
   "metadata": {
    "collapsed": false,
    "slideshow": {
     "slide_type": "subslide"
    }
   },
   "outputs": [
    {
     "name": "stdout",
     "output_type": "stream",
     "text": [
      "## Contraste de Heterocedasticidad (Goldfeld-Quandt):\n",
      "GQ ~ F : 0.747\tpvalue: 0.785\n"
     ]
    }
   ],
   "source": [
    "# constraste heterocedasticidad Golfeld-Quandt\n",
    "\n",
    "print('## Contraste de Heterocedasticidad (Goldfeld-Quandt):')\n",
    "name = ['F statistic', 'p-value']\n",
    "test, pv = np.round(sms.het_goldfeldquandt(results.resid, results.model.exog)[:2], 3)\n",
    "print('GQ ~ F : %s\\tpvalue: %s' % (test, pv))\n"
   ]
  },
  {
   "cell_type": "markdown",
   "metadata": {
    "slideshow": {
     "slide_type": "skip"
    }
   },
   "source": [
    "Para buscar más información que nos permita arrojar luz sobre la homocedasticidad del modelo, nos fijamos en los resultados del contraste de Goldfeld-Quandt que nos dice que se acepta la hipótesis nula de homocedasticidad. Este test suele usarse cuando pensamos que la varianza de la perturbación tiene una relación proporcional al valor de una de la varianza de una de las variables explicativas."
   ]
  },
  {
   "cell_type": "code",
   "execution_count": 26,
   "metadata": {
    "collapsed": false,
    "slideshow": {
     "slide_type": "subslide"
    }
   },
   "outputs": [
    {
     "name": "stdout",
     "output_type": "stream",
     "text": [
      "Contraste LM ARCH: 22.7763\tpvalue: 0.019\n"
     ]
    }
   ],
   "source": [
    "# constraste homocedasticidad\n",
    "test, pv = np.round(sms.het_arch(results.resid)[:2], 4)\n",
    "print('Contraste LM ARCH: %s\\tpvalue: %s' %(test, pv))"
   ]
  },
  {
   "cell_type": "markdown",
   "metadata": {
    "slideshow": {
     "slide_type": "skip"
    }
   },
   "source": [
    "Si la la varianza del error depende de la varianza del error en periodos anteriores, entonces este contraste lo recogería. La hipótesis nula es la ausencia de componentes ARCH frente a la alternativa de presencia."
   ]
  },
  {
   "cell_type": "code",
   "execution_count": 27,
   "metadata": {
    "collapsed": false,
    "slideshow": {
     "slide_type": "subslide"
    }
   },
   "outputs": [
    {
     "name": "stdout",
     "output_type": "stream",
     "text": [
      "White: 14.7567\tpvalue:0.0978\n"
     ]
    }
   ],
   "source": [
    "test, pv = np.round(sms.het_white(results.resid, results.model.exog)[:2], 4)\n",
    "print('White: %s\\tpvalue:%s' % (test, pv))"
   ]
  },
  {
   "cell_type": "markdown",
   "metadata": {
    "slideshow": {
     "slide_type": "skip"
    }
   },
   "source": [
    "El contraste de white, es muy sensible a la mala especificación del modelo y a la precencia de componentes ARCH. Por lo que no es fiable.\n",
    "\n",
    "$$ y_t = a_0 + a_1 y_{t-1} + \\cdots + a_q y_{t-q} + \\epsilon_t = a_0 + \\sum_{i=1}^q a_i y_{t-i} + \\epsilon_t$$\n",
    "\n",
    "Se obtiene el cuadrado del error: $\\hat \\epsilon^2 $ y se hace la regresión:\n",
    "$$ \\hat \\epsilon_t^2 = \\hat \\alpha_0 + \\sum_{i=1}^{q} \\hat \\alpha_i \\hat \\epsilon_{t-i}^2$$\n",
    "donde q es la cantidad de retardos.\n",
    "\n",
    "La hipótesis nula es que $\\alpha_i = 0$ $\\forall i=1,..,q$\n",
    "\n",
    "En una muestra de T residuos bajo la hipótesis nula de ausencia de componentes ARCH en los errores, el estadístico $T'R^2 ~\\chi^2_{q}$, donde T' es el número de ecuaciones en el modelo que ajustan el residuo contra los retardos. (T'=T-q)."
   ]
  },
  {
   "cell_type": "markdown",
   "metadata": {
    "slideshow": {
     "slide_type": "slide"
    }
   },
   "source": [
    "## ESPECIFICACIÓN"
   ]
  },
  {
   "cell_type": "code",
   "execution_count": 28,
   "metadata": {
    "collapsed": false,
    "slideshow": {
     "slide_type": "subslide"
    }
   },
   "outputs": [
    {
     "name": "stdout",
     "output_type": "stream",
     "text": [
      "## Contraste de RESET\n",
      "\n",
      "F-test: 15.1726\tpvalue: 0.0\n"
     ]
    }
   ],
   "source": [
    "# contraste de especificacion RESET\n",
    "print('## Contraste de RESET')\n",
    "\n",
    "reset = 'm1 ~ y + r + p + y_hat2 + y_hat3'\n",
    "\n",
    "d = np.log(data).copy()\n",
    "\n",
    "d['y_hat2'] = results.predict() ** 2\n",
    "d['y_hat3'] = results.predict() ** 3\n",
    "res = ols(reset, d).fit()\n",
    "h0 = 'y_hat2 = y_hat3 = 0'\n",
    "test = res.f_test(h0)\n",
    "pv = np.round(test.pvalue, 4)\n",
    "print('\\nF-test: %s\\tpvalue: %s' % (np.round(test.fvalue[0][0], 4), pv))"
   ]
  },
  {
   "cell_type": "markdown",
   "metadata": {
    "slideshow": {
     "slide_type": "skip"
    }
   },
   "source": [
    "El test de RESET contrasta la correcta especificación o no del modelo, introduciendo en el modelo original la endógena al cuadrado y al cubo si el modelo esta correctamente especificado entonces los parámetros que acompañan a las endógenas al cuadrado y al cubo deberán ser cero. En este caso vemos que el contraste reset no da evidencia en contra de la hipótesis nula, por tanto hay evidencia a favor de que el modelo está mal especificado."
   ]
  },
  {
   "cell_type": "markdown",
   "metadata": {
    "slideshow": {
     "slide_type": "slide"
    }
   },
   "source": [
    "## SIGNIFICATIVIDAD Y CONTRASTES"
   ]
  },
  {
   "cell_type": "code",
   "execution_count": 29,
   "metadata": {
    "collapsed": false,
    "slideshow": {
     "slide_type": "subslide"
    }
   },
   "outputs": [
    {
     "name": "stdout",
     "output_type": "stream",
     "text": [
      "## Contraste de $\\beta_3 = 1$\n",
      "                             Test for Constraints                             \n",
      "==============================================================================\n",
      "                 coef    std err          t      P>|t|      [95.0% Conf. Int.]\n",
      "------------------------------------------------------------------------------\n",
      "c0             0.3982      0.097     -6.208      0.000         0.205     0.592\n",
      "==============================================================================\n"
     ]
    }
   ],
   "source": [
    "# contraste b3=1\n",
    "print('## Contraste de $\\\\beta_3 = 1$')\n",
    "h0 = 'np.log(p) = 1'\n",
    "t_test = results.t_test(h0)\n",
    "print(t_test)"
   ]
  },
  {
   "cell_type": "markdown",
   "metadata": {
    "slideshow": {
     "slide_type": "skip"
    }
   },
   "source": [
    "El contraste t-ratio para $\\beta_3 = 1$ que se obtiene dividiendo el parámetro por su error estándar, sigue una t-student de N - k - 1 grado de libertad. Suponiendo que las muestras provienen de una población normal."
   ]
  },
  {
   "cell_type": "markdown",
   "metadata": {
    "slideshow": {
     "slide_type": "slide"
    }
   },
   "source": [
    "## RESÚMEN\n",
    "\n",
    "### AUTOCORRELACIÓN\n",
    "\n",
    "Para comprobar que las perturbaciones sean independientes, he aplicado los contrastes de Breusch-Godfrey y Ljun-Box, y ambos proporcionan evidencia en contra de la hipótesis nula, por tanto no aceptamos la hipótesis nula de no autocorrelación.\n",
    "\n",
    "Por tanto el modelo evidencia __autocorrelación__."
   ]
  },
  {
   "cell_type": "markdown",
   "metadata": {
    "slideshow": {
     "slide_type": "subslide"
    }
   },
   "source": [
    "### HOMOCEDASTICIDAD\n",
    "\n",
    "Aplicamos los contrastes de Breusch-Pagan (BP) y Goldfeld-Quandt (GQ) y encontramos cierta contradicción entre los contrastes, pues el contraste BP nos da una evidencia muy debil en contra de la hipótesis nula, para un nivel de significación del 5% se obtiene un p-value = 4,5% lo que estrictamente lleva a rechazar $H_0$. \n",
    "\n",
    "Por otro lado el contraste Goldfeld-Quandt nos proporciona evidencia clara a favor la hipótesis nula.\n",
    "\n",
    "Dado que el GQ da un p-value mucho más determinante, que el resto, parece razonable suponer que hay mayor evidencia a favor de $H_0$ que en contra.\n",
    "\n",
    "Sin embargo el contrate ARCH, nos dice que puede haber evidencia para suponer que la varianza de los residuos depende del pasado de los propios residuos.\n",
    "\n",
    "Por tanto modelo evidencia __homocedasticidad__ según GQ y White, pero __heterocedasticidad__ según ARCH, BP."
   ]
  },
  {
   "cell_type": "markdown",
   "metadata": {
    "slideshow": {
     "slide_type": "subslide"
    }
   },
   "source": [
    "### ESPECIFICACIÓN\n",
    "\n",
    "El contraste de RESET nos dá información acerca de la correcta especifiación del modelo, y obtenemos que hay evidencia a en contra de la hipótesis nula ($\\gamma_0 = \\gamma_1 = 0$), por tanto el modelo puede estar mal especificado. Hay que tener en cuenta que este problema pueda deberse a los problemas de autocorrelación.\n",
    "\n",
    "Por tanto el modelo evidencia una __mala especificación__."
   ]
  },
  {
   "cell_type": "markdown",
   "metadata": {
    "slideshow": {
     "slide_type": "subslide"
    }
   },
   "source": [
    "### NORMALIDAD\n",
    "\n",
    "Para validar la normalidad en las perturbaciones, aplicamos el contraste de Jarque-Vera que nos dá evidencia a favor de la normalidad.\n",
    "\n",
    "Por tanto el modelo evidencia __normalidad.__"
   ]
  },
  {
   "cell_type": "markdown",
   "metadata": {
    "slideshow": {
     "slide_type": "subslide"
    }
   },
   "source": [
    "### SIGNIFICATIVIDAD\n",
    "\n",
    "Los parámetros estimados se pueden interpretarse dado que la estimación es robusta y si son todos significativos, tanto individual como conjuntamente, razonar en términos económicos.\n",
    "\n",
    "El modelo con un $R^2 = 0.991$ explica prácticamente todo el comportamiento de la variable endógena, el $\\hat{R}^2 = 0.99$."
   ]
  },
  {
   "cell_type": "markdown",
   "metadata": {
    "slideshow": {
     "slide_type": "slide"
    }
   },
   "source": [
    "### PRINCIPALES RESULTADOS\n",
    "\n",
    "$\\beta_0 = 16.7194 (0.4169)$\n",
    "\n",
    "$\\beta_1 = 2.963 (0.191)$\n",
    "\n",
    "$\\beta_2 = 0.091 (0.0262)$\n",
    "\n",
    "$\\beta_3 = 0.3982 (0.0969)$"
   ]
  },
  {
   "cell_type": "code",
   "execution_count": 30,
   "metadata": {
    "collapsed": false,
    "slideshow": {
     "slide_type": "skip"
    }
   },
   "outputs": [
    {
     "name": "stdout",
     "output_type": "stream",
     "text": [
      "$\\beta_0 = 16.7194 (0.4169)$\n",
      "$\\beta_1 = 2.963 (0.191)$\n",
      "$\\beta_2 = 0.091 (0.0262)$\n",
      "$\\beta_3 = 0.3982 (0.0969)$\n"
     ]
    }
   ],
   "source": [
    "for i, (b, se) in enumerate(zip(results.params, results.bse)):\n",
    "    b, se = np.round([b,se], 4)\n",
    "    print('$\\\\beta_%s = %s (%s)$' % (i,b,se))"
   ]
  },
  {
   "cell_type": "markdown",
   "metadata": {
    "slideshow": {
     "slide_type": "skip"
    }
   },
   "source": [
    "Con todos los parámetros significativos y una vez comprobado que se cumplen los supuestos del modelo lineal general (recordar que en este modelo no se cumple dado que presenta problemas de especificación y autocorrelación), poddríamos interpretar el modelo en términos económicos.\n",
    "\n",
    "Si pasamos por alto los problemas del modelo vemos que estamos ante un modelo __doblemente logarítmico__ y que por tanto tenemos que interpretar los parámetros de posición como __elasticidades__, esto es, el efecto del incremento de un punto porcentual que afecta a la oferta monetaria, exceptuando el caso del tipo de interés (r) cuyas unidades son porcentajes (%) lo que dificulta su interpretación."
   ]
  },
  {
   "cell_type": "markdown",
   "metadata": {
    "slideshow": {
     "slide_type": "subslide"
    }
   },
   "source": [
    "### EL TÉRMINO INDEPENDIENTE ($\\beta_0$)\n",
    "\n",
    "Vemos por tanto que la interpretación del término __independiente ('Intercept')__ es que si no se producen cambios en la renta, precios y el tipo de interés la oferta monetaria tiene un valor que tenemos que hallar, este valor es:\n",
    "\n",
    "$log(M1) = \\beta_0$\n",
    "\n",
    "$e^{log(M1)} = e^{\\beta_0}$\n",
    "\n",
    "$M1 = e^{\\beta_0} $\n",
    "\n",
    "$M1 = e^{16.7194} = 18244645.111$"
   ]
  },
  {
   "cell_type": "markdown",
   "metadata": {
    "slideshow": {
     "slide_type": "subslide"
    }
   },
   "source": [
    "### EL EFECTO DE LA RENTA (y) EN LA OFERTA MONETARIA ($\\beta_1$)\n",
    "\n",
    "El $\\beta_1 = 2.9630$ nos dice que incrementos de un 1% en la renta, tiene un efecto de 2.9630% en la oferta monetaria, casi 3 veces más intenso relativamente. Esto tiene sentido ya que por teoría, sabemos que la demanda de dinero tiene efecto positivo en la demanda de dinero (demanda de dinero motivo transacción)."
   ]
  },
  {
   "cell_type": "markdown",
   "metadata": {
    "slideshow": {
     "slide_type": "subslide"
    }
   },
   "source": [
    "### EL EFECTO DEL TIPO DE INTERÉS (r) EN LA OFERTA MONETARIA ($\\beta_2$)\n",
    "\n",
    "El $\\beta_2  = 0.0910$ nos dice que aumentos del 1% del tipo de interés(%), tiene un efecto del 0.0910% sobre la oferta de dinero. Teniendo en cuenta que para el modelo planteado la oferta monetaria es exógena, y el tipo de interés (r) es endógena, esto nos indica cómo debería cambiar la oferta monetaria para conseguir un cambio en el tipo de interés, así pues:\n",
    "\n",
    "$\\frac{d(M)}{M} = \\beta_2 d(r)$\n",
    "\n",
    "$\\frac{1}{\\beta_2} · \\frac{d(M)}{M} = d(r)$\n",
    "\n",
    "$\\frac{1}{0.0910} · \\frac{d(M)}{M} = d(r)$\n",
    "\n",
    "$10.989011 \\frac{d(M)}{M} = d(r)$\n",
    "\n",
    "Es importante notar que el signo del $\\beta_2$ es el mismo que el $m_r$, según la teoría nos dice que $m_r < 0$ por lo tanto tenemos una __contradicción__ con la realidad. Al ser de un 0.0910 muy pequeño nos podría indicar que la elasticidad de la oferta monetaria al tipo de interés está próxima a cero (inelástica). Esto podría interpretarses como una situación en la economía tenga una política monetaria inefectiva, en el modelo keynesiano a esto se le denomina trampa de la liquidez. Pero esta interpretación podría ser totalmente errada ya que tenemos que recordar que el modelo presenta problemas de autocorrelación, heterocedasticiadad y por tanto los coeficientes no tienen interpretación causal."
   ]
  },
  {
   "cell_type": "markdown",
   "metadata": {
    "slideshow": {
     "slide_type": "subslide"
    }
   },
   "source": [
    "### EL EFECTO DEL PRECIO SOBRE LA OFERTA MONETARIA ($\\beta_3$)\n",
    "\n",
    "El $\\beta_3 = 0.3982$ nos dice que si aumentan los precios en un 1%, la oferta monetaria lo hace en un 0.3982%, es decir, que si hay inflación la oferta monetaria aumenta relativamente menos de la mitad. Esto tiene sentido con lo que nos dice la Teoría Económica, ya que:\n",
    "\n",
    "$\\frac{M}{P} = m(r,y)$\n",
    "\n",
    "$log(\\frac{M}{P} = log[m(r,y)]$\n",
    "\n",
    "$log(M) - log(P)  = log[m(r,y)]$\n",
    "\n",
    "$log(M) = log[m(r,y)] + log(P)$\n",
    "\n",
    "__DERIVANDO:__\n",
    "\n",
    "$\\frac{d(M)}{M} = \\frac{m_r·d(r) + m_y · d(y)}{m(r,y)} + \\frac{d(P)}{P}$ con dr, dy = 0\n",
    "\n",
    "$\\frac{d(M)}{M} = \\frac{d(P)}{P}$\n",
    "\n",
    "Por lo tanto aumentan en la misma dirección. Importante notar que en un esquema de modelo Keynesiano o Clásico, P es una variable endógena mientras que M es exógenas, para esta última, es importante notar que las autoridades monetarias deciden M y no r como es en la realidad."
   ]
  },
  {
   "cell_type": "markdown",
   "metadata": {
    "slideshow": {
     "slide_type": "slide"
    }
   },
   "source": [
    "# APARTADO B\n",
    "Contrastar la restricción $β_3=1$, comentando sus implicaciones económicas. \n",
    "Hacer los cálculos paso a paso sin usar las opciones directas de Gretl."
   ]
  },
  {
   "cell_type": "code",
   "execution_count": 31,
   "metadata": {
    "collapsed": false,
    "slideshow": {
     "slide_type": "skip"
    }
   },
   "outputs": [
    {
     "data": {
      "text/plain": [
       "0.097"
      ]
     },
     "execution_count": 31,
     "metadata": {},
     "output_type": "execute_result"
    }
   ],
   "source": [
    "results.bse[-1]"
   ]
  },
  {
   "cell_type": "code",
   "execution_count": 32,
   "metadata": {
    "collapsed": false,
    "slideshow": {
     "slide_type": "skip"
    }
   },
   "outputs": [
    {
     "data": {
      "text/plain": [
       "0.398"
      ]
     },
     "execution_count": 32,
     "metadata": {},
     "output_type": "execute_result"
    }
   ],
   "source": [
    "results.params[-1]"
   ]
  },
  {
   "cell_type": "code",
   "execution_count": 33,
   "metadata": {
    "collapsed": false,
    "slideshow": {
     "slide_type": "skip"
    }
   },
   "outputs": [
    {
     "data": {
      "text/plain": [
       "-6.208"
      ]
     },
     "execution_count": 33,
     "metadata": {},
     "output_type": "execute_result"
    }
   ],
   "source": [
    "(results.params[-1] - 1) / results.bse[-1]"
   ]
  },
  {
   "cell_type": "markdown",
   "metadata": {
    "slideshow": {
     "slide_type": "subslide"
    }
   },
   "source": [
    "Para contrastar $\\beta_3 = 1$, tenemos dos opciones, plantear un contraste F o t, dado que es más sencillo un contraste t-ratio, el procedimiento a seguir es:\n",
    "\n",
    "## Hipótesis\n",
    "\n",
    "$H_0: \\beta_3 = 1$\n",
    "\n",
    "$H_1: \\beta_3 ≠ 1$\n",
    "\n",
    "## Contraste\n",
    "\n",
    "$t = \\frac{\\hat{\\beta_3} - \\beta_3}{\\sigma_{\\hat{\\beta_3} / \\sqrt{N}}}$\n",
    "\n",
    "$t = \\frac{0.39820 - 1}{0.097} = -6.208$\n",
    "\n",
    "## Región Crítica\n",
    "\n",
    "N = 68\n",
    "\n",
    "n = 68 - 4 (En este caso la t tiende en distribucion a una normal)\n",
    "\n",
    "gl = 63\n",
    "\n",
    "α = 0.05\n",
    "\n",
    "$t < t_{(n-1 , \\alpha / 2)}$\n",
    "\n",
    "$t < t_{(63 , 0.025)}$\n",
    "\n",
    "$t_{(63 , 0.025)} = -1.9983$\n",
    "\n",
    "$-6.208 < -1.9983 \\rightarrow$ Nos indica que hay evidencia en contra de la hipótesis nula, por tanto rechazamos $H_0: \\beta_3 = 1$"
   ]
  },
  {
   "cell_type": "code",
   "execution_count": 34,
   "metadata": {
    "collapsed": false,
    "slideshow": {
     "slide_type": "skip"
    }
   },
   "outputs": [
    {
     "name": "stdout",
     "output_type": "stream",
     "text": [
      " ## Contraste con los datos\n",
      "Grados de Libertad = 63\n",
      "\n",
      "$\\hat{\\beta}$ = 0.39817409979\n",
      "\n",
      "$\\beta_{H_0}$ = 1\n",
      "\n",
      "Error Estandar = 0.0969435772227\n",
      "\n",
      "t-ratio = -6.2080017826\n",
      "\n",
      "$\\alpha = 0.05$\n",
      "\n",
      "punto crítico = -1.99834054177\n"
     ]
    }
   ],
   "source": [
    "data_log = np.log(data)\n",
    "\n",
    "df = len(data_log)-4-1\n",
    "beta_hat = results.params[-1]\n",
    "beta_h0 = 1\n",
    "se = results.bse[-1]\n",
    "tratio = (beta_hat - beta_h0) / se\n",
    "alpha = 0.05\n",
    "tscore = st.t.ppf(alpha / 2, df=df)\n",
    "\n",
    "txt = ''' ## Contraste con los datos\n",
    "Grados de Libertad = %s\n",
    "\n",
    "$\\\\hat{\\\\beta}$ = %s\n",
    "\n",
    "$\\\\beta_{H_0}$ = %s\n",
    "\n",
    "Error Estandar = %s\n",
    "\n",
    "t-ratio = %s\n",
    "\n",
    "$\\\\alpha = %s$\n",
    "\n",
    "punto crítico = %s''' % (df, beta_hat, beta_h0, se, tratio, alpha, tscore)\n",
    "\n",
    "print(txt)"
   ]
  },
  {
   "cell_type": "code",
   "execution_count": 53,
   "metadata": {
    "collapsed": false,
    "slideshow": {
     "slide_type": "subslide"
    }
   },
   "outputs": [
    {
     "data": {
      "image/png": "[encoded data removed]",
      "text/plain": [
       "<matplotlib.figure.Figure at 0x109a99f28>"
      ]
     },
     "metadata": {},
     "output_type": "display_data"
    }
   ],
   "source": [
    "plt.figure(figsize=(5,4))\n",
    "# pintar la distribución t-student teórica\n",
    "x = np.linspace(-6,6,100)\n",
    "y = st.t.pdf(x, df=df)\n",
    "plt.plot(x, y)\n",
    "# sombrear la región crítica\n",
    "plt.fill_between(x=x[x<= -1.998], y1 = y[:len(x[x<= -1.998])], color = 'red', alpha=0.6)\n",
    "plt.fill_between(x=x[x>= 1.998], y1 = y[-len(x[x>= 1.998]):], color='red', alpha=0.6)\n",
    "# dibujar el punto del t-ratio\n",
    "plt.scatter(tratio, 0)\n",
    "# anotar el punto t-ratio\n",
    "plt.annotate(xy = (tratio,0), xytext = (-6, 0.2), s=r't-ratio($\\hat{\\beta_3}$)',fontsize=15, xycoords='data', arrowprops=dict(arrowstyle=\"simple, tail_width=0.2\", connectionstyle=\"arc3,rad=.2\", color='red', alpha=0.6))\n",
    "# título\n",
    "plt.suptitle('Región Crítica', fontsize=17, y=1.01)\n",
    "plt.tight_layout()"
   ]
  },
  {
   "cell_type": "markdown",
   "metadata": {
    "slideshow": {
     "slide_type": "fragment"
    }
   },
   "source": [
    "El gráfico muestra la representación gráfica de la prueba t-ratio para el caso de $\\beta_3 = 1$"
   ]
  },
  {
   "cell_type": "markdown",
   "metadata": {
    "slideshow": {
     "slide_type": "skip"
    }
   },
   "source": [
    "### Contraste con los datos\n",
    "Grados de Libertad = 63\n",
    "\n",
    "$\\hat{\\beta}$ = 0.3982\n",
    "\n",
    "$\\beta_{H_0}$ = 1\n",
    "\n",
    "Error Estandar = 0.0969435772227\n",
    "\n",
    "t-ratio = -6.20773461472\n",
    "\n",
    "$\\alpha = 0.05$\n",
    "\n",
    "punto crítico = -1.99834054177\n",
    "Vamos a tener en cuenta que para una muestra grande la t-student converge en distribución a una Normal estandar.\n",
    "punto crítico = -1.96"
   ]
  },
  {
   "cell_type": "markdown",
   "metadata": {
    "slideshow": {
     "slide_type": "skip"
    }
   },
   "source": [
    "### p-value\n",
    "\n",
    "$P\\{t < t_{contraste}\\} < \\alpha$\n",
    "\n",
    "Notar que dado que se trata de un contraste bilateral, basta compara el valor que queremos contrastar con el intervalo de confianza de $\\hat{\\beta}_3$, si el intervalo contiene a dicho valor entonces no se rechaza $H_0$, de lo contrario rechazaríamos la hipótesis nula."
   ]
  },
  {
   "cell_type": "code",
   "execution_count": null,
   "metadata": {
    "collapsed": false,
    "slideshow": {
     "slide_type": "skip"
    }
   },
   "outputs": [],
   "source": [
    "txt2 = '''$P-value = P\\{ t < |t-ratio|\\} = %s$''' % round(st.t.cdf(tratio, df=df) * 2, 9)\n",
    "print(txt2)"
   ]
  },
  {
   "cell_type": "markdown",
   "metadata": {
    "slideshow": {
     "slide_type": "skip"
    }
   },
   "source": [
    "Por tanto, los tres indicadores (P-Value, Punto Crítico, Intervalo de Confianza) nos dicen que hay evidencia suficiente para rechazar la hipótesis nula o equivalentemente existe evidencia para afirmar que $\\beta_3 ≠ 1$.\n",
    "\n",
    "Un $\\beta_3 = 1$ implica que la oferta monetaria tiene una relación proporcional directa respecto de los precios."
   ]
  },
  {
   "cell_type": "markdown",
   "metadata": {
    "slideshow": {
     "slide_type": "slide"
    }
   },
   "source": [
    "# APARTADO C\n",
    "\n",
    "Estimar asumiendo que $\\beta_3 = 1$, para ello tenemos que hacer unos cambios en el modelo inicial.\n",
    "\n",
    "Modelo Inicial: \n",
    "\n",
    "$$log (M1) = β_0 + β_1 log (y) + β_2 log (r) + β_3 log (ipc) + u$$\n",
    "\n",
    "Sustituyendo $\\beta_3 = 1$:\n",
    "\n",
    "$$log (M1) = β_0 + β_1 log (y) + β_2 log (r) + log (ipc) + u$$\n",
    "\n",
    "$$log (M1) - log (ipc) = β_0 + β_1 log (y) + β_2 log (r) + u$$\n",
    "\n",
    "Esta última es la ecuación que vamos a estimar."
   ]
  },
  {
   "cell_type": "code",
   "execution_count": 36,
   "metadata": {
    "collapsed": false,
    "slideshow": {
     "slide_type": "slide"
    }
   },
   "outputs": [
    {
     "name": "stdout",
     "output_type": "stream",
     "text": [
      "                            OLS Regression Results                            \n",
      "==============================================================================\n",
      "Dep. Variable:             np.log(m1)   R-squared:                       0.989\n",
      "Model:                            OLS   Adj. R-squared:                  0.989\n",
      "Method:                 Least Squares   F-statistic:                     3242.\n",
      "Date:                Wed, 04 Nov 2015   Prob (F-statistic):           7.86e-66\n",
      "Time:                        12:39:14   Log-Likelihood:                 100.60\n",
      "No. Observations:                  68   AIC:                            -195.2\n",
      "Df Residuals:                      65   BIC:                            -188.6\n",
      "Df Model:                           2                                         \n",
      "Covariance Type:                  HC1                                         \n",
      "==============================================================================\n",
      "                 coef    std err          t      P>|t|      [95.0% Conf. Int.]\n",
      "------------------------------------------------------------------------------\n",
      "Intercept     15.1432      0.225     67.451      0.000        14.695    15.592\n",
      "np.log(y)      3.7423      0.067     56.265      0.000         3.609     3.875\n",
      "np.log(r)      0.0983      0.025      3.872      0.000         0.048     0.149\n",
      "==============================================================================\n",
      "Omnibus:                        4.430   Durbin-Watson:                   1.031\n",
      "Prob(Omnibus):                  0.109   Jarque-Bera (JB):                3.333\n",
      "Skew:                           0.407   Prob(JB):                        0.189\n",
      "Kurtosis:                       2.282   Cond. No.                         177.\n",
      "==============================================================================\n",
      "\n",
      "Warnings:\n",
      "[1] Standard Errors are heteroscedasticity robust (HC1)\n"
     ]
    }
   ],
   "source": [
    "formula_c = 'np.log(m1) - np.log(p) ~ np.log(y) + np.log(r)'\n",
    "modelo = ols(formula_c, data)\n",
    "\n",
    "reg = modelo.fit().get_robustcov_results()\n",
    "#endog.name = 'logM1-logP'\n",
    "\n",
    "print(reg.summary())"
   ]
  },
  {
   "cell_type": "code",
   "execution_count": 37,
   "metadata": {
    "collapsed": false,
    "slideshow": {
     "slide_type": "subslide"
    }
   },
   "outputs": [
    {
     "data": {
      "text/plain": [
       "<matplotlib.text.Text at 0x109572cc0>"
      ]
     },
     "execution_count": 37,
     "metadata": {},
     "output_type": "execute_result"
    },
    {
     "data": {
      "image/png": "[encoded data removed]",
      "text/plain": [
       "<matplotlib.figure.Figure at 0x1098b8668>"
      ]
     },
     "metadata": {},
     "output_type": "display_data"
    }
   ],
   "source": [
    "sns.coefplot(formula_c, data, intercept=True)\n",
    "plt.suptitle('Coeficientes, confianza 95%', fontsize=15, y=1.05)"
   ]
  },
  {
   "cell_type": "markdown",
   "metadata": {
    "slideshow": {
     "slide_type": "subslide"
    }
   },
   "source": [
    "- Según el DW parece haber presencia de autocorrelacón.\n",
    "- El JB nos informa que los residuos siguen una distribución normal.\n",
    "- Suponiendo cumplimiento de las hipótesis:\n",
    "    - Los parámetros son significativos individualmente y conjuntamente.\n",
    "    - R^2 nos dice que el modelo explica el 93.9% del comportamiento de la endógena.\n",
    "- $\\beta_0 = 15.143$\n",
    "- $\\beta_1 = 3.7423$ % que aumenta m/p por aumentos en un 1% de y.\n",
    "- $\\beta_2 = 0.0983$ % que aumenta m/p por aumentos en un 1% de r(%)."
   ]
  },
  {
   "cell_type": "code",
   "execution_count": 38,
   "metadata": {
    "collapsed": false,
    "slideshow": {
     "slide_type": "subslide"
    }
   },
   "outputs": [
    {
     "data": {
      "text/plain": [
       "<class 'statsmodels.stats.contrast.ContrastResults'>\n",
       "                             Test for Constraints                             \n",
       "==============================================================================\n",
       "                 coef    std err          t      P>|t|      [95.0% Conf. Int.]\n",
       "------------------------------------------------------------------------------\n",
       "c0             3.7423      0.067     56.265      0.000         3.609     3.875\n",
       "=============================================================================="
      ]
     },
     "execution_count": 38,
     "metadata": {},
     "output_type": "execute_result"
    }
   ],
   "source": [
    "reg.t_test([0,1,0])"
   ]
  },
  {
   "cell_type": "code",
   "execution_count": 39,
   "metadata": {
    "collapsed": false,
    "slideshow": {
     "slide_type": "subslide"
    }
   },
   "outputs": [
    {
     "name": "stdout",
     "output_type": "stream",
     "text": [
      "F: 1941.7861\tpvalue: 0.0\n"
     ]
    }
   ],
   "source": [
    "t = reg.f_test([0,1,1])\n",
    "\n",
    "print('F: %s\\tpvalue: %s' % (np.round(t.fvalue[0][0], 4), np.round(t.pvalue, 4)))"
   ]
  },
  {
   "cell_type": "code",
   "execution_count": 40,
   "metadata": {
    "collapsed": false,
    "slideshow": {
     "slide_type": "skip"
    }
   },
   "outputs": [
    {
     "name": "stdout",
     "output_type": "stream",
     "text": [
      "           df     sum_sq    mean_sq            F        PR(>F)\n",
      "np.log(y)   1  18.379454  18.379454  5784.561958  3.050297e-65\n",
      "np.log(r)   1   0.044524   0.044524    14.013098  3.869733e-04\n",
      "Residual   65   0.206526   0.003177          NaN           NaN\n"
     ]
    }
   ],
   "source": [
    "print(sms.anova_lm(reg))"
   ]
  },
  {
   "cell_type": "code",
   "execution_count": 41,
   "metadata": {
    "collapsed": false,
    "slideshow": {
     "slide_type": "subslide"
    }
   },
   "outputs": [
    {
     "name": "stdout",
     "output_type": "stream",
     "text": [
      "BG(1): 15.0057\tpvalue: 0.0001\n",
      "BG(2): 24.6039\tpvalue: 0.0\n",
      "BG(3): 25.0148\tpvalue: 0.0\n",
      "BG(4): 27.0098\tpvalue: 0.0\n",
      "BG(5): 30.7664\tpvalue: 0.0\n",
      "BG(6): 30.9581\tpvalue: 0.0\n",
      "BG(7): 32.2556\tpvalue: 0.0\n",
      "BG(8): 32.4338\tpvalue: 0.0001\n"
     ]
    }
   ],
   "source": [
    "# autocorrelación\n",
    "for i in range(1,9):\n",
    "    t = np.round(sm.stats.diagnostic.acorr_breush_godfrey(reg, nlags=i)[:2], 4)\n",
    "    print('BG(%s): %s\\tpvalue: %s' % (i, t[0], t[1]))"
   ]
  },
  {
   "cell_type": "code",
   "execution_count": 42,
   "metadata": {
    "collapsed": false,
    "slideshow": {
     "slide_type": "subslide"
    }
   },
   "outputs": [
    {
     "name": "stdout",
     "output_type": "stream",
     "text": [
      "LJ(1): 14.895\tpvalue: 0.0\n",
      "LJ(2): 35.63\tpvalue: 0.0\n",
      "LJ(3): 40.933\tpvalue: 0.0\n",
      "LJ(4): 52.394\tpvalue: 0.0\n",
      "LJ(5): 52.6\tpvalue: 0.0\n",
      "LJ(6): 53.79\tpvalue: 0.0\n",
      "LJ(7): 55.67\tpvalue: 0.0\n",
      "LJ(8): 55.67\tpvalue: 0.0\n",
      "LJ(9): 63.051\tpvalue: 0.0\n",
      "LJ(10): 66.265\tpvalue: 0.0\n",
      "LJ(11): 81.978\tpvalue: 0.0\n",
      "LJ(12): 85.522\tpvalue: 0.0\n"
     ]
    }
   ],
   "source": [
    "for i in range(12):\n",
    "    lj = np.round(sms.acorr_ljungbox(reg.resid, lags=12), 3)\n",
    "    print('LJ(%s): %s\\tpvalue: %s' % ((i+1), lj[0][i], lj[1][i]))"
   ]
  },
  {
   "cell_type": "code",
   "execution_count": 43,
   "metadata": {
    "collapsed": false,
    "slideshow": {
     "slide_type": "subslide"
    }
   },
   "outputs": [
    {
     "name": "stdout",
     "output_type": "stream",
     "text": [
      "ARCH: 17.7522\tpvalue: 0.0875\n",
      "White: 8.6213\tpvalue: 0.1252\n",
      "BP: 3.2876\tpvalue: 0.1932\n",
      "GQ: 0.7327\tpvalue: 0.8043\n"
     ]
    }
   ],
   "source": [
    "# constraste homocedasticidad\n",
    "tname = ['ARCH', 'White', 'BP', 'GQ']\n",
    "het = [sms.het_arch(reg.resid)[:2], \n",
    "       sms.het_white(reg.resid, reg.model.exog)[:2], \n",
    "       sms.het_breushpagan(reg.resid, reg.model.exog)[:2], \n",
    "       sms.het_goldfeldquandt(reg.resid, reg.model.exog)[:2]]\n",
    "het = [np.round(h, 4) for h in het]\n",
    "for i, h in enumerate(het):\n",
    "    print('%s: %s\\tpvalue: %s' % (tname[i], h[0], h[1]))"
   ]
  },
  {
   "cell_type": "markdown",
   "metadata": {
    "slideshow": {
     "slide_type": "slide"
    }
   },
   "source": [
    "# APARTADO D\n",
    "Suponer que queremos estimar el modelo usando la variable M1 en términos reales, imponiendo para ello la restricción del apartado b ($\\beta_3 = 1$), y a la vez seguir manteniendo el ipc como variable explicativa. Pensar cómo transformar el modelo para conseguir el doble objetivo anterior y calcular de forma razonada (con la ayuda de la estimación del apartado a) el valor del coeficiente que acompaña a la variable ipc.\n",
    "\n",
    "## RESTAR AL MODELO ORIGINAL $\\log(ipc)$\n",
    "\n",
    "Dado el modelo original:\n",
    "\n",
    "$$\\log(m) = \\beta_0 + \\beta_1 log(y) + \\beta_2 log(r) + \\beta_3 log(ipc)$$"
   ]
  },
  {
   "cell_type": "markdown",
   "metadata": {
    "slideshow": {
     "slide_type": "fragment"
    }
   },
   "source": [
    "Si restamos a ambos lados del modelo $\\log(ipc)$ obtenemos:\n",
    "\n",
    "$$\\log(m) - log(ipc)= \\beta_0 + \\beta_1 log(y) + \\beta_2 log(r) + \\beta_3 log(ipc) - log(ipc)$$"
   ]
  },
  {
   "cell_type": "markdown",
   "metadata": {
    "slideshow": {
     "slide_type": "fragment"
    }
   },
   "source": [
    "Reordenando y sacando factor común:\n",
    "\n",
    "$$\\log(\\frac{m}{ipc}) = \\beta_0 + \\beta_1 log(y) + \\beta_2 log(r) + (\\beta_3 - 1)log(ipc)$$\n",
    "\n",
    "$$\\log(\\frac{m}{ipc}) = \\beta_0 + \\beta_1 log(y) + \\beta_2 log(r) + \\beta_3' log(ipc)$$"
   ]
  },
  {
   "cell_type": "markdown",
   "metadata": {
    "slideshow": {
     "slide_type": "fragment"
    }
   },
   "source": [
    "Por tanto con $\\beta_3 = 0.398$\n",
    "\n",
    "__Obtenemos $\\beta_3' = 0.398 - 1 = -0.602$__"
   ]
  },
  {
   "cell_type": "markdown",
   "metadata": {
    "slideshow": {
     "slide_type": "slide"
    }
   },
   "source": [
    "# APARTADO E\n",
    "\n",
    "Estimar al modelo del apartado d) comprobando si se cumple el resultado teórico.\n"
   ]
  },
  {
   "cell_type": "code",
   "execution_count": 44,
   "metadata": {
    "collapsed": false,
    "slideshow": {
     "slide_type": "slide"
    }
   },
   "outputs": [
    {
     "name": "stdout",
     "output_type": "stream",
     "text": [
      "                            OLS Regression Results                            \n",
      "==============================================================================\n",
      "Dep. Variable:         np.log(m1 / p)   R-squared:                       0.959\n",
      "Model:                            OLS   Adj. R-squared:                  0.957\n",
      "Method:                 Least Squares   F-statistic:                     506.5\n",
      "Date:                Wed, 04 Nov 2015   Prob (F-statistic):           1.63e-44\n",
      "Time:                        12:39:16   Log-Likelihood:                 107.11\n",
      "No. Observations:                  68   AIC:                            -206.2\n",
      "Df Residuals:                      64   BIC:                            -197.3\n",
      "Df Model:                           3                                         \n",
      "Covariance Type:                  HC1                                         \n",
      "==============================================================================\n",
      "                 coef    std err          t      P>|t|      [95.0% Conf. Int.]\n",
      "------------------------------------------------------------------------------\n",
      "Intercept     16.7194      0.417     40.104      0.000        15.887    17.552\n",
      "np.log(y)      2.9630      0.191     15.515      0.000         2.581     3.344\n",
      "np.log(r)      0.0910      0.026      3.470      0.001         0.039     0.143\n",
      "np.log(p)     -0.6018      0.097     -6.208      0.000        -0.795    -0.408\n",
      "==============================================================================\n",
      "Omnibus:                        3.352   Durbin-Watson:                   1.128\n",
      "Prob(Omnibus):                  0.187   Jarque-Bera (JB):                1.785\n",
      "Skew:                           0.021   Prob(JB):                        0.410\n",
      "Kurtosis:                       2.207   Cond. No.                         536.\n",
      "==============================================================================\n",
      "\n",
      "Warnings:\n",
      "[1] Standard Errors are heteroscedasticity robust (HC1)\n"
     ]
    }
   ],
   "source": [
    "formula_e = 'np.log(m1/p) ~ np.log(y) + np.log(r) + np.log(p)'\n",
    "reg_e = ols(formula_e, data).fit().get_robustcov_results()\n",
    "print(reg_e.summary())"
   ]
  },
  {
   "cell_type": "code",
   "execution_count": 45,
   "metadata": {
    "collapsed": false,
    "slideshow": {
     "slide_type": "subslide"
    }
   },
   "outputs": [
    {
     "data": {
      "text/plain": [
       "<matplotlib.text.Text at 0x109943f60>"
      ]
     },
     "execution_count": 45,
     "metadata": {},
     "output_type": "execute_result"
    },
    {
     "data": {
      "image/png": "[encoded data removed]",
      "text/plain": [
       "<matplotlib.figure.Figure at 0x109581978>"
      ]
     },
     "metadata": {},
     "output_type": "display_data"
    }
   ],
   "source": [
    "sns.coefplot(formula_e, data, intercept=True)\n",
    "plt.suptitle('Coeficientes, confianza 95%', fontsize=15, y=1.05)"
   ]
  },
  {
   "cell_type": "markdown",
   "metadata": {
    "slideshow": {
     "slide_type": "slide"
    }
   },
   "source": [
    "## AUTOCORRELACIÓN \n",
    "\n",
    "### Durbin-Watson\n",
    "\n",
    "No nos da información clara ya que esta cerca de 1, por tanto no podemos sacar conclusiones."
   ]
  },
  {
   "cell_type": "markdown",
   "metadata": {
    "slideshow": {
     "slide_type": "subslide"
    }
   },
   "source": [
    "### Breusch-Godfrey"
   ]
  },
  {
   "cell_type": "code",
   "execution_count": 46,
   "metadata": {
    "collapsed": false,
    "slideshow": {
     "slide_type": "fragment"
    }
   },
   "outputs": [
    {
     "name": "stdout",
     "output_type": "stream",
     "text": [
      "LM(1): 11.9649139334\tpvalue: 0.000542117130143\n",
      "LM(2): 23.8190547934\tpvalue: 6.72601713742e-06\n",
      "LM(3): 24.3129525903\tpvalue: 2.14901918751e-05\n",
      "LM(4): 28.2185035672\tpvalue: 1.12634844818e-05\n"
     ]
    }
   ],
   "source": [
    "for i in range(1,5):\n",
    "    test = sms.acorr_breush_godfrey(reg_e, nlags=i)\n",
    "    print('LM(%s): %s\\tpvalue: %s' % (i, test[0], test[1]))"
   ]
  },
  {
   "cell_type": "markdown",
   "metadata": {
    "slideshow": {
     "slide_type": "skip"
    }
   },
   "source": [
    "Igual que antes, el contraste de BG nos aporta evidencia en contra de la hipótesis nula, por tanto parece que hay autocorrelación."
   ]
  },
  {
   "cell_type": "markdown",
   "metadata": {
    "slideshow": {
     "slide_type": "subslide"
    }
   },
   "source": [
    "### Ljun-Box:"
   ]
  },
  {
   "cell_type": "code",
   "execution_count": 47,
   "metadata": {
    "collapsed": false,
    "slideshow": {
     "slide_type": "fragment"
    }
   },
   "outputs": [
    {
     "name": "stdout",
     "output_type": "stream",
     "text": [
      "LB(1): 11.2697\t0.0008\n",
      "LB(2): 30.3604\t0.0\n",
      "LB(3): 33.2391\t0.0\n",
      "LB(4): 44.3385\t0.0\n",
      "LB(5): 44.4357\t0.0\n",
      "LB(6): 45.313\t0.0\n",
      "LB(7): 48.8166\t0.0\n",
      "LB(8): 48.8758\t0.0\n",
      "LB(9): 55.9465\t0.0\n",
      "LB(10): 56.8175\t0.0\n",
      "LB(11): 67.5557\t0.0\n",
      "LB(12): 67.9257\t0.0\n",
      "LB(13): 76.6743\t0.0\n"
     ]
    }
   ],
   "source": [
    "test = np.round(sms.acorr_ljungbox(reg_e.resid, lags=13), 4)\n",
    "for i, t in enumerate(zip(test[0], test[1])):\n",
    "    print('LB(%s): %s\\t%s' % (i+1, t[0], t[1]))"
   ]
  },
  {
   "cell_type": "markdown",
   "metadata": {
    "slideshow": {
     "slide_type": "skip"
    }
   },
   "source": [
    "El contraste LJB también coincide con el BG, es decir, hay evidencia de presencia de autocorrelación."
   ]
  },
  {
   "cell_type": "markdown",
   "metadata": {
    "slideshow": {
     "slide_type": "slide"
    }
   },
   "source": [
    "## HETEROCEDASTICIDAD\n",
    "\n",
    "### Breush-Pagan"
   ]
  },
  {
   "cell_type": "code",
   "execution_count": 48,
   "metadata": {
    "collapsed": false,
    "slideshow": {
     "slide_type": "subslide"
    }
   },
   "outputs": [
    {
     "name": "stdout",
     "output_type": "stream",
     "text": [
      "-----------------------------  ---------\n",
      "Lagrange multiplier statistic  8.04884\n",
      "p-value                        0.0450131\n",
      "f-value                        2.86414\n",
      "f p-value                      0.043508\n",
      "-----------------------------  ---------\n"
     ]
    }
   ],
   "source": [
    "name = ['Lagrange multiplier statistic', 'p-value', 'f-value', 'f p-value']\n",
    "test = sms.het_breushpagan(reg_e.resid, reg_e.model.exog)\n",
    "print(tb.tabulate(list(zip(name, test))))"
   ]
  },
  {
   "cell_type": "markdown",
   "metadata": {
    "slideshow": {
     "slide_type": "skip"
    }
   },
   "source": [
    "El contaste de BP no nos da una clara evidencia en contra de la hipótesis nula de heterocedasticidad, con un P-Value de 0.045 estamos muy próximos de aceptar la hipótesis nula con una confianza del 95%."
   ]
  },
  {
   "cell_type": "markdown",
   "metadata": {
    "slideshow": {
     "slide_type": "subslide"
    }
   },
   "source": [
    "### Golfeld-Quandt"
   ]
  },
  {
   "cell_type": "code",
   "execution_count": 49,
   "metadata": {
    "collapsed": false,
    "slideshow": {
     "slide_type": "fragment"
    }
   },
   "outputs": [
    {
     "name": "stdout",
     "output_type": "stream",
     "text": [
      "-----------  --------\n",
      "F statistic  0.747412\n",
      "p-value      0.785038\n",
      "-----------  --------\n"
     ]
    }
   ],
   "source": [
    "name = ['F statistic', 'p-value']\n",
    "test = sms.het_goldfeldquandt(reg_e.resid, reg_e.model.exog)\n",
    "print(tb.tabulate(list(zip(name, test))))"
   ]
  },
  {
   "cell_type": "markdown",
   "metadata": {
    "slideshow": {
     "slide_type": "skip"
    }
   },
   "source": [
    "El contraste de GQ nos dice que no hay evidencia en contra de la hipótesis nula, por tanto parece que hay homocedasticidad."
   ]
  },
  {
   "cell_type": "markdown",
   "metadata": {
    "slideshow": {
     "slide_type": "subslide"
    }
   },
   "source": [
    "### ARCH"
   ]
  },
  {
   "cell_type": "code",
   "execution_count": 50,
   "metadata": {
    "collapsed": false,
    "slideshow": {
     "slide_type": "fragment"
    }
   },
   "outputs": [
    {
     "name": "stdout",
     "output_type": "stream",
     "text": [
      "Contraste LM ARCH (22.776322189330134, 0.019003517556924414)\n"
     ]
    }
   ],
   "source": [
    "print('Contraste LM ARCH', sms.het_arch(reg_e.resid)[:2])"
   ]
  },
  {
   "cell_type": "markdown",
   "metadata": {
    "slideshow": {
     "slide_type": "skip"
    }
   },
   "source": [
    "EL contraste de ARCH tampoco es muy concluyente, para una significación del 5% no se puede aceptar que el modelo sea homocedástico, sin embargo para una significación del 1%, no rechazaríamos la hipótesis de homocedasticidad."
   ]
  },
  {
   "cell_type": "markdown",
   "metadata": {
    "slideshow": {
     "slide_type": "slide"
    }
   },
   "source": [
    "## NORMALIDAD\n",
    "\n",
    "### Jarque-Vera\n",
    "\n",
    "El contraste de JB nos da un P-Value de 0.410 por lo tanto no rechazamos la hipótesis de normalidad."
   ]
  },
  {
   "cell_type": "markdown",
   "metadata": {
    "slideshow": {
     "slide_type": "slide"
    }
   },
   "source": [
    "## ESPECIFICACIÓN\n",
    "\n",
    "### RESET"
   ]
  },
  {
   "cell_type": "code",
   "execution_count": 51,
   "metadata": {
    "collapsed": false,
    "slideshow": {
     "slide_type": "fragment"
    }
   },
   "outputs": [
    {
     "name": "stdout",
     "output_type": "stream",
     "text": [
      "F 5.11121070558 pvalue: 0.00881675920409109\n"
     ]
    }
   ],
   "source": [
    "d = np.log(data).copy()\n",
    "# los datos ya estan en logaritmos\n",
    "reset = 'm1 - p ~ y + r + p + y_hat2 + y_hat3'\n",
    "\n",
    "d['y_hat2'] = reg_e.predict() ** 2\n",
    "d['y_hat3'] = reg_e.predict() ** 3\n",
    "reg_reset = ols(reset, d).fit()\n",
    "h0 = 'y_hat2 = y_hat3 = 0'\n",
    "test = reg_reset.f_test(h0)\n",
    "\n",
    "print('F', test.fvalue[0][0], 'pvalue:', test.pvalue)"
   ]
  },
  {
   "cell_type": "markdown",
   "metadata": {
    "slideshow": {
     "slide_type": "skip"
    }
   },
   "source": [
    "El contraste de RESET nos evidencia problemas de especificación, sin embargo no parece que sean muy acusados ya que con una confianza del 99% no podríamos rechazar la hipótesis nula (correcta especificación) concluyentemente."
   ]
  },
  {
   "cell_type": "markdown",
   "metadata": {
    "slideshow": {
     "slide_type": "subslide"
    }
   },
   "source": [
    "## BONDAD DEL AJUSTE\n",
    "\n",
    "### R^2\n",
    "\n",
    "Tenemos un $R^2 = 0.959$, lo que significa que los regresores explican el 96% del comportamiento de la oferta monetaria real, y un 4% son otros factores.\n",
    "\n",
    "### SIGNIFICATIVIDAD\n",
    "\n",
    "En el supuesto de que el modelo no tuviera problemas de autocorrealción, heterocedasticidad y especificación, poddríamos estar seguros de que los parámetros, y los t-ratios y contraste F  siguen las distribuciones del modelo lineal general, pero no es el caso, este modelo es inútil.\n",
    "\n",
    "Sin embargo para hacer el ejercicio de interpretación, si cumpliese las hipótesis nulas:\n",
    "Los coeficientes estimados son todos significativos individualmente, esto nos lo dice los t-ratios con p-value ≈ 0. Conjuntamente también son significativos si nos fijamos en la F, con un p-value ≈ 0."
   ]
  },
  {
   "cell_type": "code",
   "execution_count": 52,
   "metadata": {
    "collapsed": false,
    "slideshow": {
     "slide_type": "skip"
    }
   },
   "outputs": [
    {
     "name": "stdout",
     "output_type": "stream",
     "text": [
      "$\\beta_0 = 16.7194 (0.4169)$\n",
      "$\\beta_1 = 2.963 (0.191)$\n",
      "$\\beta_2 = 0.091 (0.0262)$\n",
      "$\\beta_3 = -0.6018 (0.0969)$\n"
     ]
    }
   ],
   "source": [
    "for i, (b, se) in enumerate(zip(reg_e.params, reg_e.bse)):\n",
    "    b, se = np.round([b,se], 4)\n",
    "    print('$\\\\beta_%s = %s (%s)$' % (i,b,se))"
   ]
  },
  {
   "cell_type": "markdown",
   "metadata": {
    "slideshow": {
     "slide_type": "slide"
    }
   },
   "source": [
    "## INTERPRETACIÓN\n",
    "\n",
    "### PRINCIPALES RESULTADOS\n",
    "\n",
    "$\\beta_0 = 16.7194 (0.4169)$\n",
    "\n",
    "$\\beta_1 = 2.963 (0.191)$\n",
    "\n",
    "$\\beta_2 = 0.091 (0.0262)$\n",
    "\n",
    "$\\beta_3 = -0.6018 (0.0969)$\n",
    "\n",
    "Igual que antes, los pimeros tres coeficientes son idénticos, y el último nos dice que ante aumentos en el precio, la oferta monetaria real deciende un 60% por cada 1% del precio. Vemos que efectivamente este $\\beta_3' = \\beta_3 - 1$."
   ]
  }
 ],
 "metadata": {
  "celltoolbar": "Slideshow",
  "kernelspec": {
   "display_name": "Python 3",
   "language": "python",
   "name": "python3"
  },
  "language_info": {
   "codemirror_mode": {
    "name": "ipython",
    "version": 3
   },
   "file_extension": ".py",
   "mimetype": "text/x-python",
   "name": "python",
   "nbconvert_exporter": "python",
   "pygments_lexer": "ipython3",
   "version": "3.5.0"
  },
  "latex_envs": {
   "bibliofile": "biblio.bib",
   "cite_by": "apalike",
   "current_citInitial": 1,
   "eqLabelWithNumbers": true,
   "eqNumInitial": 0
  }
 },
 "nbformat": 4,
 "nbformat_minor": 0
}
