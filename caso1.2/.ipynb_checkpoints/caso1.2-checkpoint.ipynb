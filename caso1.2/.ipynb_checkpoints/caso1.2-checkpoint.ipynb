{
 "cells": [
  {
   "cell_type": "code",
   "execution_count": 1,
   "metadata": {
    "collapsed": false
   },
   "outputs": [],
   "source": [
    "from statsmodels.formula.api import ols, rlm\n",
    "import statsmodels.stats.api as sms\n",
    "import statsmodels.api as sm\n",
    "import statsmodels.tsa.stattools as ts\n",
    "from statsmodels.graphics.tsaplots import plot_acf, plot_pacf\n",
    "import matplotlib.pyplot as plt\n",
    "import numpy as np\n",
    "import pandas as pd\n",
    "import seaborn as sns\n",
    "import tabulate as tb\n",
    "import Quandl as q"
   ]
  },
  {
   "cell_type": "code",
   "execution_count": 2,
   "metadata": {
    "collapsed": true
   },
   "outputs": [],
   "source": [
    "%matplotlib inline"
   ]
  },
  {
   "cell_type": "markdown",
   "metadata": {},
   "source": [
    "# Caso 1.2.- Estimación del impacto del dinero en una función Cobb-Douglas.\n",
    "\n",
    "Hong V. Nguyen, en un artículo de 1986 en el Journal of Money, Credit and Banking titulado \"Money in the aggregate Production Function: Reexamination and Further Evidence\" evalúa el papel jugado por el dinero en la función agregada de producción. La idea de incluir el dinero como un input en la función agregada de producción fue inicialmente contrastada por Sinai y Stokes en 1972. Su conclusión básica para los Estados Unidos, usando datos anuales de 1929 a 1967, fue que la variable de tendencia clásica usada para medir cambios tecnológicos era de hecho una aproximación al dinero en la función de producción. Más argumentos para incluir el dinero como un input productivo en la función agregada de producción están basados en el hecho de que el dinero facilita los cambios, hace los mercados más eficientes y por lo tanto permite un mayor nivel de output. Para llevar a cabo su análisis, Nguyen especifica una función de producción Cobb- Douglas para la economía de USA (ec.1).\n",
    "\n",
    "$$Y = A · Lα · Kβ · Mg · eθ·t · μ \\ (1)$$ \n",
    "\n",
    "donde:\n",
    "\n",
    "Y = Output interior privado\n",
    "\n",
    "L = Servicios de trabajo\n",
    "\n",
    "K = Servicios de capital\n",
    "\n",
    "M = M1 ó M2 real\n",
    "\n",
    "t = la tendencia en el tiempo\n",
    "\n",
    "μ = término de error\n",
    "\n",
    "En esta especificación, el dinero es tratado como un input regular y la tendencia es utilizada para capturar cambios tecnológicos.\n",
    "\n",
    "TIPO DE DATOS: Serie temporal; 49 observaciones, 1930-1978. Fichero DINPROD.XLS.\n",
    "\n",
    "## VARIABLES:\n",
    "\n",
    "L = Servicios de trabajo en billones de dólares de 1972\n",
    "\n",
    "K = Servicios de capital en billones de dólares de 1972\n",
    "\n",
    "M1 = M1 oferta monetaria en billones de dólares corrientes\n",
    "\n",
    "M2 = M2 oferta monetaria en billones de dólares corrientes\n",
    "\n",
    "Y = Output real en billones de dólares de 1972\n",
    "\n",
    "PY = Índice de precios implícitos de Y, 1972=100\n",
    "\n",
    ">Alternativamente, los grupos pueden tomar los datos de la Base de datos AMECO de la Comisión Europea (periodicidad anual 1960-2016) y estimar alguna función de producción para algún país europeo. En este caso las cuestiones del ejercicio habría que hacerlas con la variable temporal, sin tener en cuenta la variable de oferta monetaria y añadiendo (voluntariamente) la variable educación.\n",
    "\n",
    "> - L = Employment, persons: all domestic industries (National accounts) (NETD) \n",
    "> \n",
    "> - K = Net capital stock at 2010 prices: total economy (OKND)\n",
    "> \n",
    "> - Y = Gross domestic product at 2010 reference levels (OVGD)\n",
    "> \n",
    "> - EDU = A partir de la variable de consumo: Actual Individual Final Consumption of Households, 2010 constant prices (OCTH), euros. Para calcular de forma aproximada lo que se destina a educación, tomando como referencia un estudio del INE que calculó en 2008 que aproximadamente el 1’3% de los gastos de consumo familiares españoles se destinaba a educación, vamos a redondear al 2% para todos los países europeos. Calcular el 2% de estos valores en Excel antes de importarlos a Gretl. En esta variable hay observaciones ausentes al principio de la muestra para varios países.\n",
    "\n",
    "> Los grupos pueden seleccionar los datos para alguno de los siguientes países: Bélgica, Dinamarca, Alemania (hay datos para Alemania del Este separados), Irlanda, Grecia, España, Francia, Italia, Luxemburgo, Holanda, Austria, Portugal, Finlandia, Suecia, Reino Unido, Noruega, Suiza, Estados Unidos y Japón.\n",
    "\n",
    "# CUESTIONES:"
   ]
  },
  {
   "cell_type": "markdown",
   "metadata": {},
   "source": [
    "## METODOLOGÍA\n",
    "\n",
    "País Elegido: __Estados Unidos__ \n",
    "![](http://woodlandmills.ca/us/wp-content/uploads/2015/07/flag-icon-us.gif)\n",
    "Datos con __frecuencia anual__\n",
    "\n",
    "__VARIABLES:__\n",
    "- Empleo [enlace](https://www.quandl.com/data/ODA/USA_LE)\n",
    "- Stock de capital [enlace](https://www.quandl.com/data/AMECO/USA_1_0_0_0_OKND)\n",
    "- PIB [enlace](https://www.quandl.com/data/ODA/USA_NGDP_R)\n",
    "- Deflactor del PIB [enlace](https://www.quandl.com/data/ODA/USA_NGDP_D)\n",
    "- M1 [enlace](https://www.quandl.com/data/FRED/MYAGM1USM052N)\n"
   ]
  },
  {
   "cell_type": "code",
   "execution_count": 3,
   "metadata": {
    "collapsed": false
   },
   "outputs": [],
   "source": [
    "# variables estados unidos frecuencia anual\n",
    "l = q.get(\"ODA/USA_LE\") \n",
    "k = q.get(\"AMECO/USA_1_0_0_0_OKND\", authtoken=\"FEYg7kN2xEu3Rmi-gA1m\")\n",
    "py = q.get(\"ODA/USA_NGDP_D\", authtoken=\"FEYg7kN2xEu3Rmi-gA1m\") \n",
    "y = q.get(\"ODA/USA_NGDP_R\", authtoken=\"FEYg7kN2xEu3Rmi-gA1m\")\n",
    "m = q.get(\"FRED/MYAGM1USM052N\", authtoken=\"FEYg7kN2xEu3Rmi-gA1m\", collapse='annual')"
   ]
  },
  {
   "cell_type": "code",
   "execution_count": 4,
   "metadata": {
    "collapsed": false
   },
   "outputs": [
    {
     "data": {
      "text/html": [
       "<div>\n",
       "<table border=\"1\" class=\"dataframe\">\n",
       "  <thead>\n",
       "    <tr style=\"text-align: right;\">\n",
       "      <th></th>\n",
       "      <th>y</th>\n",
       "      <th>l</th>\n",
       "      <th>k</th>\n",
       "      <th>m</th>\n",
       "      <th>py</th>\n",
       "    </tr>\n",
       "  </thead>\n",
       "  <tbody>\n",
       "    <tr>\n",
       "      <th>1980-12-31</th>\n",
       "      <td>6450.400</td>\n",
       "      <td>99.303</td>\n",
       "      <td>16734.02</td>\n",
       "      <td>4.195000e+11</td>\n",
       "      <td>44.377</td>\n",
       "    </tr>\n",
       "    <tr>\n",
       "      <th>1981-12-31</th>\n",
       "      <td>6617.750</td>\n",
       "      <td>100.400</td>\n",
       "      <td>17156.18</td>\n",
       "      <td>4.470000e+11</td>\n",
       "      <td>48.520</td>\n",
       "    </tr>\n",
       "    <tr>\n",
       "      <th>1982-12-31</th>\n",
       "      <td>6491.275</td>\n",
       "      <td>99.529</td>\n",
       "      <td>17485.36</td>\n",
       "      <td>4.858000e+11</td>\n",
       "      <td>51.531</td>\n",
       "    </tr>\n",
       "    <tr>\n",
       "      <th>1983-12-31</th>\n",
       "      <td>6792.000</td>\n",
       "      <td>100.822</td>\n",
       "      <td>17864.91</td>\n",
       "      <td>5.333000e+11</td>\n",
       "      <td>53.565</td>\n",
       "    </tr>\n",
       "    <tr>\n",
       "      <th>1984-12-31</th>\n",
       "      <td>7285.025</td>\n",
       "      <td>105.003</td>\n",
       "      <td>18387.23</td>\n",
       "      <td>5.646000e+11</td>\n",
       "      <td>55.466</td>\n",
       "    </tr>\n",
       "  </tbody>\n",
       "</table>\n",
       "</div>"
      ],
      "text/plain": [
       "                   y        l         k             m      py\n",
       "1980-12-31  6450.400   99.303  16734.02  4.195000e+11  44.377\n",
       "1981-12-31  6617.750  100.400  17156.18  4.470000e+11  48.520\n",
       "1982-12-31  6491.275   99.529  17485.36  4.858000e+11  51.531\n",
       "1983-12-31  6792.000  100.822  17864.91  5.333000e+11  53.565\n",
       "1984-12-31  7285.025  105.003  18387.23  5.646000e+11  55.466"
      ]
     },
     "execution_count": 4,
     "metadata": {},
     "output_type": "execute_result"
    }
   ],
   "source": [
    "data = pd.concat([y,l,k,m, py], axis=1, join='inner')\n",
    "data.columns = ['y', 'l', 'k', 'm', 'py']\n",
    "data.head()"
   ]
  },
  {
   "cell_type": "code",
   "execution_count": 9,
   "metadata": {
    "collapsed": false
   },
   "outputs": [
    {
     "data": {
      "text/plain": [
       "array([[<matplotlib.axes._subplots.AxesSubplot object at 0x1090ba518>],\n",
       "       [<matplotlib.axes._subplots.AxesSubplot object at 0x1096319b0>],\n",
       "       [<matplotlib.axes._subplots.AxesSubplot object at 0x10967d860>],\n",
       "       [<matplotlib.axes._subplots.AxesSubplot object at 0x1096b8b38>],\n",
       "       [<matplotlib.axes._subplots.AxesSubplot object at 0x109704240>]], dtype=object)"
      ]
     },
     "execution_count": 9,
     "metadata": {},
     "output_type": "execute_result"
    },
    {
     "data": {
      "image/png": "[encoded data removed]",
      "text/plain": [
       "<matplotlib.figure.Figure at 0x108845d68>"
      ]
     },
     "metadata": {},
     "output_type": "display_data"
    }
   ],
   "source": [
    "data.plot(subplots=True, layout=(5,1), figsize=(6, 10))"
   ]
  },
  {
   "cell_type": "code",
   "execution_count": null,
   "metadata": {
    "collapsed": false
   },
   "outputs": [],
   "source": []
  },
  {
   "cell_type": "markdown",
   "metadata": {},
   "source": [
    "# APARTADO A\n",
    "\n",
    "Para estimar la ecuación 1 usando la muestra de período 1930 a 1978, la ecuación tiene que ser transformada en un modelo que sea lineal en los parámetros. Este modelo transformado viene dado en la ecuación 2.\n",
    "\n",
    "$$log(Y_t) = λ + α· log( L_t) + β· log( K_t ) + g· log(m_t) + θ_t + u_t\\ (2)$$\n",
    "\n",
    "donde:\n",
    "\n",
    "Y, L, y K han sido definidas\n",
    "\n",
    "m= dinero real, siendo igual a M1/PY o M2/PY\n",
    "\n",
    "$u_t = log(μ_t)$. \n",
    "\n",
    "Los grupos tipo A usarán M1 y los grupos B usarán M2."
   ]
  },
  {
   "cell_type": "code",
   "execution_count": null,
   "metadata": {
    "collapsed": true
   },
   "outputs": [],
   "source": []
  },
  {
   "cell_type": "markdown",
   "metadata": {},
   "source": [
    "## APARTADO a1\n",
    "\n",
    "Utilizando los datos suministrados y la definición M1 (o M2) de dinero real, estimar la ecuación 2 por Mínimos Cuadrados Ordinarios (MCO). A lo largo de este ejercicio hay que interpretar económicamente cada modelo que se estime, respecto de los contrastes residuales, hay que hacerlos y tenerlos guardados para la tabla-resumen final, pero no hay que poner los contrastes después de cada modelo."
   ]
  },
  {
   "cell_type": "markdown",
   "metadata": {},
   "source": [
    "## APARTADO a2\n",
    "Contrastar la significatividad individual y conjunta de las variables independientes mediante los respectivos tests t-Student y F de Snedecor.\n",
    "\n",
    "## APARTADO a3 \n",
    "Contrastar a un nivel de significación del 5% la hipótesis nula:\n",
    "\n",
    "                                   g = θ = 0"
   ]
  },
  {
   "cell_type": "markdown",
   "metadata": {},
   "source": [
    "# APARTADO b\n",
    "Algunos economistas argumentan que si se ha especificado la función de producción correctamente y se han incluido todos los inputs relevantes, entonces debe mostrar rendimientos constantes de escala. Supongamos que el dinero real es de hecho un input en la función agregada de producción y que la tendencia no entra en la función de producción (ec. 3).\n",
    "\n",
    "$log(Yt) = λ + α log( Lt) + β log( Kt ) + g log(mt)  + ut$\n",
    "\n",
    "Para que la función de producción exhiba rendimientos constantes de escala, debe cumplirse que\n",
    "\n",
    "$$α + β + g = 1$$\n",
    "\n",
    "Imponiendo esta condición sobre el modelo de la ecuación 3 nos da el modelo restringido de la ecuación 4 (demostrar cómo se llega a esta ecuación).\n",
    "\n",
    "$log(Yt / Kt ) = λ + α log(Lt / Kt ) + g log(mt / Kt) + ut$(4)"
   ]
  },
  {
   "cell_type": "markdown",
   "metadata": {},
   "source": [
    "## APARTADO b1\n",
    "Estimar las ecuaciones 3 y 4 usando los datos desde 1930 hasta 1978 y la definición de M1 (o M2) de dinero real. Contrastar la hipótesis de rendimientos constantes de escala a partir de las sumas de cuadrados de los residuos (SR) obtenidas en los dos modelos. Usar el contraste de Wald:\n",
    "\n",
    "F = ((SRR - SR) / SR) * (T - K / r) ; (K = 4, r = 1)"
   ]
  },
  {
   "cell_type": "markdown",
   "metadata": {},
   "source": [
    "## APARTADO b2\n",
    "Bajo la hipótesis de rendimientos constantes a escala (modelo 4) se puede despejar una estimación del parámetro β. Encontrar tal estimación y construir un intervalo de confianza del 95% para el mismo."
   ]
  },
  {
   "cell_type": "markdown",
   "metadata": {},
   "source": [
    "## APARTADO b3\n",
    "Dado el intervalo de confianza construido en el apartado b2), ¿es la estimación de β económica y estadísticamente significativa?"
   ]
  },
  {
   "cell_type": "markdown",
   "metadata": {},
   "source": [
    "## APARTADO b4\n",
    "Dado que los rendimientos constantes a escala implican sólo una restricción lineal sobre el modelo, se podría haber realizado un test t para contrastar tal hipótesis. Usando las estimaciones de α, β, y g de la ecuación 3, llevar a cabo tal test con un nivel de significación del 5%. Dado que los rendimientos constantes a escala implican sólo una restricción lineal sobre el modelo, se podría haber realizado un test t para contrastar tal hipótesis. Usando las estimaciones de α, β, y g de la ecuación 3 y definiendo un parámetro auxiliar δ = α + β + g – 1, llevar a cabo tal test sobre δ con un nivel de significación del 5%. Para ello necesitaremos calcular la estimación de δ a partir de las estimaciones de α, β y g, y después la varianza estimada de δ, que es:\n",
    "\n",
    "$V^{δ} = V^{\\alpha} + V^{β} +  + V^{g} + 2·Cov(α, β) + 2·Cov( α, g) + 2·Cov{β, g}$\n",
    "\n",
    "Y ahora ya podemos calcular el estadístico de contraste, que vendrá dado por:\n",
    "\n",
    "$t(δ) = δ / Desv^{δ}$\n",
    "\n",
    "el cual se distribuye bajo la hipótesis nula según una t-Student con T-4 grados de libertad.\n",
    "\n",
    "b4:\n",
    "$F = t^2$"
   ]
  },
  {
   "cell_type": "markdown",
   "metadata": {},
   "source": [
    "## APARTADO b5\n",
    "¿Cuál es la relación entre el test F realizado en el apartado b1) y el test-t llevado a cabo en el apartado b4)?"
   ]
  },
  {
   "cell_type": "markdown",
   "metadata": {},
   "source": [
    "# APARTADO c\n",
    "Nguyen, después de rechazar la idea de que el dinero era un input en la función de producción, propuso un papel alternativo para el dinero en el proceso productivo, y sugirió que era un \"facilitador\" del cambio tecnológico. Reformuló el modelo presentado en la ecuación 1 haciendo el coeficiente de tendencia, θ, una función de la tasa de crecimiento del dinero:\n",
    "\n",
    "$θ = δ + τ (Mt - Mt-1)/Mt-1$ (5)\n",
    "\n",
    "En esta formulación, la tasa de crecimiento de la productividad está descompuesta en dos partes: la que es debida al cambio técnico, medida a través del parámetro δ, y la que es debida a la interacción entre la tasa de crecimiento de saldos en efectivos reales, y el cambio técnico medido a través del parámetro τ. Es decir, hizo la hipótesis de que θ, el coeficiente de tendencia en el modelo básico (ecuación 1), era una función de la tasa de crecimiento de dinero real (ver la ecuación 5). Substituyendo la ecuación 5 en la ecuación 1 se obtiene la siguiente ecuación como modelo básico.\n",
    "\n",
    "$log(Yt) = λ + α log( Lt) + β log( Kt ) + g log(mt) + δ · t + w (t·mt*) + ut$ (6)\n",
    "\n",
    "donde $mt*$ es la tasa de cambio de la oferta monetaria real."
   ]
  },
  {
   "cell_type": "markdown",
   "metadata": {},
   "source": [
    "## APARTADO c1\n",
    "Usando la tasa de crecimiento de la oferta monetaria real (o su aproximación como $mt* = log(mt) - log(mt-1)$, estimar la ecuación 6 por MCO."
   ]
  },
  {
   "cell_type": "markdown",
   "metadata": {},
   "source": [
    "## APARTADO c2\n",
    "Contrastar la significación conjunta de las variables a un nivel ε=0’01. ¿Qué opina sobre los resultados obtenidos de la regresión? Hacer una tabla-resumen de los modelos (2), (3) y (6) estimados en el ejercicio, en la que aparezcan los contrastes RESET de especificación, de normalidad, LM(1) y LM(2) de autocorrelación y ARCH(1), junto con el R2 corregido y el criterio de Schwarz (SBIC). ¿Qué modelo se escogería de entre los tres?"
   ]
  },
  {
   "cell_type": "code",
   "execution_count": null,
   "metadata": {
    "collapsed": true
   },
   "outputs": [],
   "source": []
  },
  {
   "cell_type": "code",
   "execution_count": null,
   "metadata": {
    "collapsed": true
   },
   "outputs": [],
   "source": []
  },
  {
   "cell_type": "code",
   "execution_count": null,
   "metadata": {
    "collapsed": true
   },
   "outputs": [],
   "source": []
  },
  {
   "cell_type": "code",
   "execution_count": null,
   "metadata": {
    "collapsed": true
   },
   "outputs": [],
   "source": []
  }
 ],
 "metadata": {
  "kernelspec": {
   "display_name": "Python 3",
   "language": "python",
   "name": "python3"
  },
  "language_info": {
   "codemirror_mode": {
    "name": "ipython",
    "version": 3
   },
   "file_extension": ".py",
   "mimetype": "text/x-python",
   "name": "python",
   "nbconvert_exporter": "python",
   "pygments_lexer": "ipython3",
   "version": "3.5.0"
  },
  "latex_envs": {
   "bibliofile": "biblio.bib",
   "cite_by": "apalike",
   "current_citInitial": 1,
   "eqLabelWithNumbers": true,
   "eqNumInitial": 0
  }
 },
 "nbformat": 4,
 "nbformat_minor": 0
}
