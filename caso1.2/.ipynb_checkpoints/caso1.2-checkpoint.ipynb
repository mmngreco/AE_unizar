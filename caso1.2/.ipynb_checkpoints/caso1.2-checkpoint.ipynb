{
 "cells": [
  {
   "cell_type": "code",
   "execution_count": 58,
   "metadata": {
    "collapsed": false
   },
   "outputs": [],
   "source": [
    "from statsmodels.formula.api import ols, rlm\n",
    "import statsmodels.stats.api as sms\n",
    "import statsmodels.api as sm\n",
    "import statsmodels.tsa.stattools as ts\n",
    "from statsmodels.graphics.tsaplots import plot_acf, plot_pacf\n",
    "import matplotlib.pyplot as plt\n",
    "import numpy as np\n",
    "import pandas as pd\n",
    "import seaborn as sns\n",
    "import tabulate as tb\n",
    "import Quandl as q\n",
    "import scipy.stats as st\n",
    "import sympy as sy"
   ]
  },
  {
   "cell_type": "code",
   "execution_count": 59,
   "metadata": {
    "collapsed": false
   },
   "outputs": [
    {
     "name": "stdout",
     "output_type": "stream",
     "text": [
      "IPython console for SymPy 0.7.6.1 (Python 3.5.0-64-bit) (ground types: python)\n",
      "\n",
      "These commands were executed:\n",
      ">>> from __future__ import division\n",
      ">>> from sympy import *\n",
      ">>> x, y, z, t = symbols('x y z t')\n",
      ">>> k, m, n = symbols('k m n', integer=True)\n",
      ">>> f, g, h = symbols('f g h', cls=Function)\n",
      ">>> init_printing()\n",
      "\n",
      "Documentation can be found at http://www.sympy.org\n"
     ]
    }
   ],
   "source": [
    "sy.init_session()"
   ]
  },
  {
   "cell_type": "code",
   "execution_count": 3,
   "metadata": {
    "collapsed": true
   },
   "outputs": [],
   "source": [
    "%matplotlib inline"
   ]
  },
  {
   "cell_type": "markdown",
   "metadata": {},
   "source": [
    "# Caso 1.2.\n",
    "# Estimación del impacto del dinero en una función Cobb-Douglas.\n",
    "\n",
    "Hong V. Nguyen, en un artículo de 1986 en el Journal of Money, Credit and Banking titulado \"Money in the aggregate Production Function: Reexamination and Further Evidence\" evalúa el papel jugado por el dinero en la función agregada de producción. La idea de incluir el dinero como un input en la función agregada de producción fue inicialmente contrastada por Sinai y Stokes en 1972. Su conclusión básica para los Estados Unidos, usando datos anuales de 1929 a 1967, fue que la variable de tendencia clásica usada para medir cambios tecnológicos era de hecho una aproximación al dinero en la función de producción. Más argumentos para incluir el dinero como un input productivo en la función agregada de producción están basados en el hecho de que el dinero facilita los cambios, hace los mercados más eficientes y por lo tanto permite un mayor nivel de output. Para llevar a cabo su análisis, Nguyen especifica una función de producción Cobb- Douglas para la economía de USA (ec.1).\n",
    "\n",
    "$$Y = A · Lα · Kβ · Mg · e·θ·t · μ \\ (1)$$ \n",
    "\n",
    "donde:\n",
    "\n",
    "Y = Output interior privado\n",
    "\n",
    "L = Servicios de trabajo\n",
    "\n",
    "K = Servicios de capital\n",
    "\n",
    "M = M1 ó M2 real\n",
    "\n",
    "t = la tendencia en el tiempo\n",
    "\n",
    "μ = término de error\n",
    "\n",
    "En esta especificación, el dinero es tratado como un input regular y la tendencia es utilizada para capturar cambios tecnológicos.\n",
    "\n",
    "TIPO DE DATOS: Serie temporal; 49 observaciones, 1930-1978. Fichero DINPROD.XLS.\n",
    "\n",
    "## VARIABLES:\n",
    "\n",
    "L = Servicios de trabajo en billones de dólares de 1972\n",
    "\n",
    "K = Servicios de capital en billones de dólares de 1972\n",
    "\n",
    "M1 = M1 oferta monetaria en billones de dólares corrientes\n",
    "\n",
    "M2 = M2 oferta monetaria en billones de dólares corrientes\n",
    "\n",
    "Y = Output real en billones de dólares de 1972\n",
    "\n",
    "PY = Índice de precios implícitos de Y, 1972=100\n",
    "\n",
    ">Alternativamente, los grupos pueden tomar los datos de la Base de datos AMECO de la Comisión Europea (periodicidad anual 1960-2016) y estimar alguna función de producción para algún país europeo. En este caso las cuestiones del ejercicio habría que hacerlas con la variable temporal, sin tener en cuenta la variable de oferta monetaria y añadiendo (voluntariamente) la variable educación.\n",
    "\n",
    "> - L = Employment, persons: all domestic industries (National accounts) (NETD) \n",
    "> \n",
    "> - K = Net capital stock at 2010 prices: total economy (OKND)\n",
    "> \n",
    "> - Y = Gross domestic product at 2010 reference levels (OVGD)\n",
    "> \n",
    "> - EDU = A partir de la variable de consumo: Actual Individual Final Consumption of Households, 2010 constant prices (OCTH), euros. Para calcular de forma aproximada lo que se destina a educación, tomando como referencia un estudio del INE que calculó en 2008 que aproximadamente el 1’3% de los gastos de consumo familiares españoles se destinaba a educación, vamos a redondear al 2% para todos los países europeos. Calcular el 2% de estos valores en Excel antes de importarlos a Gretl. En esta variable hay observaciones ausentes al principio de la muestra para varios países.\n",
    "\n",
    "> Los grupos pueden seleccionar los datos para alguno de los siguientes países: Bélgica, Dinamarca, Alemania (hay datos para Alemania del Este separados), Irlanda, Grecia, España, Francia, Italia, Luxemburgo, Holanda, Austria, Portugal, Finlandia, Suecia, Reino Unido, Noruega, Suiza, Estados Unidos y Japón.\n",
    "\n",
    "# CUESTIONES:"
   ]
  },
  {
   "cell_type": "markdown",
   "metadata": {},
   "source": [
    "## METODOLOGÍA\n",
    "\n",
    "País Elegido: __Estados Unidos__\n",
    "\n",
    "Datos con __frecuencia anual__\n",
    "\n",
    "Datos obtenidos de Quandl.com (AMECO, ODA, FRED)\n",
    "\n",
    "__VARIABLES:__\n",
    "- Empleo [enlace](https://www.quandl.com/data/ODA/USA_LE)\n",
    "- Stock de capital [enlace](https://www.quandl.com/data/AMECO/USA_1_0_0_0_OKND)\n",
    "- PIB [enlace](https://www.quandl.com/data/ODA/USA_NGDP_R)\n",
    "- Deflactor del PIB [enlace](https://www.quandl.com/data/ODA/USA_NGDP_D)\n",
    "- M1 [enlace](https://www.quandl.com/data/FRED/MYAGM1USM052N)"
   ]
  },
  {
   "cell_type": "code",
   "execution_count": 4,
   "metadata": {
    "collapsed": false
   },
   "outputs": [],
   "source": [
    "# variables estados unidos frecuencia anual\n",
    "l = q.get(\"ODA/USA_LE\") \n",
    "k = q.get(\"AMECO/USA_1_0_0_0_OKND\", authtoken=\"FEYg7kN2xEu3Rmi-gA1m\")\n",
    "py = q.get(\"ODA/USA_NGDP_D\", authtoken=\"FEYg7kN2xEu3Rmi-gA1m\") \n",
    "y = q.get(\"ODA/USA_NGDP_R\", authtoken=\"FEYg7kN2xEu3Rmi-gA1m\")\n",
    "m = q.get(\"FRED/MYAGM1USM052N\", authtoken=\"FEYg7kN2xEu3Rmi-gA1m\", collapse='annual')"
   ]
  },
  {
   "cell_type": "code",
   "execution_count": 5,
   "metadata": {
    "collapsed": false
   },
   "outputs": [
    {
     "data": {
      "text/html": [
       "<div>\n",
       "<table border=\"1\" class=\"dataframe\">\n",
       "  <thead>\n",
       "    <tr style=\"text-align: right;\">\n",
       "      <th></th>\n",
       "      <th>y</th>\n",
       "      <th>l</th>\n",
       "      <th>k</th>\n",
       "      <th>m</th>\n",
       "      <th>py</th>\n",
       "    </tr>\n",
       "  </thead>\n",
       "  <tbody>\n",
       "    <tr>\n",
       "      <th>1980-12-31</th>\n",
       "      <td>6450.400</td>\n",
       "      <td>99.303</td>\n",
       "      <td>16734.02</td>\n",
       "      <td>4.200000e+11</td>\n",
       "      <td>44.377</td>\n",
       "    </tr>\n",
       "    <tr>\n",
       "      <th>1981-12-31</th>\n",
       "      <td>6617.750</td>\n",
       "      <td>100.400</td>\n",
       "      <td>17156.18</td>\n",
       "      <td>4.470000e+11</td>\n",
       "      <td>48.520</td>\n",
       "    </tr>\n",
       "    <tr>\n",
       "      <th>1982-12-31</th>\n",
       "      <td>6491.275</td>\n",
       "      <td>99.529</td>\n",
       "      <td>17485.36</td>\n",
       "      <td>4.860000e+11</td>\n",
       "      <td>51.531</td>\n",
       "    </tr>\n",
       "    <tr>\n",
       "      <th>1983-12-31</th>\n",
       "      <td>6792.000</td>\n",
       "      <td>100.822</td>\n",
       "      <td>17864.91</td>\n",
       "      <td>5.330000e+11</td>\n",
       "      <td>53.565</td>\n",
       "    </tr>\n",
       "    <tr>\n",
       "      <th>1984-12-31</th>\n",
       "      <td>7285.025</td>\n",
       "      <td>105.003</td>\n",
       "      <td>18387.23</td>\n",
       "      <td>5.650000e+11</td>\n",
       "      <td>55.466</td>\n",
       "    </tr>\n",
       "  </tbody>\n",
       "</table>\n",
       "</div>"
      ],
      "text/plain": [
       "                   y        l         k             m      py\n",
       "1980-12-31  6450.400   99.303  16734.02  4.200000e+11  44.377\n",
       "1981-12-31  6617.750  100.400  17156.18  4.470000e+11  48.520\n",
       "1982-12-31  6491.275   99.529  17485.36  4.860000e+11  51.531\n",
       "1983-12-31  6792.000  100.822  17864.91  5.330000e+11  53.565\n",
       "1984-12-31  7285.025  105.003  18387.23  5.650000e+11  55.466"
      ]
     },
     "execution_count": 5,
     "metadata": {},
     "output_type": "execute_result"
    }
   ],
   "source": [
    "data = pd.concat([y,l,k,m, py], axis=1, join='inner')\n",
    "data.columns = ['y', 'l', 'k', 'm', 'py']\n",
    "data.head()"
   ]
  },
  {
   "cell_type": "code",
   "execution_count": 6,
   "metadata": {
    "collapsed": false
   },
   "outputs": [
    {
     "name": "stdout",
     "output_type": "stream",
     "text": [
      "\n"
     ]
    },
    {
     "data": {
      "image/png": "[encoded data removed]",
      "text/plain": [
       "<matplotlib.figure.Figure at 0x1141f7240>"
      ]
     },
     "metadata": {},
     "output_type": "display_data"
    }
   ],
   "source": [
    "data.plot(subplots=True, layout=(5,1), figsize=(6, 10))\n",
    "print()"
   ]
  },
  {
   "cell_type": "markdown",
   "metadata": {},
   "source": [
    "# APARTADO A\n",
    "\n",
    "Para estimar la ecuación 1 usando la muestra de período 1930 a 1978, la ecuación tiene que ser transformada en un modelo que sea lineal en los parámetros. Este modelo transformado viene dado en la ecuación 2.\n",
    "\n",
    "$$log(Y_t) = λ + α· log( L_t) + β· log( K_t ) + g· log(m_t) + θ_t + u_t\\ (2)$$\n",
    "\n",
    "donde:\n",
    "\n",
    "Y, L, y K han sido definidas\n",
    "\n",
    "m= dinero real, siendo igual a M1/PY o M2/PY\n",
    "\n",
    "$u_t = log(μ_t)$. \n",
    "\n",
    "Los grupos tipo A usarán M1 y los grupos B usarán M2."
   ]
  },
  {
   "cell_type": "code",
   "execution_count": 7,
   "metadata": {
    "collapsed": false
   },
   "outputs": [
    {
     "name": "stdout",
     "output_type": "stream",
     "text": [
      "                   y        l         k             m      py  t\n",
      "1980-12-31  6450.400   99.303  16734.02  4.200000e+11  44.377  1\n",
      "1981-12-31  6617.750  100.400  17156.18  4.470000e+11  48.520  2\n",
      "1982-12-31  6491.275   99.529  17485.36  4.860000e+11  51.531  3\n",
      "1983-12-31  6792.000  100.822  17864.91  5.330000e+11  53.565  4\n",
      "1984-12-31  7285.025  105.003  18387.23  5.650000e+11  55.466  5\n"
     ]
    }
   ],
   "source": [
    "# agregar la tendencia temporal\n",
    "data['t'] = np.arange(1,len(data)+1)\n",
    "print(data.head())"
   ]
  },
  {
   "cell_type": "markdown",
   "metadata": {},
   "source": [
    "## APARTADO A1\n",
    "\n",
    "Utilizando los datos suministrados y la definición M1 (o M2) de dinero real, estimar la ecuación 2 por Mínimos Cuadrados Ordinarios (MCO). A lo largo de este ejercicio hay que interpretar económicamente cada modelo que se estime, respecto de los contrastes residuales, hay que hacerlos y tenerlos guardados para la tabla-resumen final, pero no hay que poner los contrastes después de cada modelo."
   ]
  },
  {
   "cell_type": "code",
   "execution_count": 8,
   "metadata": {
    "collapsed": false
   },
   "outputs": [
    {
     "name": "stdout",
     "output_type": "stream",
     "text": [
      "                            OLS Regression Results                            \n",
      "==============================================================================\n",
      "Dep. Variable:              np.log(y)   R-squared:                       0.999\n",
      "Model:                            OLS   Adj. R-squared:                  0.999\n",
      "Method:                 Least Squares   F-statistic:                 1.107e+04\n",
      "Date:                Wed, 28 Oct 2015   Prob (F-statistic):           2.06e-48\n",
      "Time:                        13:23:17   Log-Likelihood:                 116.13\n",
      "No. Observations:                  36   AIC:                            -222.3\n",
      "Df Residuals:                      31   BIC:                            -214.3\n",
      "Df Model:                           4                                         \n",
      "Covariance Type:                  HC1                                         \n",
      "==================================================================================\n",
      "                     coef    std err          t      P>|t|      [95.0% Conf. Int.]\n",
      "----------------------------------------------------------------------------------\n",
      "Intercept          1.3503      1.803      0.749      0.459        -2.326     5.027\n",
      "np.log(l)          1.1166      0.060     18.516      0.000         0.994     1.240\n",
      "np.log(k)          0.3009      0.150      2.002      0.054        -0.006     0.608\n",
      "np.log(m / py)    -0.0285      0.022     -1.323      0.196        -0.072     0.015\n",
      "t                  0.0080      0.004      2.008      0.053        -0.000     0.016\n",
      "==============================================================================\n",
      "Omnibus:                        1.605   Durbin-Watson:                   0.900\n",
      "Prob(Omnibus):                  0.448   Jarque-Bera (JB):                1.512\n",
      "Skew:                          -0.454   Prob(JB):                        0.470\n",
      "Kurtosis:                       2.570   Cond. No.                     3.70e+04\n",
      "==============================================================================\n",
      "\n",
      "Warnings:\n",
      "[1] Standard Errors are heteroscedasticity robust (HC1)\n",
      "[2] The condition number is large, 3.7e+04. This might indicate that there are\n",
      "strong multicollinearity or other numerical problems.\n"
     ]
    }
   ],
   "source": [
    "formula = 'np.log(y) ~ np.log(l) + np.log(k) + np.log(m/py) + t'\n",
    "reg_a = ols(formula, data).fit()\n",
    "reg_a_hac = reg_a.get_robustcov_results(cov_type='HC1')\n",
    "print(reg_a_hac.summary())"
   ]
  },
  {
   "cell_type": "markdown",
   "metadata": {},
   "source": [
    "## APARTADO A2\n",
    "Contrastar la significatividad individual y conjunta de las variables independientes mediante los respectivos tests t-Student y F de Snedecor."
   ]
  },
  {
   "cell_type": "code",
   "execution_count": 9,
   "metadata": {
    "collapsed": false
   },
   "outputs": [
    {
     "data": {
      "text/plain": [
       "Intercept         4.947869e-01\n",
       "np.log(l)         2.629290e-18\n",
       "np.log(k)         6.172419e-02\n",
       "np.log(m / py)    2.895782e-01\n",
       "t                 7.140569e-02\n",
       "dtype: float64"
      ]
     },
     "execution_count": 9,
     "metadata": {},
     "output_type": "execute_result"
    }
   ],
   "source": [
    "reg_a.pvalues"
   ]
  },
  {
   "cell_type": "code",
   "execution_count": 10,
   "metadata": {
    "collapsed": false
   },
   "outputs": [
    {
     "data": {
      "text/plain": [
       "1.3337779110073811e-45"
      ]
     },
     "execution_count": 10,
     "metadata": {},
     "output_type": "execute_result"
    }
   ],
   "source": [
    "reg_a.f_pvalue"
   ]
  },
  {
   "cell_type": "markdown",
   "metadata": {},
   "source": [
    "## APARTADO A3 \n",
    "Contrastar a un nivel de significación del 5% la hipótesis nula:\n",
    "\n",
    "$g = θ = 0$"
   ]
  },
  {
   "cell_type": "code",
   "execution_count": 11,
   "metadata": {
    "collapsed": false
   },
   "outputs": [
    {
     "data": {
      "text/plain": [
       "<class 'statsmodels.stats.contrast.ContrastResults'>\n",
       "<F test: F=array([[ 0.80940808]]), p=0.3752311494123717, df_denom=31, df_num=1>"
      ]
     },
     "execution_count": 11,
     "metadata": {},
     "output_type": "execute_result"
    }
   ],
   "source": [
    "r = [0,0,0,1,1]\n",
    "reg_a.f_test(r)"
   ]
  },
  {
   "cell_type": "markdown",
   "metadata": {},
   "source": [
    "# APARTADO B\n",
    "Algunos economistas argumentan que si se ha especificado la función de producción correctamente y se han incluido todos los inputs relevantes, entonces debe mostrar rendimientos constantes de escala. Supongamos que el dinero real es de hecho un input en la función agregada de producción y que la tendencia no entra en la función de producción (ec. 3).\n",
    "\n",
    "$$log(Y_t) = λ + α · log( L_t) + β · log( K_t ) + g · log(m_t)  + u_t \\ (3)$$\n",
    "\n",
    "Para que la función de producción exhiba rendimientos constantes de escala, debe cumplirse que\n",
    "\n",
    "$$α + β + g = 1$$\n",
    "\n",
    "Imponiendo esta condición sobre el modelo de la ecuación 3 nos da el modelo restringido de la ecuación 4 (demostrar cómo se llega a esta ecuación).\n",
    "\n",
    "$$log(Y_t / K_t ) = λ + α ·log(L_t / K_t ) + g ·log(m_t / K_t) + u_t \\ (4)$$"
   ]
  },
  {
   "cell_type": "markdown",
   "metadata": {},
   "source": [
    "## APARTADO B1\n",
    "Estimar las ecuaciones 3 y 4 usando los datos desde 1930 hasta 1978 y la definición de M1 (o M2) de dinero real. Contrastar la hipótesis de rendimientos constantes de escala a partir de las sumas de cuadrados de los residuos (SR) obtenidas en los dos modelos. Usar el contraste de Wald:\n",
    "\n",
    "F = ((SRR - SR) / SR) * (T - K / r) ; (K = 4, r = 1)"
   ]
  },
  {
   "cell_type": "code",
   "execution_count": 12,
   "metadata": {
    "collapsed": false
   },
   "outputs": [
    {
     "name": "stdout",
     "output_type": "stream",
     "text": [
      "                            OLS Regression Results                            \n",
      "==============================================================================\n",
      "Dep. Variable:              np.log(y)   R-squared:                       0.999\n",
      "Model:                            OLS   Adj. R-squared:                  0.999\n",
      "Method:                 Least Squares   F-statistic:                 1.225e+04\n",
      "Date:                Wed, 28 Oct 2015   Prob (F-statistic):           4.97e-49\n",
      "Time:                        13:23:26   Log-Likelihood:                 114.21\n",
      "No. Observations:                  36   AIC:                            -220.4\n",
      "Df Residuals:                      32   BIC:                            -214.1\n",
      "Df Model:                           3                                         \n",
      "Covariance Type:                  HC1                                         \n",
      "==================================================================================\n",
      "                     coef    std err          t      P>|t|      [95.0% Conf. Int.]\n",
      "----------------------------------------------------------------------------------\n",
      "Intercept         -2.2798      0.157    -14.485      0.000        -2.600    -1.959\n",
      "np.log(l)          1.0905      0.061     17.986      0.000         0.967     1.214\n",
      "np.log(k)          0.5849      0.034     17.224      0.000         0.516     0.654\n",
      "np.log(m / py)     0.0149      0.012      1.245      0.222        -0.009     0.039\n",
      "==============================================================================\n",
      "Omnibus:                        2.284   Durbin-Watson:                   0.803\n",
      "Prob(Omnibus):                  0.319   Jarque-Bera (JB):                1.937\n",
      "Skew:                          -0.558   Prob(JB):                        0.380\n",
      "Kurtosis:                       2.781   Cond. No.                     2.99e+03\n",
      "==============================================================================\n",
      "\n",
      "Warnings:\n",
      "[1] Standard Errors are heteroscedasticity robust (HC1)\n",
      "[2] The condition number is large, 2.99e+03. This might indicate that there are\n",
      "strong multicollinearity or other numerical problems.\n"
     ]
    }
   ],
   "source": [
    "formula_3 = 'np.log(y) ~ np.log(l) + np.log(k) + np.log(m/py)'\n",
    "reg_b1 = ols(formula_3, data).fit()\n",
    "reg_b1_hac = reg_b1.get_robustcov_results(cov_type='HC1')\n",
    "print(reg_b1_hac.summary())"
   ]
  },
  {
   "cell_type": "code",
   "execution_count": 13,
   "metadata": {
    "collapsed": false
   },
   "outputs": [
    {
     "data": {
      "text/plain": [
       "<class 'statsmodels.stats.contrast.ContrastResults'>\n",
       "<F test: F=array([[ 2463.68239264]]), p=7.515880165702982e-32, df_denom=32, df_num=1>"
      ]
     },
     "execution_count": 13,
     "metadata": {},
     "output_type": "execute_result"
    }
   ],
   "source": [
    "r = [0,1,1,1]\n",
    "reg_b1_hac.f_test(r)"
   ]
  },
  {
   "cell_type": "code",
   "execution_count": 14,
   "metadata": {
    "collapsed": false
   },
   "outputs": [
    {
     "name": "stdout",
     "output_type": "stream",
     "text": [
      "                            OLS Regression Results                            \n",
      "==============================================================================\n",
      "Dep. Variable:          np.log(y / k)   R-squared:                       0.205\n",
      "Model:                            OLS   Adj. R-squared:                  0.157\n",
      "Method:                 Least Squares   F-statistic:                     5.040\n",
      "Date:                Wed, 28 Oct 2015   Prob (F-statistic):             0.0123\n",
      "Time:                        13:23:28   Log-Likelihood:                 67.016\n",
      "No. Observations:                  36   AIC:                            -128.0\n",
      "Df Residuals:                      33   BIC:                            -123.3\n",
      "Df Model:                           2                                         \n",
      "Covariance Type:                  HC1                                         \n",
      "========================================================================================\n",
      "                           coef    std err          t      P>|t|      [95.0% Conf. Int.]\n",
      "----------------------------------------------------------------------------------------\n",
      "Intercept               -0.9926      0.531     -1.869      0.071        -2.073     0.088\n",
      "np.log(l / k)           -0.1161      0.045     -2.586      0.014        -0.207    -0.025\n",
      "np.log(m / (py * k))    -0.0382      0.032     -1.209      0.235        -0.103     0.026\n",
      "==============================================================================\n",
      "Omnibus:                        1.726   Durbin-Watson:                   0.197\n",
      "Prob(Omnibus):                  0.422   Jarque-Bera (JB):                1.507\n",
      "Skew:                          -0.482   Prob(JB):                        0.471\n",
      "Kurtosis:                       2.724   Cond. No.                     1.55e+03\n",
      "==============================================================================\n",
      "\n",
      "Warnings:\n",
      "[1] Standard Errors are heteroscedasticity robust (HC1)\n",
      "[2] The condition number is large, 1.55e+03. This might indicate that there are\n",
      "strong multicollinearity or other numerical problems.\n"
     ]
    }
   ],
   "source": [
    "formula_4 = 'np.log(y/k) ~ np.log(l/k) + np.log(m/(py * k))'\n",
    "reg_b1_4 = ols(formula_4, data).fit()\n",
    "reg_b1_4_hac = reg_b1_4.get_robustcov_results(cov_type='HC1')\n",
    "print(reg_b1_4_hac.summary())"
   ]
  },
  {
   "cell_type": "code",
   "execution_count": 15,
   "metadata": {
    "collapsed": false
   },
   "outputs": [
    {
     "data": {
      "text/plain": [
       "<class 'statsmodels.stats.contrast.ContrastResults'>\n",
       "<F test: F=array([[ 10.03720027]]), p=0.0032984359153001605, df_denom=33, df_num=1>"
      ]
     },
     "execution_count": 15,
     "metadata": {},
     "output_type": "execute_result"
    }
   ],
   "source": [
    "r = [0, 1, 1]\n",
    "reg_b1_4_hac.f_test(r)"
   ]
  },
  {
   "cell_type": "markdown",
   "metadata": {},
   "source": [
    "## APARTADO B2\n",
    "Bajo la hipótesis de rendimientos constantes a escala (modelo 4) se puede despejar una estimación del parámetro β. Encontrar tal estimación y construir un intervalo de confianza del 95% para el mismo."
   ]
  },
  {
   "cell_type": "markdown",
   "metadata": {},
   "source": [
    "Dada la restricción:\n",
    "\n",
    "$$\\alpha+\\beta+g = 1$$\n",
    "$$\\hat{\\alpha}+\\hat{\\beta}+\\hat{g}=1$$\n",
    "$$\\hat{\\beta}=1-\\hat{\\alpha}-\\hat{g}$$\n",
    "\n",
    "Sustituyendo las estimaciónes de $\\alpha$ y $g$ tendremos la estimación de $\\beta$."
   ]
  },
  {
   "cell_type": "code",
   "execution_count": 40,
   "metadata": {
    "collapsed": false
   },
   "outputs": [
    {
     "name": "stdout",
     "output_type": "stream",
     "text": [
      "2.03078397087\n"
     ]
    }
   ],
   "source": [
    "alfa_est, beta_est, g_est = reg_b1_4_hac.params\n",
    "beta_est = 1 - alfa_est - g_est\n",
    "\n",
    "print(beta_est)"
   ]
  },
  {
   "cell_type": "markdown",
   "metadata": {},
   "source": [
    "Para calcular el intervalo de confianza al 95%, necesitamos la varianza de $\\hat{\\beta}$:\n",
    "\n",
    "$$V(\\hat{\\beta})=V(1-\\hat{\\alpha}-\\hat{g})$$\n",
    "$$V(\\hat{\\beta})=V(\\hat{\\alpha}) + V(\\hat{g}) + 2Cov(\\hat{\\alpha}, \\hat{g}))$$"
   ]
  },
  {
   "cell_type": "code",
   "execution_count": 29,
   "metadata": {
    "collapsed": false
   },
   "outputs": [],
   "source": [
    "var_a, var_b, var_g = reg_b1_4_hac.bse"
   ]
  },
  {
   "cell_type": "code",
   "execution_count": 26,
   "metadata": {
    "collapsed": false
   },
   "outputs": [
    {
     "data": {
      "text/plain": [
       "array([[ 0.28217286,  0.01510765, -0.01506359],\n",
       "       [ 0.01510765,  0.00201552, -0.00032152],\n",
       "       [-0.01506359, -0.00032152,  0.00099925]])"
      ]
     },
     "execution_count": 26,
     "metadata": {},
     "output_type": "execute_result"
    }
   ],
   "source": [
    "reg_b1_4_hac.cov_params()"
   ]
  },
  {
   "cell_type": "code",
   "execution_count": 31,
   "metadata": {
    "collapsed": false
   },
   "outputs": [],
   "source": [
    "cov_ag = reg_b1_4_hac.cov_params()[-1][1]"
   ]
  },
  {
   "cell_type": "code",
   "execution_count": 35,
   "metadata": {
    "collapsed": false
   },
   "outputs": [
    {
     "name": "stdout",
     "output_type": "stream",
     "text": [
      "0.562167288211\n"
     ]
    }
   ],
   "source": [
    "var_best = var_a + var_g + 2 * cov_ag\n",
    "print(var_best)"
   ]
  },
  {
   "cell_type": "markdown",
   "metadata": {},
   "source": [
    "Intervalo de Confianza:\n",
    "\n",
    "$$IC(\\hat{\\beta})=\\hat{\\beta} \\pm Z_{\\alpha/2}\\sqrt{\\frac{V(\\hat{\\beta})}{N}} $$"
   ]
  },
  {
   "cell_type": "code",
   "execution_count": 43,
   "metadata": {
    "collapsed": false
   },
   "outputs": [
    {
     "name": "stdout",
     "output_type": "stream",
     "text": [
      "IC: 1.78586093942 2.27570700232\n"
     ]
    }
   ],
   "source": [
    "alpha = 0.05\n",
    "z = st.norm.ppf(alpha/2)\n",
    "ee = z * np.sqrt(var_best / len(data))\n",
    "\n",
    "print('IC:',beta_est + ee, beta_est - ee)"
   ]
  },
  {
   "cell_type": "markdown",
   "metadata": {},
   "source": [
    "## APARTADO B3\n",
    "Dado el intervalo de confianza construido en el apartado b2), ¿es la estimación de β económica y estadísticamente significativa?"
   ]
  },
  {
   "cell_type": "markdown",
   "metadata": {
    "collapsed": true
   },
   "source": [
    "Es fácil comprobar que no es estadísticamente significativa, ya que la estimación de $\\beta$ no esta contenida en el intervalo hallado, con una confianza del 95%."
   ]
  },
  {
   "cell_type": "markdown",
   "metadata": {},
   "source": [
    "## APARTADO B4\n",
    "Dado que los rendimientos constantes a escala implican sólo una restricción lineal sobre el modelo, se podría haber realizado un test t para contrastar tal hipótesis. \n",
    "\n",
    "Usando las estimaciones de α, β, y g de la ecuación 3, llevar a cabo tal test con un nivel de significación del 5%. \n",
    "\n",
    "Dado que los rendimientos constantes a escala implican sólo una restricción lineal sobre el modelo, se podría haber realizado un test t para contrastar tal hipótesis. \n",
    "\n",
    "Usando las estimaciones de α, β, y g de la ecuación 3 y definiendo un parámetro auxiliar $δ = α + β + g – 1$, llevar a cabo tal test sobre $δ$ con un nivel de significación del 5%. \n",
    "\n",
    "Para ello necesitaremos calcular la estimación de $δ$ a partir de las estimaciones de $α$, $β$ y $g$, y después la varianza estimada de $δ$, que es:\n",
    "\n",
    "$V(δ) = V({\\alpha}) + V({β}) +  + V({g}) + 2·Cov(α, β) + 2·Cov( α, g) + 2·Cov({β, g})$\n",
    "\n",
    "Y ahora ya podemos calcular el estadístico de contraste, que vendrá dado por:\n",
    "\n",
    "$t(δ) = \\frac{\\delta}{V(δ)}$\n",
    "\n",
    "el cual se distribuye bajo la hipótesis nula según una t-Student con T-4 grados de libertad.\n",
    "\n",
    "b4:\n",
    "\n",
    "$F = t^2$"
   ]
  },
  {
   "cell_type": "code",
   "execution_count": 57,
   "metadata": {
    "collapsed": false
   },
   "outputs": [
    {
     "data": {
      "text/plain": [
       "'np.log(y) ~ np.log(l) + np.log(k) + np.log(m/py)'"
      ]
     },
     "execution_count": 57,
     "metadata": {},
     "output_type": "execute_result"
    }
   ],
   "source": [
    "formula_3"
   ]
  },
  {
   "cell_type": "code",
   "execution_count": 52,
   "metadata": {
    "collapsed": false
   },
   "outputs": [
    {
     "data": {
      "text/plain": [
       "array([-2.27982461,  1.09053252,  0.58487408,  0.01488865])"
      ]
     },
     "execution_count": 52,
     "metadata": {},
     "output_type": "execute_result"
    }
   ],
   "source": [
    "# parametros\n",
    "reg_b1_hac.params"
   ]
  },
  {
   "cell_type": "code",
   "execution_count": 54,
   "metadata": {
    "collapsed": false
   },
   "outputs": [
    {
     "data": {
      "text/plain": [
       "array([[ 0.02477326, -0.00390306,  0.00341731, -0.00172922],\n",
       "       [-0.00390306,  0.00367641, -0.00185851,  0.00021446],\n",
       "       [ 0.00341731, -0.00185851,  0.0011531 , -0.00026236],\n",
       "       [-0.00172922,  0.00021446, -0.00026236,  0.000143  ]])"
      ]
     },
     "execution_count": 54,
     "metadata": {},
     "output_type": "execute_result"
    }
   ],
   "source": [
    "# matriz de var y cov\n",
    "reg_b1.cov_HC1"
   ]
  },
  {
   "cell_type": "code",
   "execution_count": null,
   "metadata": {
    "collapsed": true
   },
   "outputs": [],
   "source": []
  },
  {
   "cell_type": "markdown",
   "metadata": {},
   "source": [
    "## APARTADO B5\n",
    "¿Cuál es la relación entre el test F realizado en el apartado b1) y el test-t llevado a cabo en el apartado b4)?"
   ]
  },
  {
   "cell_type": "code",
   "execution_count": null,
   "metadata": {
    "collapsed": true
   },
   "outputs": [],
   "source": []
  },
  {
   "cell_type": "markdown",
   "metadata": {},
   "source": [
    "# APARTADO C\n",
    "Nguyen, después de rechazar la idea de que el dinero era un input en la función de producción, propuso un papel alternativo para el dinero en el proceso productivo, y sugirió que era un \"facilitador\" del cambio tecnológico. Reformuló el modelo presentado en la ecuación 1 haciendo el coeficiente de tendencia, θ, una función de la tasa de crecimiento del dinero:\n",
    "\n",
    "$θ = δ + τ (M_t - M_{t-1})/M_{t-1}$ (5)\n",
    "\n",
    "En esta formulación, la tasa de crecimiento de la productividad está descompuesta en dos partes: la que es debida al cambio técnico, medida a través del parámetro δ, y la que es debida a la interacción entre la tasa de crecimiento de saldos en efectivos reales, y el cambio técnico medido a través del parámetro τ. Es decir, hizo la hipótesis de que θ, el coeficiente de tendencia en el modelo básico (ecuación 1), era una función de la tasa de crecimiento de dinero real (ver la ecuación 5). Substituyendo la ecuación 5 en la ecuación 1 se obtiene la siguiente ecuación como modelo básico.\n",
    "\n",
    "$log(Y_t) = λ + α ·log( L_t) + β ·log( K_t ) + g· log(m_t) + δ · t + w (t·m_t^*) + u_t$ (6)\n",
    "\n",
    "donde $m_t^*$ es la tasa de cambio de la oferta monetaria real."
   ]
  },
  {
   "cell_type": "markdown",
   "metadata": {},
   "source": [
    "## APARTADO c1\n",
    "Usando la tasa de crecimiento de la oferta monetaria real (o su aproximación como $m_t^* = log(m_t) - log(m_{t-1})$, estimar la ecuación 6 por MCO."
   ]
  },
  {
   "cell_type": "markdown",
   "metadata": {},
   "source": [
    "## APARTADO c2\n",
    "Contrastar la significación conjunta de las variables a un nivel ε=0’01. ¿Qué opina sobre los resultados obtenidos de la regresión? Hacer una tabla-resumen de los modelos (2), (3) y (6) estimados en el ejercicio, en la que aparezcan los contrastes RESET de especificación, de normalidad, LM(1) y LM(2) de autocorrelación y ARCH(1), junto con el R2 corregido y el criterio de Schwarz (SBIC). ¿Qué modelo se escogería de entre los tres?"
   ]
  },
  {
   "cell_type": "code",
   "execution_count": null,
   "metadata": {
    "collapsed": true
   },
   "outputs": [],
   "source": []
  }
 ],
 "metadata": {
  "kernelspec": {
   "display_name": "Python 3",
   "language": "python",
   "name": "python3"
  },
  "language_info": {
   "codemirror_mode": {
    "name": "ipython",
    "version": 3
   },
   "file_extension": ".py",
   "mimetype": "text/x-python",
   "name": "python",
   "nbconvert_exporter": "python",
   "pygments_lexer": "ipython3",
   "version": "3.5.0"
  },
  "latex_envs": {
   "bibliofile": "biblio.bib",
   "cite_by": "apalike",
   "current_citInitial": 1,
   "eqLabelWithNumbers": true,
   "eqNumInitial": 0
  }
 },
 "nbformat": 4,
 "nbformat_minor": 0
}
