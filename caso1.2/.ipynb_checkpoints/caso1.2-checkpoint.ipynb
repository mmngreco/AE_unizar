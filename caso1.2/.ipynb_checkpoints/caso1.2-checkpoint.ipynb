{
 "cells": [
  {
   "cell_type": "code",
   "execution_count": 1,
   "metadata": {
    "collapsed": false
   },
   "outputs": [],
   "source": [
    "import matplotlib.pyplot as plt\n",
    "import seaborn as sns\n",
    "\n",
    "from statsmodels.formula.api import ols, rlm\n",
    "import statsmodels.stats.api as sms\n",
    "import statsmodels.api as sm\n",
    "import statsmodels.tsa.stattools as ts\n",
    "from statsmodels.graphics.tsaplots import plot_acf, plot_pacf\n",
    "\n",
    "import numpy as np\n",
    "import pandas as pd\n",
    "\n",
    "import Quandl as q\n",
    "import scipy.stats as st"
   ]
  },
  {
   "cell_type": "code",
   "execution_count": 2,
   "metadata": {
    "collapsed": true
   },
   "outputs": [],
   "source": [
    "%matplotlib inline"
   ]
  },
  {
   "cell_type": "code",
   "execution_count": 3,
   "metadata": {
    "collapsed": false
   },
   "outputs": [
    {
     "data": {
      "text/plain": [
       "'%.4f'"
      ]
     },
     "execution_count": 3,
     "metadata": {},
     "output_type": "execute_result"
    }
   ],
   "source": [
    "%precision 4"
   ]
  },
  {
   "cell_type": "markdown",
   "metadata": {},
   "source": [
    "# Caso 1.2.\n",
    "# Estimación del impacto del dinero en una función Cobb-Douglas.\n",
    "\n",
    "Hong V. Nguyen, en un artículo de 1986 en el Journal of Money, Credit and Banking titulado \"Money in the aggregate Production Function: Reexamination and Further Evidence\" evalúa el papel jugado por el dinero en la función agregada de producción. La idea de incluir el dinero como un input en la función agregada de producción fue inicialmente contrastada por Sinai y Stokes en 1972. Su conclusión básica para los Estados Unidos, usando datos anuales de 1929 a 1967, fue que la variable de tendencia clásica usada para medir cambios tecnológicos era de hecho una aproximación al dinero en la función de producción. Más argumentos para incluir el dinero como un input productivo en la función agregada de producción están basados en el hecho de que el dinero facilita los cambios, hace los mercados más eficientes y por lo tanto permite un mayor nivel de output. Para llevar a cabo su análisis, Nguyen especifica una función de producción Cobb- Douglas para la economía de USA (ec.1).\n",
    "\n",
    "> $$Y = A · L^α · K^β · M^g · e^{θ·t} · μ \\ (1)$$ \n",
    "\n",
    "donde:\n",
    "\n",
    "Y = Output interior privado\n",
    "\n",
    "L = Servicios de trabajo\n",
    "\n",
    "K = Servicios de capital\n",
    "\n",
    "M = M1 ó M2 real\n",
    "\n",
    "t = la tendencia en el tiempo\n",
    "\n",
    "μ = término de error\n",
    "\n",
    "En esta especificación, el dinero es tratado como un input regular y la tendencia es utilizada para capturar cambios tecnológicos.\n",
    "\n",
    "TIPO DE DATOS: Serie temporal; 49 observaciones, 1930-1978. Fichero DINPROD.XLS."
   ]
  },
  {
   "cell_type": "markdown",
   "metadata": {},
   "source": [
    "## VARIABLES:\n",
    "\n",
    "L = Servicios de trabajo en billones de dólares de 1972\n",
    "\n",
    "K = Servicios de capital en billones de dólares de 1972\n",
    "\n",
    "M1 = M1 oferta monetaria en billones de dólares corrientes\n",
    "\n",
    "M2 = M2 oferta monetaria en billones de dólares corrientes\n",
    "\n",
    "Y = Output real en billones de dólares de 1972\n",
    "\n",
    "PY = Índice de precios implícitos de Y, 1972=100\n",
    "\n",
    ">Alternativamente, los grupos pueden tomar los datos de la Base de datos AMECO de la Comisión Europea (periodicidad anual 1960-2016) y estimar alguna función de producción para algún país europeo. En este caso las cuestiones del ejercicio habría que hacerlas con la variable temporal, sin tener en cuenta la variable de oferta monetaria y añadiendo (voluntariamente) la variable educación.\n",
    "\n",
    "> - L = Employment, persons: all domestic industries (National accounts) (NETD) \n",
    "> \n",
    "> - K = Net capital stock at 2010 prices: total economy (OKND)\n",
    "> \n",
    "> - Y = Gross domestic product at 2010 reference levels (OVGD)\n",
    "> \n",
    "> - EDU = A partir de la variable de consumo: Actual Individual Final Consumption of Households, 2010 constant prices (OCTH), euros. Para calcular de forma aproximada lo que se destina a educación, tomando como referencia un estudio del INE que calculó en 2008 que aproximadamente el 1’3% de los gastos de consumo familiares españoles se destinaba a educación, vamos a redondear al 2% para todos los países europeos. Calcular el 2% de estos valores en Excel antes de importarlos a Gretl. En esta variable hay observaciones ausentes al principio de la muestra para varios países.\n",
    "\n",
    "> Los grupos pueden seleccionar los datos para alguno de los siguientes países: Bélgica, Dinamarca, Alemania (hay datos para Alemania del Este separados), Irlanda, Grecia, España, Francia, Italia, Luxemburgo, Holanda, Austria, Portugal, Finlandia, Suecia, Reino Unido, Noruega, Suiza, Estados Unidos y Japón.\n",
    "\n",
    "# CUESTIONES:"
   ]
  },
  {
   "cell_type": "markdown",
   "metadata": {},
   "source": [
    "## METODOLOGÍA\n",
    "\n",
    "País Elegido: __Estados Unidos__\n",
    "\n",
    "Datos con __frecuencia anual__\n",
    "\n",
    "Datos obtenidos de Quandl.com (AMECO, ODA, FRED)\n",
    "\n",
    "__VARIABLES:__\n",
    "- Empleo (Millones de personas) [enlace](https://www.quandl.com/data/ODA/USA_LE)\n",
    "- Stock de capital (Mil millones de dólares) [enlace](https://www.quandl.com/data/AMECO/USA_1_0_0_0_OKND)\n",
    "- PIB (Billones de dólares) [enlace](https://www.quandl.com/data/ODA/USA_NGDP_R)\n",
    "- Deflactor del PIB (Indice %) [enlace](https://www.quandl.com/data/ODA/USA_NGDP_D)\n",
    "- M1 (Dólares no ajustados por efecto estacional) [enlace](https://www.quandl.com/data/FRED/MYAGM1USM052N)"
   ]
  },
  {
   "cell_type": "code",
   "execution_count": 4,
   "metadata": {
    "collapsed": false
   },
   "outputs": [],
   "source": [
    "# variables estados unidos frecuencia anual\n",
    "at = \"FEYg7kN2xEu3Rmi-gA1m\"\n",
    "\n",
    "l = q.get(\"ODA/USA_LE\", authtoken=at)                              # empleo\n",
    "k = q.get(\"AMECO/USA_1_0_0_0_OKND\", authtoken=at)                  # capital\n",
    "py = q.get(\"ODA/USA_NGDP_D\", authtoken=at)                         # deflactor del pib\n",
    "y = q.get(\"ODA/USA_NGDP_R\", authtoken=at)                          # pib\n",
    "m = q.get(\"FRED/MYAGM1USM052N\", authtoken=at, collapse='annual')   # oferta monetaria"
   ]
  },
  {
   "cell_type": "code",
   "execution_count": 5,
   "metadata": {
    "collapsed": false
   },
   "outputs": [
    {
     "name": "stdout",
     "output_type": "stream",
     "text": [
      "                   y        l         k             m      py\n",
      "1980-12-31  6450.400   99.303  16734.02  4.200000e+11  44.377\n",
      "1981-12-31  6617.750  100.400  17156.18  4.470000e+11  48.520\n",
      "1982-12-31  6491.275   99.529  17485.36  4.860000e+11  51.531\n",
      "1983-12-31  6792.000  100.822  17864.91  5.330000e+11  53.565\n",
      "1984-12-31  7285.025  105.003  18387.23  5.650000e+11  55.466\n"
     ]
    }
   ],
   "source": [
    "data = pd.concat([y,l,k,m, py], axis=1, join='inner')\n",
    "data.columns = ['y', 'l', 'k', 'm', 'py']\n",
    "print(data.head())"
   ]
  },
  {
   "cell_type": "code",
   "execution_count": 5,
   "metadata": {
    "collapsed": false
   },
   "outputs": [
    {
     "data": {
      "text/plain": [
       "<matplotlib.text.Text at 0x106f766d8>"
      ]
     },
     "execution_count": 5,
     "metadata": {},
     "output_type": "execute_result"
    },
    {
     "data": {
      "image/png": "[encoded data removed]",
      "text/plain": [
       "<matplotlib.figure.Figure at 0x1069c3710>"
      ]
     },
     "metadata": {},
     "output_type": "display_data"
    }
   ],
   "source": [
    "data.plot(subplots=True, layout=(5,1), figsize=(7, 9))\n",
    "plt.suptitle('Series Originales', fontsize=15, y=.95)"
   ]
  },
  {
   "cell_type": "markdown",
   "metadata": {},
   "source": [
    "Gráfico de las series, en los que se puede ver la evolución de cada variable en el tiempo."
   ]
  },
  {
   "cell_type": "code",
   "execution_count": 8,
   "metadata": {
    "collapsed": false
   },
   "outputs": [
    {
     "name": "stderr",
     "output_type": "stream",
     "text": [
      "/Users/mmngreco/Virtualenvs/ipynb/lib/python3.5/site-packages/seaborn/linearmodels.py:1283: UserWarning: The `corrplot` function has been deprecated in favor of `heatmap` and will be removed in a forthcoming release. Please update your code.\n",
      "  warnings.warn((\"The `corrplot` function has been deprecated in favor \"\n",
      "/Users/mmngreco/Virtualenvs/ipynb/lib/python3.5/site-packages/seaborn/linearmodels.py:1349: UserWarning: The `symmatplot` function has been deprecated in favor of `heatmap` and will be removed in a forthcoming release. Please update your code.\n",
      "  warnings.warn((\"The `symmatplot` function has been deprecated in favor \"\n",
      "/Users/mmngreco/Virtualenvs/ipynb/lib/python3.5/site-packages/matplotlib/collections.py:590: FutureWarning: elementwise comparison failed; returning scalar instead, but in the future will perform elementwise comparison\n",
      "  if self._edgecolors == str('face'):\n"
     ]
    },
    {
     "data": {
      "image/png": "[encoded data removed]",
      "text/plain": [
       "<matplotlib.figure.Figure at 0x107de9b70>"
      ]
     },
     "metadata": {},
     "output_type": "display_data"
    }
   ],
   "source": [
    "g = sns.corrplot(data)"
   ]
  },
  {
   "cell_type": "markdown",
   "metadata": {},
   "source": [
    "En este Gráfico se representan las correlaciones entre las variables, se ve que todas las variables exógenas estan fuertemente correlacionadas con la endógena, pero además lo están entre sí, lo que puede indicar problemas de multicolinealidad."
   ]
  },
  {
   "cell_type": "code",
   "execution_count": 10,
   "metadata": {
    "collapsed": false
   },
   "outputs": [
    {
     "name": "stderr",
     "output_type": "stream",
     "text": [
      "/Users/mmngreco/Virtualenvs/ipynb/lib/python3.5/site-packages/matplotlib/collections.py:590: FutureWarning: elementwise comparison failed; returning scalar instead, but in the future will perform elementwise comparison\n",
      "  if self._edgecolors == str('face'):\n"
     ]
    },
    {
     "data": {
      "image/png": "[encoded data removed]",
      "text/plain": [
       "<matplotlib.figure.Figure at 0x109236588>"
      ]
     },
     "metadata": {},
     "output_type": "display_data"
    }
   ],
   "source": [
    "g = sns.pairplot(data, diag_kind='kde')"
   ]
  },
  {
   "cell_type": "markdown",
   "metadata": {},
   "source": [
    "En el mismo sentido que el anterior gráfico, este gráfico muestra el comportamiento de las variables entre sí y su función de distribución. Todas en mayor o menor medida parecen seguir una distribución normal."
   ]
  },
  {
   "cell_type": "markdown",
   "metadata": {},
   "source": [
    "# APARTADO A\n",
    "\n",
    "Para estimar la ecuación 1 usando la muestra de período 1930 a 1978, la ecuación tiene que ser transformada en un modelo que sea lineal en los parámetros. Este modelo transformado viene dado en la ecuación 2.\n",
    "\n",
    "> $$log(Y_t) = λ + α· log( L_t) + β· log( K_t ) + g· log(m_t) + θ_t + u_t\\ (2)$$\n",
    "\n",
    "donde:\n",
    "\n",
    "Y, L, y K han sido definidas\n",
    "\n",
    "m= dinero real, siendo igual a M1/PY o M2/PY\n",
    "\n",
    "$u_t = log(μ_t)$. \n",
    "\n",
    "Los grupos tipo A usarán M1 y los grupos B usarán M2."
   ]
  },
  {
   "cell_type": "code",
   "execution_count": 7,
   "metadata": {
    "collapsed": false
   },
   "outputs": [
    {
     "name": "stdout",
     "output_type": "stream",
     "text": [
      "                   y        l         k             m      py  t\n",
      "1980-12-31  6450.400   99.303  16734.02  4.200000e+11  44.377  1\n",
      "1981-12-31  6617.750  100.400  17156.18  4.470000e+11  48.520  2\n",
      "1982-12-31  6491.275   99.529  17485.36  4.860000e+11  51.531  3\n",
      "1983-12-31  6792.000  100.822  17864.91  5.330000e+11  53.565  4\n",
      "1984-12-31  7285.025  105.003  18387.23  5.650000e+11  55.466  5\n"
     ]
    }
   ],
   "source": [
    "# añadir tendencia temporal\n",
    "data['t'] = np.arange(1, len(data) + 1)\n",
    "\n",
    "print(data.head())"
   ]
  },
  {
   "cell_type": "markdown",
   "metadata": {},
   "source": [
    "## APARTADO A1\n",
    "\n",
    "Utilizando los datos suministrados y la definición M1 (o M2) de dinero real, estimar la ecuación 2 por Mínimos Cuadrados Ordinarios (MCO). A lo largo de este ejercicio hay que interpretar económicamente cada modelo que se estime, respecto de los contrastes residuales, hay que hacerlos y tenerlos guardados para la tabla-resumen final, pero no hay que poner los contrastes después de cada modelo."
   ]
  },
  {
   "cell_type": "code",
   "execution_count": 8,
   "metadata": {
    "collapsed": false
   },
   "outputs": [
    {
     "name": "stdout",
     "output_type": "stream",
     "text": [
      "                            OLS Regression Results                            \n",
      "==============================================================================\n",
      "Dep. Variable:              np.log(y)   R-squared:                       0.999\n",
      "Model:                            OLS   Adj. R-squared:                  0.999\n",
      "Method:                 Least Squares   F-statistic:                 1.107e+04\n",
      "Date:                Wed, 04 Nov 2015   Prob (F-statistic):           2.06e-48\n",
      "Time:                        10:07:44   Log-Likelihood:                 116.13\n",
      "No. Observations:                  36   AIC:                            -222.3\n",
      "Df Residuals:                      31   BIC:                            -214.3\n",
      "Df Model:                           4                                         \n",
      "Covariance Type:                  HC1                                         \n",
      "==================================================================================\n",
      "                     coef    std err          t      P>|t|      [95.0% Conf. Int.]\n",
      "----------------------------------------------------------------------------------\n",
      "Intercept          1.3503      1.803      0.749      0.459        -2.326     5.027\n",
      "np.log(l)          1.1166      0.060     18.516      0.000         0.994     1.240\n",
      "np.log(k)          0.3009      0.150      2.002      0.054        -0.006     0.608\n",
      "np.log(m / py)    -0.0285      0.022     -1.323      0.196        -0.072     0.015\n",
      "t                  0.0080      0.004      2.008      0.053        -0.000     0.016\n",
      "==============================================================================\n",
      "Omnibus:                        1.605   Durbin-Watson:                   0.900\n",
      "Prob(Omnibus):                  0.448   Jarque-Bera (JB):                1.512\n",
      "Skew:                          -0.454   Prob(JB):                        0.470\n",
      "Kurtosis:                       2.570   Cond. No.                     3.70e+04\n",
      "==============================================================================\n",
      "\n",
      "Warnings:\n",
      "[1] Standard Errors are heteroscedasticity robust (HC1)\n",
      "[2] The condition number is large, 3.7e+04. This might indicate that there are\n",
      "strong multicollinearity or other numerical problems.\n"
     ]
    }
   ],
   "source": [
    "formula = 'np.log(y) ~ np.log(l) + np.log(k) + np.log(m/py) + t'\n",
    "reg_a = ols(formula, data).fit().get_robustcov_results(cov_type='HC1')\n",
    "print(reg_a.summary())"
   ]
  },
  {
   "cell_type": "code",
   "execution_count": 9,
   "metadata": {
    "collapsed": false
   },
   "outputs": [
    {
     "data": {
      "text/plain": [
       "<matplotlib.text.Text at 0x11227e9b0>"
      ]
     },
     "execution_count": 9,
     "metadata": {},
     "output_type": "execute_result"
    },
    {
     "data": {
      "image/png": "[encoded data removed]",
      "text/plain": [
       "<matplotlib.figure.Figure at 0x11227ed30>"
      ]
     },
     "metadata": {},
     "output_type": "display_data"
    }
   ],
   "source": [
    "sns.coefplot(formula, data, intercept=True)\n",
    "plt.suptitle('Coeficientes, confianza 95%', fontsize=15, y=1.05)"
   ]
  },
  {
   "cell_type": "code",
   "execution_count": 43,
   "metadata": {
    "collapsed": false
   },
   "outputs": [
    {
     "name": "stdout",
     "output_type": "stream",
     "text": [
      "$\\lambda$ = 1.350 (1.803)\n",
      "$\\alpha$ = 1.117 (0.060)\n",
      "$\\beta$ = 0.301 (0.150)\n",
      "$g$ = -0.029 (0.022)\n",
      "$\\theta$ = 0.008 (0.004)\n"
     ]
    },
    {
     "data": {
      "text/plain": [
       "3.8585"
      ]
     },
     "execution_count": 43,
     "metadata": {},
     "output_type": "execute_result"
    }
   ],
   "source": [
    "names_b = ['\\lambda', '\\\\alpha', '\\\\beta', 'g', '\\\\theta']\n",
    "for i, b in enumerate(reg_a.params):\n",
    "    print(r'${:}$ = {:.3f} ({:.3f})'.format(names_b[i], b, reg_a.bse[i]))\n",
    "\n",
    "np.e ** reg_a.params[0]"
   ]
  },
  {
   "cell_type": "markdown",
   "metadata": {},
   "source": [
    "### INTERPRETACIÓN \n",
    "\n",
    "$\\lambda$ = 1.350 (1.803), Haciendo una tranformación,  $y = e^{\\lambda} = 3.8585·10^{9}\\$$, Es el valor del PIB cuando las variables son 0, ceteris paribus.\n",
    "\n",
    "$\\alpha$ = 1.117 (0.060), Es el cambio porcentual en y, ante un aumento del 1% en el número de empleados.\n",
    "\n",
    "$\\beta$ = 0.301 (0.150), Es el aumento porcentual que sufriría el PIB ante un aumento del 1% en el stock de capital.\n",
    "\n",
    "$g$ = -0.029 (0.022), Es la disminución porcentual que sufriría el PIB ante un aumento del 1% en el deflactor de precios (%).\n",
    "\n",
    "$\\theta$ = 0.008 (0.004), Es el crecimiento medio interanual de la economía.\n",
    "\n",
    "Todos los parámetros estimados tienen sentido económico, y concuerda con lo que dice la teoría."
   ]
  },
  {
   "cell_type": "markdown",
   "metadata": {},
   "source": [
    "## APARTADO A2\n",
    "Contrastar la significatividad individual y conjunta de las variables independientes mediante los respectivos tests t-Student y F de Snedecor."
   ]
  },
  {
   "cell_type": "code",
   "execution_count": 41,
   "metadata": {
    "collapsed": false
   },
   "outputs": [
    {
     "name": "stdout",
     "output_type": "stream",
     "text": [
      "pvalues\n",
      "$\\beta_0$: 0.459491817285\n",
      "$\\beta_1$: 2.56907184673e-18 ***\n",
      "$\\beta_2$: 0.0541210563084\n",
      "$\\beta_3$: 0.195625840903\n",
      "$\\beta_4$: 0.0533817612494\n"
     ]
    }
   ],
   "source": [
    "np.set_printoptions(precision=4)\n",
    "bstr = r'$\\beta_%s$:'\n",
    "\n",
    "print('pvalues')\n",
    "for i, p in enumerate(reg_a.pvalues):\n",
    "    if p < 0.01:\n",
    "        print(bstr % i, p, '***')\n",
    "    elif p < 0.05:\n",
    "        print(bstr % i, p, '**')\n",
    "    else:\n",
    "        print(bstr % i, p)"
   ]
  },
  {
   "cell_type": "code",
   "execution_count": 42,
   "metadata": {
    "collapsed": false
   },
   "outputs": [
    {
     "name": "stdout",
     "output_type": "stream",
     "text": [
      "F: 11067.378293\tpvalue: 2.060482280472647e-48\n"
     ]
    }
   ],
   "source": [
    "fstr = 'F: %s\\tpvalue: %s'\n",
    "print(fstr % (reg_a.fvalue[0][0], reg_a.f_pvalue))"
   ]
  },
  {
   "cell_type": "markdown",
   "metadata": {},
   "source": [
    "## APARTADO A3 \n",
    "Contrastar a un nivel de significación del 5% la hipótesis nula:\n",
    "\n",
    "$g = θ = 0$"
   ]
  },
  {
   "cell_type": "code",
   "execution_count": 11,
   "metadata": {
    "collapsed": false
   },
   "outputs": [
    {
     "name": "stdout",
     "output_type": "stream",
     "text": [
      "F: 1.25924751951\tpvalue: 0.27041036115242006\n"
     ]
    }
   ],
   "source": [
    "r = [0,0,0,1,1]\n",
    "ft = reg_a.f_test(r)\n",
    "print(fstr % (ft.fvalue[0][0], ft.pvalue))"
   ]
  },
  {
   "cell_type": "markdown",
   "metadata": {},
   "source": [
    "# APARTADO B\n",
    "Algunos economistas argumentan que si se ha especificado la función de producción correctamente y se han incluido todos los inputs relevantes, entonces debe mostrar rendimientos constantes de escala. Supongamos que el dinero real es de hecho un input en la función agregada de producción y que la tendencia no entra en la función de producción (ec. 3).\n",
    "\n",
    ">$$log(Y_t) = λ + α · log( L_t) + β · log( K_t ) + g · log(m_t)  + u_t \\ (3)$$\n",
    "\n",
    "Para que la función de producción exhiba rendimientos constantes de escala, debe cumplirse que\n",
    "\n",
    "$$α + β + g = 1$$\n",
    "\n",
    "Imponiendo esta condición sobre el modelo de la ecuación 3 nos da el modelo restringido de la ecuación 4 (demostrar cómo se llega a esta ecuación).\n",
    "\n",
    ">$$log(Y_t / K_t ) = λ + α ·log(L_t / K_t ) + g ·log(m_t / K_t) + u_t \\ (4)$$"
   ]
  },
  {
   "cell_type": "markdown",
   "metadata": {},
   "source": [
    "## APARTADO B1\n",
    "Estimar las ecuaciones 3 y 4 usando los datos desde 1930 hasta 1978 y la definición de M1 (o M2) de dinero real. Contrastar la hipótesis de rendimientos constantes de escala a partir de las sumas de cuadrados de los residuos (SR) obtenidas en los dos modelos. Usar el contraste de Wald:\n"
   ]
  },
  {
   "cell_type": "markdown",
   "metadata": {},
   "source": [
    "$F=\\frac{\\left(\\frac{SR_R - SR}{m}\\right)}{\\left(\\frac{SR}{n - k}\\right)} \\ ;\\ (K = 4, m = 1)$\n",
    "\n",
    "__Donde:__\n",
    "\n",
    "- $RSS_0$ se refiere al coeficiente de determinación del modelo sin restringir $(R^2)$\n",
    "- $RSS_1$ se refiere al coeficiente de determinación del modelo restringido $(R^2)$\n",
    "- $m$ se refiere al número de restricciones impuestas a los coeficientes estimados (coficientes restringidos).\n",
    "- $k$ se refiere al número de coeficientes estimados en el modelo sin restricciones.\n",
    "- $n$ se refiere al número de observaciones del modelo.\n",
    "\n",
    "$H_0$: Se Cumple la resticción\n"
   ]
  },
  {
   "cell_type": "code",
   "execution_count": 10,
   "metadata": {
    "collapsed": false
   },
   "outputs": [
    {
     "name": "stdout",
     "output_type": "stream",
     "text": [
      "                            OLS Regression Results                            \n",
      "==============================================================================\n",
      "Dep. Variable:              np.log(y)   R-squared:                       0.999\n",
      "Model:                            OLS   Adj. R-squared:                  0.999\n",
      "Method:                 Least Squares   F-statistic:                 1.225e+04\n",
      "Date:                Wed, 04 Nov 2015   Prob (F-statistic):           4.97e-49\n",
      "Time:                        10:08:46   Log-Likelihood:                 114.21\n",
      "No. Observations:                  36   AIC:                            -220.4\n",
      "Df Residuals:                      32   BIC:                            -214.1\n",
      "Df Model:                           3                                         \n",
      "Covariance Type:                  HC1                                         \n",
      "==================================================================================\n",
      "                     coef    std err          t      P>|t|      [95.0% Conf. Int.]\n",
      "----------------------------------------------------------------------------------\n",
      "Intercept         -2.2798      0.157    -14.485      0.000        -2.600    -1.959\n",
      "np.log(l)          1.0905      0.061     17.986      0.000         0.967     1.214\n",
      "np.log(k)          0.5849      0.034     17.224      0.000         0.516     0.654\n",
      "np.log(m / py)     0.0149      0.012      1.245      0.222        -0.009     0.039\n",
      "==============================================================================\n",
      "Omnibus:                        2.284   Durbin-Watson:                   0.803\n",
      "Prob(Omnibus):                  0.319   Jarque-Bera (JB):                1.937\n",
      "Skew:                          -0.558   Prob(JB):                        0.380\n",
      "Kurtosis:                       2.781   Cond. No.                     2.99e+03\n",
      "==============================================================================\n",
      "\n",
      "Warnings:\n",
      "[1] Standard Errors are heteroscedasticity robust (HC1)\n",
      "[2] The condition number is large, 2.99e+03. This might indicate that there are\n",
      "strong multicollinearity or other numerical problems.\n"
     ]
    }
   ],
   "source": [
    "formula_3 = 'np.log(y) ~ np.log(l) + np.log(k) + np.log(m/py)'\n",
    "reg_b1 = ols(formula_3, data).fit().get_robustcov_results(cov_type='HC1')\n",
    "\n",
    "print(reg_b1.summary())"
   ]
  },
  {
   "cell_type": "code",
   "execution_count": 11,
   "metadata": {
    "collapsed": false
   },
   "outputs": [
    {
     "data": {
      "text/plain": [
       "<matplotlib.text.Text at 0x112cd9a58>"
      ]
     },
     "execution_count": 11,
     "metadata": {},
     "output_type": "execute_result"
    },
    {
     "data": {
      "image/png": "[encoded data removed]",
      "text/plain": [
       "<matplotlib.figure.Figure at 0x112cd9da0>"
      ]
     },
     "metadata": {},
     "output_type": "display_data"
    }
   ],
   "source": [
    "sns.coefplot(formula_3, data, intercept=True)\n",
    "plt.suptitle('Coeficientes, confianza 95%', fontsize=15, y=1.05)"
   ]
  },
  {
   "cell_type": "code",
   "execution_count": 47,
   "metadata": {
    "collapsed": false
   },
   "outputs": [
    {
     "name": "stdout",
     "output_type": "stream",
     "text": [
      "$\\lambda$ = -2.280 (0.157)\n",
      "$\\alpha$ = 1.091 (0.061)\n",
      "$\\beta$ = 0.585 (0.034)\n",
      "$g$ = 0.015 (0.012)\n"
     ]
    },
    {
     "data": {
      "text/plain": [
       "0.1023"
      ]
     },
     "execution_count": 47,
     "metadata": {},
     "output_type": "execute_result"
    }
   ],
   "source": [
    "r = reg_b1\n",
    "names_b = ['\\lambda', '\\\\alpha', '\\\\beta', 'g', '\\\\theta']\n",
    "for i, b in enumerate(r.params):\n",
    "    print(r'${:}$ = {:.3f} ({:.3f})'.format(names_b[i], b, r.bse[i]))\n",
    "\n",
    "np.e ** r.params[0]"
   ]
  },
  {
   "cell_type": "code",
   "execution_count": 12,
   "metadata": {
    "collapsed": false
   },
   "outputs": [
    {
     "name": "stdout",
     "output_type": "stream",
     "text": [
      "                            OLS Regression Results                            \n",
      "==============================================================================\n",
      "Dep. Variable:          np.log(y / k)   R-squared:                       0.205\n",
      "Model:                            OLS   Adj. R-squared:                  0.157\n",
      "Method:                 Least Squares   F-statistic:                     5.040\n",
      "Date:                Wed, 04 Nov 2015   Prob (F-statistic):             0.0123\n",
      "Time:                        10:09:04   Log-Likelihood:                 67.016\n",
      "No. Observations:                  36   AIC:                            -128.0\n",
      "Df Residuals:                      33   BIC:                            -123.3\n",
      "Df Model:                           2                                         \n",
      "Covariance Type:                  HC1                                         \n",
      "========================================================================================\n",
      "                           coef    std err          t      P>|t|      [95.0% Conf. Int.]\n",
      "----------------------------------------------------------------------------------------\n",
      "Intercept               -0.9926      0.531     -1.869      0.071        -2.073     0.088\n",
      "np.log(l / k)           -0.1161      0.045     -2.586      0.014        -0.207    -0.025\n",
      "np.log(m / (py * k))    -0.0382      0.032     -1.209      0.235        -0.103     0.026\n",
      "==============================================================================\n",
      "Omnibus:                        1.726   Durbin-Watson:                   0.197\n",
      "Prob(Omnibus):                  0.422   Jarque-Bera (JB):                1.507\n",
      "Skew:                          -0.482   Prob(JB):                        0.471\n",
      "Kurtosis:                       2.724   Cond. No.                     1.55e+03\n",
      "==============================================================================\n",
      "\n",
      "Warnings:\n",
      "[1] Standard Errors are heteroscedasticity robust (HC1)\n",
      "[2] The condition number is large, 1.55e+03. This might indicate that there are\n",
      "strong multicollinearity or other numerical problems.\n"
     ]
    }
   ],
   "source": [
    "# Ecuación 4\n",
    "formula_4 = 'np.log(y/k) ~ np.log(l/k) + np.log(m/(py * k))'\n",
    "reg_b1_4 = ols(formula_4, data).fit().get_robustcov_results(cov_type='HC1')\n",
    "\n",
    "print(reg_b1_4.summary())"
   ]
  },
  {
   "cell_type": "code",
   "execution_count": 13,
   "metadata": {
    "collapsed": false
   },
   "outputs": [
    {
     "data": {
      "text/plain": [
       "<matplotlib.text.Text at 0x112db0e80>"
      ]
     },
     "execution_count": 13,
     "metadata": {},
     "output_type": "execute_result"
    },
    {
     "data": {
      "image/png": "[encoded data removed]",
      "text/plain": [
       "<matplotlib.figure.Figure at 0x112cf0b38>"
      ]
     },
     "metadata": {},
     "output_type": "display_data"
    }
   ],
   "source": [
    "sns.coefplot(formula_4, data, intercept=True)\n",
    "plt.suptitle('Coeficientes, confianza 95%', fontsize=15, y=1.05)"
   ]
  },
  {
   "cell_type": "code",
   "execution_count": 50,
   "metadata": {
    "collapsed": false
   },
   "outputs": [
    {
     "name": "stdout",
     "output_type": "stream",
     "text": [
      "$\\lambda$ = -0.993 (0.531)\n",
      "$\\alpha$ = -0.116 (0.045)\n",
      "$g$ = -0.038 (0.032)\n"
     ]
    },
    {
     "data": {
      "text/plain": [
       "0.3706"
      ]
     },
     "execution_count": 50,
     "metadata": {},
     "output_type": "execute_result"
    }
   ],
   "source": [
    "r = reg_b1_4\n",
    "names_b = ['\\lambda', '\\\\alpha', 'g', '\\\\theta']\n",
    "for i, b in enumerate(r.params):\n",
    "    print(r'${:}$ = {:.3f} ({:.3f})'.format(names_b[i], b, r.bse[i]))\n",
    "\n",
    "np.e ** r.params[0]"
   ]
  },
  {
   "cell_type": "code",
   "execution_count": 14,
   "metadata": {
    "collapsed": false
   },
   "outputs": [
    {
     "name": "stdout",
     "output_type": "stream",
     "text": [
      "F: 410.893568712\tpvalue: 7.996093625280387e-20\n"
     ]
    }
   ],
   "source": [
    "h0_rdto = 'np.log(l) + np.log(k) + np.log(m / py) = 1'\n",
    "ft = reg_b1.f_test(h0_rdto)\n",
    "\n",
    "print(fstr % (ft.fvalue[0][0], ft.pvalue))"
   ]
  },
  {
   "cell_type": "code",
   "execution_count": 15,
   "metadata": {
    "collapsed": false
   },
   "outputs": [
    {
     "name": "stdout",
     "output_type": "stream",
     "text": [
      "SRR = 0.00369928539575\n",
      "SR = 0.0509215980115\n",
      "n = 36\n",
      "k = 4\n",
      "r = 3\n",
      "F-test = 408.488084061\n",
      "F-score = 4.1490974457\n"
     ]
    }
   ],
   "source": [
    "rss0 = reg_b1.ssr    # suma residual del modelo sin restringir\n",
    "rss1 = reg_b1_4.ssr  # suma residual del modelo restringido\n",
    "\n",
    "n = len(data)   # numero de observaciones\n",
    "k = 4           # numero de coeficientes estimados en el modelo sin restringir\n",
    "r = 3           # restricciones impuestas\n",
    "\n",
    "ftest = ((rss1 - rss0) / (k-r)) / ((rss0) / (n-k))\n",
    "ft = st.f.ppf(1-0.05, k-r, n-k)\n",
    "names = ['SRR', 'SR', 'n', 'k', 'r', 'F-test', 'F-score']\n",
    "values = [rss0, rss1, n, k, r, ftest, ft]\n",
    "\n",
    "for i, n in enumerate(names):\n",
    "    print(n,'= %s' % values[i])\n"
   ]
  },
  {
   "cell_type": "code",
   "execution_count": 16,
   "metadata": {
    "collapsed": false
   },
   "outputs": [
    {
     "data": {
      "text/plain": [
       "20.211088146384235"
      ]
     },
     "execution_count": 16,
     "metadata": {},
     "output_type": "execute_result"
    }
   ],
   "source": [
    "ftest ** 0.5"
   ]
  },
  {
   "cell_type": "markdown",
   "metadata": {},
   "source": [
    "Para demostrar como pasar de la ecuación 3:\n",
    "\n",
    ">$$log(Y_t) = λ + α · log( L_t) + β · log( K_t ) + g · log(m_t)  + u_t \\ (3)$$\n",
    "\n",
    "a la ecuación 4:\n",
    "\n",
    ">$$log(Y_t / K_t ) = λ + α ·log(L_t / K_t ) + g ·log(m_t / K_t) + u_t \\ (4)$$\n",
    "\n",
    "Partimos de la restricción:\n",
    "\n",
    "$\\alpha + \\beta + g = 1$\n",
    "\n",
    "Despejamos $\\beta$:\n",
    "\n",
    "$\\beta=1-\\alpha-g$\n",
    "\n",
    "Sustituimos $\\beta$ en la ecuación 3:\n",
    "\n",
    "$log(Y_t) = λ + α · log( L_t) + (1-\\alpha-g) · log( K_t ) + g · log(m_t)  + u_t \\ (3)$\n",
    "$log(Y_t) = λ + α · log( L_t) + log( K_t ) - \\alpha· log( K_t ) -g · log( K_t ) + g · log(m_t)  + u_t$\n",
    "$log(Y_t) - log( K_t ) = λ + α · (log( L_t) - log( K_t )) + g · (log(m_t)-log( K_t ))  + u_t$\n",
    ">$$log(Y_t / K_t ) = λ + α ·log(L_t / K_t ) + g ·log(m_t / K_t) + u_t \\ (4)$$"
   ]
  },
  {
   "cell_type": "markdown",
   "metadata": {},
   "source": [
    "## APARTADO B2\n",
    "Bajo la hipótesis de rendimientos constantes a escala (modelo 4) se puede despejar una estimación del parámetro β. Encontrar tal estimación y construir un intervalo de confianza del 95% para el mismo."
   ]
  },
  {
   "cell_type": "markdown",
   "metadata": {},
   "source": [
    "Dada la restricción:\n",
    "\n",
    "$$\\alpha+\\beta+g = 1$$\n",
    "$$\\hat{\\alpha}+\\hat{\\beta}+\\hat{g}=1$$\n",
    "$$\\hat{\\beta}=1-\\hat{\\alpha}-\\hat{g}$$\n",
    "\n",
    "Sustituyendo las estimaciónes de $\\alpha$ y $g$ tendremos la estimación de $\\beta$."
   ]
  },
  {
   "cell_type": "code",
   "execution_count": 17,
   "metadata": {
    "collapsed": false
   },
   "outputs": [
    {
     "name": "stdout",
     "output_type": "stream",
     "text": [
      "\\hat{\\beta} = 2.03078397087\n"
     ]
    }
   ],
   "source": [
    "alfa_est, beta_est, g_est = reg_b1_4.params\n",
    "beta_est = 1 - alfa_est - g_est\n",
    "\n",
    "print(r'\\hat{\\beta} =', beta_est)"
   ]
  },
  {
   "cell_type": "markdown",
   "metadata": {},
   "source": [
    "Para calcular el intervalo de confianza al 95%, necesitamos la varianza de $\\hat{\\beta}$:\n",
    "\n",
    "$$V(\\hat{\\beta})=V(1-\\hat{\\alpha}-\\hat{g})$$\n",
    "$$V(\\hat{\\beta})=V(\\hat{\\alpha}) + V(\\hat{g}) + 2Cov(\\hat{\\alpha}, \\hat{g}))$$"
   ]
  },
  {
   "cell_type": "code",
   "execution_count": 18,
   "metadata": {
    "collapsed": false
   },
   "outputs": [],
   "source": [
    "var_a, var_b, var_g = reg_b1_4.bse"
   ]
  },
  {
   "cell_type": "code",
   "execution_count": 19,
   "metadata": {
    "collapsed": false
   },
   "outputs": [
    {
     "data": {
      "text/plain": [
       "array([[ 0.2822,  0.0151, -0.0151],\n",
       "       [ 0.0151,  0.002 , -0.0003],\n",
       "       [-0.0151, -0.0003,  0.001 ]])"
      ]
     },
     "execution_count": 19,
     "metadata": {},
     "output_type": "execute_result"
    }
   ],
   "source": [
    "reg_b1_4.cov_params()"
   ]
  },
  {
   "cell_type": "code",
   "execution_count": 20,
   "metadata": {
    "collapsed": false
   },
   "outputs": [],
   "source": [
    "cov_ag = reg_b1_4.cov_params()[-1][1]"
   ]
  },
  {
   "cell_type": "code",
   "execution_count": 21,
   "metadata": {
    "collapsed": false
   },
   "outputs": [
    {
     "name": "stdout",
     "output_type": "stream",
     "text": [
      "0.562167288211\n"
     ]
    }
   ],
   "source": [
    "var_best = var_a + var_g + 2 * cov_ag\n",
    "print(var_best)"
   ]
  },
  {
   "cell_type": "markdown",
   "metadata": {},
   "source": [
    "Intervalo de Confianza:\n",
    "\n",
    "$$IC(\\hat{\\beta})=\\hat{\\beta} \\pm Z_{\\alpha/2}\\sqrt{\\frac{V(\\hat{\\beta})}{N}} $$"
   ]
  },
  {
   "cell_type": "code",
   "execution_count": 22,
   "metadata": {
    "collapsed": false
   },
   "outputs": [
    {
     "name": "stdout",
     "output_type": "stream",
     "text": [
      "IC: 1.78586093942 2.27570700232\n"
     ]
    }
   ],
   "source": [
    "alpha = 0.05\n",
    "z = st.norm.ppf(alpha/2)\n",
    "ee = z * np.sqrt(var_best / len(data))\n",
    "\n",
    "print('IC:',beta_est + ee, beta_est - ee)"
   ]
  },
  {
   "cell_type": "markdown",
   "metadata": {},
   "source": [
    "## APARTADO B3\n",
    "Dado el intervalo de confianza construido en el apartado b2), ¿es la estimación de β económica y estadísticamente significativa?"
   ]
  },
  {
   "cell_type": "markdown",
   "metadata": {
    "collapsed": true
   },
   "source": [
    "Es fácil comprobar que no es estadísticamente significativa, ya que la estimación de $\\beta$ no esta contenida en el intervalo hallado, con una confianza del 95%."
   ]
  },
  {
   "cell_type": "markdown",
   "metadata": {},
   "source": [
    "## APARTADO B4\n",
    "\n",
    "Dado que los __rendimientos constantes__ a escala implican sólo una restricción lineal sobre el modelo, se podría haber realizado un __test t__ para contrastar tal hipótesis. \n",
    "\n",
    "Usando las estimaciones de __α, β, y g__ de la __ecuación 3__, llevar a cabo tal test con un nivel de significación del 5%. \n",
    "\n",
    "Dado que los rendimientos constantes a escala implican sólo una restricción lineal sobre el modelo, se podría haber realizado un test t para contrastar tal hipótesis. \n",
    "\n",
    "Usando las estimaciones de α, β, y g de la ecuación 3 y definiendo un parámetro auxiliar $δ = α + β + g – 1$, llevar a cabo tal test sobre $δ$ con un nivel de significación del 5%. \n",
    "\n",
    "Para ello necesitaremos calcular la estimación de $δ$ a partir de las estimaciones de $α$, $β$ y $g$, y después la varianza estimada de $δ$, que es:\n",
    "\n",
    "$V(δ) = V({\\alpha}) + V({β}) +  V({g}) + 2·Cov(α, β) + 2·Cov( α, g) + 2·Cov({β, g})$\n",
    "\n",
    "Y ahora ya podemos calcular el estadístico de contraste, que vendrá dado por:\n",
    "\n",
    "$t(δ) = \\frac{\\delta}{V(δ)}$\n",
    "\n",
    "el cual se distribuye bajo la hipótesis nula según una t-Student con T-4 grados de libertad.\n",
    "\n",
    "b4:\n",
    "\n",
    "$F = t^2$"
   ]
  },
  {
   "cell_type": "markdown",
   "metadata": {},
   "source": [
    "> $$log(Y_t) = λ + α· log( L_t) + β· log( K_t ) + g· log(m_t) + θ_t + u_t\\ (2)$$\n",
    "\n",
    "> $$log(Y_t) = λ + α · log( L_t) + β · log( K_t ) + g · log(m_t)  + u_t \\ (3)$$"
   ]
  },
  {
   "cell_type": "code",
   "execution_count": 23,
   "metadata": {
    "collapsed": false
   },
   "outputs": [
    {
     "data": {
      "text/plain": [
       "array([-2.2798,  1.0905,  0.5849,  0.0149])"
      ]
     },
     "execution_count": 23,
     "metadata": {},
     "output_type": "execute_result"
    }
   ],
   "source": [
    "reg_b1.params                 # parametros"
   ]
  },
  {
   "cell_type": "code",
   "execution_count": 24,
   "metadata": {
    "collapsed": false
   },
   "outputs": [
    {
     "data": {
      "text/plain": [
       "array([ 1.0905,  0.5849,  0.0149])"
      ]
     },
     "execution_count": 24,
     "metadata": {},
     "output_type": "execute_result"
    }
   ],
   "source": [
    "_[1:]                         # todos los parámetros menos el primero"
   ]
  },
  {
   "cell_type": "code",
   "execution_count": 25,
   "metadata": {
    "collapsed": false
   },
   "outputs": [
    {
     "data": {
      "text/plain": [
       "0.69029524484438065"
      ]
     },
     "execution_count": 25,
     "metadata": {},
     "output_type": "execute_result"
    }
   ],
   "source": [
    "delta = _.sum() - 1           # delta es la suma de los parametros - 1\n",
    "delta"
   ]
  },
  {
   "cell_type": "code",
   "execution_count": 26,
   "metadata": {
    "collapsed": false
   },
   "outputs": [
    {
     "data": {
      "text/plain": [
       "array([[ 0.0248, -0.0039,  0.0034, -0.0017],\n",
       "       [-0.0039,  0.0037, -0.0019,  0.0002],\n",
       "       [ 0.0034, -0.0019,  0.0012, -0.0003],\n",
       "       [-0.0017,  0.0002, -0.0003,  0.0001]])"
      ]
     },
     "execution_count": 26,
     "metadata": {},
     "output_type": "execute_result"
    }
   ],
   "source": [
    "reg_b1.cov_params()     # matriz de varianzas y covarianzas."
   ]
  },
  {
   "cell_type": "code",
   "execution_count": 27,
   "metadata": {
    "collapsed": false
   },
   "outputs": [
    {
     "data": {
      "text/plain": [
       "array([ 0.0248,  0.0037,  0.0012,  0.0001])"
      ]
     },
     "execution_count": 27,
     "metadata": {},
     "output_type": "execute_result"
    }
   ],
   "source": [
    "_.diagonal()                  # las varianzas estan en la diagonal de la matriz de var cov."
   ]
  },
  {
   "cell_type": "code",
   "execution_count": 28,
   "metadata": {
    "collapsed": false
   },
   "outputs": [
    {
     "data": {
      "text/plain": [
       "array([ 0.0037,  0.0012,  0.0001])"
      ]
     },
     "execution_count": 28,
     "metadata": {},
     "output_type": "execute_result"
    }
   ],
   "source": [
    "_[1:]                         # todas menos la primera "
   ]
  },
  {
   "cell_type": "code",
   "execution_count": 29,
   "metadata": {
    "collapsed": true
   },
   "outputs": [],
   "source": [
    "var = _                       # varianzas"
   ]
  },
  {
   "cell_type": "code",
   "execution_count": 30,
   "metadata": {
    "collapsed": false
   },
   "outputs": [],
   "source": [
    "cov = list()                  # guardar covarianzas\n",
    "for e in range(2):\n",
    "    e += 1\n",
    "    for ee in range(e,4-1):   \n",
    "        cov.append(reg_b1.cov_HC1[e][ee+1])"
   ]
  },
  {
   "cell_type": "code",
   "execution_count": 31,
   "metadata": {
    "collapsed": false
   },
   "outputs": [
    {
     "data": {
      "text/plain": [
       "0.0049725129019827351"
      ]
     },
     "execution_count": 31,
     "metadata": {},
     "output_type": "execute_result"
    }
   ],
   "source": [
    "var.flatten().sum()           # suma de varianzas"
   ]
  },
  {
   "cell_type": "code",
   "execution_count": 32,
   "metadata": {
    "collapsed": false
   },
   "outputs": [
    {
     "data": {
      "text/plain": [
       "0.0011596860144315615"
      ]
     },
     "execution_count": 32,
     "metadata": {},
     "output_type": "execute_result"
    }
   ],
   "source": [
    "_ + 2 * sum(cov)                 # var + 2 veces la suma de covarianzas"
   ]
  },
  {
   "cell_type": "code",
   "execution_count": 33,
   "metadata": {
    "collapsed": true
   },
   "outputs": [],
   "source": [
    "v_delta = _                  # varianza de delta"
   ]
  },
  {
   "cell_type": "code",
   "execution_count": 34,
   "metadata": {
    "collapsed": true
   },
   "outputs": [],
   "source": [
    "s_delta = v_delta ** 0.5     # desviación tipica de delta"
   ]
  },
  {
   "cell_type": "code",
   "execution_count": 35,
   "metadata": {
    "collapsed": false
   },
   "outputs": [
    {
     "name": "stdout",
     "output_type": "stream",
     "text": [
      "S(\\delta) = 0.034054162953\n"
     ]
    }
   ],
   "source": [
    "print(r'S(\\delta) = %s' % s_delta )"
   ]
  },
  {
   "cell_type": "code",
   "execution_count": 36,
   "metadata": {
    "collapsed": false
   },
   "outputs": [
    {
     "name": "stdout",
     "output_type": "stream",
     "text": [
      "t(\\delta) = 20.2705098286\n"
     ]
    }
   ],
   "source": [
    "t_delta = delta / s_delta\n",
    "print(r't(\\delta) = %s' % t_delta)"
   ]
  },
  {
   "cell_type": "markdown",
   "metadata": {},
   "source": [
    "## APARTADO B5\n",
    "¿Cuál es la relación entre el test F realizado en el apartado b1) y el test-t llevado a cabo en el apartado b4)?"
   ]
  },
  {
   "cell_type": "markdown",
   "metadata": {},
   "source": [
    "El F-test es el el cuadrado del t-test.\n",
    "Se cumple pues que $20.27 ^ 2 ≈ 408.48 (410.87)$"
   ]
  },
  {
   "cell_type": "markdown",
   "metadata": {},
   "source": [
    "# APARTADO C\n",
    "Nguyen, después de rechazar la idea de que el dinero era un input en la función de producción, propuso un papel alternativo para el dinero en el proceso productivo, y sugirió que era un \"facilitador\" del cambio tecnológico. Reformuló el modelo presentado en la ecuación 1 haciendo el coeficiente de tendencia, θ, una función de la tasa de crecimiento del dinero:\n",
    "\n",
    "> $$\\theta = \\delta + \\tau \\frac{(M_t - M_{t-1})}{M_{t-1}}\\ ,\\ (5)$$ \n",
    "\n",
    "En esta formulación, la tasa de crecimiento de la productividad está descompuesta en dos partes: la que es debida al cambio técnico, medida a través del parámetro δ, y la que es debida a la interacción entre la tasa de crecimiento de saldos en efectivos reales, y el cambio técnico medido a través del parámetro τ. \n",
    "\n",
    "Es decir, hizo la hipótesis de que θ, el coeficiente de tendencia en el modelo básico (ecuación 1), era una función de la tasa de crecimiento de dinero real (ver la ecuación 5). Sustituyendo la ecuación 5 en la ecuación 1 se obtiene la siguiente ecuación como modelo básico.\n",
    "\n",
    "> $$log(Y_t) = λ + α ·log( L_t) + β ·log( K_t ) + g· log(m_t) + δ · t + w (t·m_t^*) + u_t\\ , \\ (6)$$ \n",
    "\n",
    "donde $m_t^*$ es la tasa de cambio de la oferta monetaria real."
   ]
  },
  {
   "cell_type": "markdown",
   "metadata": {},
   "source": [
    "## APARTADO c1\n",
    "Usando la tasa de crecimiento de la oferta monetaria real (o su aproximación como $m_t^* = log(m_t) - log(m_{t-1})$, estimar la ecuación 6 por MCO."
   ]
  },
  {
   "cell_type": "code",
   "execution_count": 14,
   "metadata": {
    "collapsed": false
   },
   "outputs": [
    {
     "name": "stdout",
     "output_type": "stream",
     "text": [
      "                            OLS Regression Results                            \n",
      "==============================================================================\n",
      "Dep. Variable:              np.log(y)   R-squared:                       0.999\n",
      "Model:                            OLS   Adj. R-squared:                  0.999\n",
      "Method:                 Least Squares   F-statistic:                     7212.\n",
      "Date:                Wed, 04 Nov 2015   Prob (F-statistic):           6.23e-44\n",
      "Time:                        10:09:29   Log-Likelihood:                 112.76\n",
      "No. Observations:                  35   AIC:                            -213.5\n",
      "Df Residuals:                      29   BIC:                            -204.2\n",
      "Df Model:                           5                                         \n",
      "Covariance Type:                  HC1                                         \n",
      "======================================================================================\n",
      "                         coef    std err          t      P>|t|      [95.0% Conf. Int.]\n",
      "--------------------------------------------------------------------------------------\n",
      "Intercept              1.3357      1.888      0.707      0.485        -2.526     5.198\n",
      "np.log(l)              1.1272      0.087     12.963      0.000         0.949     1.305\n",
      "np.log(k)              0.2955      0.163      1.815      0.080        -0.038     0.628\n",
      "np.log(m / py)        -0.0277      0.025     -1.111      0.276        -0.079     0.023\n",
      "t                      0.0081      0.004      1.975      0.058        -0.000     0.016\n",
      "np.multiply(t, dm)  7.778e-07      0.002      0.000      1.000        -0.005     0.005\n",
      "==============================================================================\n",
      "Omnibus:                        1.291   Durbin-Watson:                   0.915\n",
      "Prob(Omnibus):                  0.524   Jarque-Bera (JB):                1.263\n",
      "Skew:                          -0.388   Prob(JB):                        0.532\n",
      "Kurtosis:                       2.486   Cond. No.                     4.09e+04\n",
      "==============================================================================\n",
      "\n",
      "Warnings:\n",
      "[1] Standard Errors are heteroscedasticity robust (HC1)\n",
      "[2] The condition number is large, 4.09e+04. This might indicate that there are\n",
      "strong multicollinearity or other numerical problems.\n"
     ]
    }
   ],
   "source": [
    "data_c = data.copy()\n",
    "data_c['dm'] = data_c.m.pct_change()\n",
    "data_c.dropna(axis=0, inplace=True)\n",
    "\n",
    "formula_6 = 'np.log(y) ~ np.log(l) + np.log(k) + np.log(m/py) + t + np.multiply(t,dm)'\n",
    "reg_c = ols(formula_6, data_c).fit().get_robustcov_results()\n",
    "print(reg_c.summary())"
   ]
  },
  {
   "cell_type": "code",
   "execution_count": 16,
   "metadata": {
    "collapsed": false
   },
   "outputs": [
    {
     "data": {
      "text/plain": [
       "<matplotlib.text.Text at 0x112ee2048>"
      ]
     },
     "execution_count": 16,
     "metadata": {},
     "output_type": "execute_result"
    },
    {
     "data": {
      "image/png": "[encoded data removed]",
      "text/plain": [
       "<matplotlib.figure.Figure at 0x112d87b00>"
      ]
     },
     "metadata": {},
     "output_type": "display_data"
    }
   ],
   "source": [
    "sns.coefplot(formula_6, data_c, intercept=True)\n",
    "plt.suptitle('Coeficientes, confianza 95%', fontsize=15, y=1.05)"
   ]
  },
  {
   "cell_type": "code",
   "execution_count": 53,
   "metadata": {
    "collapsed": false
   },
   "outputs": [
    {
     "name": "stdout",
     "output_type": "stream",
     "text": [
      "$\\lambda$ = 1.336 (1.888)\n",
      "$\\alpha$ = 1.127 (0.087)\n",
      "$\\beta$ = 0.295 (0.163)\n",
      "$g$ = -0.028 (0.025)\n",
      "$\\delta$ = 0.008 (0.004)\n",
      "$w$ = 0.000 (0.002)\n"
     ]
    },
    {
     "data": {
      "text/plain": [
       "3.8026"
      ]
     },
     "execution_count": 53,
     "metadata": {},
     "output_type": "execute_result"
    }
   ],
   "source": [
    "r = reg_c\n",
    "names_b = ['\\lambda', '\\\\alpha', '\\\\beta', 'g', '\\\\delta', 'w']\n",
    "for i, b in enumerate(r.params):\n",
    "    print(r'${:}$ = {:.3f} ({:.3f})'.format(names_b[i], b, r.bse[i]))\n",
    "\n",
    "np.e ** r.params[0]"
   ]
  },
  {
   "cell_type": "markdown",
   "metadata": {},
   "source": [
    "## APARTADO c2\n",
    "Contrastar la significación conjunta de las variables a un nivel ε=0’01. "
   ]
  },
  {
   "cell_type": "code",
   "execution_count": 38,
   "metadata": {
    "collapsed": false
   },
   "outputs": [
    {
     "name": "stdout",
     "output_type": "stream",
     "text": [
      "6257.05302102 > 7212.01941491\n"
     ]
    }
   ],
   "source": [
    "fscore = st.f.ppf(1-0.01, reg_c.nobs-len(reg_c.params), 1)\n",
    "fvalue = reg_c.fvalue\n",
    "print('%s > %s' % (fscore, fvalue[0][0]))"
   ]
  },
  {
   "cell_type": "markdown",
   "metadata": {},
   "source": [
    "F-score > F-test: Para un nivel de signifiación del 0.01 estamos en la región crítica y por tanto tenemos evidencia en contra de la hipótesis nula. Los parámetros son significativos."
   ]
  },
  {
   "cell_type": "markdown",
   "metadata": {},
   "source": [
    "¿Qué opina sobre los resultados obtenidos de la regresión? Hacer una tabla-resumen de los modelos (2), (3) y (6) estimados en el ejercicio, en la que aparezcan los contrastes RESET de especificación, de normalidad, LM(1) y LM(2) de autocorrelación y ARCH(1), junto con el R2 corregido y el criterio de Schwarz (SBIC)."
   ]
  },
  {
   "cell_type": "code",
   "execution_count": 45,
   "metadata": {
    "collapsed": false
   },
   "outputs": [
    {
     "name": "stdout",
     "output_type": "stream",
     "text": [
      "|EC2|VALOR| PVALOR |\n",
      "|:---:|:---:|:---:|\n",
      "|RESET|2.8851|0.072|\n",
      "|JB|1.5116026400135225|0.469634136681|\n",
      "|BG(1)|11.0958269869|0.00086522191773|\n",
      "|BG(2)|15.316729434|0.000472078762301|\n",
      "|ARCH(1)|1.64993311385|0.198968034899|\n",
      "|$\\overline{R}^2$|0.998800414861|\n",
      "|SBIC|-214.347148848|\n",
      "\n",
      "|EC3|VALOR| PVALOR |\n",
      "|:---:|:---:|:---:|\n",
      "|RESET|3.9049|0.0311|\n",
      "|JB|1.9374243991569333|0.379571535876|\n",
      "|BG(1)|13.030579074|0.000306445778705|\n",
      "|BG(2)|15.8351216851|0.000364289803896|\n",
      "|ARCH(1)|4.16173757148|0.0413469675068|\n",
      "|$\\overline{R}^2$|0.99870725479|\n",
      "|SBIC|-214.095193754|\n",
      "\n",
      "|EC6|VALOR| PVALOR |\n",
      "|:---:|:---:|:---:|\n",
      "|RESET|1.9552|0.1611|\n",
      "|JB|1.2634019490395654|0.531686645965|\n",
      "|BG(1)|10.8408803732|0.00099283517457|\n",
      "|BG(2)|13.4518743501|0.00119939600864|\n",
      "|ARCH(1)|2.01057490311|0.156206114599|\n",
      "|$\\overline{R}^2$|0.998658631435|\n",
      "|SBIC|-204.190031517|\n",
      "\n"
     ]
    }
   ],
   "source": [
    "\n",
    "names = ['ec2', 'ec3', 'ec6']\n",
    "fs = [formula, formula_3, formula_6]\n",
    "temp = '|%s|%s|%s|'\n",
    "head = '|:---:|:---:|:---:|'\n",
    "for i, m in enumerate([reg_a,reg_b1,reg_c]):\n",
    "    \n",
    "    print('|%s|VALOR| PVALOR |' % names[i].upper())\n",
    "    print(head)\n",
    "    if i == 2:\n",
    "        d = data_c.copy()\n",
    "    else:\n",
    "        d = data.copy()\n",
    "\n",
    "    d['y_hat2'] = m.predict() ** 2\n",
    "    d['y_hat3'] = m.predict() ** 3\n",
    "\n",
    "    reset = fs[i] + ' + y_hat2 + y_hat3'\n",
    "    \n",
    "    res = ols(reset, d).fit().get_robustcov_results()\n",
    "\n",
    "    h0 = 'y_hat2 = y_hat3 = 0'\n",
    "\n",
    "    test = res.f_test(h0)\n",
    "    pv = np.round(test.pvalue, 4)\n",
    "\n",
    "    print(temp % ('RESET', np.round(test.fvalue[0][0], 4), pv))\n",
    "    print(temp % ('JB', sms.jarque_bera(m.resid)[0], sms.jarque_bera(m.resid)[1]))\n",
    "    print(temp % ('BG(1)', sms.acorr_breush_godfrey(m, nlags=1)[0], sms.acorr_breush_godfrey(m, nlags=1)[1]))\n",
    "    print(temp % ('BG(2)', sms.acorr_breush_godfrey(m, nlags=2)[0], sms.acorr_breush_godfrey(m, nlags=2)[1]))\n",
    "    print(temp % ('ARCH(1)', sms.het_arch(m.resid, maxlag=1)[0], sms.het_arch(m.resid, maxlag=1)[1]))\n",
    "    print('|%s|%s|' % (r'$\\overline{R}^2$', m.rsquared_adj))\n",
    "    print('|%s|%s|' % ('SBIC', m.bic))\n",
    "    print()\n"
   ]
  },
  {
   "cell_type": "markdown",
   "metadata": {},
   "source": [
    "¿Qué modelo se escogería de entre los tres?"
   ]
  },
  {
   "cell_type": "markdown",
   "metadata": {},
   "source": [
    "A la vista de los datos, el mejor modelo sin duda, es el definido por la ecuación 6, dado que sólo adolece de autocorrelación, frente al resto que adolecen de una correcta especifiación y heterocedasticidad."
   ]
  }
 ],
 "metadata": {
  "kernelspec": {
   "display_name": "Python 3",
   "language": "python",
   "name": "python3"
  },
  "language_info": {
   "codemirror_mode": {
    "name": "ipython",
    "version": 3
   },
   "file_extension": ".py",
   "mimetype": "text/x-python",
   "name": "python",
   "nbconvert_exporter": "python",
   "pygments_lexer": "ipython3",
   "version": "3.5.0"
  },
  "latex_envs": {
   "bibliofile": "biblio.bib",
   "cite_by": "apalike",
   "current_citInitial": 1,
   "eqLabelWithNumbers": true,
   "eqNumInitial": 0
  }
 },
 "nbformat": 4,
 "nbformat_minor": 0
}
