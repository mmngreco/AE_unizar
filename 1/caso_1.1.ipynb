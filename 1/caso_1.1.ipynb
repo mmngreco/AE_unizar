{
 "cells": [
  {
   "cell_type": "code",
   "execution_count": 2,
   "metadata": {
    "collapsed": false
   },
   "outputs": [],
   "source": [
    "import scipy.stats as st\n",
    "from statsmodels.formula.api import ols, rlm\n",
    "import statsmodels.stats.api as sms\n",
    "import statsmodels.api as sm\n",
    "import statsmodels.tsa.stattools as ts\n",
    "from statsmodels.graphics.tsaplots import plot_acf, plot_pacf\n",
    "import matplotlib.pyplot as plt\n",
    "import numpy as np\n",
    "import pandas as pd\n",
    "import seaborn as sns\n",
    "import tabulate as tb\n",
    "from statsmodels.sandbox.regression.predstd import wls_prediction_std"
   ]
  },
  {
   "cell_type": "code",
   "execution_count": 3,
   "metadata": {
    "collapsed": true
   },
   "outputs": [],
   "source": [
    "%matplotlib inline"
   ]
  },
  {
   "cell_type": "markdown",
   "metadata": {
    "collapsed": false,
    "scrolled": false
   },
   "source": [
    "# Caso 1.1.\n",
    "## Estimación de una función de demanda de dinero con datos de la economía española.\n",
    "\n",
    "En el fichero DEMDIN.GDT se ofrece información de la economía española en el periodo 1964-1985 de las siguientes variables:\n",
    "\n",
    "- M1: Efectivo en manos del público + depósitos a la vista\n",
    "\n",
    "- ipc: índice de precios al consumo base 1970\n",
    "\n",
    "- rc: tipo de interés a corto plazo (tipo de los depósitos a menos de un año)\n",
    "\n",
    "- rl: tipo de interés a largo plazo (rendimiento interno de las obligaciones privadas)\n",
    "\n",
    "- y: PIB en unidades monetarias constantes de 1970.\n",
    "\n",
    "\n",
    ">Alternativamente, los datos de M1, producción a precios\n",
    "constantes y tipo de interés a corto y largo plazo, todos ellos para Europa, se\n",
    "pueden obtener de la base de datos del Banco de España que se ofrece a través\n",
    "del propio Gretl en la opción Archivos-Bases de datos-Sobre servidor. El dato\n",
    "del IPC con base 2005 se puede obtener de la base de datos del BCE en internet.\n",
    "Se pueden usar todos los datos mensuales y cuando se cargan desde Gretl se\n",
    "puede decir que convierta los datos trimestrales en mensuales interpolando. Los\n",
    "datos del IPC habrá que guardarlos en formato Excel y después añadirlos a los\n",
    "que tengamos en Gretl, teniendo cuidado de que los decimales estén en Excel con\n",
    "coma y que coincidan los periodos inicial y final.\n",
    "\n",
    "# Se plantea estimar la siguiente función de demanda de dinero:\n",
    "\n",
    "$$log (M1) = β_0 + β_1 log (y) + β_2 log (r) + β_3 log (ipc) + u$$\n",
    "\n",
    "En el modelo se intenta explicar la demanda de dinero en función de la renta real, utilizándose el PIB, para estimar el efecto del motivo transacción. La segunda variable explicativa, el tipo de interés, recoge el comportamiento de la demanda de dinero especulativo, representando el coste de oportunidad de mantener dinero como forma de ahorro. La última variable, el índice de precios al consumo, se introduce como variable explicativa para valorar el efecto de la inflación sobre la demanda nominal de dinero.\n",
    "\n",
    "- a)  Estimar el modelo de oferta monetaria, utilizando el tipo de interés a corto plazo para los grupos tipo A y el tipo a largo para los grupos tipo B. Comentar los resultados desde el punto de vista económico y econométrico.\n",
    "\n",
    "- b)  Contrastar la restricción $β_3 = 1$, comentando sus implicaciones económicas. Hacer los cálculos paso a paso sin usar las opciones directas de Gretl.\n",
    "\n",
    "- c)  Estimar el modelo asumiendo que la restricción es cierta.\n",
    "\n",
    "- d)  Suponer que queremos estimar el modelo usando la variable M1 en términos reales, imponiendo para ello la restricción del apartado b), y a la vez seguir manteniendo el ipc como variable explicativa. Pensar cómo transformar el modelo para conseguir el doble objetivo anterior y calcular de forma razonada (con la ayuda de la estimación del apartado a) el valor del coeficiente que acompaña a la variable ipc.\n",
    "\n",
    "- e)  Estimar al modelo del apartado d) comprobando si se cumple el resultado teórico.\n",
    "\n",
    "Interpretar económicamente todos los modelos estimados y calcular en cada modelo los contrastes de especificación RESET, normalidad y autocorrelación LM de orden 1 y 2."
   ]
  },
  {
   "cell_type": "markdown",
   "metadata": {
    "collapsed": false,
    "scrolled": false
   },
   "source": [
    "# MODELO:\n",
    "\n",
    "$$log (M) = β_0 + β_1 log (y) + β_2 log (r) + β_3 log (ipc) + u$$\n",
    "\n",
    "## QUE ES UNA TRANSFORMACIÓN DEL MODELO ORIGINAL (Cobb-Douglas):\n",
    "\n",
    "$$ M= e^{\\beta_0}·y^{\\beta_1}·r^{\\beta_2}·ipc^{\\beta_3}$$\n",
    "$$ \\frac{M}{ipc^{\\beta_3}}= e^{\\beta_0}·y^{\\beta_1}·r^{\\beta_2}$$\n",
    "\n",
    "# DATOS:\n",
    "\n",
    "Las variables usadas han sido obtenidas en la base de [datos FMI](http://data.imf.org/?sk=7CB6619C-CF87-48DC-9443-2973E161ABEB&ss=1390023474041), todas tienen frecuencia trimestral.\n",
    "\n",
    "## Metodología:\n",
    "\n",
    "Dado que cada serie presenta datos para un rango distinto, he fitrado el rango común para poder realizar el análisis, lo que ha reducido mucho la muestra de la series a 68 observaciones, pero suficiente para poder aplicar el teorema central del límite y la ley de los grandes números. Todas las series son para España. El rango de datos resultante va desde el primer trimestre de 1982 hasta el último trimestre de 1998.\n",
    "\n",
    "- __M1:__ Oferta monetaria M1 (Euros) [enlace](http://data.imf.org/?sk=b6ba51fd-6647-4ca2-8e8c-e680d2660ed5&dsId=DS_1438873160033)\n",
    "- __ipc:__ Indice de Precios al Consumidor, ALL ITEMS (2010 = 100%) [enlace](http://data.imf.org/?sk=37214c4f-816c-4789-a0c6-d8a4dba96f1c&dsId=DS_1438873160033)\n",
    "- __rc:__ Tipo de interés de los depósitos a la vista (%) [enlace](http://data.imf.org/?sk=8bb6d92d-843b-4a2c-a147-4e009850014c&dsId=DS_1438873160033)\n",
    "- __y:__ PIB real, ajustado de efecto estacional, indice (2010 = 100%) [enlace](http://data.imf.org/?sk=c7fe04cd-fbbf-4f6b-b7d2-cd13a9fa5122&dsId=DS_1438873160033)"
   ]
  },
  {
   "cell_type": "code",
   "execution_count": 4,
   "metadata": {
    "collapsed": false
   },
   "outputs": [],
   "source": [
    "# datos\n",
    "r = pd.read_excel('fmi_interes_spain.xlsx', skip_rows=0, header=1, index_col=0)/100\n",
    "r.columns = ['r']"
   ]
  },
  {
   "cell_type": "code",
   "execution_count": 5,
   "metadata": {
    "collapsed": false
   },
   "outputs": [],
   "source": [
    "p = pd.read_excel('fmi_ipc_spain.xlsx', skip_rows=0, header=1, index_col=0)\n",
    "p.columns = ['p']"
   ]
  },
  {
   "cell_type": "code",
   "execution_count": 6,
   "metadata": {
    "collapsed": false
   },
   "outputs": [],
   "source": [
    "m1 = pd.read_excel('fmi_m1_spain.xlsx', skip_rows=0, header=1, index_col=0)\n",
    "m1.columns = ['m1']"
   ]
  },
  {
   "cell_type": "code",
   "execution_count": 7,
   "metadata": {
    "collapsed": false
   },
   "outputs": [],
   "source": [
    "y = pd.read_excel('fmi_pib_spain.xlsx',skip_rows=0, header=1, index_col=0)\n",
    "y.columns = ['y']"
   ]
  },
  {
   "cell_type": "code",
   "execution_count": 8,
   "metadata": {
    "collapsed": false
   },
   "outputs": [
    {
     "data": {
      "image/png": "[encoded data removed]",
      "text/plain": [
       "<matplotlib.figure.Figure at 0x111c53ba8>"
      ]
     },
     "metadata": {},
     "output_type": "display_data"
    }
   ],
   "source": [
    "data = pd.concat([m1 , y, r, p], axis=1, join='inner')\n",
    "data.dropna(inplace=True)\n",
    "data.plot(subplots=True, layout=(2,2), figsize=(8,7))\n",
    "plt.tight_layout()\n",
    "plt.suptitle('Series', y=1.015, fontsize=15)\n",
    "plt.savefig('imgs/series.png', bbox_inches='tight')"
   ]
  },
  {
   "cell_type": "markdown",
   "metadata": {},
   "source": [
    "Los gráficos nos indican que las variables presentan tendencia determinista, excepto el caso del tipo de interés que no está muy claro. Para identificar mejor los componentes deberías hacer un contraste de dickey-fuller para todas y decidir a partir de la información recogida. A priori podemos decir que el tipo de interés tiene una tendencia mas volátil y decreciente, mientras que el resto son más estables y con tendencia creciente respecto del tiempo."
   ]
  },
  {
   "cell_type": "code",
   "execution_count": 9,
   "metadata": {
    "collapsed": false,
    "scrolled": true
   },
   "outputs": [
    {
     "name": "stdout",
     "output_type": "stream",
     "text": [
      "                    m1          y         r          p\n",
      "Q1 1982  4363000000000  44.744559  0.119700  26.637351\n",
      "Q2 1982  4611700000000  44.912734  0.121233  27.584677\n",
      "Q3 1982  4684000000000  45.216270  0.122633  28.391079\n",
      "Q4 1982  5003400000000  45.375656  0.126733  29.040898\n",
      "Q1 1983  4821800000000  45.541487  0.122100  30.160465\n"
     ]
    }
   ],
   "source": [
    "print(data.head())"
   ]
  },
  {
   "cell_type": "code",
   "execution_count": 11,
   "metadata": {
    "collapsed": false
   },
   "outputs": [
    {
     "name": "stdout",
     "output_type": "stream",
     "text": [
      "                     m1          y         r          p\n",
      "Q4 1997  21834900000000  71.054916  0.036000  71.072951\n",
      "Q1 1998  21705700000000  69.937077  0.032467  71.310435\n",
      "Q2 1998  22567600000000  70.530850  0.030600  71.534871\n",
      "Q3 1998  22653200000000  71.158433  0.029167  72.004619\n",
      "Q4 1998  25270600000000  71.763124  0.024633  72.135105\n"
     ]
    }
   ],
   "source": [
    "print(data.tail())"
   ]
  },
  {
   "cell_type": "code",
   "execution_count": 12,
   "metadata": {
    "collapsed": false
   },
   "outputs": [
    {
     "name": "stdout",
     "output_type": "stream",
     "text": [
      "$np.log(m1) ~ np.log(y) + np.log(r) + np.log(p)$\n",
      "\n",
      "\n",
      "                            OLS Regression Results                            \n",
      "==============================================================================\n",
      "Dep. Variable:             np.log(m1)   R-squared:                       0.991\n",
      "Model:                            OLS   Adj. R-squared:                  0.990\n",
      "Method:                 Least Squares   F-statistic:                     2309.\n",
      "Date:                Thu, 15 Oct 2015   Prob (F-statistic):           3.80e-65\n",
      "Time:                        12:28:30   Log-Likelihood:                 107.11\n",
      "No. Observations:                  68   AIC:                            -206.2\n",
      "Df Residuals:                      64   BIC:                            -197.3\n",
      "Df Model:                           3                                         \n",
      "Covariance Type:            nonrobust                                         \n",
      "==============================================================================\n",
      "                 coef    std err          t      P>|t|      [95.0% Conf. Int.]\n",
      "------------------------------------------------------------------------------\n",
      "Intercept     16.7194      0.481     34.726      0.000        15.758    17.681\n",
      "np.log(y)      2.9630      0.222     13.372      0.000         2.520     3.406\n",
      "np.log(r)      0.0910      0.024      3.770      0.000         0.043     0.139\n",
      "np.log(p)      0.3982      0.108      3.675      0.000         0.182     0.615\n",
      "==============================================================================\n",
      "Omnibus:                        3.352   Durbin-Watson:                   1.128\n",
      "Prob(Omnibus):                  0.187   Jarque-Bera (JB):                1.785\n",
      "Skew:                           0.021   Prob(JB):                        0.410\n",
      "Kurtosis:                       2.207   Cond. No.                         536.\n",
      "==============================================================================\n",
      "\n",
      "Warnings:\n",
      "[1] Standard Errors assume that the covariance matrix of the errors is correctly specified.\n"
     ]
    }
   ],
   "source": [
    "data_log = np.log(data)\n",
    "\n",
    "formula = 'np.log(m1) ~ np.log(y) + np.log(r) + np.log(p)'\n",
    "results = ols(formula, data).fit()\n",
    "print('$'+ formula+'$')\n",
    "print('\\n')\n",
    "print(results.summary())"
   ]
  },
  {
   "cell_type": "markdown",
   "metadata": {},
   "source": [
    "A partir de la información obtenida del modelo, vemos que parece haber ausencia de autorcorrelación pero no está claro con un Durbin-Watson de 1.128 > 1, $\\hat{\\rho} = 1 - \\frac{1.128}{2} = 0.436$ con $-1< \\rho < 1$ estaríamos indecisos solo con este contraste, por lo que necesitamos más información al respecto. $H_0 = \\rho = 0$\n",
    "\n",
    "La prueba de Jarque-Bera nos da información sobre la normalidad de las perturbaciones, con un JB = 1.785 y p-value = 0.410, no podemos rechazar la normalidad de las perturbaciones. El contraste Omnibus también da evidencia a favor de la normalidad.\n",
    "\n",
    "Nos faltaría información acerca de la correcta especificación y sobre la heterocedasticidad que calcularemos a continuación.\n",
    "\n",
    "Tras este breve análisis, suponiendo que no hay problemas de autocorrelación, especificación y heterocedasticidad, podríamos afirmar que los t-ratios y el estadístico F siguen las distribuciones correspondientes y se puede concluir que el modelo es significativo conjuntamente, los parámetros lo son individualmente y además con un $R^2 = 0.991$ por lo que el modelo explica practicamente la totalidad del comportamiento de la variable endógena."
   ]
  },
  {
   "cell_type": "code",
   "execution_count": 20,
   "metadata": {
    "collapsed": false
   },
   "outputs": [
    {
     "data": {
      "image/png": "[encoded data removed]",
      "text/plain": [
       "<matplotlib.figure.Figure at 0x1121b5748>"
      ]
     },
     "metadata": {},
     "output_type": "display_data"
    }
   ],
   "source": [
    "plt.figure(figsize=(8,6))\n",
    "data_log.m1.plot(label='Real')\n",
    "results.fittedvalues.plot(label='Predicción')\n",
    "plt.legend()\n",
    "plt.suptitle('Ajuste', fontsize=15)\n",
    "plt.savefig('imgs/ols_ajuste.png', bbox_inches='tight')"
   ]
  },
  {
   "cell_type": "markdown",
   "metadata": {},
   "source": [
    "En este gráfico vemos el gráfico de la endógena y la estimación de la endógena según el modelo estimado, se ve claramente que el modelo se ajusta muy bien a la realidad, aunque presenta problemas."
   ]
  },
  {
   "cell_type": "code",
   "execution_count": 24,
   "metadata": {
    "collapsed": false
   },
   "outputs": [
    {
     "name": "stdout",
     "output_type": "stream",
     "text": [
      "## Contraste de Aucorrelación de Breusch-Godfrey:\n",
      "N= 1 :\n",
      "-------  ------------\n",
      "LM       12.022\n",
      "P-value   0.000525771\n",
      "F-test   13.3277\n",
      "P-value   0.000533228\n",
      "-------  ------------\n",
      "N= 2 :\n",
      "-------  -----------\n",
      "LM       23.63\n",
      "P-value   7.3929e-06\n",
      "F-test   16.3839\n",
      "P-value   1.9393e-06\n",
      "-------  -----------\n",
      "N= 3 :\n",
      "-------  ------------\n",
      "LM       24.1781\n",
      "P-value   2.29296e-05\n",
      "F-test   11.1352\n",
      "P-value   6.3315e-06\n",
      "-------  ------------\n",
      "N= 4 :\n",
      "-------  ------------\n",
      "LM       27.9482\n",
      "P-value   1.2778e-05\n",
      "F-test   10.3997\n",
      "P-value   1.82468e-06\n",
      "-------  ------------\n"
     ]
    }
   ],
   "source": [
    "# contraste de autocorrelación de Breusch-Godfrey\n",
    "print('## Contraste de Aucorrelación de Breusch-Godfrey:')\n",
    "name = ['LM', 'P-value', 'F-test', 'P-value']\n",
    "for i in range(1,5):\n",
    "    test = sms.acorr_breush_godfrey(results, nlags=i)\n",
    "    print('N=',i, ':')\n",
    "    print(tb.tabulate(zip(name,test)))"
   ]
  },
  {
   "cell_type": "markdown",
   "metadata": {},
   "source": [
    "Contraste LM de Breusch-Godfrey, para LM(i) con i = 1,...,4, nos dice que hay evidencia en contra de la no autocorrelación de los residuos para cada orden i. "
   ]
  },
  {
   "cell_type": "code",
   "execution_count": 25,
   "metadata": {
    "collapsed": false
   },
   "outputs": [
    {
     "name": "stdout",
     "output_type": "stream",
     "text": [
      "## Contrsaste de Aucorrelación de LJun-Box\n",
      "      lbvalue        pvalue\n",
      "0   10.851982  9.869006e-04\n",
      "1   29.007207  5.025336e-07\n",
      "2   31.366407  7.116739e-07\n",
      "3   41.047683  2.627414e-08\n",
      "4   41.350204  7.971946e-08\n",
      "5   41.845424  1.972617e-07\n",
      "6   46.285981  7.690277e-08\n",
      "7   46.286403  2.096812e-07\n",
      "8   54.335390  1.629970e-08\n",
      "9   55.431563  2.622770e-08\n",
      "10  66.565120  5.464979e-10\n",
      "11  66.925855  1.198618e-09\n",
      "12  75.277305  8.451995e-11\n"
     ]
    }
   ],
   "source": [
    "# contraste de autocorrelación de ljun-box:\n",
    "print('## Contrsaste de Aucorrelación de LJung-Box')\n",
    "name = 'lbvalue pvalue'.split(' ')\n",
    "test = sms.acorr_ljungbox(results.resid, lags=13)\n",
    "print(pd.DataFrame([test[0], test[1]], index=name).T)\n"
   ]
  },
  {
   "cell_type": "markdown",
   "metadata": {},
   "source": [
    "El contraste de Ljung-Box contrasta conjuntamente la autocorrelación de orden i. La primera columna nos da el valor del LB y la segunda el p-value, que nos da evidencia en contra de la hipótesis de no autocorrelación.\n",
    "\n",
    "Por tanto el modelo presenta problemas de autocorrelación, este problema es típico con datos de series temporales, y se puede corregir añadiendo retardos, diferenciando, conviertiendo las series en estacionarias o cambiando los datos por corte trasnversal."
   ]
  },
  {
   "cell_type": "code",
   "execution_count": 26,
   "metadata": {
    "collapsed": false
   },
   "outputs": [
    {
     "name": "stdout",
     "output_type": "stream",
     "text": [
      "## Contraste de Heterocedasticidad (Breusch-Pagan):\n",
      "-----------------------------  ---------\n",
      "Lagrange multiplier statistic  7.90439\n",
      "p-value                        0.0480296\n",
      "f-value                        2.80598\n",
      "f p-value                      0.0466507\n",
      "-----------------------------  ---------\n"
     ]
    }
   ],
   "source": [
    "# constraste heterocedasticidad breush-pagan\n",
    "print('## Contraste de Heterocedasticidad (Breusch-Pagan):')\n",
    "name = ['Lagrange multiplier statistic', 'p-value',\n",
    "        'f-value', 'f p-value']\n",
    "test = sms.het_breushpagan(results.resid, results.model.exog)\n",
    "print(tb.tabulate(list(zip(name, test))))\n"
   ]
  },
  {
   "cell_type": "markdown",
   "metadata": {},
   "source": [
    "El contraste LM de Breusch-Pagan (BP) no informa de la presencia de homocedasticidad o ausencia de ella. Para un nivel de significación del 5% estrictamente deberíamos rechazar la hipótesis nula de homocedasticidad pero al estar tan próximo no sería sensato, necesitamos más información."
   ]
  },
  {
   "cell_type": "code",
   "execution_count": 27,
   "metadata": {
    "collapsed": false
   },
   "outputs": [
    {
     "name": "stdout",
     "output_type": "stream",
     "text": [
      "## Contraste de Heterocedasticidad (Goldfeld-Quandt):\n",
      "-----------  --------\n",
      "F statistic  0.747412\n",
      "p-value      0.785038\n",
      "-----------  --------\n"
     ]
    }
   ],
   "source": [
    "# constraste heterocedasticidad Golfeld-Quandt\n",
    "print('## Contraste de Heterocedasticidad (Goldfeld-Quandt):')\n",
    "name = ['F statistic', 'p-value']\n",
    "test = sms.het_goldfeldquandt(results.resid, results.model.exog)\n",
    "print(tb.tabulate(list(zip(name, test))))\n"
   ]
  },
  {
   "cell_type": "markdown",
   "metadata": {},
   "source": [
    "Para buscar más información que nos permita arrojar luz sobre la homocedasticidad del modelo, nos fijamos en los resultados del contraste de Goldfeld-Quandt que nos dice que se acepta la hipótesis nula de homocedasticidad."
   ]
  },
  {
   "cell_type": "code",
   "execution_count": 34,
   "metadata": {
    "collapsed": false
   },
   "outputs": [
    {
     "name": "stdout",
     "output_type": "stream",
     "text": [
      "## Contraste de RESET\n",
      "Intervalo de Confianza\n",
      "\n",
      "                      0            1\n",
      "Intercept -12960.922679 -6033.819132\n",
      "y          -5676.943123 -2641.843546\n",
      "r           -191.550094   -89.157697\n",
      "p           -775.389506  -360.883653\n",
      "y_hat2        29.919212    64.198961\n",
      "y_hat3        -0.716173    -0.334037\n",
      "\n",
      "F-test\n",
      "\n",
      "<F test: F=array([[ 15.96871175]]), p=2.5476772138890805e-06, df_denom=62, df_num=2>\n"
     ]
    }
   ],
   "source": [
    "# contraste de especificacion RESET\n",
    "print('## Contraste de RESET')\n",
    "reset = 'm1 ~ y + r + p + y_hat2 + y_hat3'\n",
    "d = data_log.copy()\n",
    "d['y_hat2'] = results.predict() ** 2\n",
    "d['y_hat3'] = results.predict() ** 3\n",
    "res = ols(reset, d).fit()\n",
    "h0 = 'y_hat2 = y_hat3 = 0'\n",
    "test = res.f_test(h0)\n",
    "print('Intervalo de Confianza\\n')\n",
    "print(res.conf_int())\n",
    "print('\\nF-test\\n')\n",
    "print(test)"
   ]
  },
  {
   "cell_type": "markdown",
   "metadata": {},
   "source": [
    "El test de RESET contrasta la correcta especificación o no del modelo, introduciendo en el modelo original la endógena al cuadrado y al cubo si el modelo esta correctamente especificado entonces los parámetros que acompañan a las endógenas al cuadrado y al cubo deberán ser cero. En este caso vemos que el contraste reset no da evidencia en contra de la hipótesis nula, por tanto hay evidencia a favor de que el modelo está mal especificado."
   ]
  },
  {
   "cell_type": "code",
   "execution_count": 36,
   "metadata": {
    "collapsed": false
   },
   "outputs": [
    {
     "name": "stdout",
     "output_type": "stream",
     "text": [
      "## Contraste de $\\beta_3 = 1$\n",
      "                             Test for Constraints                             \n",
      "==============================================================================\n",
      "                 coef    std err          z      P>|z|      [95.0% Conf. Int.]\n",
      "------------------------------------------------------------------------------\n",
      "c0             0.4046      0.117     -5.080      0.000         0.175     0.634\n",
      "==============================================================================\n"
     ]
    }
   ],
   "source": [
    "# contraste b3=1\n",
    "print('## Contraste de $\\\\beta_3 = 1$')\n",
    "h0 = 'np.log(p) = 1'\n",
    "t_test = results.t_test(h0)\n",
    "print(t_test)"
   ]
  },
  {
   "cell_type": "markdown",
   "metadata": {},
   "source": [
    "El contraste t-ratio para $\\beta_3 = 1$ que se obtiene dividiendo el parámetro por su error estándar, sigue una t-student de N - k - 1 grado de libertad. Suponiendo que las muestras provienen de una población normal."
   ]
  },
  {
   "cell_type": "code",
   "execution_count": 37,
   "metadata": {
    "collapsed": false
   },
   "outputs": [
    {
     "name": "stdout",
     "output_type": "stream",
     "text": [
      "## contraste de Dickey-Fuller\n",
      "m1 0.535720941081 \n",
      "y 0.909139979336 \n",
      "r 0.996444675436 \n",
      "p 0.993873856301 \n",
      "y_hat2 0.982420632293 \n",
      "y_hat3 0.980016130055 \n"
     ]
    }
   ],
   "source": [
    "print('## contraste de Dickey-Fuller')\n",
    "for name in data_log.columns:\n",
    "    adf = sm.tsa.adfuller(data_log[name], regression='ct')[1]\n",
    "    print(name, adf, int(adf < 0.05)*'***')"
   ]
  },
  {
   "cell_type": "markdown",
   "metadata": {},
   "source": [
    "El contraste de dickey-fuller nos informa de si una serie tiene tendencia estocástica o no. Por lo tanto según los p-values obtenidos para cada una de las series, vemos que todas tienen tendecia estocástica y por tanto tienen memoria ilimitada. Para saber el orden de integración debemos diferenciar y voler a estimar hasta que todas sean I(0)."
   ]
  },
  {
   "cell_type": "code",
   "execution_count": 40,
   "metadata": {
    "collapsed": false
   },
   "outputs": [
    {
     "name": "stdout",
     "output_type": "stream",
     "text": [
      "$np.log(m1) ~ np.log(y) + np.log(r) + np.log(p)$\n",
      "                    Robust linear Model Regression Results                    \n",
      "==============================================================================\n",
      "Dep. Variable:             np.log(m1)   No. Observations:                   68\n",
      "Model:                            RLM   Df Residuals:                       64\n",
      "Method:                          IRLS   Df Model:                            3\n",
      "Norm:                          HuberT                                         \n",
      "Scale Est.:                       mad                                         \n",
      "Cov Type:                          H1                                         \n",
      "Date:                Thu, 15 Oct 2015                                         \n",
      "Time:                        14:18:58                                         \n",
      "No. Iterations:                    14                                         \n",
      "==============================================================================\n",
      "                 coef    std err          z      P>|z|      [95.0% Conf. Int.]\n",
      "------------------------------------------------------------------------------\n",
      "Intercept     16.7243      0.521     32.110      0.000        15.703    17.745\n",
      "np.log(y)      2.9609      0.240     12.352      0.000         2.491     3.431\n",
      "np.log(r)      0.0998      0.026      3.821      0.000         0.049     0.151\n",
      "np.log(p)      0.4046      0.117      3.452      0.001         0.175     0.634\n",
      "==============================================================================\n",
      "\n",
      "If the model instance has been used for another fit with different fit\n",
      "parameters, then the fit options might not be the correct ones anymore .\n",
      "ARCH 0.0227409691718\n",
      "white 0.1008397763\n",
      "BP 0.0480295966197\n",
      "GQ 0.785038005959\n"
     ]
    }
   ],
   "source": [
    "dta = data\n",
    "formula = 'np.log(m1) ~ np.log(y) + np.log(r) + np.log(p)'\n",
    "\n",
    "#results = sm.RLM(dta.m1, sm.add_constant(dta.ix[:,1:])).fit()\n",
    "results = rlm(formula, dta).fit()\n",
    "\n",
    "print('$' + formula +'$')\n",
    "\n",
    "print(results.summary())\n",
    "\n",
    "print('ARCH', sms.het_arch(results.resid)[1])\n",
    "print('white', sms.het_white(results.resid, results.model.exog)[1])\n",
    "# constraste heterocedasticidad breush-pagan\n",
    "print('BP', sms.het_breushpagan(results.resid, results.model.exog)[1])\n",
    "# constraste heterocedasticidad Golfeld-Quandt\n",
    "print('GQ', sms.het_goldfeldquandt(results.resid, results.model.exog)[1])"
   ]
  },
  {
   "cell_type": "markdown",
   "metadata": {},
   "source": [
    "## ¿SE CUMPLEN LOS SUPUESTO DEL MODELO LINEAL GENERAL?\n",
    "\n",
    "### AUTOCORRELACIÓN\n",
    "\n",
    "Para comprobar que las perturbaciones sean independientes, he aplicado los contrastes de Breusch-Godfrey y Ljun-Box, y ambos proporcionan evidencia en contra de la hipótesis nula, por tanto no aceptamos la hipótesis nula de autocorrelación.\n",
    "\n",
    "### HOMOCEDASTICIDAD\n",
    "\n",
    "Aplicamos los contrastes de Breusch-Pagan y Goldfeld-Quandt y encontramos contradicción entre los contrastes, pues el contraste BP nos da una evidencia muy debil en contra de la hipótesis nula, para un nivel de significación del 5% obetenemos un P-Value = 4,5%. Por otro lado el contraste Goldfeld-Quandt nos proporciona evidencia clara a favor la hipótesis nula.\n",
    "\n",
    "Por tanto, a mi parecer existe evidencia para suponer que el modelo presenta Heterocedasticidad.\n",
    "\n",
    "### ESPECIFICACIÓN\n",
    "\n",
    "El contraste de RESET nos dá información acerca de la correcta especifiación del modelo, y obtenemos que hay evidencia a en contra de la hipótesis nula ($\\gamma_0 = \\gamma_1 = 0$), por tanto el modelo puede estar mal especificado.\n",
    "\n",
    "### NORMALIDAD\n",
    "\n",
    "Para validar la normalidad en las perturbaciones, aplicamos el contraste de Jarque-Vera que nos dá evidencia a favor de la normalidad.\n",
    "\n",
    "### SIGNIFICATIVIDAD\n",
    "\n",
    "De haberse cumplido los supuestos del MLG, los parámetros estimados se pueden interpretar y son todos significativos, tanto individual como conjuntamente.\n",
    "\n",
    "El modelo con un $R^2 = 0.991$ explica prácticamente toda la evolución, el $\\hat{R}^2 = 0.99$.\n",
    "\n",
    "### CONTRASTE DE DICKEY-FULLER\n",
    "\n",
    "Los p-values, del Dickey-Fuller nos dice que las series no son I(0) y por tanto las series tiene son integradas de orden 1 o más, esto evidencia tendencia estocástica cuyos shocks son permanentes, también presenta tendencia determinista. Por tanto lo que tendríamos que plantear es la primera diferencia, y comprobar nuevamente el contraste dickey-fuller.\n",
    "\n",
    "Si se hiciera esto el contraste Dickey-Fuller nos diría que las series tampoco son I(0), salvo para el PIB. Esto nos dice que los shocks son permanentes. Si hacemos la segunda diferencia, tendremos todas las series I(0) y podríamos asegurar que son estacionarias en sentido débil."
   ]
  },
  {
   "cell_type": "markdown",
   "metadata": {},
   "source": [
    "# APARTADO A\n",
    "\n",
    "El modelo sin logaritmos da problemas de significatividad de los parámetros. Al hacer el modelo propuesto en el enunciado, vemos que mejora considerablemente. \n",
    "\n",
    "Analizando paso por paso,\n",
    "\n",
    "## El modelo planteado:\n",
    "\n",
    "$$ log(M1) = \\beta_1 log(p) + \\beta_2 log(y) + \\beta_3 log(rc) + u$$\n",
    "\n",
    "Planteamos un modelo MCO para la regresión anterior y obtenemos los siguientes resultados:"
   ]
  },
  {
   "cell_type": "markdown",
   "metadata": {},
   "source": [
    "### PRINCIPALES RESULTADOS\n",
    "\n",
    "$\\beta   = valor  \\ (t-ratio)$\n",
    "\n",
    "$\\beta_0\\ =\\ 16.3003\\ (0.531)$\n",
    "\n",
    "$\\beta_1\\ =\\ 2.96300\\ (0.222)$\n",
    "\n",
    "$\\beta_2\\ =\\ 0.09100\\ (0.024)$\n",
    "\n",
    "$\\beta_3\\ =\\ 0.39820\\ (0.108)$\n",
    "\n",
    "Con todos los parámetros significativos y una vez comprobado que se cumplen los supuestos del modelo lineal general (recordar que en este modelo no se cumple dado que presenta problemas de especificación y heterocedasticidad), poddríamos interpretar el modelo en términos económicos.\n",
    "\n",
    "Si pasamos por alto los problmas del modelo vemos que estamos ante un modelo __doblemente logarítmico__ y que por tanto tenemos que interpretar los parámetros de posición como __elasticidades__, esto es, el efecto del incremento de un punto porcentual que afecta a la oferta monetaria, exceptuando el caso del tipo de interés (r) cuyas unidades son porcentajes (%) lo que dificulta su interpretación."
   ]
  },
  {
   "cell_type": "markdown",
   "metadata": {},
   "source": [
    "### EL TÉRMINO INDEPENDIENTE ($\\beta_0$)\n",
    "\n",
    "Vemos por tanto que la interpretación del término __independiente ('Intercept')__ es que si no se producen cambios en la renta, precios y el tipo de interés la oferta monetaria tiene un valor que tenemos que hallar, este valor es:\n",
    "\n",
    "$log(M1) = \\beta_0$\n",
    "\n",
    "$e^{log(M1)} = e^{\\beta_0}$\n",
    "\n",
    "$M1 = e^{\\beta_0} $\n",
    "\n",
    "$M1 = e^{16.3003} = 11 998 593.59$"
   ]
  },
  {
   "cell_type": "markdown",
   "metadata": {},
   "source": [
    "### EL EFECTO DE LA RENTA (y) EN LA OFERTA MONETARIA ($\\beta_1$)\n",
    "\n",
    "El $\\beta_1 = 2.9630$ nos dice que incrementos de un 1% en la renta, tiene un efecto de 2.9630% en la oferta monetaria, casi 3 veces más intenso relativamente. Esto tiene sentido ya que por teoría sabemos que el multiplicador de la demanda de dinero tiene efecto positivo."
   ]
  },
  {
   "cell_type": "markdown",
   "metadata": {},
   "source": [
    "### EL EFECTO DEL TIPO DE INTERÉS (r) EN LA OFERTA MONETARIA ($\\beta_2$)\n",
    "\n",
    "El $ \\beta_2  = 0.0910 $ nos dice que aumentos del 1% del tipo de interés(%), tiene un efecto del 0.0910% sobre la oferta de dinero. Teniendo en cuenta que para el modelo planteado la oferta monetaria es exógena, y el tipo de interés (r) es endógena, esto nos indica cómo debería cambiar la oferta monetaria para conseguir un cambio en el tipo de interés, así pues:\n",
    "\n",
    "$ \\frac{d(M)}{M} = \\beta_2 d(r) $\n",
    "\n",
    "$ \\frac{1}{\\beta_2} · \\frac{d(M)}{M} = d(r) $\n",
    "\n",
    "$ \\frac{1}{0.0910} · \\frac{d(M)}{M} = d(r) $\n",
    "\n",
    "$ 10.989011 \\frac{d(M)}{M} = d(r) $\n",
    "\n",
    "Es importante notar que el signo del $\\beta_2$ es el mismo que el $m_r$, según la teoría nos dice que $m_r < 0$ por lo tanto tenemos una __contradicción__ con la realidad. Al ser de un 0.0910 muy pequeño nos dice que la elasticidad de la oferta monetaria al tipo de interés podría ser inelástica. Esto implica que la economía podría encontrarse en una situación en la que la política monetaria deja de ser tan efectiva, en el modelo keynesiano a esto se le denomina trampa de la liquidez. Pero esta interpretación podría ser totalmente errada ya que tenemos que recordar que el modelo no cumple los supuesto básico."
   ]
  },
  {
   "cell_type": "markdown",
   "metadata": {},
   "source": [
    "### EL EFECTO DEL PRECIO SOBRE LA OFERTA MONETARIA ($\\beta_3$)\n",
    "\n",
    "El $\\beta_3 = 0.3982$ nos dice que si aumentan los precios en un 1%, la oferta monetaria lo hace en un 0.3982%, es decir, que si hay inflación la oferta monetaria aumenta relativamente menos de la mitad. Esto tiene sentido con lo que nos dice la Teoría Económica, ya que:\n",
    "\n",
    "$ \\frac{M}{P} = m(r,y) $\n",
    "\n",
    "$ log(\\frac{M}{P} = log[m(r,y)] $\n",
    "\n",
    "$ log(M) - log(P)  = log[m(r,y)] $\n",
    "\n",
    "$ log(M) = log[m(r,y)] + log(P) $\n",
    "\n",
    "__DERIVANDO:__\n",
    "\n",
    "$ \\frac{d(M)}{M} = \\frac{m_r·d(r) + m_y · d(y)}{m(r,y)} + \\frac{d(P)}{P}$ con dr, dy = 0\n",
    "\n",
    "$ \\frac{d(M)}{M} = \\frac{d(P)}{P} $\n",
    "\n",
    "Por lo tanto aumentan en la misma dirección. Importante notar que en un esquema de modelo Keynesiano o Clásico, P es una variable endógena mientras que M es exógenas, para esta última, es importante notar que las autoridades monetarias deciden M y no r como es en la realidad."
   ]
  },
  {
   "cell_type": "markdown",
   "metadata": {},
   "source": [
    "# APARTADO B\n",
    "Contrastar la restricción $β_3=1$, comentando sus implicaciones económicas. \n",
    "Hacer los cálculos paso a paso sin usar las opciones directas de Gretl."
   ]
  },
  {
   "cell_type": "markdown",
   "metadata": {},
   "source": [
    "Para contrastar $\\beta_3 = 1$, tenemos dos opciones, plantear un contraste F o t, dado que es más sencillo un contraste t-ratio, el procedimiento a seguir es:\n",
    "\n",
    "## Hipótesis\n",
    "\n",
    "$ H_0: \\beta_3 = 1 $\n",
    "\n",
    "$ H_1: \\beta_3 ≠ 1 $\n",
    "\n",
    "## Contraste\n",
    "\n",
    "### $t = \\frac{\\hat{\\beta_3} - \\beta_3}{\\sigma_{\\hat{\\beta_3} / \\sqrt{N}}}$\n",
    "\n",
    "### $ t = \\frac{0.39820 - 1}{0.108} = -5.5722$\n",
    "\n",
    "## Validación\n",
    "\n",
    "### Región Critica\n",
    "\n",
    "N = 68\n",
    "\n",
    "n = 68 - 4\n",
    "\n",
    "gl = 63\n",
    "\n",
    "α = 0.05\n",
    "\n",
    "$t < t_{(n-1 , \\alpha / 2)}$\n",
    "\n",
    "$t < t_{(63 , 0.025)}$\n",
    "\n",
    "$ t_{(63 , 0.025)} = -1.9983 $\n",
    "\n",
    "$ -5.722 < -1.9983 \\rightarrow$ Nos indica que hay evidencia en contra de la hipótesis nula, por tanto rechazamos $H_0: \\beta_3 = 1 $"
   ]
  },
  {
   "cell_type": "code",
   "execution_count": 42,
   "metadata": {
    "collapsed": false
   },
   "outputs": [],
   "source": [
    "df=len(data_log)-4-1\n",
    "beta_hat = .39820\n",
    "beta_h0 = 1\n",
    "se = 0.108\n",
    "tratio = (beta_hat - beta_h0) / se\n",
    "alpha = 0.05\n",
    "tscore = st.t.ppf(alpha / 2, df=df)\n",
    "\n",
    "txt = ''' ## Contraste con los datos\n",
    "Grados de Libertad = %s\n",
    "\n",
    "$\\\\hat{\\\\beta}$ = %s\n",
    "\n",
    "$\\\\beta_{H_0}$ = %s\n",
    "\n",
    "Error Estandar = %s\n",
    "\n",
    "t-ratio = %s\n",
    "\n",
    "$\\\\alpha = %s$\n",
    "\n",
    "punto crítico = %s''' % (df, beta_hat, beta_h0, se, tratio, alpha, tscore)\n",
    "\n",
    "#print(txt)"
   ]
  },
  {
   "cell_type": "code",
   "execution_count": 43,
   "metadata": {
    "collapsed": false
   },
   "outputs": [
    {
     "name": "stderr",
     "output_type": "stream",
     "text": [
      "/Users/mmngreco/Virtualenvs/ipynb/lib/python3.5/site-packages/matplotlib/collections.py:590: FutureWarning: elementwise comparison failed; returning scalar instead, but in the future will perform elementwise comparison\n",
      "  if self._edgecolors == str('face'):\n"
     ]
    },
    {
     "data": {
      "image/png": "[encoded data removed]",
      "text/plain": [
       "<matplotlib.figure.Figure at 0x1121e9898>"
      ]
     },
     "metadata": {},
     "output_type": "display_data"
    }
   ],
   "source": [
    "x = np.linspace(-4,4,100)\n",
    "y = st.t.pdf(x, df=df)\n",
    "plt.plot(x, y)\n",
    "plt.fill_between(x=x[x<= -1.998], y1 = y[:len(x[x<= -1.998])], color = 'red', alpha=0.6)\n",
    "plt.fill_between(x=x[x>= 1.998], y1 = y[-len(x[x>= 1.998]):], color='red', alpha=0.6)\n",
    "plt.suptitle('Región Crítica', fontsize=15)\n",
    "plt.savefig('imgs/rc.png', bbox_inches='tight')"
   ]
  },
  {
   "cell_type": "markdown",
   "metadata": {},
   "source": [
    "### Contraste con los datos\n",
    "Grados de Libertad = 63\n",
    "\n",
    "$\\hat{\\beta}$ = 0.3982\n",
    "\n",
    "$\\beta_{H_0}$ = 1\n",
    "\n",
    "Error Estandar = 0.108\n",
    "\n",
    "t-ratio = -5.572222222222222\n",
    "\n",
    "$\\alpha = 0.05$\n",
    "\n",
    "punto crítico = -1.99834054177"
   ]
  },
  {
   "cell_type": "markdown",
   "metadata": {},
   "source": [
    "### P-value\n",
    "\n",
    "$P\\{t < t_{contraste}\\} < \\alpha $\n",
    "\n",
    "Notar que dado que se trata de un contraste bilateral, basta compara el valor que queremos contrastar con el intervalo de confianza de $\\hat{\\beta}_3$, si el intervalo contiene a dicho valor entonces no se rechaza $H_0$, de lo contrario rechazaríamos la hipótesis nula."
   ]
  },
  {
   "cell_type": "code",
   "execution_count": 45,
   "metadata": {
    "collapsed": false
   },
   "outputs": [
    {
     "name": "stdout",
     "output_type": "stream",
     "text": [
      "$P-value = P\\{ t < |t-ratio|\\} = 5.58e-07 $\n"
     ]
    }
   ],
   "source": [
    "txt2 = '''$P-value = P\\{ t < |t-ratio|\\} = %s $''' % round(st.t.cdf(tratio, df=df) * 2, 9)\n",
    "print(txt2)"
   ]
  },
  {
   "cell_type": "markdown",
   "metadata": {},
   "source": [
    "$P-value = P\\{ t < |t-ratio|\\} = 5.58e-07 $"
   ]
  },
  {
   "cell_type": "markdown",
   "metadata": {},
   "source": [
    "Por tanto, los tres indicadores (P-Value, Punto Crítico, Intervalo de Confianza) nos dicen que hay evidencia suficiente para rechazar la hipótesis nula o equivalentemente existe evidencia para afirmar que $\\beta_3 ≠ 1$."
   ]
  },
  {
   "cell_type": "markdown",
   "metadata": {},
   "source": [
    "# APARTADO C\n",
    "\n",
    "Estimar asumiendo que $\\beta_3 = 1$, para ello tenemos que hacer unos cambios en el modelo inicial.\n",
    "\n",
    "Modelo Inicial: \n",
    "\n",
    "$$log (M1) = β_0 + β_1 log (y) + β_2 log (r) + β_3 log (ipc) + u$$\n",
    "\n",
    "Sustituyendo $\\beta_3 = 1$:\n",
    "\n",
    "$$log (M1) = β_0 + β_1 log (y) + β_2 log (r) + log (ipc) + u$$\n",
    "\n",
    "$$log (M1) - log (ipc) = β_0 + β_1 log (y) + β_2 log (r) + u$$\n",
    "\n",
    "Esta última es la ecuación que vamos a estimar."
   ]
  },
  {
   "cell_type": "code",
   "execution_count": 47,
   "metadata": {
    "collapsed": false
   },
   "outputs": [
    {
     "name": "stdout",
     "output_type": "stream",
     "text": [
      "                            OLS Regression Results                            \n",
      "==============================================================================\n",
      "Dep. Variable:             logM1-logP   R-squared:                       0.939\n",
      "Model:                            OLS   Adj. R-squared:                  0.937\n",
      "Method:                 Least Squares   F-statistic:                     500.5\n",
      "Date:                Thu, 15 Oct 2015   Prob (F-statistic):           3.30e-40\n",
      "Time:                        14:20:40   Log-Likelihood:                 93.737\n",
      "No. Observations:                  68   AIC:                            -181.5\n",
      "Df Residuals:                      65   BIC:                            -174.8\n",
      "Df Model:                           2                                         \n",
      "Covariance Type:            nonrobust                                         \n",
      "==============================================================================\n",
      "                 coef    std err          t      P>|t|      [95.0% Conf. Int.]\n",
      "------------------------------------------------------------------------------\n",
      "const         19.1017      0.264     72.292      0.000        18.574    19.629\n",
      "y              1.7850      0.078     23.013      0.000         1.630     1.940\n",
      "r              0.0799      0.029      2.749      0.008         0.022     0.138\n",
      "==============================================================================\n",
      "Omnibus:                        1.862   Durbin-Watson:                   0.709\n",
      "Prob(Omnibus):                  0.394   Jarque-Bera (JB):                1.423\n",
      "Skew:                           0.151   Prob(JB):                        0.491\n",
      "Kurtosis:                       2.359   Cond. No.                         177.\n",
      "==============================================================================\n",
      "\n",
      "Warnings:\n",
      "[1] Standard Errors assume that the covariance matrix of the errors is correctly specified.\n"
     ]
    }
   ],
   "source": [
    "endog = data_log.m1 - data_log.p\n",
    "\n",
    "exog = data_log.ix[:,1:-3]\n",
    "exog = sm.add_constant(exog)\n",
    "modelo = sm.OLS(endog, exog)\n",
    "reg = modelo.fit()\n",
    "\n",
    "endog.name = 'logM1-logP'\n",
    "\n",
    "print(reg.summary())"
   ]
  },
  {
   "cell_type": "code",
   "execution_count": 66,
   "metadata": {
    "collapsed": false
   },
   "outputs": [
    {
     "data": {
      "text/html": [
       "<table class=\"simpletable\">\n",
       "<tr>\n",
       "  <th>Omnibus:</th>       <td> 1.862</td> <th>  Durbin-Watson:     </th> <td>   0.709</td>\n",
       "</tr>\n",
       "<tr>\n",
       "  <th>Prob(Omnibus):</th> <td> 0.394</td> <th>  Jarque-Bera (JB):  </th> <td>   1.423</td>\n",
       "</tr>\n",
       "<tr>\n",
       "  <th>Skew:</th>          <td> 0.151</td> <th>  Prob(JB):          </th> <td>   0.491</td>\n",
       "</tr>\n",
       "<tr>\n",
       "  <th>Kurtosis:</th>      <td> 2.359</td> <th>  Cond. No.          </th> <td>    177.</td>\n",
       "</tr>\n",
       "</table>"
      ],
      "text/plain": [
       "<class 'statsmodels.iolib.table.SimpleTable'>"
      ]
     },
     "execution_count": 66,
     "metadata": {},
     "output_type": "execute_result"
    }
   ],
   "source": [
    "reg.summary().tables[2]"
   ]
  },
  {
   "cell_type": "markdown",
   "metadata": {},
   "source": [
    "- Según el DW parece haber presencia de autocorrelacón.\n",
    "- El JB nos informa que los residuos siguen una distribución normal.\n",
    "- Suponiendo cumplimiento de las hipótesis:\n",
    "    - Los parámetros son significativos individualmente y conjuntamente.\n",
    "    - R^2 nos dice que el modelo explica el 93.9% del comportamiento de la endógena.\n",
    "- $\\beta_0 (const)    19.101696$ \n",
    "- $\\beta_1 (y) =         1.785015$ % que aumenta m/p por aumentos en un 1% de y.\n",
    "- $\\beta_2 (r) =         0.079900$ % que aumenta m/p por aumentos en un 1% de r(%)."
   ]
  },
  {
   "cell_type": "code",
   "execution_count": 37,
   "metadata": {
    "collapsed": false
   },
   "outputs": [
    {
     "data": {
      "text/plain": [
       "<class 'statsmodels.stats.contrast.ContrastResults'>\n",
       "                             Test for Constraints                             \n",
       "==============================================================================\n",
       "                 coef    std err          t      P>|t|      [95.0% Conf. Int.]\n",
       "------------------------------------------------------------------------------\n",
       "c0             1.7850      0.078     23.013      0.000         1.630     1.940\n",
       "=============================================================================="
      ]
     },
     "execution_count": 37,
     "metadata": {},
     "output_type": "execute_result"
    }
   ],
   "source": [
    "reg.t_test([0,1,0])"
   ]
  },
  {
   "cell_type": "code",
   "execution_count": 38,
   "metadata": {
    "collapsed": false
   },
   "outputs": [
    {
     "name": "stdout",
     "output_type": "stream",
     "text": [
      "<F test: F=array([[ 340.05042931]]), p=1.607695553667011e-27, df_denom=65, df_num=1>\n"
     ]
    }
   ],
   "source": [
    "print(reg.f_test([0,1,1]))"
   ]
  },
  {
   "cell_type": "code",
   "execution_count": 39,
   "metadata": {
    "collapsed": false
   },
   "outputs": [
    {
     "data": {
      "text/plain": [
       "(2.6414229823727791,\n",
       " 0.26694530515147258,\n",
       " 1.313465666548439,\n",
       " 0.27592716160620684)"
      ]
     },
     "execution_count": 39,
     "metadata": {},
     "output_type": "execute_result"
    }
   ],
   "source": [
    "sm.stats.diagnostic.het_breushpagan(reg.resid, exog)"
   ]
  },
  {
   "cell_type": "code",
   "execution_count": 40,
   "metadata": {
    "collapsed": false
   },
   "outputs": [
    {
     "data": {
      "text/plain": [
       "(21.304344526097598,\n",
       " 0.030351612152904713,\n",
       " 2.4415894747020856,\n",
       " 0.017452733153630249)"
      ]
     },
     "execution_count": 40,
     "metadata": {},
     "output_type": "execute_result"
    }
   ],
   "source": [
    "sm.stats.diagnostic.het_arch(reg.resid)"
   ]
  },
  {
   "cell_type": "code",
   "execution_count": 46,
   "metadata": {
    "collapsed": false
   },
   "outputs": [
    {
     "name": "stdout",
     "output_type": "stream",
     "text": [
      "1 (25.865210907232949, 3.661082569777149e-07)\n",
      "2 (36.553828680309842, 1.1546143634897058e-08)\n",
      "3 (37.51056548037549, 3.5879629029542688e-08)\n",
      "4 (40.193943258696351, 3.9465375311716509e-08)\n",
      "5 (46.059832644872969, 8.8308986282250012e-09)\n",
      "6 (46.25186804555392, 2.6376564782058517e-08)\n",
      "7 (46.391145107894324, 7.3360418747323098e-08)\n",
      "8 (46.640610940418526, 1.7952837978300228e-07)\n"
     ]
    }
   ],
   "source": [
    "for i in range(1,9):\n",
    "    print(i, sm.stats.diagnostic.acorr_breush_godfrey(reg, nlags=i)[:2])"
   ]
  },
  {
   "cell_type": "markdown",
   "metadata": {},
   "source": [
    "# APARTADO D\n",
    "Suponer que queremos estimar el modelo usando la variable M1 en términos reales, imponiendo para ello la restricción del apartado b ($\\beta_3 = 1$), y a la vez seguir manteniendo el ipc como variable explicativa. Pensar cómo transformar el modelo para conseguir el doble objetivo anterior y calcular de forma razonada (con la ayuda de la estimación del apartado a) el valor del coeficiente que acompaña a la variable ipc.\n",
    "\n",
    "# ESTIMAR MLR\n",
    "\n",
    "Una solución sería estimar el modelo lineal restringido $ \\hat{\\beta}_{MLR} $ con R = [0 0 1] y r = 1. \n",
    "\n",
    "$$ \\hat{\\beta}_{MLR}  = \\hat{\\beta}_{MCO} + (X'X)^{-1}R'[R(X'X)R']^{-1}(r-R\\hat{\\beta}_{MCO}) $$\n",
    "\n",
    "16.724270\n",
    "2.960928\n",
    "0.099789\n",
    "0.405162\n"
   ]
  },
  {
   "cell_type": "markdown",
   "metadata": {},
   "source": [
    "$~ \\left( \\begin{array}{c}\n",
    "16.724270 \\\\\n",
    "2.960928 \\\\\n",
    "0.099789 \\\\\n",
    "0.405162 \\end{array} \\right) = ~ \\left( \\begin{array}{c}\n",
    "16.724270 \\\\\n",
    "2.960928 \\\\\n",
    "0.099789 \\\\\n",
    "0.404592 \\end{array} \\right) + ~ \\left( \\begin{array}{c}\n",
    "0.         \\\\\n",
    "0.         \\\\\n",
    "0.         \\\\\n",
    "0.00057092 \\end{array} \\right)$\n"
   ]
  },
  {
   "cell_type": "code",
   "execution_count": 55,
   "metadata": {
    "collapsed": false
   },
   "outputs": [
    {
     "name": "stdout",
     "output_type": "stream",
     "text": [
      "         const         y         r         p\n",
      "Q1 1982      1  3.800970 -2.122767  3.282314\n",
      "Q2 1982      1  3.804721 -2.110038  3.317260\n",
      "Q3 1982      1  3.811457 -2.098556  3.346075\n",
      "Q4 1982      1  3.814976 -2.065670  3.368705\n",
      "Q1 1983      1  3.818624 -2.102915  3.406532\n"
     ]
    }
   ],
   "source": [
    "x = sm.add_constant(data_log.ix[:,1:-2])\n",
    "print(x.head())"
   ]
  },
  {
   "cell_type": "code",
   "execution_count": 56,
   "metadata": {
    "collapsed": false
   },
   "outputs": [
    {
     "data": {
      "text/plain": [
       "matrix([[   68.        ,   274.79496041,  -168.22241604,   265.58354189],\n",
       "        [  274.79496041,  1111.93599196,  -682.71715658,  1076.05705516],\n",
       "        [ -168.22241604,  -682.71715658,   426.5699691 ,  -662.52628518],\n",
       "        [  265.58354189,  1076.05705516,  -662.52628518,  1042.89294412]])"
      ]
     },
     "execution_count": 56,
     "metadata": {},
     "output_type": "execute_result"
    }
   ],
   "source": [
    "xx = np.asmatrix(x.T.values) * np.asmatrix(x.values)\n",
    "xx"
   ]
  },
  {
   "cell_type": "code",
   "execution_count": 57,
   "metadata": {
    "collapsed": false
   },
   "outputs": [
    {
     "data": {
      "text/plain": [
       "matrix([[  8.69911019e+01,  -3.93173080e+01,  -1.53370692e+00,\n",
       "           1.74400840e+01],\n",
       "        [ -3.93173080e+01,   1.84260938e+01,   5.91893883e-01,\n",
       "          -8.62346714e+00],\n",
       "        [ -1.53370692e+00,   5.91893883e-01,   2.18678201e-01,\n",
       "          -8.12204315e-02],\n",
       "        [  1.74400840e+01,  -8.62346714e+00,  -8.12204315e-02,\n",
       "           4.40575684e+00]])"
      ]
     },
     "execution_count": 57,
     "metadata": {},
     "output_type": "execute_result"
    }
   ],
   "source": [
    "xx_inv = xx ** -1\n",
    "xx_inv"
   ]
  },
  {
   "cell_type": "code",
   "execution_count": 59,
   "metadata": {
    "collapsed": false
   },
   "outputs": [
    {
     "name": "stdout",
     "output_type": "stream",
     "text": [
      "Corrección\n",
      "[[ 0.        ]\n",
      " [ 0.        ]\n",
      " [ 0.        ]\n",
      " [ 0.00057092]]\n"
     ]
    }
   ],
   "source": [
    "R = np.asmatrix(np.array([0,0,0,1]))\n",
    "r = 1\n",
    "correcion = R.T * (R * xx * R.T) ** -1 * (r - R* np.asmatrix(results.params).T)\n",
    "bmlr = results.params + np.asarray(correcion).flatten()\n",
    "print('Corrección')\n",
    "print(correcion)"
   ]
  },
  {
   "cell_type": "code",
   "execution_count": 60,
   "metadata": {
    "collapsed": false
   },
   "outputs": [
    {
     "name": "stdout",
     "output_type": "stream",
     "text": [
      "bmlr\n",
      "Intercept    16.724270\n",
      "np.log(y)     2.960928\n",
      "np.log(r)     0.099789\n",
      "np.log(p)     0.405162\n",
      "dtype: float64\n"
     ]
    }
   ],
   "source": [
    "print('bmlr')\n",
    "print(bmlr)"
   ]
  },
  {
   "cell_type": "code",
   "execution_count": 61,
   "metadata": {
    "collapsed": false
   },
   "outputs": [
    {
     "name": "stdout",
     "output_type": "stream",
     "text": [
      "Intercept    16.724270\n",
      "np.log(y)     2.960928\n",
      "np.log(r)     0.099789\n",
      "np.log(p)     0.404592\n",
      "dtype: float64\n"
     ]
    }
   ],
   "source": [
    "print(results.params)"
   ]
  },
  {
   "cell_type": "markdown",
   "metadata": {},
   "source": [
    "# APARTADO E\n",
    "\n",
    "Estimar al modelo del apartado d) comprobando si se cumple el resultado teórico."
   ]
  },
  {
   "cell_type": "markdown",
   "metadata": {},
   "source": [
    "# GRÁFICOS ADICIONALES"
   ]
  },
  {
   "cell_type": "code",
   "execution_count": 64,
   "metadata": {
    "collapsed": false
   },
   "outputs": [
    {
     "name": "stderr",
     "output_type": "stream",
     "text": [
      "/Users/mmngreco/Virtualenvs/ipynb/lib/python3.5/site-packages/matplotlib/collections.py:590: FutureWarning: elementwise comparison failed; returning scalar instead, but in the future will perform elementwise comparison\n",
      "  if self._edgecolors == str('face'):\n"
     ]
    },
    {
     "data": {
      "image/png": "[encoded data removed]",
      "text/plain": [
       "<matplotlib.figure.Figure at 0x107694080>"
      ]
     },
     "metadata": {},
     "output_type": "display_data"
    }
   ],
   "source": [
    "# desde aqui\n",
    "fsize = (10,5)\n",
    "\n",
    "plt.figure(figsize=fsize)\n",
    "ax1 = plt.subplot(2,1,1)\n",
    "plot_acf(data.m1, ax=ax1)\n",
    "ax2 = plt.subplot(2,1,2)\n",
    "plot_pacf(data.m1, ax=ax2)\n",
    "plt.suptitle('Oferta Monetaria (M1)', fontsize=15, y=1.015)\n",
    "plt.tight_layout()\n",
    "plt.savefig('imgs/m1_acor.png', bbox_inches='tight')"
   ]
  },
  {
   "cell_type": "code",
   "execution_count": 65,
   "metadata": {
    "collapsed": false
   },
   "outputs": [
    {
     "name": "stderr",
     "output_type": "stream",
     "text": [
      "/Users/mmngreco/Virtualenvs/ipynb/lib/python3.5/site-packages/matplotlib/collections.py:590: FutureWarning: elementwise comparison failed; returning scalar instead, but in the future will perform elementwise comparison\n",
      "  if self._edgecolors == str('face'):\n"
     ]
    },
    {
     "data": {
      "image/png": "[encoded data removed]",
      "text/plain": [
       "<matplotlib.figure.Figure at 0x106f93780>"
      ]
     },
     "metadata": {},
     "output_type": "display_data"
    }
   ],
   "source": [
    "plt.figure(figsize=fsize)\n",
    "ax1 = plt.subplot(2,1,1)\n",
    "plot_acf(data.p, ax=ax1)\n",
    "ax2 = plt.subplot(2,1,2)\n",
    "plot_pacf(data.p, ax=ax2)\n",
    "plt.suptitle('Precio', fontsize=15, y=1.015)\n",
    "plt.tight_layout()\n",
    "plt.savefig('imgs/p_acor.png', bbox_inches='tight')"
   ]
  },
  {
   "cell_type": "code",
   "execution_count": 66,
   "metadata": {
    "collapsed": false
   },
   "outputs": [
    {
     "name": "stderr",
     "output_type": "stream",
     "text": [
      "/Users/mmngreco/Virtualenvs/ipynb/lib/python3.5/site-packages/matplotlib/collections.py:590: FutureWarning: elementwise comparison failed; returning scalar instead, but in the future will perform elementwise comparison\n",
      "  if self._edgecolors == str('face'):\n"
     ]
    },
    {
     "data": {
      "image/png": "[encoded data removed]",
      "text/plain": [
       "<matplotlib.figure.Figure at 0x1070baa58>"
      ]
     },
     "metadata": {},
     "output_type": "display_data"
    }
   ],
   "source": [
    "plt.figure(figsize=fsize)\n",
    "ax1 = plt.subplot(2,1,1)\n",
    "\n",
    "plot_acf(data.r, ax=ax1)\n",
    "ax2 = plt.subplot(2,1,2)\n",
    "\n",
    "plot_pacf(data.r, ax=ax2)\n",
    "plt.suptitle('Tipo de Interés (r)', fontsize=15, y=1.015)\n",
    "plt.tight_layout()\n",
    "plt.savefig('imgs/r_acor.png', bbox_inches='tight')"
   ]
  },
  {
   "cell_type": "code",
   "execution_count": 67,
   "metadata": {
    "collapsed": false
   },
   "outputs": [
    {
     "name": "stderr",
     "output_type": "stream",
     "text": [
      "/Users/mmngreco/Virtualenvs/ipynb/lib/python3.5/site-packages/matplotlib/collections.py:590: FutureWarning: elementwise comparison failed; returning scalar instead, but in the future will perform elementwise comparison\n",
      "  if self._edgecolors == str('face'):\n"
     ]
    },
    {
     "data": {
      "image/png": "[encoded data removed]",
      "text/plain": [
       "<matplotlib.figure.Figure at 0x108165400>"
      ]
     },
     "metadata": {},
     "output_type": "display_data"
    }
   ],
   "source": [
    "plt.figure(figsize=fsize)\n",
    "ax1 = plt.subplot(2,1,1)\n",
    "plot_acf(data.y, ax=ax1)\n",
    "ax2 = plt.subplot(2,1,2)\n",
    "plot_pacf(data.y, ax=ax2)\n",
    "plt.suptitle('PIB (y)', fontsize=15, y=1.015)\n",
    "plt.tight_layout()\n",
    "plt.savefig('imgs/y_acor.png', bbox_inches='tight')"
   ]
  },
  {
   "cell_type": "code",
   "execution_count": 68,
   "metadata": {
    "collapsed": false
   },
   "outputs": [
    {
     "data": {
      "image/png": "[encoded data removed]",
      "text/plain": [
       "<matplotlib.figure.Figure at 0x106fce400>"
      ]
     },
     "metadata": {},
     "output_type": "display_data"
    }
   ],
   "source": [
    "# residuos:\n",
    "reg.resid.plot()\n",
    "plt.suptitle('Residuos', fontsize=15, y=1.015)\n",
    "plt.savefig('imgs/resid.png', bbox_inches='tight')"
   ]
  },
  {
   "cell_type": "code",
   "execution_count": 69,
   "metadata": {
    "collapsed": false
   },
   "outputs": [
    {
     "name": "stderr",
     "output_type": "stream",
     "text": [
      "/Users/mmngreco/Virtualenvs/ipynb/lib/python3.5/site-packages/matplotlib/collections.py:590: FutureWarning: elementwise comparison failed; returning scalar instead, but in the future will perform elementwise comparison\n",
      "  if self._edgecolors == str('face'):\n"
     ]
    },
    {
     "data": {
      "image/png": "[encoded data removed]",
      "text/plain": [
       "<matplotlib.figure.Figure at 0x1083d6278>"
      ]
     },
     "metadata": {},
     "output_type": "display_data"
    }
   ],
   "source": [
    "plt.figure(figsize=fsize)\n",
    "\n",
    "ax1 = plt.subplot(2,1,1)\n",
    "plot_acf(reg.resid, ax=ax1)\n",
    "\n",
    "ax2 = plt.subplot(2,1,2)\n",
    "plot_pacf(reg.resid, ax=ax2)\n",
    "\n",
    "plt.suptitle('RESIDUOS (u)', fontsize=15, y=1.015)\n",
    "plt.tight_layout()\n",
    "\n",
    "plt.savefig('imgs/u_acor.png', bbox_inches='tight')"
   ]
  }
 ],
 "metadata": {
  "kernelspec": {
   "display_name": "Python 3",
   "language": "python",
   "name": "python3"
  },
  "language_info": {
   "codemirror_mode": {
    "name": "ipython",
    "version": 3
   },
   "file_extension": ".py",
   "mimetype": "text/x-python",
   "name": "python",
   "nbconvert_exporter": "python",
   "pygments_lexer": "ipython3",
   "version": "3.5.0"
  },
  "latex_envs": {
   "bibliofile": "biblio.bib",
   "cite_by": "apalike",
   "current_citInitial": 1,
   "eqLabelWithNumbers": true,
   "eqNumInitial": 0
  }
 },
 "nbformat": 4,
 "nbformat_minor": 0
}
