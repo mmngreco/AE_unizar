{
 "cells": [
  {
   "cell_type": "markdown",
   "metadata": {
    "collapsed": true
   },
   "source": [
    "%matplotlib inline"
   ]
  },
  {
   "cell_type": "code",
   "execution_count": 51,
   "metadata": {
    "collapsed": false
   },
   "outputs": [],
   "source": [
    "import numpy as np\n",
    "from statsmodels.formula.api import ols, probit, logit\n",
    "import statsmodels.api as sm\n",
    "import statsmodels.stats.api as sms\n",
    "import pandas as pd\n",
    "from matplotlib.pyplot import *\n",
    "import seaborn as sns\n",
    "from scipy.stats import norm\n",
    "from IPython.display import Markdown"
   ]
  },
  {
   "cell_type": "code",
   "execution_count": 52,
   "metadata": {
    "collapsed": false
   },
   "outputs": [
    {
     "data": {
      "text/plain": [
       "'%.3f'"
      ]
     },
     "execution_count": 52,
     "metadata": {},
     "output_type": "execute_result"
    }
   ],
   "source": [
    "%precision 3"
   ]
  },
  {
   "cell_type": "code",
   "execution_count": 53,
   "metadata": {
    "collapsed": false
   },
   "outputs": [
    {
     "name": "stderr",
     "output_type": "stream",
     "text": [
      "/Users/mmngreco/Virtualenvs/ipynb/lib/python3.5/site-packages/matplotlib/__init__.py:872: UserWarning: axes.color_cycle is deprecated and replaced with axes.prop_cycle; please use the latter.\n",
      "  warnings.warn(self.msg_depr % (key, alt_key))\n"
     ]
    }
   ],
   "source": [
    "sns.set(style=\"ticks\", palette=\"Set2\")"
   ]
  },
  {
   "cell_type": "markdown",
   "metadata": {},
   "source": [
    "# Caso 2.2.\n",
    "Influencia de la prohibición de fumar en el trabajo sobre los fumadores en EE.UU.\n",
    "En este ejercicio se va a estudiar el efecto que tiene sobre el hábito de fumar, el hecho de que las empresas prohíban fumar en el puesto de trabajo. Utilizaremos los datos contenidos en el fichero Smoking.xls que tiene datos de corte transversal de una muestra de 10.000 trabajadores de EE.UU desde 1991 a 1993. El conjunto de datos contiene información sobre si las personas estaban o no estaban sujetas a una prohibición de fumar en el trabajo, si las personas fumaban, y otras características individuales. Las variables y su descripción es la siguiente:\n",
    "\n",
    "Definiciones de las variables\n",
    "\n",
    "|Variable| Definición|\n",
    "|-:|:-|\n",
    "|__smoker__ |=1 si el sujeto fuma, =0 si no fuma|\n",
    "|__smkban__ |=1 si no se puede fumar en el trabajo, =0 en otro caso|\n",
    "|__age__|edad del sujeto en años|\n",
    "|__hsdrop__ |=1 si abandonó sus estudios, =0 en otro caso|\n",
    "|__hsgrad__ |=1 si tiene estudios de secundaria, =0 en otro caso|\n",
    "|__colsome__ |=1 si tiene educación de bachillerato, =0 en otro caso|\n",
    "|__colgrad__ |=1 si tiene licenciatura universitaria, =0 en otro caso|\n",
    "|__black__ |=1 si es negro, =0 en otro caso|\n",
    "|__hispanic__ |=1 si es hispano =0 en otro caso|\n",
    "|__female__ |=1 si es mujer, =0 en otro caso|\n",
    "\n",
    "\n",
    "_Nota: El indicador binario de educación indica el máximo grado alcanzado en los estudios, estas variables son excluyentes, por ejemplo, una persona que tenga un título de doctorado universitario tendrá valores 0 en las variables hsdrop, hsgrad, colsome, y colgrad._"
   ]
  },
  {
   "cell_type": "markdown",
   "metadata": {},
   "source": [
    "# a) \n",
    "Para conocer un poco las __características de los datos__:\n",
    "\n",
    "- Primero haremos un estudio de la __distribución de frecuencias__ de las variables y el __histograma__ de la variable __age (edad)__. \n",
    "- Después __estimaremos__ un __modelo de Probabilidad Lineal__ entre la variable __smoker y smkban__ y partir del mismo calcularemos: \n",
    "    - (i) La probabilidad de __fumar para todos__ los trabajadores, \n",
    "    - (ii) La probabilidad de __fumar para__ los trabajadores __afectados por la prohibición__ de fumar en el trabajo, - \n",
    "    - (iii) La probabilidad de __fumar para__ los trabajadores que pueden fumar en su __puesto de trabajo__.\n",
    "\n",
    "Asimismo, a partir de la estimación anterior\n",
    "\n",
    "¿cuál es la diferencia en la probabilidad de fumar entre los trabajadores afectados por la prohibición de fumar en el trabajo y los que no están afectados por dicha prohibición? \n",
    "\n",
    "¿Es estadísticamente significativa esa diferencia?"
   ]
  },
  {
   "cell_type": "code",
   "execution_count": 54,
   "metadata": {
    "collapsed": false
   },
   "outputs": [],
   "source": [
    "data = pd.read_excel('Smoking.xls')"
   ]
  },
  {
   "cell_type": "code",
   "execution_count": 55,
   "metadata": {
    "collapsed": false
   },
   "outputs": [
    {
     "data": {
      "text/html": [
       "<div>\n",
       "<table border=\"1\" class=\"dataframe\">\n",
       "  <thead>\n",
       "    <tr style=\"text-align: right;\">\n",
       "      <th></th>\n",
       "      <th>smoker</th>\n",
       "      <th>smkban</th>\n",
       "      <th>age</th>\n",
       "      <th>hsdrop</th>\n",
       "      <th>hsgrad</th>\n",
       "      <th>colsome</th>\n",
       "      <th>colgrad</th>\n",
       "      <th>black</th>\n",
       "      <th>hispanic</th>\n",
       "      <th>female</th>\n",
       "    </tr>\n",
       "  </thead>\n",
       "  <tbody>\n",
       "    <tr>\n",
       "      <th>0</th>\n",
       "      <td>1</td>\n",
       "      <td>1</td>\n",
       "      <td>41</td>\n",
       "      <td>0</td>\n",
       "      <td>1</td>\n",
       "      <td>0</td>\n",
       "      <td>0</td>\n",
       "      <td>0</td>\n",
       "      <td>0</td>\n",
       "      <td>1</td>\n",
       "    </tr>\n",
       "    <tr>\n",
       "      <th>1</th>\n",
       "      <td>1</td>\n",
       "      <td>1</td>\n",
       "      <td>44</td>\n",
       "      <td>0</td>\n",
       "      <td>0</td>\n",
       "      <td>1</td>\n",
       "      <td>0</td>\n",
       "      <td>0</td>\n",
       "      <td>0</td>\n",
       "      <td>1</td>\n",
       "    </tr>\n",
       "    <tr>\n",
       "      <th>2</th>\n",
       "      <td>0</td>\n",
       "      <td>0</td>\n",
       "      <td>19</td>\n",
       "      <td>0</td>\n",
       "      <td>0</td>\n",
       "      <td>1</td>\n",
       "      <td>0</td>\n",
       "      <td>0</td>\n",
       "      <td>0</td>\n",
       "      <td>1</td>\n",
       "    </tr>\n",
       "    <tr>\n",
       "      <th>3</th>\n",
       "      <td>1</td>\n",
       "      <td>0</td>\n",
       "      <td>29</td>\n",
       "      <td>0</td>\n",
       "      <td>1</td>\n",
       "      <td>0</td>\n",
       "      <td>0</td>\n",
       "      <td>0</td>\n",
       "      <td>0</td>\n",
       "      <td>1</td>\n",
       "    </tr>\n",
       "    <tr>\n",
       "      <th>4</th>\n",
       "      <td>0</td>\n",
       "      <td>1</td>\n",
       "      <td>28</td>\n",
       "      <td>0</td>\n",
       "      <td>0</td>\n",
       "      <td>1</td>\n",
       "      <td>0</td>\n",
       "      <td>0</td>\n",
       "      <td>0</td>\n",
       "      <td>1</td>\n",
       "    </tr>\n",
       "  </tbody>\n",
       "</table>\n",
       "</div>"
      ],
      "text/plain": [
       "   smoker  smkban  age  hsdrop  hsgrad  colsome  colgrad  black  hispanic  \\\n",
       "0       1       1   41       0       1        0        0      0         0   \n",
       "1       1       1   44       0       0        1        0      0         0   \n",
       "2       0       0   19       0       0        1        0      0         0   \n",
       "3       1       0   29       0       1        0        0      0         0   \n",
       "4       0       1   28       0       0        1        0      0         0   \n",
       "\n",
       "   female  \n",
       "0       1  \n",
       "1       1  \n",
       "2       1  \n",
       "3       1  \n",
       "4       1  "
      ]
     },
     "execution_count": 55,
     "metadata": {},
     "output_type": "execute_result"
    }
   ],
   "source": [
    "data.head()"
   ]
  },
  {
   "cell_type": "code",
   "execution_count": 56,
   "metadata": {
    "collapsed": false
   },
   "outputs": [
    {
     "data": {
      "text/html": [
       "<div>\n",
       "<table border=\"1\" class=\"dataframe\">\n",
       "  <thead>\n",
       "    <tr style=\"text-align: right;\">\n",
       "      <th></th>\n",
       "      <th>count</th>\n",
       "      <th>mean</th>\n",
       "      <th>std</th>\n",
       "      <th>min</th>\n",
       "      <th>25%</th>\n",
       "      <th>50%</th>\n",
       "      <th>75%</th>\n",
       "      <th>max</th>\n",
       "    </tr>\n",
       "  </thead>\n",
       "  <tbody>\n",
       "    <tr>\n",
       "      <th>smoker</th>\n",
       "      <td>10000</td>\n",
       "      <td>0.2423</td>\n",
       "      <td>0.428496</td>\n",
       "      <td>0</td>\n",
       "      <td>0</td>\n",
       "      <td>0</td>\n",
       "      <td>0</td>\n",
       "      <td>1</td>\n",
       "    </tr>\n",
       "    <tr>\n",
       "      <th>smkban</th>\n",
       "      <td>10000</td>\n",
       "      <td>0.6098</td>\n",
       "      <td>0.487819</td>\n",
       "      <td>0</td>\n",
       "      <td>0</td>\n",
       "      <td>1</td>\n",
       "      <td>1</td>\n",
       "      <td>1</td>\n",
       "    </tr>\n",
       "    <tr>\n",
       "      <th>age</th>\n",
       "      <td>10000</td>\n",
       "      <td>38.6932</td>\n",
       "      <td>12.113783</td>\n",
       "      <td>18</td>\n",
       "      <td>29</td>\n",
       "      <td>37</td>\n",
       "      <td>47</td>\n",
       "      <td>88</td>\n",
       "    </tr>\n",
       "    <tr>\n",
       "      <th>hsdrop</th>\n",
       "      <td>10000</td>\n",
       "      <td>0.0912</td>\n",
       "      <td>0.287908</td>\n",
       "      <td>0</td>\n",
       "      <td>0</td>\n",
       "      <td>0</td>\n",
       "      <td>0</td>\n",
       "      <td>1</td>\n",
       "    </tr>\n",
       "    <tr>\n",
       "      <th>hsgrad</th>\n",
       "      <td>10000</td>\n",
       "      <td>0.3266</td>\n",
       "      <td>0.468993</td>\n",
       "      <td>0</td>\n",
       "      <td>0</td>\n",
       "      <td>0</td>\n",
       "      <td>1</td>\n",
       "      <td>1</td>\n",
       "    </tr>\n",
       "    <tr>\n",
       "      <th>colsome</th>\n",
       "      <td>10000</td>\n",
       "      <td>0.2802</td>\n",
       "      <td>0.449119</td>\n",
       "      <td>0</td>\n",
       "      <td>0</td>\n",
       "      <td>0</td>\n",
       "      <td>1</td>\n",
       "      <td>1</td>\n",
       "    </tr>\n",
       "    <tr>\n",
       "      <th>colgrad</th>\n",
       "      <td>10000</td>\n",
       "      <td>0.1972</td>\n",
       "      <td>0.397905</td>\n",
       "      <td>0</td>\n",
       "      <td>0</td>\n",
       "      <td>0</td>\n",
       "      <td>0</td>\n",
       "      <td>1</td>\n",
       "    </tr>\n",
       "    <tr>\n",
       "      <th>black</th>\n",
       "      <td>10000</td>\n",
       "      <td>0.0769</td>\n",
       "      <td>0.266446</td>\n",
       "      <td>0</td>\n",
       "      <td>0</td>\n",
       "      <td>0</td>\n",
       "      <td>0</td>\n",
       "      <td>1</td>\n",
       "    </tr>\n",
       "    <tr>\n",
       "      <th>hispanic</th>\n",
       "      <td>10000</td>\n",
       "      <td>0.1134</td>\n",
       "      <td>0.317097</td>\n",
       "      <td>0</td>\n",
       "      <td>0</td>\n",
       "      <td>0</td>\n",
       "      <td>0</td>\n",
       "      <td>1</td>\n",
       "    </tr>\n",
       "    <tr>\n",
       "      <th>female</th>\n",
       "      <td>10000</td>\n",
       "      <td>0.5637</td>\n",
       "      <td>0.495951</td>\n",
       "      <td>0</td>\n",
       "      <td>0</td>\n",
       "      <td>1</td>\n",
       "      <td>1</td>\n",
       "      <td>1</td>\n",
       "    </tr>\n",
       "  </tbody>\n",
       "</table>\n",
       "</div>"
      ],
      "text/plain": [
       "          count     mean        std  min  25%  50%  75%  max\n",
       "smoker    10000   0.2423   0.428496    0    0    0    0    1\n",
       "smkban    10000   0.6098   0.487819    0    0    1    1    1\n",
       "age       10000  38.6932  12.113783   18   29   37   47   88\n",
       "hsdrop    10000   0.0912   0.287908    0    0    0    0    1\n",
       "hsgrad    10000   0.3266   0.468993    0    0    0    1    1\n",
       "colsome   10000   0.2802   0.449119    0    0    0    1    1\n",
       "colgrad   10000   0.1972   0.397905    0    0    0    0    1\n",
       "black     10000   0.0769   0.266446    0    0    0    0    1\n",
       "hispanic  10000   0.1134   0.317097    0    0    0    0    1\n",
       "female    10000   0.5637   0.495951    0    0    1    1    1"
      ]
     },
     "execution_count": 56,
     "metadata": {},
     "output_type": "execute_result"
    }
   ],
   "source": [
    "data.describe().T"
   ]
  },
  {
   "cell_type": "code",
   "execution_count": 57,
   "metadata": {
    "collapsed": false
   },
   "outputs": [
    {
     "data": {
      "text/markdown": [
       "$P_{0.25} = 29.000$<br>$P_{0.50} = 37.000$<br>$P_{0.75} = 47.000$<br>Moda = 34.000"
      ],
      "text/plain": [
       "<IPython.core.display.Markdown object>"
      ]
     },
     "execution_count": 57,
     "metadata": {},
     "output_type": "execute_result"
    }
   ],
   "source": [
    "txt = '''$P_{0.25} = %.3f$<br>$P_{0.50} = %.3f$<br>$P_{0.75} = %.3f$<br>Moda = %.3f'''\n",
    "Markdown(txt % (data.age.quantile(0.25), data.age.quantile(0.5), data.age.quantile(0.75),data.age.mode()))"
   ]
  },
  {
   "cell_type": "markdown",
   "metadata": {},
   "source": [
    "## HISTOGRAMA"
   ]
  },
  {
   "cell_type": "code",
   "execution_count": 58,
   "metadata": {
    "collapsed": false,
    "scrolled": true
   },
   "outputs": [
    {
     "data": {
      "image/png": "[encoded data removed]",
      "text/plain": [
       "<matplotlib.figure.Figure at 0x112b05710>"
      ]
     },
     "metadata": {},
     "output_type": "display_data"
    }
   ],
   "source": [
    "sns.distplot(data.age, rug=False, fit=sns.stats.norm, color='Indianred', bins=10)\n",
    "sns.despine()"
   ]
  },
  {
   "cell_type": "markdown",
   "metadata": {},
   "source": [
    "El histograma nos informan de la distrubución que sigue la variable edad. Se puede ver que se aproxima muy bien a una distribución normal. Presente una asimetría hacia la izquierda. El valor mas frecuente es 34 años, el 25% de los individuos no superan los 29 años, el 50% de los individuos tienen más de 37 años, y el 25% de los individuos que más años tienen superan los 47 años de edad."
   ]
  },
  {
   "cell_type": "markdown",
   "metadata": {},
   "source": [
    "## DISTRIBUCIÓN DE FRECUENCIAS"
   ]
  },
  {
   "cell_type": "code",
   "execution_count": 59,
   "metadata": {
    "collapsed": false
   },
   "outputs": [],
   "source": [
    "prob = dict()\n",
    "for c in data.columns:\n",
    "    if c == 'age': continue\n",
    "    p = data[data[c] == 1][c].count() / data[c].count()\n",
    "    prob[c] = p"
   ]
  },
  {
   "cell_type": "code",
   "execution_count": 60,
   "metadata": {
    "collapsed": false
   },
   "outputs": [
    {
     "data": {
      "text/plain": [
       "<matplotlib.text.Text at 0x112b028d0>"
      ]
     },
     "execution_count": 60,
     "metadata": {},
     "output_type": "execute_result"
    },
    {
     "data": {
      "image/png": "[encoded data removed]",
      "text/plain": [
       "<matplotlib.figure.Figure at 0x113d4e3c8>"
      ]
     },
     "metadata": {},
     "output_type": "display_data"
    }
   ],
   "source": [
    "df = pd.DataFrame.from_dict(prob, orient='index').sort_values(by=0)\n",
    "df.plot(kind='bar', color='Indianred', legend=False)\n",
    "\n",
    "for i,p in enumerate(df.values):\n",
    "    text(x=i-0.3, y=p[0]+0.02, s='%.3f'% p[0], rotation=0, fontsize=12)\n",
    "sns.despine(left=True)\n",
    "yticks([])\n",
    "suptitle('PROBABILIDAD', fontsize=15)"
   ]
  },
  {
   "cell_type": "markdown",
   "metadata": {},
   "source": [
    "El gráfico muestra la probabilidad de que cada variable sea 1 independientemente del resto."
   ]
  },
  {
   "cell_type": "code",
   "execution_count": 61,
   "metadata": {
    "collapsed": false
   },
   "outputs": [
    {
     "name": "stdout",
     "output_type": "stream",
     "text": [
      "                            OLS Regression Results                            \n",
      "==============================================================================\n",
      "Dep. Variable:                 smoker   R-squared:                       0.008\n",
      "Model:                            OLS   Adj. R-squared:                  0.008\n",
      "Method:                 Least Squares   F-statistic:                     75.06\n",
      "Date:                Tue, 29 Dec 2015   Prob (F-statistic):           5.27e-18\n",
      "Time:                        08:36:08   Log-Likelihood:                -5675.0\n",
      "No. Observations:               10000   AIC:                         1.135e+04\n",
      "Df Residuals:                    9998   BIC:                         1.137e+04\n",
      "Df Model:                           1                                         \n",
      "Covariance Type:                  HC1                                         \n",
      "==============================================================================\n",
      "                 coef    std err          t      P>|t|      [95.0% Conf. Int.]\n",
      "------------------------------------------------------------------------------\n",
      "Intercept      0.2896      0.007     39.879      0.000         0.275     0.304\n",
      "smkban        -0.0776      0.009     -8.664      0.000        -0.095    -0.060\n",
      "==============================================================================\n",
      "Omnibus:                     1765.260   Durbin-Watson:                   1.851\n",
      "Prob(Omnibus):                  0.000   Jarque-Bera (JB):             2479.745\n",
      "Skew:                           1.189   Prob(JB):                         0.00\n",
      "Kurtosis:                       2.458   Cond. No.                         2.96\n",
      "==============================================================================\n",
      "\n",
      "Warnings:\n",
      "[1] Standard Errors are heteroscedasticity robust (HC1)\n"
     ]
    }
   ],
   "source": [
    "formula = 'smoker ~ smkban'\n",
    "m1 = ols(formula, data).fit()\n",
    "m1 = m1.get_robustcov_results()\n",
    "print(m1.summary())"
   ]
  },
  {
   "cell_type": "code",
   "execution_count": 62,
   "metadata": {
    "collapsed": false
   },
   "outputs": [
    {
     "data": {
      "text/html": [
       "<table class=\"simpletable\">\n",
       "<tr>\n",
       "      <td></td>         <th>coef</th>     <th>std err</th>      <th>t</th>      <th>P>|t|</th> <th>[95.0% Conf. Int.]</th> \n",
       "</tr>\n",
       "<tr>\n",
       "  <th>Intercept</th> <td>    0.2896</td> <td>    0.007</td> <td>   39.879</td> <td> 0.000</td> <td>    0.275     0.304</td>\n",
       "</tr>\n",
       "<tr>\n",
       "  <th>smkban</th>    <td>   -0.0776</td> <td>    0.009</td> <td>   -8.664</td> <td> 0.000</td> <td>   -0.095    -0.060</td>\n",
       "</tr>\n",
       "</table>"
      ],
      "text/plain": [
       "<class 'statsmodels.iolib.table.SimpleTable'>"
      ]
     },
     "execution_count": 62,
     "metadata": {},
     "output_type": "execute_result"
    }
   ],
   "source": [
    "m1.summary().tables[1]"
   ]
  },
  {
   "cell_type": "markdown",
   "metadata": {},
   "source": [
    "En este caso el término independiente es la probabilidad de la variable endógena y el parámetro que acompaña a la exógena es el incremento de probabilidad cuando dicha variable toma el valor 1.\n",
    "\n",
    "Por tanto la probabilidad de fumar para todos los inviduos es de 0.29.\n",
    "La probabilidad de fumar para individuos que tienen prohibido fumar en el puesto de trabajo se reduce en 0.078.\n",
    "\n",
    "Ambos parámetros significativos."
   ]
  },
  {
   "cell_type": "markdown",
   "metadata": {},
   "source": [
    "### (i) La probabilidad de __fumar para todos__ los trabajadores: $\\hat{\\beta}_0$"
   ]
  },
  {
   "cell_type": "code",
   "execution_count": 63,
   "metadata": {
    "collapsed": false
   },
   "outputs": [
    {
     "name": "stdout",
     "output_type": "stream",
     "text": [
      "[ 0.29   0.007]\n"
     ]
    }
   ],
   "source": [
    "print(np.round((m1.params[0], m1.bse[0]), 3))"
   ]
  },
  {
   "cell_type": "markdown",
   "metadata": {},
   "source": [
    "### (ii) La probabilidad de __fumar para__ los trabajadores __afectados por la prohibición__ de fumar en el trabajo: $\\hat{\\beta}_0 + \\hat{\\beta}_1$"
   ]
  },
  {
   "cell_type": "code",
   "execution_count": 64,
   "metadata": {
    "collapsed": false
   },
   "outputs": [
    {
     "name": "stdout",
     "output_type": "stream",
     "text": [
      "[ 0.212  0.009]\n"
     ]
    }
   ],
   "source": [
    "se = np.sqrt(m1.cov_params()[0][0] + m1.cov_params()[0][1] + m1.cov_params()[1][1])\n",
    "print(np.round((m1.params.sum(), se), 3))"
   ]
  },
  {
   "cell_type": "markdown",
   "metadata": {
    "collapsed": false
   },
   "source": [
    "### (iii) La probabilidad de __fumar para__ los trabajadores que pueden fumar en su __puesto de trabajo__: $1- \\hat{\\beta}_1$"
   ]
  },
  {
   "cell_type": "code",
   "execution_count": 65,
   "metadata": {
    "collapsed": false
   },
   "outputs": [
    {
     "name": "stdout",
     "output_type": "stream",
     "text": [
      "[ 1.078  0.009]\n"
     ]
    }
   ],
   "source": [
    "print(np.round((1 - m1.params[1], m1.bse[1]), 3))"
   ]
  },
  {
   "cell_type": "markdown",
   "metadata": {},
   "source": [
    "### ¿cuál es la diferencia en la probabilidad de fumar entre los trabajadores afectados por la prohibición de fumar en el trabajo y los que no están afectados por dicha prohibición?\n",
    "\n",
    "Dicha diferencia viene dada por el parámetro estimado $\\hat{\\beta}_1$"
   ]
  },
  {
   "cell_type": "code",
   "execution_count": 66,
   "metadata": {
    "collapsed": false
   },
   "outputs": [
    {
     "data": {
      "text/plain": [
       "-0.078"
      ]
     },
     "execution_count": 66,
     "metadata": {},
     "output_type": "execute_result"
    }
   ],
   "source": [
    "m1.params[1]"
   ]
  },
  {
   "cell_type": "markdown",
   "metadata": {},
   "source": [
    "### ¿Es estadísticamente significativa esa diferencia?\n",
    "\n",
    "La significancia nos la proporciona el t-ratio y el pvalue."
   ]
  },
  {
   "cell_type": "code",
   "execution_count": 67,
   "metadata": {
    "collapsed": false
   },
   "outputs": [
    {
     "data": {
      "text/plain": [
       "0.000"
      ]
     },
     "execution_count": 67,
     "metadata": {},
     "output_type": "execute_result"
    }
   ],
   "source": [
    "m1.pvalues[1]"
   ]
  },
  {
   "cell_type": "markdown",
   "metadata": {},
   "source": [
    "# b) \n",
    "En segundo lugar, vamos a __estimar__ un Modelo de __Probabilidad Lineal__ entre la variable __smoker__ y las explicativas siguientes: __smkban, age, age2, hsdrop, hsgrad, colsome, colgrad, black, hispanic y female__. "
   ]
  },
  {
   "cell_type": "code",
   "execution_count": 68,
   "metadata": {
    "collapsed": false
   },
   "outputs": [
    {
     "name": "stdout",
     "output_type": "stream",
     "text": [
      "                            OLS Regression Results                            \n",
      "==============================================================================\n",
      "Dep. Variable:                 smoker   R-squared:                       0.057\n",
      "Model:                            OLS   Adj. R-squared:                  0.056\n",
      "Method:                 Least Squares   F-statistic:                     68.75\n",
      "Date:                Tue, 29 Dec 2015   Prob (F-statistic):          1.92e-136\n",
      "Time:                        08:36:08   Log-Likelihood:                -5420.7\n",
      "No. Observations:               10000   AIC:                         1.086e+04\n",
      "Df Residuals:                    9989   BIC:                         1.094e+04\n",
      "Df Model:                          10                                         \n",
      "Covariance Type:                  HC1                                         \n",
      "====================================================================================\n",
      "                       coef    std err          t      P>|t|      [95.0% Conf. Int.]\n",
      "------------------------------------------------------------------------------------\n",
      "Intercept           -0.0141      0.041     -0.341      0.733        -0.095     0.067\n",
      "smkban              -0.0472      0.009     -5.269      0.000        -0.065    -0.030\n",
      "age                  0.0097      0.002      5.104      0.000         0.006     0.013\n",
      "np.power(age, 2)    -0.0001   2.19e-05     -6.017      0.000        -0.000 -8.89e-05\n",
      "hsdrop               0.3227      0.019     16.559      0.000         0.285     0.361\n",
      "hsgrad               0.2327      0.013     18.483      0.000         0.208     0.257\n",
      "colsome              0.1643      0.013     13.014      0.000         0.140     0.189\n",
      "colgrad              0.0448      0.012      3.720      0.000         0.021     0.068\n",
      "black               -0.0276      0.016     -1.714      0.086        -0.059     0.004\n",
      "hispanic            -0.1048      0.014     -7.500      0.000        -0.132    -0.077\n",
      "female              -0.0333      0.009     -3.881      0.000        -0.050    -0.016\n",
      "==============================================================================\n",
      "Omnibus:                     1557.853   Durbin-Watson:                   1.875\n",
      "Prob(Omnibus):                  0.000   Jarque-Bera (JB):             2100.981\n",
      "Skew:                           1.093   Prob(JB):                         0.00\n",
      "Kurtosis:                       2.486   Cond. No.                     2.11e+04\n",
      "==============================================================================\n",
      "\n",
      "Warnings:\n",
      "[1] Standard Errors are heteroscedasticity robust (HC1)\n",
      "[2] The condition number is large, 2.11e+04. This might indicate that there are\n",
      "strong multicollinearity or other numerical problems.\n"
     ]
    }
   ],
   "source": [
    "formula2 = 'smoker ~ smkban + age + np.power(age, 2) + hsdrop +  hsgrad + colsome + colgrad + black + hispanic + female'\n",
    "m2 = ols(formula2, data).fit()\n",
    "m2 = m2.get_robustcov_results()\n",
    "print(m2.summary())"
   ]
  },
  {
   "cell_type": "code",
   "execution_count": 124,
   "metadata": {
    "collapsed": false
   },
   "outputs": [
    {
     "data": {
      "text/html": [
       "<table class=\"simpletable\">\n",
       "<tr>\n",
       "          <td></td>            <th>coef</th>     <th>std err</th>      <th>t</th>      <th>P>|t|</th> <th>[95.0% Conf. Int.]</th> \n",
       "</tr>\n",
       "<tr>\n",
       "  <th>Intercept</th>        <td>   -0.0141</td> <td>    0.041</td> <td>   -0.341</td> <td> 0.733</td> <td>   -0.095     0.067</td>\n",
       "</tr>\n",
       "<tr>\n",
       "  <th>smkban</th>           <td>   -0.0472</td> <td>    0.009</td> <td>   -5.269</td> <td> 0.000</td> <td>   -0.065    -0.030</td>\n",
       "</tr>\n",
       "<tr>\n",
       "  <th>age</th>              <td>    0.0097</td> <td>    0.002</td> <td>    5.104</td> <td> 0.000</td> <td>    0.006     0.013</td>\n",
       "</tr>\n",
       "<tr>\n",
       "  <th>np.power(age, 2)</th> <td>   -0.0001</td> <td> 2.19e-05</td> <td>   -6.017</td> <td> 0.000</td> <td>   -0.000 -8.89e-05</td>\n",
       "</tr>\n",
       "<tr>\n",
       "  <th>hsdrop</th>           <td>    0.3227</td> <td>    0.019</td> <td>   16.559</td> <td> 0.000</td> <td>    0.285     0.361</td>\n",
       "</tr>\n",
       "<tr>\n",
       "  <th>hsgrad</th>           <td>    0.2327</td> <td>    0.013</td> <td>   18.483</td> <td> 0.000</td> <td>    0.208     0.257</td>\n",
       "</tr>\n",
       "<tr>\n",
       "  <th>colsome</th>          <td>    0.1643</td> <td>    0.013</td> <td>   13.014</td> <td> 0.000</td> <td>    0.140     0.189</td>\n",
       "</tr>\n",
       "<tr>\n",
       "  <th>colgrad</th>          <td>    0.0448</td> <td>    0.012</td> <td>    3.720</td> <td> 0.000</td> <td>    0.021     0.068</td>\n",
       "</tr>\n",
       "<tr>\n",
       "  <th>black</th>            <td>   -0.0276</td> <td>    0.016</td> <td>   -1.714</td> <td> 0.086</td> <td>   -0.059     0.004</td>\n",
       "</tr>\n",
       "<tr>\n",
       "  <th>hispanic</th>         <td>   -0.1048</td> <td>    0.014</td> <td>   -7.500</td> <td> 0.000</td> <td>   -0.132    -0.077</td>\n",
       "</tr>\n",
       "<tr>\n",
       "  <th>female</th>           <td>   -0.0333</td> <td>    0.009</td> <td>   -3.881</td> <td> 0.000</td> <td>   -0.050    -0.016</td>\n",
       "</tr>\n",
       "</table>"
      ],
      "text/plain": [
       "<class 'statsmodels.iolib.table.SimpleTable'>"
      ]
     },
     "execution_count": 124,
     "metadata": {},
     "output_type": "execute_result"
    }
   ],
   "source": [
    "m2.summary().tables[1]"
   ]
  },
  {
   "cell_type": "code",
   "execution_count": 194,
   "metadata": {
    "collapsed": false
   },
   "outputs": [
    {
     "data": {
      "text/plain": [
       "smoker       0\n",
       "smkban       0\n",
       "age         33\n",
       "hsdrop       0\n",
       "hsgrad       0\n",
       "colsome      1\n",
       "colgrad      0\n",
       "black        0\n",
       "hispanic     0\n",
       "female       1\n",
       "Name: 10, dtype: int64"
      ]
     },
     "execution_count": 194,
     "metadata": {},
     "output_type": "execute_result"
    }
   ],
   "source": [
    "pred = data.loc[10].copy()\n",
    "pred"
   ]
  },
  {
   "cell_type": "code",
   "execution_count": 195,
   "metadata": {
    "collapsed": false
   },
   "outputs": [
    {
     "data": {
      "text/plain": [
       "array([ 0.293])"
      ]
     },
     "execution_count": 195,
     "metadata": {},
     "output_type": "execute_result"
    }
   ],
   "source": [
    "m2.predict(pred)"
   ]
  },
  {
   "cell_type": "markdown",
   "metadata": {},
   "source": [
    "## ¿Qué tipo de __preguntas__ pueden formularse con esta nueva __especificación__? \n",
    "Formular tres preguntas y tratar de responderlas a partir del modelo estimado."
   ]
  },
  {
   "cell_type": "markdown",
   "metadata": {},
   "source": [
    "Pueden formularse dos tipos de preguntas una es por el efecto marginal de una variable o por el efecto total para el que hay que definir el estado de todas las variables involucradas."
   ]
  },
  {
   "cell_type": "markdown",
   "metadata": {},
   "source": [
    "### ¿Cúal es la probabilidad de fumar para una mujer de 33 años, con bachillerato, que no tiene prohibido fumar en el trabajo, no es hispana y no es negra?: "
   ]
  },
  {
   "cell_type": "markdown",
   "metadata": {},
   "source": [
    "$$P\\{\\text{smoker}=1\\ |\\ \\text{age}=33, \\text{female} = 1, \\text{colsome} = 1\\} = \\hat{\\beta}_0 + \\hat{\\beta}_2  · \\text{age}+ \\hat{\\beta}_3 · \\text{age}^2 +\\hat{\\beta}_6 + \\hat{\\beta}_{10}$$"
   ]
  },
  {
   "cell_type": "code",
   "execution_count": 167,
   "metadata": {
    "collapsed": false
   },
   "outputs": [
    {
     "data": {
      "text/plain": [
       "array([-0.014,  0.319, -0.144,  0.164, -0.033])"
      ]
     },
     "execution_count": 167,
     "metadata": {},
     "output_type": "execute_result"
    }
   ],
   "source": [
    "np.round((m2.params[0], m2.params[2] * 33, m2.params[3]*(33 ** 2), m2.params[6], m2.params[-1]), 3)"
   ]
  },
  {
   "cell_type": "code",
   "execution_count": 168,
   "metadata": {
    "collapsed": false
   },
   "outputs": [
    {
     "data": {
      "text/plain": [
       "0.292"
      ]
     },
     "execution_count": 168,
     "metadata": {},
     "output_type": "execute_result"
    }
   ],
   "source": [
    "sum(_)"
   ]
  },
  {
   "cell_type": "code",
   "execution_count": 218,
   "metadata": {
    "collapsed": false
   },
   "outputs": [
    {
     "data": {
      "text/plain": [
       "array([ 0.293])"
      ]
     },
     "execution_count": 218,
     "metadata": {},
     "output_type": "execute_result"
    }
   ],
   "source": [
    "m2.predict(pred)"
   ]
  },
  {
   "cell_type": "code",
   "execution_count": 227,
   "metadata": {
    "collapsed": false
   },
   "outputs": [
    {
     "data": {
      "text/markdown": [
       "La __probabilidad__ de fumar para esta mujer blanca de 33 años, es de 29.27%"
      ],
      "text/plain": [
       "<IPython.core.display.Markdown object>"
      ]
     },
     "execution_count": 227,
     "metadata": {},
     "output_type": "execute_result"
    }
   ],
   "source": [
    "txt = '''La __probabilidad__ de fumar para esta mujer blanca de 33 años, es de {:.2%}'''\n",
    "Markdown(txt.format(m2.predict(pred)[0]))"
   ]
  },
  {
   "cell_type": "markdown",
   "metadata": {},
   "source": [
    "### ¿Cúal es la probabilidad de fumar para una mujer de 32 años, con bachillerato, que no tiene prohibido fumar en el trabajo, no es hispana, no es negra?: "
   ]
  },
  {
   "cell_type": "code",
   "execution_count": 228,
   "metadata": {
    "collapsed": false
   },
   "outputs": [],
   "source": [
    "pred['age'] = 32"
   ]
  },
  {
   "cell_type": "code",
   "execution_count": 229,
   "metadata": {
    "collapsed": false
   },
   "outputs": [
    {
     "data": {
      "text/markdown": [
       "La __probabilidad__ de fumar para esta mujer blanca de 33 años, es de 29.15%"
      ],
      "text/plain": [
       "<IPython.core.display.Markdown object>"
      ]
     },
     "execution_count": 229,
     "metadata": {},
     "output_type": "execute_result"
    }
   ],
   "source": [
    "txt = '''La __probabilidad__ de fumar para esta mujer blanca de 33 años, es de {:.2%}'''\n",
    "Markdown(txt.format(m2.predict(pred)[0]))"
   ]
  },
  {
   "cell_type": "markdown",
   "metadata": {},
   "source": [
    "### ¿Cúal es la diferencia en la probabilidad de fumar entre esas mujeres? "
   ]
  },
  {
   "cell_type": "code",
   "execution_count": 238,
   "metadata": {
    "collapsed": false
   },
   "outputs": [
    {
     "data": {
      "text/markdown": [
       "La diferencia en la __probabilidad__ de fumar en estas mujeres (efecto marginal de la edad) es de 0.11%.\n",
       "Esto significa que el efecto marginal de la edad es de 0.11%."
      ],
      "text/plain": [
       "<IPython.core.display.Markdown object>"
      ]
     },
     "execution_count": 238,
     "metadata": {},
     "output_type": "execute_result"
    }
   ],
   "source": [
    "res = ((_148 - _174))\n",
    "txt = '''La diferencia en la __probabilidad__ de fumar en estas mujeres (efecto marginal de la edad) es de {0:.2%}.\n",
    "Esto significa que el efecto marginal de la edad es de {0:.2%}.'''\n",
    "Markdown(txt.format(res[0]))"
   ]
  },
  {
   "cell_type": "markdown",
   "metadata": {},
   "source": [
    "### Además, podemos preguntarnos si la __probabilidad de fumar depende__ o no del nivel de __educación__, para ello podemos hacer un contraste de significatividad conjunta de las variables educativas. ¿La probabilidad de fumar aumenta o disminuye con el nivel educativo?"
   ]
  },
  {
   "cell_type": "code",
   "execution_count": 275,
   "metadata": {
    "collapsed": false
   },
   "outputs": [
    {
     "data": {
      "text/markdown": [
       "### F Test\n",
       "$H_0$: Parámetros( hsdrop = hsgrad = colsome = colgrad = 0 )\n",
       "\n",
       "F: 140.090 (1.0846809960258138e-116)"
      ],
      "text/plain": [
       "<IPython.core.display.Markdown object>"
      ]
     },
     "execution_count": 275,
     "metadata": {},
     "output_type": "execute_result"
    }
   ],
   "source": [
    "h0 = 'hsdrop = hsgrad = colsome = colgrad = 0'\n",
    "t = m2.f_test(h0)\n",
    "txt_t = '''### F Test\n",
    "$H_0$: Parámetros( {h0} )\n",
    "\n",
    "F: {t.fvalue[0][0]:.3f} ({t.pvalue})'''\n",
    "\n",
    "Markdown(txt_t.format(t=t, h0=h0))"
   ]
  },
  {
   "cell_type": "markdown",
   "metadata": {},
   "source": [
    "No podemos aceptar la hipótesis nula de significatividad conjunta. Hay evidencia por tanto para pensar que la probabilidad de fumar es independiente del nivel educativo."
   ]
  },
  {
   "cell_type": "markdown",
   "metadata": {},
   "source": [
    "### ¿Cuál sería la __probabilidad de que fumara un niño de 1 año__, independientemente del resto de variables consideradas? \n",
    "\n",
    "$$P\\{y=1|\\text{age}=1\\} = \\hat{\\beta}_0 + \\hat{\\beta}_2·\\text{age} + \\hat{\\beta}_3 · \\text{age}^2$$"
   ]
  },
  {
   "cell_type": "code",
   "execution_count": 278,
   "metadata": {
    "collapsed": false
   },
   "outputs": [
    {
     "data": {
      "text/markdown": [
       "La probabilidad de fumar para un niño de 1 año es -0.46%, lo cual no tiene sentido dado que no existen probabilidades negativas."
      ],
      "text/plain": [
       "<IPython.core.display.Markdown object>"
      ]
     },
     "execution_count": 278,
     "metadata": {},
     "output_type": "execute_result"
    }
   ],
   "source": [
    "txt = 'La probabilidad de fumar para un niño de 1 año es {0:.2%}, lo cual no tiene sentido dado que no existen probabilidades negativas.'\n",
    "Markdown(txt.format(m2.params[0] + m2.params[2] + m2.params[3]))"
   ]
  },
  {
   "cell_type": "markdown",
   "metadata": {},
   "source": [
    "Sin embargo la edad esta fuera del rango estimado en las variables por lo que no es correcta la estimación."
   ]
  },
  {
   "cell_type": "markdown",
   "metadata": {},
   "source": [
    "# c)\n",
    "Estimar un modelo __Probit y otro Logit__ con las variables del apartado a), __comentar las diferencias__ observadas con la estimación del Modelo de Probabilidad Lineal. \n",
    "\n",
    "Calcular en cada caso la __probabilidad de fumar según si los trabajadores tienen prohibido fumar en el trabajo.__\n",
    "\n",
    "_Notar que cuando Gretl estima un modelo Probit, en la ventana de resultados aparece una columna que llama z, ese valor que pone Gretl es el equivalente al t-ratio habitual y no debe confundirse con el “valor-z” de la distribución Normal acumulada, que es el que hay que calcular para obtener la probabilidad de que ocurra el suceso de la variable endógena._"
   ]
  },
  {
   "cell_type": "code",
   "execution_count": 78,
   "metadata": {
    "collapsed": false
   },
   "outputs": [
    {
     "data": {
      "text/plain": [
       "'smoker ~ smkban'"
      ]
     },
     "execution_count": 78,
     "metadata": {},
     "output_type": "execute_result"
    }
   ],
   "source": [
    "formula"
   ]
  },
  {
   "cell_type": "code",
   "execution_count": 79,
   "metadata": {
    "collapsed": false
   },
   "outputs": [
    {
     "name": "stdout",
     "output_type": "stream",
     "text": [
      "Optimization terminated successfully.\n",
      "         Current function value: 0.549867\n",
      "         Iterations 5\n"
     ]
    }
   ],
   "source": [
    "mc_probit = probit(formula, data).fit()"
   ]
  },
  {
   "cell_type": "markdown",
   "metadata": {},
   "source": [
    "### PROBIT"
   ]
  },
  {
   "cell_type": "code",
   "execution_count": 80,
   "metadata": {
    "collapsed": false
   },
   "outputs": [
    {
     "name": "stdout",
     "output_type": "stream",
     "text": [
      "                          Probit Regression Results                           \n",
      "==============================================================================\n",
      "Dep. Variable:                 smoker   No. Observations:                10000\n",
      "Model:                         Probit   Df Residuals:                     9998\n",
      "Method:                           MLE   Df Model:                            1\n",
      "Date:                Tue, 29 Dec 2015   Pseudo R-squ.:                0.006953\n",
      "Time:                        08:36:08   Log-Likelihood:                -5498.7\n",
      "converged:                       True   LL-Null:                       -5537.2\n",
      "                                        LLR p-value:                 1.711e-18\n",
      "==============================================================================\n",
      "                 coef    std err          z      P>|z|      [95.0% Conf. Int.]\n",
      "------------------------------------------------------------------------------\n",
      "Intercept     -0.5546      0.021    -26.126      0.000        -0.596    -0.513\n",
      "smkban        -0.2448      0.028     -8.784      0.000        -0.299    -0.190\n",
      "==============================================================================\n"
     ]
    }
   ],
   "source": [
    "print(mc_probit.summary())"
   ]
  },
  {
   "cell_type": "code",
   "execution_count": 329,
   "metadata": {
    "collapsed": false
   },
   "outputs": [
    {
     "data": {
      "text/plain": [
       "0.212"
      ]
     },
     "execution_count": 329,
     "metadata": {},
     "output_type": "execute_result"
    }
   ],
   "source": [
    "norm.cdf(mc_probit.params.sum())"
   ]
  },
  {
   "cell_type": "markdown",
   "metadata": {},
   "source": [
    "### LOGIT"
   ]
  },
  {
   "cell_type": "code",
   "execution_count": 83,
   "metadata": {
    "collapsed": false
   },
   "outputs": [
    {
     "name": "stdout",
     "output_type": "stream",
     "text": [
      "Optimization terminated successfully.\n",
      "         Current function value: 0.549867\n",
      "         Iterations 5\n",
      "                           Logit Regression Results                           \n",
      "==============================================================================\n",
      "Dep. Variable:                 smoker   No. Observations:                10000\n",
      "Model:                          Logit   Df Residuals:                     9998\n",
      "Method:                           MLE   Df Model:                            1\n",
      "Date:                Tue, 29 Dec 2015   Pseudo R-squ.:                0.006953\n",
      "Time:                        08:36:08   Log-Likelihood:                -5498.7\n",
      "converged:                       True   LL-Null:                       -5537.2\n",
      "                                        LLR p-value:                 1.711e-18\n",
      "==============================================================================\n",
      "                 coef    std err          z      P>|z|      [95.0% Conf. Int.]\n",
      "------------------------------------------------------------------------------\n",
      "Intercept     -0.8974      0.035    -25.425      0.000        -0.967    -0.828\n",
      "smkban        -0.4153      0.047     -8.801      0.000        -0.508    -0.323\n",
      "==============================================================================\n"
     ]
    }
   ],
   "source": [
    "mc_logit = logit(formula, data).fit()\n",
    "print(mc_logit.summary())"
   ]
  },
  {
   "cell_type": "code",
   "execution_count": 360,
   "metadata": {
    "collapsed": false
   },
   "outputs": [
    {
     "data": {
      "text/markdown": [
       "## PREDICCIÓN\n",
       "||MLP|LOGIT|PROBIT|\n",
       "|:--:|:--:|:--:|:--:|\n",
       "|__P{y=1 / smkban=1}__|0.21204|0.21204|0.21204|\n",
       "|__P{y=1 / smkban=0}__|0.28960|0.28960|0.28960|\n",
       "Los tres modelos predicen la misma probabilidad para los mismos escenarios dada la misma relación."
      ],
      "text/plain": [
       "<IPython.core.display.Markdown object>"
      ]
     },
     "execution_count": 360,
     "metadata": {},
     "output_type": "execute_result"
    }
   ],
   "source": [
    "predtor= {0:1, 'smkban':1}\n",
    "p1 = '__P{y=1 / smkban=1}__'\n",
    "preds = [m1.predict(predtor)[0], mc_logit.predict(predtor)[0], mc_probit.predict(predtor)[0]]\n",
    "\n",
    "predtor= {0:1, 'smkban':0}\n",
    "p2 = '__P{y=1 / smkban=0}__'\n",
    "preds2 = [m1.predict(predtor)[0], mc_logit.predict(predtor)[0], mc_probit.predict(predtor)[0]]\n",
    "\n",
    "names = ['MLP', 'LOGIT', 'PROBIT']\n",
    "\n",
    "txt = '## PREDICCIÓN\\n'\n",
    "txt += '||{names[0]}|{names[1]}|{names[2]}|\\n'\n",
    "txt += '|:--:|:--:|:--:|:--:|\\n'\n",
    "txt += '|{p1}|{preds[0]:.5f}|{preds[1]:.5f}|{preds[2]:.5f}|\\n'\n",
    "txt += '|{p2}|{preds2[0]:.5f}|{preds2[1]:.5f}|{preds2[2]:.5f}|\\n'\n",
    "txt += 'Los tres modelos predicen la misma probabilidad para los mismos escenarios dada la misma relación.'\n",
    "\n",
    "Markdown(txt.format(names=names, preds=preds, preds2=preds2, p1=p1, p2=p2))"
   ]
  },
  {
   "cell_type": "code",
   "execution_count": 348,
   "metadata": {
    "collapsed": false
   },
   "outputs": [
    {
     "data": {
      "text/markdown": [
       "### RESÚMEN DE LOS MODELOS\n",
       "|PARAMETROS|LOGIT|PROBIT|MLP|\n",
       "|:--:|:--:|:--:|:--:|\n",
       "|$\\hat{\\beta}_0$|-0.897|-0.555|0.290|\n",
       "|$\\hat{\\beta}_1$|-0.415|-0.245|-0.078|\n",
       "|$sbic$|11015.754|11015.754|11368.460|\n"
      ],
      "text/plain": [
       "<IPython.core.display.Markdown object>"
      ]
     },
     "execution_count": 348,
     "metadata": {},
     "output_type": "execute_result"
    }
   ],
   "source": [
    "names = [r'$\\hat{\\beta}_0$', r'$\\hat{\\beta}_1$', r'$sbic$']\n",
    "txt = '### RESÚMEN DE LOS MODELOS\\n'\n",
    "txt += '|PARAMETROS|LOGIT|PROBIT|MLP|\\n|:--:|:--:|:--:|:--:|\\n'\n",
    "values = [l0,p0,m1.params[0], l1, p1, m1.params[1], mc_logit.bic, mc_probit.bic, m1.bic]\n",
    "\n",
    "for i, e in enumerate(np.array(values).reshape(3,3)):\n",
    "    txt += '|{0}|{1:.3f}|{2:.3f}|{3:.3f}|\\n'.format(names[i], *e)\n",
    "Markdown(txt)"
   ]
  },
  {
   "cell_type": "markdown",
   "metadata": {},
   "source": [
    "# d) \n",
    "Usando un modelo Probit, responder a las 3 mismas preguntas que os formulasteis en el apartado b) y calcular también la probabilidad de que fume un niño de 1 año, independientemente del resto de variables consideradas y ver cómo cambia la respuesta usando el modelo Probit.\n"
   ]
  },
  {
   "cell_type": "code",
   "execution_count": 349,
   "metadata": {
    "collapsed": false
   },
   "outputs": [
    {
     "name": "stdout",
     "output_type": "stream",
     "text": [
      "Optimization terminated successfully.\n",
      "         Current function value: 0.523587\n",
      "         Iterations 6\n"
     ]
    }
   ],
   "source": [
    "md = probit(formula2, data).fit()"
   ]
  },
  {
   "cell_type": "code",
   "execution_count": 90,
   "metadata": {
    "collapsed": false
   },
   "outputs": [
    {
     "name": "stdout",
     "output_type": "stream",
     "text": [
      "                          Probit Regression Results                           \n",
      "==============================================================================\n",
      "Dep. Variable:                 smoker   No. Observations:                10000\n",
      "Model:                         Probit   Df Residuals:                     9989\n",
      "Method:                           MLE   Df Model:                           10\n",
      "Date:                Tue, 29 Dec 2015   Pseudo R-squ.:                 0.05441\n",
      "Time:                        08:36:08   Log-Likelihood:                -5235.9\n",
      "converged:                       True   LL-Null:                       -5537.2\n",
      "                                        LLR p-value:                4.891e-123\n",
      "====================================================================================\n",
      "                       coef    std err          z      P>|z|      [95.0% Conf. Int.]\n",
      "------------------------------------------------------------------------------------\n",
      "Intercept           -1.7349      0.153    -11.370      0.000        -2.034    -1.436\n",
      "smkban              -0.1586      0.029     -5.471      0.000        -0.215    -0.102\n",
      "age                  0.0345      0.007      4.976      0.000         0.021     0.048\n",
      "np.power(age, 2)    -0.0005   8.28e-05     -5.645      0.000        -0.001    -0.000\n",
      "hsdrop               1.1416      0.072     15.846      0.000         1.000     1.283\n",
      "hsgrad               0.8827      0.060     14.766      0.000         0.766     1.000\n",
      "colsome              0.6771      0.061     11.112      0.000         0.558     0.797\n",
      "colgrad              0.2347      0.065      3.607      0.000         0.107     0.362\n",
      "black               -0.0843      0.053     -1.601      0.109        -0.187     0.019\n",
      "hispanic            -0.3383      0.048     -7.084      0.000        -0.432    -0.245\n",
      "female              -0.1117      0.029     -3.877      0.000        -0.168    -0.055\n",
      "====================================================================================\n"
     ]
    }
   ],
   "source": [
    "print(md.summary())"
   ]
  },
  {
   "cell_type": "code",
   "execution_count": 91,
   "metadata": {
    "collapsed": false
   },
   "outputs": [
    {
     "name": "stdout",
     "output_type": "stream",
     "text": [
      "       Probit Marginal Effects       \n",
      "=====================================\n",
      "Dep. Variable:                 smoker\n",
      "Method:                          dydx\n",
      "At:                           overall\n",
      "====================================================================================\n",
      "                      dy/dx    std err          z      P>|z|      [95.0% Conf. Int.]\n",
      "------------------------------------------------------------------------------------\n",
      "smkban              -0.0468      0.009     -5.493      0.000        -0.064    -0.030\n",
      "age                  0.0102      0.002      4.990      0.000         0.006     0.014\n",
      "np.power(age, 2)    -0.0001   2.44e-05     -5.666      0.000        -0.000 -9.03e-05\n",
      "hsdrop               0.3370      0.021     16.302      0.000         0.296     0.378\n",
      "hsgrad               0.2606      0.017     15.108      0.000         0.227     0.294\n",
      "colsome              0.1999      0.018     11.244      0.000         0.165     0.235\n",
      "colgrad              0.0693      0.019      3.611      0.000         0.032     0.107\n",
      "black               -0.0249      0.016     -1.601      0.109        -0.055     0.006\n",
      "hispanic            -0.0999      0.014     -7.124      0.000        -0.127    -0.072\n",
      "female              -0.0330      0.008     -3.884      0.000        -0.050    -0.016\n",
      "====================================================================================\n"
     ]
    }
   ],
   "source": [
    "print(md.get_margeff().summary())"
   ]
  },
  {
   "cell_type": "code",
   "execution_count": 123,
   "metadata": {
    "collapsed": false
   },
   "outputs": [
    {
     "data": {
      "text/markdown": [
       "|Parametros|MLP (B)| Probit (D)|\n",
       "|:--:|:--:|:--:|\n",
       "|$\\hat{\\beta}_{0}$ | -0.014 |-0.154|\n",
       "|$\\hat{\\beta}_{1}$ | -0.047 |-0.011|\n",
       "|$\\hat{\\beta}_{2}$ | 0.010 |0.003|\n",
       "|$\\hat{\\beta}_{3}$ | -0.000 |-0.000|\n",
       "|$\\hat{\\beta}_{4}$ | 0.323 |0.382|\n",
       "|$\\hat{\\beta}_{5}$ | 0.233 |0.245|\n",
       "|$\\hat{\\beta}_{6}$ | 0.164 |0.154|\n",
       "|$\\hat{\\beta}_{7}$ | 0.045 |0.030|\n",
       "|$\\hat{\\beta}_{8}$ | -0.028 |-0.006|\n",
       "|$\\hat{\\beta}_{9}$ | -0.105 |-0.016|\n",
       "|$\\hat{\\beta}_{10}$ | -0.033 |-0.008|\n"
      ],
      "text/plain": [
       "<IPython.core.display.Markdown object>"
      ]
     },
     "execution_count": 123,
     "metadata": {},
     "output_type": "execute_result"
    }
   ],
   "source": [
    "txt = '|Parametros|MLP (B)| Probit (D)|\\n|:--:|:--:|:--:|\\n'\n",
    "for i,p in enumerate(md.params):\n",
    "    if i == 0:\n",
    "            txt += '|$\\\\hat{\\\\beta}_{%s}$ | %.3f |%.3f|\\n' % (i, m2.params[i], norm.pdf(p) * p)\n",
    "            continue\n",
    "    txt += '|$\\\\hat{\\\\beta}_{%s}$ | %.3f |%.3f|\\n' % (i, m2.params[i], norm.pdf(md.params[0] + p) * p)\n",
    "Markdown(txt)"
   ]
  },
  {
   "cell_type": "code",
   "execution_count": 287,
   "metadata": {
    "collapsed": false
   },
   "outputs": [
    {
     "data": {
      "text/plain": [
       "smoker       0\n",
       "smkban       0\n",
       "age         33\n",
       "hsdrop       0\n",
       "hsgrad       0\n",
       "colsome      1\n",
       "colgrad      0\n",
       "black        0\n",
       "hispanic     0\n",
       "female       1\n",
       "Name: 10, dtype: int64"
      ]
     },
     "execution_count": 287,
     "metadata": {},
     "output_type": "execute_result"
    }
   ],
   "source": [
    "pred = data.loc[10].copy()\n",
    "pred"
   ]
  },
  {
   "cell_type": "markdown",
   "metadata": {},
   "source": [
    "### ¿Cúal es la probabilidad de fumar para una mujer de 33 años, con bachillerato, que no tiene prohibido fumar en el trabajo, no es hispana, no es negra?: "
   ]
  },
  {
   "cell_type": "markdown",
   "metadata": {},
   "source": [
    "$$P\\{\\text{smoker}=1\\ |\\ \\text{age}=33, \\text{female} = 1, , \\text{colsome} = 1\\} = F(\\hat{\\beta}_0 + \\hat{\\beta}_2  · \\text{age}+ \\hat{\\beta}_3 · \\text{age}^2 +\\hat{\\beta}_6 + \\hat{\\beta}_{10})$$"
   ]
  },
  {
   "cell_type": "code",
   "execution_count": 288,
   "metadata": {
    "collapsed": false
   },
   "outputs": [
    {
     "data": {
      "text/plain": [
       "0.295"
      ]
     },
     "execution_count": 288,
     "metadata": {},
     "output_type": "execute_result"
    }
   ],
   "source": [
    "norm.cdf(md.params[0] + md.params[2] * 33 + md.params[3] * (33 ** 2) + md.params[6] + md.params[10])"
   ]
  },
  {
   "cell_type": "code",
   "execution_count": 289,
   "metadata": {
    "collapsed": false
   },
   "outputs": [
    {
     "data": {
      "text/markdown": [
       "La __probabilidad__ de fumar para esta mujer blanca de 33 años, es de 29.47%"
      ],
      "text/plain": [
       "<IPython.core.display.Markdown object>"
      ]
     },
     "execution_count": 289,
     "metadata": {},
     "output_type": "execute_result"
    }
   ],
   "source": [
    "txt = '''La __probabilidad__ de fumar para esta mujer blanca de 33 años, es de {:.2%}'''\n",
    "Markdown(txt.format(md.predict(pred)[0]))"
   ]
  },
  {
   "cell_type": "markdown",
   "metadata": {},
   "source": [
    "### ¿Cúal es la probabilidad de fumar para una mujer de 32 años, con bachillerato, que no tiene prohibido fumar en el trabajo, no es hispana, no es negra?: "
   ]
  },
  {
   "cell_type": "code",
   "execution_count": 295,
   "metadata": {
    "collapsed": false
   },
   "outputs": [
    {
     "data": {
      "text/plain": [
       "array([ 0.293])"
      ]
     },
     "execution_count": 295,
     "metadata": {},
     "output_type": "execute_result"
    }
   ],
   "source": [
    "pred['age'] = 32\n",
    "md.predict(pred)"
   ]
  },
  {
   "cell_type": "code",
   "execution_count": 296,
   "metadata": {
    "collapsed": false
   },
   "outputs": [
    {
     "data": {
      "text/markdown": [
       "La __probabilidad__ de fumar para esta mujer blanca de 32 años, es de 29.32%"
      ],
      "text/plain": [
       "<IPython.core.display.Markdown object>"
      ]
     },
     "execution_count": 296,
     "metadata": {},
     "output_type": "execute_result"
    }
   ],
   "source": [
    "txt = '''La __probabilidad__ de fumar para esta mujer blanca de 32 años, es de {:.2%}'''\n",
    "Markdown(txt.format(md.predict(pred)[0]))"
   ]
  },
  {
   "cell_type": "markdown",
   "metadata": {},
   "source": [
    "### ¿Cúal es la diferencia en la probabilidad de fumar entre esas mujeres? "
   ]
  },
  {
   "cell_type": "code",
   "execution_count": 303,
   "metadata": {
    "collapsed": false
   },
   "outputs": [
    {
     "data": {
      "text/plain": [
       "array([ 0.001])"
      ]
     },
     "execution_count": 303,
     "metadata": {},
     "output_type": "execute_result"
    }
   ],
   "source": [
    "res = (_288 - _295)\n",
    "res"
   ]
  },
  {
   "cell_type": "code",
   "execution_count": 306,
   "metadata": {
    "collapsed": false
   },
   "outputs": [
    {
     "data": {
      "text/markdown": [
       "La diferencia en la __probabilidad__ de fumar en estas mujeres (efecto marginal de la edad) es de 0.14%.\n",
       "Esto significa que el efecto marginal de la edad es de 0.14%."
      ],
      "text/plain": [
       "<IPython.core.display.Markdown object>"
      ]
     },
     "execution_count": 306,
     "metadata": {},
     "output_type": "execute_result"
    }
   ],
   "source": [
    "txt = '''La diferencia en la __probabilidad__ de fumar en estas mujeres (efecto marginal de la edad) es de {0:.2%}.\n",
    "Esto significa que el efecto marginal de la edad es de {0:.2%}.'''\n",
    "\n",
    "Markdown(txt.format(res[0]))"
   ]
  },
  {
   "cell_type": "markdown",
   "metadata": {},
   "source": [
    "### Además, podemos preguntarnos si la __probabilidad de fumar depende__ o no del nivel de __educación__, para ello podemos hacer un contraste de significatividad conjunta de las variables educativas. ¿La probabilidad de fumar aumenta o disminuye con el nivel educativo?"
   ]
  },
  {
   "cell_type": "code",
   "execution_count": 307,
   "metadata": {
    "collapsed": false
   },
   "outputs": [
    {
     "name": "stdout",
     "output_type": "stream",
     "text": [
      "<F test: F=array([[ 116.226]]), p=4.732213059208521e-97, df_denom=9989, df_num=4>\n"
     ]
    }
   ],
   "source": [
    "print(md.f_test(h0))"
   ]
  },
  {
   "cell_type": "code",
   "execution_count": 325,
   "metadata": {
    "collapsed": false
   },
   "outputs": [
    {
     "data": {
      "text/markdown": [
       "### F Test\n",
       "$H_0$: $\\beta_4 = \\beta_5 = \\beta_6 = \\beta_7 = 0$\n",
       "\n",
       "F: 116.226 (4.732213059208521e-97)"
      ],
      "text/plain": [
       "<IPython.core.display.Markdown object>"
      ]
     },
     "execution_count": 325,
     "metadata": {},
     "output_type": "execute_result"
    }
   ],
   "source": [
    "h0 = 'hsdrop = hsgrad = colsome = colgrad = 0'\n",
    "t = md.f_test(h0)\n",
    "txt_t = '''### F Test\n",
    "$H_0$: $\\\\beta_4 = \\\\beta_5 = \\\\beta_6 = \\\\beta_7 = 0$\n",
    "\n",
    "F: {t.fvalue[0][0]:.3f} ({t.pvalue})'''\n",
    "\n",
    "Markdown(txt_t.format(t=t))"
   ]
  },
  {
   "cell_type": "markdown",
   "metadata": {},
   "source": [
    "No se acepta la hipótesis nula, las variables educativas no son significativas conjuntamente. Por tanto la probabilidad de fumar es independiente del nivel educativo."
   ]
  },
  {
   "cell_type": "markdown",
   "metadata": {},
   "source": [
    "### ¿Cuál sería la __probabilidad de que fumara un niño de 1 año__, independientemente del resto de variables consideradas? \n",
    "\n",
    "$$P\\{y=1|\\text{age}=1\\} = F(\\hat{\\beta}_0 + \\hat{\\beta}_2·\\text{age} + \\hat{\\beta}_3 · \\text{age}^2)$$"
   ]
  },
  {
   "cell_type": "code",
   "execution_count": 319,
   "metadata": {
    "collapsed": false
   },
   "outputs": [
    {
     "data": {
      "text/plain": [
       "0.044"
      ]
     },
     "execution_count": 319,
     "metadata": {},
     "output_type": "execute_result"
    }
   ],
   "source": [
    "norm.cdf(sum([md.params[0], md.params[2], md.params[3]]))"
   ]
  },
  {
   "cell_type": "code",
   "execution_count": 320,
   "metadata": {
    "collapsed": false
   },
   "outputs": [
    {
     "data": {
      "text/markdown": [
       "La probabilidad de fumar para un niño de 1 año es 4.45%, se puede ver como el modelo probit nos proporciona un resultado cuyo valor tiene sentido con la realidad y la teoría."
      ],
      "text/plain": [
       "<IPython.core.display.Markdown object>"
      ]
     },
     "execution_count": 320,
     "metadata": {},
     "output_type": "execute_result"
    }
   ],
   "source": [
    "txt = 'La probabilidad de fumar para un niño de 1 año es {0:.2%}, se puede ver como el modelo probit nos proporciona un resultado cuyo valor tiene sentido con la realidad y la teoría.'\n",
    "Markdown(txt.format(_))"
   ]
  }
 ],
 "metadata": {
  "kernelspec": {
   "display_name": "Python 3",
   "language": "python",
   "name": "python3"
  },
  "language_info": {
   "codemirror_mode": {
    "name": "ipython",
    "version": 3
   },
   "file_extension": ".py",
   "mimetype": "text/x-python",
   "name": "python",
   "nbconvert_exporter": "python",
   "pygments_lexer": "ipython3",
   "version": "3.5.0"
  }
 },
 "nbformat": 4,
 "nbformat_minor": 0
}
